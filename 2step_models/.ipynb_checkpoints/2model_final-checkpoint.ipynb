{
 "cells": [
  {
   "cell_type": "code",
   "execution_count": 1,
   "id": "085114df-47bf-4042-9940-b03d717b99b4",
   "metadata": {},
   "outputs": [],
   "source": [
    "import pandas as pd\n",
    "import numpy as np\n",
    "import datetime\n",
    "import matplotlib.pyplot as plt\n",
    "from datetime import datetime\n",
    "from sklearn import preprocessing\n",
    "from tqdm.auto import tqdm\n",
    "from sklearn.utils import shuffle\n",
    "from sklearn.model_selection import train_test_split\n",
    "import optuna\n",
    "import sys\n",
    "sys.path.append('../')\n",
    "from utils.prep_dataset import prepare_df\n",
    "from utils.popular_model import top_prediction\n",
    "from utils.create_features import stat_features\n",
    "from utils.tools import generate_lightfm_recs_mapper, compute_metrics"
   ]
  },
  {
   "cell_type": "code",
   "execution_count": 2,
   "id": "6e889d07-b977-4f62-9b6b-a3165931184c",
   "metadata": {},
   "outputs": [],
   "source": [
    "TOP_CANDIDATES = 30\n",
    "TOP_FOR_TEST = 200"
   ]
  },
  {
   "cell_type": "code",
   "execution_count": 3,
   "id": "4177691d-aa9b-4a1f-85b8-934177419389",
   "metadata": {},
   "outputs": [],
   "source": [
    "df = pd.read_csv('../data/prepare_data.csv')\n",
    "\n",
    "df['user_id'] = df.groupby(['Телефон_new', 'ЭлектроннаяПочта_new']).ngroup()\n",
    "df = df[(df['Цена'] > 0) & (df['Количество'] > 0)] # оставляем товары, стоимость которых больше 0\n",
    "df = df.drop_duplicates()\n",
    "df = df.dropna(subset=['item_name']) # удаляем случаи, когда товары неизветны (посмореть их долю)\n",
    "df = df.dropna(subset=['user_id']) # удаляем user_id, у которых неизветны айдишники (посмореть их долю)\n",
    "df['item_id'] = df.groupby(['item_name', 'Группа2']).ngroup() #create item_id\n",
    "df['user_id'] = df.apply(lambda x: int(x['user_id']), axis=1)"
   ]
  },
  {
   "cell_type": "markdown",
   "id": "909a3e50-e07c-4c32-ad9a-815d4cb189b9",
   "metadata": {
    "tags": []
   },
   "source": [
    "## Делим на test - train\n",
    "\n",
    "На test оставим последние 7 дней"
   ]
  },
  {
   "cell_type": "code",
   "execution_count": 4,
   "id": "52a66f32-26eb-43e0-8f6d-906a84923ed7",
   "metadata": {},
   "outputs": [
    {
     "name": "stderr",
     "output_type": "stream",
     "text": [
      "/var/folders/2x/zmrd78297p9gqsw3_kfdgg0c0000gn/T/ipykernel_80391/2195667054.py:5: SettingWithCopyWarning: \n",
      "A value is trying to be set on a copy of a slice from a DataFrame.\n",
      "Try using .loc[row_indexer,col_indexer] = value instead\n",
      "\n",
      "See the caveats in the documentation: https://pandas.pydata.org/pandas-docs/stable/user_guide/indexing.html#returning-a-view-versus-a-copy\n",
      "  df_1lvl['qty'] = df_1lvl.groupby(['user_id', 'item_id', 'date'])['Количество'].transform(sum)\n"
     ]
    }
   ],
   "source": [
    "df['date'] = pd.to_datetime(df['date'])\n",
    "max_date = df['date'].max()\n",
    "\n",
    "df_1lvl = df[['user_id', 'item_id', 'Количество', 'date']]\n",
    "df_1lvl['qty'] = df_1lvl.groupby(['user_id', 'item_id', 'date'])['Количество'].transform(sum)\n",
    "df_1lvl = df_1lvl[['user_id', 'item_id', 'qty', 'date']].drop_duplicates()"
   ]
  },
  {
   "cell_type": "code",
   "execution_count": 6,
   "id": "b7b6617f-0092-4ab4-87a5-52c995a079b7",
   "metadata": {},
   "outputs": [
    {
     "name": "stdout",
     "output_type": "stream",
     "text": [
      "train: (328651, 4)\n",
      "test: (48283, 4)\n"
     ]
    }
   ],
   "source": [
    "train = df_1lvl[(df_1lvl['date'] < max_date - pd.Timedelta(days=7))]\n",
    "test = df_1lvl[(df_1lvl['date'] >= max_date - pd.Timedelta(days=7))]\n",
    "\n",
    "print(f\"train: {train.shape}\")\n",
    "print(f\"test: {test.shape}\")"
   ]
  },
  {
   "cell_type": "code",
   "execution_count": 7,
   "id": "e22811a7-af41-4da6-83a3-f125067f215c",
   "metadata": {},
   "outputs": [
    {
     "data": {
      "text/plain": [
       "Timestamp('2017-05-25 00:00:00')"
      ]
     },
     "execution_count": 7,
     "metadata": {},
     "output_type": "execute_result"
    }
   ],
   "source": [
    "for_1lvl_date_threshold = train['date'].quantile(q=0.5, interpolation='nearest')\n",
    "for_1lvl_date_threshold"
   ]
  },
  {
   "cell_type": "code",
   "execution_count": 8,
   "id": "2fa0f306-fe16-46ff-bc47-233ef8930b78",
   "metadata": {},
   "outputs": [
    {
     "name": "stdout",
     "output_type": "stream",
     "text": [
      "train: (161480, 4)\n",
      "pred: (167171, 4)\n"
     ]
    }
   ],
   "source": [
    "train_1lvl = train[(train['date'] < for_1lvl_date_threshold)]\n",
    "pred_1lvl = train[(train['date'] >= for_1lvl_date_threshold)]\n",
    "\n",
    "print(f\"train: {train_1lvl.shape}\")\n",
    "print(f\"pred: {pred_1lvl.shape}\")"
   ]
  },
  {
   "cell_type": "code",
   "execution_count": 9,
   "id": "ce0675de-50ae-4678-ad54-bfc958a0af55",
   "metadata": {},
   "outputs": [],
   "source": [
    "# pred_1lvl['i_qty'] = pred_1lvl.groupby(['user_id', 'item_id'])['qty'].transform(sum)\n",
    "# pred_1lvl['last_dt'] = pred_1lvl.groupby(['user_id', 'item_id']).date.transform(max)\n",
    "# pred_1lvl['last_week_day'] = pred_1lvl.apply(lambda x: x['last_dt'].weekday(), axis=1)\n",
    "# pred_1lvl['last_month'] = pred_1lvl.apply(lambda x: x['last_dt'].month, axis=1)\n",
    "\n",
    "# # преобразуем в матрицу user-item-ranting\n",
    "# pred_1lvl = pred_1lvl[['user_id', 'item_id', 'last_month', 'last_week_day', 'i_qty']].drop_duplicates()\n",
    "\n",
    "# print(f\" pred: {pred_1lvl.shape}\")"
   ]
  },
  {
   "cell_type": "code",
   "execution_count": 10,
   "id": "79388b5b-98fb-465e-901b-0d1cdf77cf47",
   "metadata": {},
   "outputs": [
    {
     "name": "stdout",
     "output_type": "stream",
     "text": [
      "lfm_train: (152434, 3)\n",
      "lfm_pred: (157064, 3)\n"
     ]
    },
    {
     "name": "stderr",
     "output_type": "stream",
     "text": [
      "/var/folders/2x/zmrd78297p9gqsw3_kfdgg0c0000gn/T/ipykernel_80391/468416877.py:1: SettingWithCopyWarning: \n",
      "A value is trying to be set on a copy of a slice from a DataFrame.\n",
      "Try using .loc[row_indexer,col_indexer] = value instead\n",
      "\n",
      "See the caveats in the documentation: https://pandas.pydata.org/pandas-docs/stable/user_guide/indexing.html#returning-a-view-versus-a-copy\n",
      "  train_1lvl['i_qty'] = train_1lvl.groupby(['user_id', 'item_id'])['qty'].transform(sum)\n",
      "/var/folders/2x/zmrd78297p9gqsw3_kfdgg0c0000gn/T/ipykernel_80391/468416877.py:2: SettingWithCopyWarning: \n",
      "A value is trying to be set on a copy of a slice from a DataFrame.\n",
      "Try using .loc[row_indexer,col_indexer] = value instead\n",
      "\n",
      "See the caveats in the documentation: https://pandas.pydata.org/pandas-docs/stable/user_guide/indexing.html#returning-a-view-versus-a-copy\n",
      "  pred_1lvl['i_qty'] = pred_1lvl.groupby(['user_id', 'item_id'])['qty'].transform(sum)\n"
     ]
    }
   ],
   "source": [
    "train_1lvl['i_qty'] = train_1lvl.groupby(['user_id', 'item_id'])['qty'].transform(sum)\n",
    "pred_1lvl['i_qty'] = pred_1lvl.groupby(['user_id', 'item_id'])['qty'].transform(sum)\n",
    "\n",
    "# преобразуем в матрицу user-item-ranting\n",
    "train_1lvl = train_1lvl[['user_id', 'item_id', 'i_qty']].drop_duplicates()\n",
    "pred_1lvl = pred_1lvl[['user_id', 'item_id', 'i_qty']].drop_duplicates()\n",
    "\n",
    "print(f\"lfm_train: {train_1lvl.shape}\")\n",
    "print(f\"lfm_pred: {pred_1lvl.shape}\")"
   ]
  },
  {
   "cell_type": "code",
   "execution_count": 11,
   "id": "f4532694-040d-4b57-93be-022ea0da74b1",
   "metadata": {},
   "outputs": [
    {
     "name": "stderr",
     "output_type": "stream",
     "text": [
      "/var/folders/2x/zmrd78297p9gqsw3_kfdgg0c0000gn/T/ipykernel_80391/276801433.py:1: SettingWithCopyWarning: \n",
      "A value is trying to be set on a copy of a slice from a DataFrame.\n",
      "Try using .loc[row_indexer,col_indexer] = value instead\n",
      "\n",
      "See the caveats in the documentation: https://pandas.pydata.org/pandas-docs/stable/user_guide/indexing.html#returning-a-view-versus-a-copy\n",
      "  test['i_qty'] = test.groupby(['user_id', 'item_id'])['qty'].transform(sum)\n"
     ]
    }
   ],
   "source": [
    "test['i_qty'] = test.groupby(['user_id', 'item_id'])['qty'].transform(sum)\n",
    "test = test[['user_id', 'item_id', 'i_qty']].drop_duplicates()\n",
    "# оставляем только теплых пользователей\n",
    "test = test[test['user_id'].isin(train_1lvl['user_id'].unique())]"
   ]
  },
  {
   "cell_type": "markdown",
   "id": "f110877f-c66b-4fd1-9085-c5c5446614f6",
   "metadata": {},
   "source": [
    "# Level 1\n",
    "## Считываем кандидатов от моделей первого уровня \n",
    "- NCF\n",
    "- LightFM\n",
    "- Popular items"
   ]
  },
  {
   "cell_type": "code",
   "execution_count": 14,
   "id": "f852d863-f947-4d95-aa46-98d1d11dd0e0",
   "metadata": {},
   "outputs": [],
   "source": [
    "candidates_ncf = pd.read_csv('../prediction_1lvl_models/top30_candidates_ncf.csv')\n",
    "candidates_lghtfm = pd.read_csv('../prediction_1lvl_models/top30_candidates_lghtfm.csv',  index_col=0)\n",
    "candidates_popular = pd.read_csv('../prediction_1lvl_models/top30_candidates_popular.csv', index_col=0)"
   ]
  },
  {
   "cell_type": "code",
   "execution_count": 15,
   "id": "1c0c199a-c5f6-4911-a16d-de46e938ab55",
   "metadata": {},
   "outputs": [],
   "source": [
    "popular = pd.read_csv('../prediction_1lvl_models/top200_candidates_popular.csv')\n",
    "lfm = pd.read_csv('../prediction_1lvl_models/top200_candidates_lfm.csv')\n",
    "ncf = pd.read_csv('../prediction_1lvl_models/top200_candidates_ncf.csv')"
   ]
  },
  {
   "cell_type": "markdown",
   "id": "230999a7-4b9a-406c-ab1e-9c534837882e",
   "metadata": {
    "tags": []
   },
   "source": [
    "## 1) Метрики качества моделей первого уровня"
   ]
  },
  {
   "cell_type": "code",
   "execution_count": 13,
   "id": "2a6f91d6-e78f-42c1-bc05-120e1ddc86be",
   "metadata": {},
   "outputs": [],
   "source": [
    "# оставляем только теплых пользователей\n",
    "test = test[test['user_id'].isin(train_1lvl['user_id'].unique())]"
   ]
  },
  {
   "cell_type": "code",
   "execution_count": 19,
   "id": "80d00854-3ccb-44df-94c2-3cae70abd7cb",
   "metadata": {
    "tags": []
   },
   "outputs": [
    {
     "data": {
      "text/plain": [
       "Precision@1     0.211544\n",
       "Recall@1        0.094238\n",
       "Precision@2     0.189785\n",
       "Recall@2        0.163626\n",
       "Precision@3     0.131359\n",
       "Recall@3        0.167831\n",
       "Precision@4     0.115594\n",
       "Recall@4        0.183549\n",
       "Precision@5     0.097129\n",
       "Recall@5        0.195141\n",
       "Precision@6     0.087287\n",
       "Recall@6        0.202572\n",
       "Precision@7     0.077537\n",
       "Recall@7        0.208051\n",
       "Precision@8     0.076496\n",
       "Recall@8        0.224017\n",
       "Precision@9     0.069810\n",
       "Recall@9        0.226979\n",
       "Precision@10    0.063252\n",
       "Recall@10       0.227697\n",
       "MAP@10          0.177067\n",
       "MRR             0.325530\n",
       "dtype: float64"
      ]
     },
     "execution_count": 19,
     "metadata": {},
     "output_type": "execute_result"
    }
   ],
   "source": [
    "lfm_metrics = compute_metrics(test[['user_id', 'item_id']],\n",
    "                              lfm, \n",
    "                              top_N=10, rank_col='lfm_rank')\n",
    "lfm_metrics"
   ]
  },
  {
   "cell_type": "code",
   "execution_count": 20,
   "id": "80bcf1c2-e79f-47ec-b049-53213fc4df51",
   "metadata": {},
   "outputs": [
    {
     "data": {
      "text/plain": [
       "Precision@1     0.044122\n",
       "Recall@1        0.008543\n",
       "Precision@2     0.040798\n",
       "Recall@2        0.015471\n",
       "Precision@3     0.034653\n",
       "Recall@3        0.019024\n",
       "Precision@4     0.029087\n",
       "Recall@4        0.020670\n",
       "Precision@5     0.024176\n",
       "Recall@5        0.021139\n",
       "Precision@6     0.020903\n",
       "Recall@6        0.021598\n",
       "Precision@7     0.018219\n",
       "Recall@7        0.021768\n",
       "Precision@8     0.016584\n",
       "Recall@8        0.022207\n",
       "Precision@9     0.014875\n",
       "Recall@9        0.022306\n",
       "Precision@10    0.013539\n",
       "Recall@10       0.022422\n",
       "MAP@10          0.016854\n",
       "MRR             0.060585\n",
       "dtype: float64"
      ]
     },
     "execution_count": 20,
     "metadata": {},
     "output_type": "execute_result"
    }
   ],
   "source": [
    "metrics_popular = compute_metrics(test[['user_id', 'item_id']],\n",
    "                              popular, \n",
    "                              top_N=10, rank_col='rank_top')\n",
    "metrics_popular"
   ]
  },
  {
   "cell_type": "code",
   "execution_count": 23,
   "id": "39f95ada-4b48-4c94-b4c5-5e1576be5bdf",
   "metadata": {},
   "outputs": [
    {
     "data": {
      "text/plain": [
       "Precision@1     0.094591\n",
       "Recall@1        0.030515\n",
       "Precision@2     0.082653\n",
       "Recall@2        0.048995\n",
       "Precision@3     0.072328\n",
       "Recall@3        0.062029\n",
       "Precision@4     0.064899\n",
       "Recall@4        0.073079\n",
       "Precision@5     0.060804\n",
       "Recall@5        0.084200\n",
       "Precision@6     0.057671\n",
       "Recall@6        0.095037\n",
       "Precision@7     0.055002\n",
       "Recall@7        0.104417\n",
       "Precision@8     0.052017\n",
       "Recall@8        0.112264\n",
       "Precision@9     0.049192\n",
       "Recall@9        0.119846\n",
       "Precision@10    0.046661\n",
       "Recall@10       0.125727\n",
       "MAP@10          0.081765\n",
       "MRR             0.174696\n",
       "dtype: float64"
      ]
     },
     "execution_count": 23,
     "metadata": {},
     "output_type": "execute_result"
    }
   ],
   "source": [
    "metrics_ncf = compute_metrics(test[['user_id', 'item_id']],\n",
    "                              ncf, \n",
    "                              top_N=10, rank_col='ncf_rank')\n",
    "metrics_ncf"
   ]
  },
  {
   "cell_type": "markdown",
   "id": "21c33d20-576a-4a15-8739-7b32dabcc090",
   "metadata": {
    "tags": []
   },
   "source": [
    "# Level 2: обучаем бустинг\n",
    "\n",
    "##  Собираем train + target\n",
    "\n",
    "### `target = 1` Позитивные взаимодействия = все что пользователь посмотрел из кандидатов"
   ]
  },
  {
   "cell_type": "code",
   "execution_count": 24,
   "id": "c55ab9ad-767e-4d79-a43c-ec798b41e10d",
   "metadata": {},
   "outputs": [],
   "source": [
    "pos_lightfm = candidates_lghtfm.merge(pred_1lvl[['user_id', 'item_id']],\n",
    "                        on=['user_id', 'item_id'],\n",
    "                        how='inner')\n",
    "pos_ncf = candidates_ncf.merge(pred_1lvl[['user_id', 'item_id']],\n",
    "                        on=['user_id', 'item_id'],\n",
    "                        how='inner')\n",
    "pos_popular = candidates_popular.merge(pred_1lvl[['user_id', 'item_id']],\n",
    "                        on=['user_id', 'item_id'],\n",
    "                        how='inner')"
   ]
  },
  {
   "cell_type": "code",
   "execution_count": 26,
   "id": "537214ae-e55f-4644-b650-b56216478ba8",
   "metadata": {},
   "outputs": [],
   "source": [
    "pos = pos_lightfm\\\n",
    "            .merge(\n",
    "                pos_ncf,\n",
    "                on=['user_id', 'item_id'],\n",
    "                how='outer')\\\n",
    "            .merge(\n",
    "                pos_popular,\n",
    "                on=['user_id', 'item_id'],\n",
    "                how='outer')"
   ]
  },
  {
   "cell_type": "code",
   "execution_count": 27,
   "id": "e7aef047-bd1d-4805-a087-c55e3dd69c5b",
   "metadata": {},
   "outputs": [
    {
     "name": "stdout",
     "output_type": "stream",
     "text": [
      "(22434, 8)\n"
     ]
    },
    {
     "data": {
      "text/html": [
       "<div>\n",
       "<style scoped>\n",
       "    .dataframe tbody tr th:only-of-type {\n",
       "        vertical-align: middle;\n",
       "    }\n",
       "\n",
       "    .dataframe tbody tr th {\n",
       "        vertical-align: top;\n",
       "    }\n",
       "\n",
       "    .dataframe thead th {\n",
       "        text-align: right;\n",
       "    }\n",
       "</style>\n",
       "<table border=\"1\" class=\"dataframe\">\n",
       "  <thead>\n",
       "    <tr style=\"text-align: right;\">\n",
       "      <th></th>\n",
       "      <th>user_id</th>\n",
       "      <th>item_id</th>\n",
       "      <th>lfm_score</th>\n",
       "      <th>lfm_rank</th>\n",
       "      <th>ncf_score</th>\n",
       "      <th>ncf_rank</th>\n",
       "      <th>rank_top</th>\n",
       "      <th>target</th>\n",
       "    </tr>\n",
       "  </thead>\n",
       "  <tbody>\n",
       "    <tr>\n",
       "      <th>0</th>\n",
       "      <td>111502</td>\n",
       "      <td>420</td>\n",
       "      <td>0.000005</td>\n",
       "      <td>8.0</td>\n",
       "      <td>NaN</td>\n",
       "      <td>NaN</td>\n",
       "      <td>NaN</td>\n",
       "      <td>1</td>\n",
       "    </tr>\n",
       "    <tr>\n",
       "      <th>1</th>\n",
       "      <td>3933</td>\n",
       "      <td>304</td>\n",
       "      <td>0.000005</td>\n",
       "      <td>9.0</td>\n",
       "      <td>NaN</td>\n",
       "      <td>NaN</td>\n",
       "      <td>NaN</td>\n",
       "      <td>1</td>\n",
       "    </tr>\n",
       "    <tr>\n",
       "      <th>2</th>\n",
       "      <td>3933</td>\n",
       "      <td>24</td>\n",
       "      <td>0.000004</td>\n",
       "      <td>15.0</td>\n",
       "      <td>NaN</td>\n",
       "      <td>NaN</td>\n",
       "      <td>NaN</td>\n",
       "      <td>1</td>\n",
       "    </tr>\n",
       "    <tr>\n",
       "      <th>3</th>\n",
       "      <td>108684</td>\n",
       "      <td>296</td>\n",
       "      <td>0.000009</td>\n",
       "      <td>2.0</td>\n",
       "      <td>NaN</td>\n",
       "      <td>NaN</td>\n",
       "      <td>NaN</td>\n",
       "      <td>1</td>\n",
       "    </tr>\n",
       "    <tr>\n",
       "      <th>4</th>\n",
       "      <td>67247</td>\n",
       "      <td>296</td>\n",
       "      <td>0.000009</td>\n",
       "      <td>2.0</td>\n",
       "      <td>NaN</td>\n",
       "      <td>NaN</td>\n",
       "      <td>NaN</td>\n",
       "      <td>1</td>\n",
       "    </tr>\n",
       "  </tbody>\n",
       "</table>\n",
       "</div>"
      ],
      "text/plain": [
       "   user_id  item_id  lfm_score  lfm_rank  ncf_score  ncf_rank  rank_top  \\\n",
       "0   111502      420   0.000005       8.0        NaN       NaN       NaN   \n",
       "1     3933      304   0.000005       9.0        NaN       NaN       NaN   \n",
       "2     3933       24   0.000004      15.0        NaN       NaN       NaN   \n",
       "3   108684      296   0.000009       2.0        NaN       NaN       NaN   \n",
       "4    67247      296   0.000009       2.0        NaN       NaN       NaN   \n",
       "\n",
       "   target  \n",
       "0       1  \n",
       "1       1  \n",
       "2       1  \n",
       "3       1  \n",
       "4       1  "
      ]
     },
     "execution_count": 27,
     "metadata": {},
     "output_type": "execute_result"
    }
   ],
   "source": [
    "pos['target'] = 1\n",
    "print(pos.shape)\n",
    "pos.head()"
   ]
  },
  {
   "cell_type": "markdown",
   "id": "580bd9ee-81d4-4f40-bda4-eef5d9f85760",
   "metadata": {
    "tags": []
   },
   "source": [
    "### 📕 `target = 0` Негативные взаимодействия = все что пользователь НЕ посмотрел из кандидатов \n",
    "\n",
    "- добавим сэмплирование, чтобы соблюсти баланс классов\n"
   ]
  },
  {
   "cell_type": "code",
   "execution_count": 57,
   "id": "27fdf7de-e404-4ba1-8431-69f566cf510c",
   "metadata": {},
   "outputs": [],
   "source": [
    "neg_lightfm = candidates_lghtfm.merge(pred_1lvl[['user_id', 'item_id']],\n",
    "                        on=['user_id', 'item_id'],\n",
    "                        how='left')\n",
    "neg_popular = candidates_popular.merge(pred_1lvl[['user_id', 'item_id']],\n",
    "                        on=['user_id', 'item_id'],\n",
    "                        how='left')\n",
    "neg_ncf = candidates_ncf.merge(pred_1lvl[['user_id', 'item_id']],\n",
    "                        on=['user_id', 'item_id'],\n",
    "                        how='left')\n",
    "\n",
    "\n",
    "neg = neg_lightfm\\\n",
    "        .merge(\n",
    "            neg_ncf,\n",
    "            on=['user_id', 'item_id'],\n",
    "            how='outer')\\\n",
    "        .merge(\n",
    "            neg_popular,\n",
    "            on=['user_id', 'item_id'],\n",
    "            how='outer')"
   ]
  },
  {
   "cell_type": "code",
   "execution_count": 58,
   "id": "80430b01-6c6c-4e07-bd9f-7f0bb01aa307",
   "metadata": {},
   "outputs": [
    {
     "data": {
      "text/plain": [
       "(311414, 5)"
      ]
     },
     "execution_count": 58,
     "metadata": {},
     "output_type": "execute_result"
    }
   ],
   "source": [
    "neg = candidates_lghtfm.set_index(['user_id', 'item_id'])\\\n",
    "        .join(pred_1lvl[['user_id', 'item_id', 'i_qty']].set_index(['user_id', 'item_id']), how='left')\n",
    "neg = neg[neg['i_qty'].isnull()].reset_index()\n",
    "neg.shape"
   ]
  },
  {
   "cell_type": "code",
   "execution_count": 59,
   "id": "5f05e542-2474-4d95-8c5b-81fc05379cc7",
   "metadata": {},
   "outputs": [
    {
     "data": {
      "text/plain": [
       "(56055, 5)"
      ]
     },
     "execution_count": 59,
     "metadata": {},
     "output_type": "execute_result"
    }
   ],
   "source": [
    "neg = neg.sample(frac=0.18)\\\n",
    "[['user_id', 'item_id', 'lfm_score', 'lfm_rank']]\n",
    "[['user_id', 'item_id', 'lfm_score', 'lfm_rank', 'ncf_score', 'ncf_rank', 'rank_top']]\n",
    "\n",
    "neg['target'] = 0\n",
    "\n",
    "neg.shape"
   ]
  },
  {
   "cell_type": "markdown",
   "id": "c6c9b749-a4ee-4615-afd5-3edfde697b4a",
   "metadata": {},
   "source": [
    "## Формируем трейн и тест: ctb_train, ctb_test\n",
    "\n",
    "### Важно! Делим по пользователям, а не по дате. \n",
    "\n",
    "`Мотивация`: \n",
    "\n",
    "- Для негативных взаимодействий нет даты\n",
    "- Проверяем робастность бустинга относительно новых (холодных) пользователей"
   ]
  },
  {
   "cell_type": "code",
   "execution_count": 60,
   "id": "806823f7-b367-4439-bfd4-e85685065627",
   "metadata": {},
   "outputs": [],
   "source": [
    "ctb_train_users, ctb_test_users = train_test_split(pred_1lvl['user_id'].unique(),\n",
    "                                                  random_state=1,\n",
    "                                                  test_size=0.2)"
   ]
  },
  {
   "cell_type": "code",
   "execution_count": 61,
   "id": "ea47df79-3ffb-4845-aed3-e3252b743dfc",
   "metadata": {},
   "outputs": [],
   "source": [
    "# выделяем 10% под механизм early stopping\n",
    "ctb_train_users, ctb_eval_users = train_test_split(ctb_train_users,\n",
    "                                                  random_state=1,\n",
    "                                                  test_size=0.1)"
   ]
  },
  {
   "cell_type": "code",
   "execution_count": 62,
   "id": "02d42478-b6d6-4919-ab3f-bafac45d590a",
   "metadata": {},
   "outputs": [],
   "source": [
    "# Catboost train\n",
    "ctb_train = shuffle(\n",
    "    pd.concat([\n",
    "        pos[pos['user_id'].isin(ctb_train_users)],\n",
    "        neg[neg['user_id'].isin(ctb_train_users)]\n",
    "])\n",
    ")\n",
    "\n",
    "# Catboost test\n",
    "ctb_test = shuffle(\n",
    "    pd.concat([\n",
    "        pos[pos['user_id'].isin(ctb_test_users)],\n",
    "        neg[neg['user_id'].isin(ctb_test_users)]\n",
    "])\n",
    ")\n",
    "\n",
    "# for early stopping\n",
    "ctb_eval = shuffle(\n",
    "    pd.concat([\n",
    "        pos[pos['user_id'].isin(ctb_eval_users)],\n",
    "        neg[neg['user_id'].isin(ctb_eval_users)]\n",
    "])\n",
    ")"
   ]
  },
  {
   "cell_type": "code",
   "execution_count": 63,
   "id": "ac9acd60-4609-4f3b-8bcc-468360d27546",
   "metadata": {},
   "outputs": [
    {
     "data": {
      "text/plain": [
       "0    0.714339\n",
       "1    0.285661\n",
       "Name: target, dtype: float64"
      ]
     },
     "execution_count": 63,
     "metadata": {},
     "output_type": "execute_result"
    }
   ],
   "source": [
    "ctb_train['target'].value_counts(normalize=True)"
   ]
  },
  {
   "cell_type": "code",
   "execution_count": 64,
   "id": "f0aa2c35-6628-480f-8dc4-16c18eea2291",
   "metadata": {},
   "outputs": [
    {
     "data": {
      "text/plain": [
       "0    0.717211\n",
       "1    0.282789\n",
       "Name: target, dtype: float64"
      ]
     },
     "execution_count": 64,
     "metadata": {},
     "output_type": "execute_result"
    }
   ],
   "source": [
    "ctb_test['target'].value_counts(normalize=True)"
   ]
  },
  {
   "cell_type": "markdown",
   "id": "bfbbe027-adb7-4c56-93a4-5cb4aea1cc7f",
   "metadata": {},
   "source": [
    "## Формируем фичи \n",
    "\n",
    "- формируем признаки для user_id статичные и зависящие от окна \n",
    "- как признак также используем `rank` от модели 1 этапа\n",
    "- заполняем пропуски в данных"
   ]
  },
  {
   "cell_type": "code",
   "execution_count": 140,
   "id": "ea90165a-e2f4-4734-b4bd-20c97f890a46",
   "metadata": {},
   "outputs": [],
   "source": [
    "stat_user_features, stat_item_features = stat_features(df, df[['user_id']].drop_duplicates())"
   ]
  },
  {
   "cell_type": "code",
   "execution_count": 143,
   "id": "7ad6a3a9-a56a-40ff-97fb-c760b6f34eeb",
   "metadata": {},
   "outputs": [],
   "source": [
    "train_feat = ctb_train.merge(\n",
    "                            stat_user_features,\n",
    "                            on=['user_id'],\n",
    "                            how='left')\\\n",
    "                        .merge(\n",
    "                            stat_item_features,\n",
    "                            on=['item_id'],\n",
    "                            how='left')\\\n",
    "                        .merge(\n",
    "                            pred_1lvl[['user_id', 'item_id', 'i_qty']],\n",
    "                            pred_1lvl[['user_id', 'item_id']],\n",
    "                            on=['user_id', 'item_id'],\n",
    "                            how='left')\n",
    "\n",
    "eval_feat = ctb_eval.merge(\n",
    "                        stat_user_features,\n",
    "                        on=['user_id'],\n",
    "                        how='left')\\\n",
    "                    .merge(\n",
    "                        stat_item_features,\n",
    "                        on=['item_id'],\n",
    "                        how='left')\\\n",
    "                    .merge(\n",
    "                            pred_1lvl[['user_id', 'item_id', 'i_qty']],\n",
    "                            on=['user_id', 'item_id'],\n",
    "                            how='left')"
   ]
  },
  {
   "cell_type": "code",
   "execution_count": 144,
   "id": "6d632d9b-0dfb-482f-b51c-cec88634b16e",
   "metadata": {},
   "outputs": [
    {
     "data": {
      "text/plain": [
       "Index(['user_id', 'item_id', 'lfm_score', 'lfm_rank', 'ncf_score', 'ncf_rank',\n",
       "       'rank_top', 'target', 'население', 'Зарплата', 'sex_0.0', 'sex_1.0',\n",
       "       'region_FAR EAST', 'region_NORTH', 'region_PRIVOLZIE', 'region_SIBERIA',\n",
       "       'region_SOUTHERN', 'region_URAL', 'segment_1.0', 'segment_2.0',\n",
       "       'segment_3.0', 'segment_4.0', 'segment_5.0', 'segment_6.0',\n",
       "       'segment_7.0', 'segment_8.0', 'segment_9.0', 'Группа2_ЖЕНСКИЕ ШТУЧКИ',\n",
       "       'Группа2_ИГРУШКИ', 'Группа2_КАНЦТОВАРЫ, КНИГИ, ДИСКИ',\n",
       "       'Группа2_КОСМЕТИКА/ГИГИЕНА', 'Группа2_КРУПНОГАБАРИТНЫЙ ТОВАР',\n",
       "       'Группа2_ОБУВЬ', 'Группа2_ПОДГУЗНИКИ', 'Группа2_СОПУТСТВУЮЩИЕ ТОВАРЫ',\n",
       "       'Группа2_ТЕКСТИЛЬ, ТРИКОТАЖ', 'Группа2_ТЕХНИКА И ТОВАРЫ ДЛЯ ДОМА',\n",
       "       'Группа2_ТОВАРЫ ДЛЯ ЖИВОТНЫХ', 'Группа2_ТОВАРЫ ДЛЯ КОРМЛЕНИЯ',\n",
       "       'Тип_ИНОЕ', 'Тип_КГТ', 'Тип_ОДЕЖДА', 'Тип_ППКП'],\n",
       "      dtype='object')"
      ]
     },
     "execution_count": 144,
     "metadata": {},
     "output_type": "execute_result"
    }
   ],
   "source": [
    "train_feat.columns"
   ]
  },
  {
   "cell_type": "code",
   "execution_count": 145,
   "id": "4243be3c-4ca7-4d15-bdaf-fdec51c78654",
   "metadata": {},
   "outputs": [
    {
     "data": {
      "text/plain": [
       "((56280, 43), (6533, 43), (56280, 8))"
      ]
     },
     "execution_count": 145,
     "metadata": {},
     "output_type": "execute_result"
    }
   ],
   "source": [
    "train_feat.shape, eval_feat.shape, ctb_train.shape"
   ]
  },
  {
   "cell_type": "code",
   "execution_count": 58,
   "id": "1e39e03a-2ef6-4d53-b342-dfb3fb8a7081",
   "metadata": {},
   "outputs": [],
   "source": [
    "# train_feat['RANDOM'] = np.random.randint(2, size=len(train_feat))\n",
    "# eval_feat['RANDOM'] = np.random.randint(2, size=len(eval_feat))"
   ]
  },
  {
   "cell_type": "markdown",
   "id": "2e759049-775c-47c8-9c93-7a9b3dabdeb2",
   "metadata": {},
   "source": [
    "### X, y"
   ]
  },
  {
   "cell_type": "code",
   "execution_count": 146,
   "id": "1a6e5869-bdf3-4d4f-ad29-c92350ac5393",
   "metadata": {},
   "outputs": [],
   "source": [
    "drop_col = ['user_id', 'item_id']\n",
    "target_col = ['target']\n",
    "cat_col = []"
   ]
  },
  {
   "cell_type": "code",
   "execution_count": 147,
   "id": "36923d91-e15e-4387-8d42-8dde517bcdf5",
   "metadata": {},
   "outputs": [],
   "source": [
    "X_train, y_train = train_feat.drop(drop_col + target_col, axis=1), train_feat[target_col]\n",
    "X_val, y_val = eval_feat.drop(drop_col + target_col, axis=1), eval_feat[target_col]"
   ]
  },
  {
   "cell_type": "code",
   "execution_count": 148,
   "id": "7df9f946-d872-4cc6-bcbe-973e330d323b",
   "metadata": {},
   "outputs": [],
   "source": [
    "# fillna for catboost with the most frequent value \n",
    "X_train = X_train.fillna(X_train.mode().iloc[0])"
   ]
  },
  {
   "cell_type": "code",
   "execution_count": 149,
   "id": "59b74bee-d7ee-4c82-83e3-7b717e09a44c",
   "metadata": {},
   "outputs": [],
   "source": [
    "# fillna for catboost with the most frequent value \n",
    "X_val = X_val.fillna(X_train.mode().iloc[0])"
   ]
  },
  {
   "cell_type": "markdown",
   "id": "d803902b-e41e-4d5a-8582-b066f30563ae",
   "metadata": {},
   "source": [
    "### Стандартизация данных"
   ]
  },
  {
   "cell_type": "code",
   "execution_count": 150,
   "id": "a5f4afe5-8d40-4567-a820-818fb2ed1fbd",
   "metadata": {},
   "outputs": [],
   "source": [
    "from sklearn.preprocessing import StandardScaler\n",
    "\n",
    "scaler = StandardScaler().fit(X_train)\n",
    "X_train_sc = scaler.transform(X_train)\n",
    "\n",
    "X_val_sc = scaler.transform(X_val)"
   ]
  },
  {
   "cell_type": "markdown",
   "id": "9adc3372-cf1e-407a-b982-93bf3e48d54e",
   "metadata": {},
   "source": [
    "## Подбор оптимальных гиперпараметров"
   ]
  },
  {
   "cell_type": "code",
   "execution_count": 245,
   "id": "92f9e037-067b-474d-a670-5a0dddc5a63b",
   "metadata": {},
   "outputs": [],
   "source": [
    "import xgboost as xgb\n",
    "from sklearn.metrics import roc_auc_score, recall_score, fbeta_score"
   ]
  },
  {
   "cell_type": "code",
   "execution_count": 257,
   "id": "d73228df-b595-4f10-9b8a-616e490598e2",
   "metadata": {},
   "outputs": [],
   "source": [
    "def objective(trial,data=X_train_sc, target=y_train):\n",
    "    \n",
    "    train_x, test_x, train_y, test_y = train_test_split(data, target, test_size=0.15,random_state=42)\n",
    "    param = {\n",
    "        'lambda': trial.suggest_loguniform('lambda', 1e-3, 10.0),\n",
    "        'alpha': trial.suggest_loguniform('alpha', 1e-3, 10.0),\n",
    "        'colsample_bytree': trial.suggest_categorical('colsample_bytree', [0.3,0.4,0.5,0.6,0.7,0.8,0.9, 1.0]),\n",
    "        'subsample': trial.suggest_categorical('subsample', [0.4,0.5,0.6,0.7,0.8,1.0]),\n",
    "        'learning_rate': trial.suggest_categorical('learning_rate', [0.008,0.01,0.012,0.014,0.016,0.018, 0.02]),\n",
    "        'n_estimators': trial.suggest_int('n_estimators', 10, 10000),\n",
    "        'max_depth': trial.suggest_categorical('max_depth', [3, 5,7,9,11,13,15,17]),\n",
    "        'random_state': trial.suggest_categorical('random_state', [123]),\n",
    "        'min_child_weight': trial.suggest_int('min_child_weight', 1, 300),\n",
    "    }\n",
    "    model = xgb.XGBClassifier(**param, eval_metric='logloss')  \n",
    "    \n",
    "    model.fit(train_x,train_y,eval_set=[(test_x,test_y)],early_stopping_rounds=100,verbose=False)\n",
    "    \n",
    "    preds = model.predict(test_x)\n",
    "    \n",
    "    # roc_auc = roc_auc_score(test_y, preds[:, 1])\n",
    "    # recall = recall_score(test_y, preds)\n",
    "    fbeta = fbeta_score(test_y, preds, beta=1.5)\n",
    "    return fbeta"
   ]
  },
  {
   "cell_type": "code",
   "execution_count": null,
   "id": "4647ff61-9388-4fe4-b5e3-5436b94251ba",
   "metadata": {
    "collapsed": true,
    "jupyter": {
     "outputs_hidden": true
    },
    "tags": []
   },
   "outputs": [
    {
     "name": "stderr",
     "output_type": "stream",
     "text": [
      "\u001b[32m[I 2023-04-28 20:18:24,722]\u001b[0m A new study created in memory with name: xgb_tuning\u001b[0m\n",
      "/Users/mariafar/opt/anaconda3/lib/python3.9/site-packages/xgboost/sklearn.py:1224: UserWarning:\n",
      "\n",
      "The use of label encoder in XGBClassifier is deprecated and will be removed in a future release. To remove this warning, do the following: 1) Pass option use_label_encoder=False when constructing XGBClassifier object; and 2) Encode your labels (y) as integers starting with 0, i.e. 0, 1, 2, ..., [num_class - 1].\n",
      "\n",
      "/Users/mariafar/opt/anaconda3/lib/python3.9/site-packages/sklearn/preprocessing/_label.py:99: DataConversionWarning:\n",
      "\n",
      "A column-vector y was passed when a 1d array was expected. Please change the shape of y to (n_samples, ), for example using ravel().\n",
      "\n",
      "/Users/mariafar/opt/anaconda3/lib/python3.9/site-packages/sklearn/preprocessing/_label.py:134: DataConversionWarning:\n",
      "\n",
      "A column-vector y was passed when a 1d array was expected. Please change the shape of y to (n_samples, ), for example using ravel().\n",
      "\n",
      "/Users/mariafar/opt/anaconda3/lib/python3.9/site-packages/sklearn/preprocessing/_label.py:134: DataConversionWarning:\n",
      "\n",
      "A column-vector y was passed when a 1d array was expected. Please change the shape of y to (n_samples, ), for example using ravel().\n",
      "\n",
      "\u001b[32m[I 2023-04-28 20:22:04,755]\u001b[0m Trial 0 finished with value: 0.7676173936276801 and parameters: {'lambda': 0.07801380051054163, 'alpha': 4.778017285224487, 'colsample_bytree': 0.6, 'subsample': 0.4, 'learning_rate': 0.01, 'n_estimators': 8698, 'max_depth': 15, 'random_state': 123, 'min_child_weight': 216}. Best is trial 0 with value: 0.7676173936276801.\u001b[0m\n",
      "/Users/mariafar/opt/anaconda3/lib/python3.9/site-packages/xgboost/sklearn.py:1224: UserWarning:\n",
      "\n",
      "The use of label encoder in XGBClassifier is deprecated and will be removed in a future release. To remove this warning, do the following: 1) Pass option use_label_encoder=False when constructing XGBClassifier object; and 2) Encode your labels (y) as integers starting with 0, i.e. 0, 1, 2, ..., [num_class - 1].\n",
      "\n",
      "/Users/mariafar/opt/anaconda3/lib/python3.9/site-packages/sklearn/preprocessing/_label.py:99: DataConversionWarning:\n",
      "\n",
      "A column-vector y was passed when a 1d array was expected. Please change the shape of y to (n_samples, ), for example using ravel().\n",
      "\n",
      "/Users/mariafar/opt/anaconda3/lib/python3.9/site-packages/sklearn/preprocessing/_label.py:134: DataConversionWarning:\n",
      "\n",
      "A column-vector y was passed when a 1d array was expected. Please change the shape of y to (n_samples, ), for example using ravel().\n",
      "\n",
      "/Users/mariafar/opt/anaconda3/lib/python3.9/site-packages/sklearn/preprocessing/_label.py:134: DataConversionWarning:\n",
      "\n",
      "A column-vector y was passed when a 1d array was expected. Please change the shape of y to (n_samples, ), for example using ravel().\n",
      "\n",
      "\u001b[32m[I 2023-04-28 20:25:36,341]\u001b[0m Trial 1 finished with value: 0.7762745751416196 and parameters: {'lambda': 1.9539171414486805, 'alpha': 0.0842319272554008, 'colsample_bytree': 0.3, 'subsample': 1.0, 'learning_rate': 0.014, 'n_estimators': 6724, 'max_depth': 13, 'random_state': 123, 'min_child_weight': 262}. Best is trial 1 with value: 0.7762745751416196.\u001b[0m\n",
      "/Users/mariafar/opt/anaconda3/lib/python3.9/site-packages/xgboost/sklearn.py:1224: UserWarning:\n",
      "\n",
      "The use of label encoder in XGBClassifier is deprecated and will be removed in a future release. To remove this warning, do the following: 1) Pass option use_label_encoder=False when constructing XGBClassifier object; and 2) Encode your labels (y) as integers starting with 0, i.e. 0, 1, 2, ..., [num_class - 1].\n",
      "\n",
      "/Users/mariafar/opt/anaconda3/lib/python3.9/site-packages/sklearn/preprocessing/_label.py:99: DataConversionWarning:\n",
      "\n",
      "A column-vector y was passed when a 1d array was expected. Please change the shape of y to (n_samples, ), for example using ravel().\n",
      "\n",
      "/Users/mariafar/opt/anaconda3/lib/python3.9/site-packages/sklearn/preprocessing/_label.py:134: DataConversionWarning:\n",
      "\n",
      "A column-vector y was passed when a 1d array was expected. Please change the shape of y to (n_samples, ), for example using ravel().\n",
      "\n",
      "/Users/mariafar/opt/anaconda3/lib/python3.9/site-packages/sklearn/preprocessing/_label.py:134: DataConversionWarning:\n",
      "\n",
      "A column-vector y was passed when a 1d array was expected. Please change the shape of y to (n_samples, ), for example using ravel().\n",
      "\n",
      "\u001b[32m[I 2023-04-28 20:28:21,789]\u001b[0m Trial 2 finished with value: 0.771421892740266 and parameters: {'lambda': 0.19085633681538608, 'alpha': 8.195716333907175, 'colsample_bytree': 0.7, 'subsample': 0.5, 'learning_rate': 0.018, 'n_estimators': 7178, 'max_depth': 9, 'random_state': 123, 'min_child_weight': 210}. Best is trial 1 with value: 0.7762745751416196.\u001b[0m\n",
      "/Users/mariafar/opt/anaconda3/lib/python3.9/site-packages/xgboost/sklearn.py:1224: UserWarning:\n",
      "\n",
      "The use of label encoder in XGBClassifier is deprecated and will be removed in a future release. To remove this warning, do the following: 1) Pass option use_label_encoder=False when constructing XGBClassifier object; and 2) Encode your labels (y) as integers starting with 0, i.e. 0, 1, 2, ..., [num_class - 1].\n",
      "\n",
      "/Users/mariafar/opt/anaconda3/lib/python3.9/site-packages/sklearn/preprocessing/_label.py:99: DataConversionWarning:\n",
      "\n",
      "A column-vector y was passed when a 1d array was expected. Please change the shape of y to (n_samples, ), for example using ravel().\n",
      "\n",
      "/Users/mariafar/opt/anaconda3/lib/python3.9/site-packages/sklearn/preprocessing/_label.py:134: DataConversionWarning:\n",
      "\n",
      "A column-vector y was passed when a 1d array was expected. Please change the shape of y to (n_samples, ), for example using ravel().\n",
      "\n",
      "/Users/mariafar/opt/anaconda3/lib/python3.9/site-packages/sklearn/preprocessing/_label.py:134: DataConversionWarning:\n",
      "\n",
      "A column-vector y was passed when a 1d array was expected. Please change the shape of y to (n_samples, ), for example using ravel().\n",
      "\n",
      "\u001b[32m[I 2023-04-28 20:28:57,257]\u001b[0m Trial 3 finished with value: 0.7625041848008034 and parameters: {'lambda': 5.369293344343443, 'alpha': 0.9463372874686132, 'colsample_bytree': 0.6, 'subsample': 0.6, 'learning_rate': 0.014, 'n_estimators': 1441, 'max_depth': 3, 'random_state': 123, 'min_child_weight': 271}. Best is trial 1 with value: 0.7762745751416196.\u001b[0m\n",
      "/Users/mariafar/opt/anaconda3/lib/python3.9/site-packages/xgboost/sklearn.py:1224: UserWarning:\n",
      "\n",
      "The use of label encoder in XGBClassifier is deprecated and will be removed in a future release. To remove this warning, do the following: 1) Pass option use_label_encoder=False when constructing XGBClassifier object; and 2) Encode your labels (y) as integers starting with 0, i.e. 0, 1, 2, ..., [num_class - 1].\n",
      "\n",
      "/Users/mariafar/opt/anaconda3/lib/python3.9/site-packages/sklearn/preprocessing/_label.py:99: DataConversionWarning:\n",
      "\n",
      "A column-vector y was passed when a 1d array was expected. Please change the shape of y to (n_samples, ), for example using ravel().\n",
      "\n",
      "/Users/mariafar/opt/anaconda3/lib/python3.9/site-packages/sklearn/preprocessing/_label.py:134: DataConversionWarning:\n",
      "\n",
      "A column-vector y was passed when a 1d array was expected. Please change the shape of y to (n_samples, ), for example using ravel().\n",
      "\n",
      "/Users/mariafar/opt/anaconda3/lib/python3.9/site-packages/sklearn/preprocessing/_label.py:134: DataConversionWarning:\n",
      "\n",
      "A column-vector y was passed when a 1d array was expected. Please change the shape of y to (n_samples, ), for example using ravel().\n",
      "\n",
      "\u001b[32m[I 2023-04-28 20:32:59,293]\u001b[0m Trial 4 finished with value: 0.777685511193782 and parameters: {'lambda': 0.007291536764035974, 'alpha': 0.6636635042470496, 'colsample_bytree': 0.7, 'subsample': 1.0, 'learning_rate': 0.016, 'n_estimators': 8560, 'max_depth': 7, 'random_state': 123, 'min_child_weight': 291}. Best is trial 4 with value: 0.777685511193782.\u001b[0m\n",
      "/Users/mariafar/opt/anaconda3/lib/python3.9/site-packages/xgboost/sklearn.py:1224: UserWarning:\n",
      "\n",
      "The use of label encoder in XGBClassifier is deprecated and will be removed in a future release. To remove this warning, do the following: 1) Pass option use_label_encoder=False when constructing XGBClassifier object; and 2) Encode your labels (y) as integers starting with 0, i.e. 0, 1, 2, ..., [num_class - 1].\n",
      "\n",
      "/Users/mariafar/opt/anaconda3/lib/python3.9/site-packages/sklearn/preprocessing/_label.py:99: DataConversionWarning:\n",
      "\n",
      "A column-vector y was passed when a 1d array was expected. Please change the shape of y to (n_samples, ), for example using ravel().\n",
      "\n",
      "/Users/mariafar/opt/anaconda3/lib/python3.9/site-packages/sklearn/preprocessing/_label.py:134: DataConversionWarning:\n",
      "\n",
      "A column-vector y was passed when a 1d array was expected. Please change the shape of y to (n_samples, ), for example using ravel().\n",
      "\n",
      "/Users/mariafar/opt/anaconda3/lib/python3.9/site-packages/sklearn/preprocessing/_label.py:134: DataConversionWarning:\n",
      "\n",
      "A column-vector y was passed when a 1d array was expected. Please change the shape of y to (n_samples, ), for example using ravel().\n",
      "\n",
      "\u001b[32m[I 2023-04-28 20:34:19,873]\u001b[0m Trial 5 finished with value: 0.7843267254524962 and parameters: {'lambda': 3.0689306488016026, 'alpha': 0.010123801850571565, 'colsample_bytree': 0.9, 'subsample': 0.7, 'learning_rate': 0.02, 'n_estimators': 5949, 'max_depth': 5, 'random_state': 123, 'min_child_weight': 122}. Best is trial 5 with value: 0.7843267254524962.\u001b[0m\n",
      "/Users/mariafar/opt/anaconda3/lib/python3.9/site-packages/xgboost/sklearn.py:1224: UserWarning:\n",
      "\n",
      "The use of label encoder in XGBClassifier is deprecated and will be removed in a future release. To remove this warning, do the following: 1) Pass option use_label_encoder=False when constructing XGBClassifier object; and 2) Encode your labels (y) as integers starting with 0, i.e. 0, 1, 2, ..., [num_class - 1].\n",
      "\n",
      "/Users/mariafar/opt/anaconda3/lib/python3.9/site-packages/sklearn/preprocessing/_label.py:99: DataConversionWarning:\n",
      "\n",
      "A column-vector y was passed when a 1d array was expected. Please change the shape of y to (n_samples, ), for example using ravel().\n",
      "\n",
      "/Users/mariafar/opt/anaconda3/lib/python3.9/site-packages/sklearn/preprocessing/_label.py:134: DataConversionWarning:\n",
      "\n",
      "A column-vector y was passed when a 1d array was expected. Please change the shape of y to (n_samples, ), for example using ravel().\n",
      "\n",
      "/Users/mariafar/opt/anaconda3/lib/python3.9/site-packages/sklearn/preprocessing/_label.py:134: DataConversionWarning:\n",
      "\n",
      "A column-vector y was passed when a 1d array was expected. Please change the shape of y to (n_samples, ), for example using ravel().\n",
      "\n",
      "\u001b[32m[I 2023-04-28 20:36:31,232]\u001b[0m Trial 6 finished with value: 0.7762359063313096 and parameters: {'lambda': 1.134926507419305, 'alpha': 0.003336973515621737, 'colsample_bytree': 0.3, 'subsample': 0.7, 'learning_rate': 0.014, 'n_estimators': 3941, 'max_depth': 9, 'random_state': 123, 'min_child_weight': 220}. Best is trial 5 with value: 0.7843267254524962.\u001b[0m\n",
      "/Users/mariafar/opt/anaconda3/lib/python3.9/site-packages/xgboost/sklearn.py:1224: UserWarning:\n",
      "\n",
      "The use of label encoder in XGBClassifier is deprecated and will be removed in a future release. To remove this warning, do the following: 1) Pass option use_label_encoder=False when constructing XGBClassifier object; and 2) Encode your labels (y) as integers starting with 0, i.e. 0, 1, 2, ..., [num_class - 1].\n",
      "\n",
      "/Users/mariafar/opt/anaconda3/lib/python3.9/site-packages/sklearn/preprocessing/_label.py:99: DataConversionWarning:\n",
      "\n",
      "A column-vector y was passed when a 1d array was expected. Please change the shape of y to (n_samples, ), for example using ravel().\n",
      "\n",
      "/Users/mariafar/opt/anaconda3/lib/python3.9/site-packages/sklearn/preprocessing/_label.py:134: DataConversionWarning:\n",
      "\n",
      "A column-vector y was passed when a 1d array was expected. Please change the shape of y to (n_samples, ), for example using ravel().\n",
      "\n",
      "/Users/mariafar/opt/anaconda3/lib/python3.9/site-packages/sklearn/preprocessing/_label.py:134: DataConversionWarning:\n",
      "\n",
      "A column-vector y was passed when a 1d array was expected. Please change the shape of y to (n_samples, ), for example using ravel().\n",
      "\n",
      "\u001b[32m[I 2023-04-28 20:37:00,563]\u001b[0m Trial 7 finished with value: 0.7866626833964018 and parameters: {'lambda': 0.15978494269739105, 'alpha': 0.0181237493234422, 'colsample_bytree': 0.3, 'subsample': 0.5, 'learning_rate': 0.01, 'n_estimators': 1186, 'max_depth': 3, 'random_state': 123, 'min_child_weight': 13}. Best is trial 7 with value: 0.7866626833964018.\u001b[0m\n",
      "/Users/mariafar/opt/anaconda3/lib/python3.9/site-packages/xgboost/sklearn.py:1224: UserWarning:\n",
      "\n",
      "The use of label encoder in XGBClassifier is deprecated and will be removed in a future release. To remove this warning, do the following: 1) Pass option use_label_encoder=False when constructing XGBClassifier object; and 2) Encode your labels (y) as integers starting with 0, i.e. 0, 1, 2, ..., [num_class - 1].\n",
      "\n",
      "/Users/mariafar/opt/anaconda3/lib/python3.9/site-packages/sklearn/preprocessing/_label.py:99: DataConversionWarning:\n",
      "\n",
      "A column-vector y was passed when a 1d array was expected. Please change the shape of y to (n_samples, ), for example using ravel().\n",
      "\n",
      "/Users/mariafar/opt/anaconda3/lib/python3.9/site-packages/sklearn/preprocessing/_label.py:134: DataConversionWarning:\n",
      "\n",
      "A column-vector y was passed when a 1d array was expected. Please change the shape of y to (n_samples, ), for example using ravel().\n",
      "\n",
      "/Users/mariafar/opt/anaconda3/lib/python3.9/site-packages/sklearn/preprocessing/_label.py:134: DataConversionWarning:\n",
      "\n",
      "A column-vector y was passed when a 1d array was expected. Please change the shape of y to (n_samples, ), for example using ravel().\n",
      "\n",
      "\u001b[32m[I 2023-04-28 20:38:28,161]\u001b[0m Trial 8 finished with value: 0.7880740006607202 and parameters: {'lambda': 0.054077542541478854, 'alpha': 0.013836852508855524, 'colsample_bytree': 1.0, 'subsample': 0.5, 'learning_rate': 0.014, 'n_estimators': 8955, 'max_depth': 17, 'random_state': 123, 'min_child_weight': 49}. Best is trial 8 with value: 0.7880740006607202.\u001b[0m\n",
      "/Users/mariafar/opt/anaconda3/lib/python3.9/site-packages/xgboost/sklearn.py:1224: UserWarning:\n",
      "\n",
      "The use of label encoder in XGBClassifier is deprecated and will be removed in a future release. To remove this warning, do the following: 1) Pass option use_label_encoder=False when constructing XGBClassifier object; and 2) Encode your labels (y) as integers starting with 0, i.e. 0, 1, 2, ..., [num_class - 1].\n",
      "\n",
      "/Users/mariafar/opt/anaconda3/lib/python3.9/site-packages/sklearn/preprocessing/_label.py:99: DataConversionWarning:\n",
      "\n",
      "A column-vector y was passed when a 1d array was expected. Please change the shape of y to (n_samples, ), for example using ravel().\n",
      "\n",
      "/Users/mariafar/opt/anaconda3/lib/python3.9/site-packages/sklearn/preprocessing/_label.py:134: DataConversionWarning:\n",
      "\n",
      "A column-vector y was passed when a 1d array was expected. Please change the shape of y to (n_samples, ), for example using ravel().\n",
      "\n",
      "/Users/mariafar/opt/anaconda3/lib/python3.9/site-packages/sklearn/preprocessing/_label.py:134: DataConversionWarning:\n",
      "\n",
      "A column-vector y was passed when a 1d array was expected. Please change the shape of y to (n_samples, ), for example using ravel().\n",
      "\n",
      "\u001b[32m[I 2023-04-28 20:39:32,086]\u001b[0m Trial 9 finished with value: 0.7939424031777557 and parameters: {'lambda': 0.0012239621442665563, 'alpha': 0.15437050357243395, 'colsample_bytree': 0.7, 'subsample': 1.0, 'learning_rate': 0.014, 'n_estimators': 7701, 'max_depth': 3, 'random_state': 123, 'min_child_weight': 44}. Best is trial 9 with value: 0.7939424031777557.\u001b[0m\n",
      "/Users/mariafar/opt/anaconda3/lib/python3.9/site-packages/xgboost/sklearn.py:1224: UserWarning:\n",
      "\n",
      "The use of label encoder in XGBClassifier is deprecated and will be removed in a future release. To remove this warning, do the following: 1) Pass option use_label_encoder=False when constructing XGBClassifier object; and 2) Encode your labels (y) as integers starting with 0, i.e. 0, 1, 2, ..., [num_class - 1].\n",
      "\n",
      "/Users/mariafar/opt/anaconda3/lib/python3.9/site-packages/sklearn/preprocessing/_label.py:99: DataConversionWarning:\n",
      "\n",
      "A column-vector y was passed when a 1d array was expected. Please change the shape of y to (n_samples, ), for example using ravel().\n",
      "\n",
      "/Users/mariafar/opt/anaconda3/lib/python3.9/site-packages/sklearn/preprocessing/_label.py:134: DataConversionWarning:\n",
      "\n",
      "A column-vector y was passed when a 1d array was expected. Please change the shape of y to (n_samples, ), for example using ravel().\n",
      "\n",
      "/Users/mariafar/opt/anaconda3/lib/python3.9/site-packages/sklearn/preprocessing/_label.py:134: DataConversionWarning:\n",
      "\n",
      "A column-vector y was passed when a 1d array was expected. Please change the shape of y to (n_samples, ), for example using ravel().\n",
      "\n",
      "\u001b[32m[I 2023-04-28 20:41:58,712]\u001b[0m Trial 10 finished with value: 0.7860785482482283 and parameters: {'lambda': 0.0011290982477474617, 'alpha': 0.16124146751203025, 'colsample_bytree': 0.8, 'subsample': 0.8, 'learning_rate': 0.012, 'n_estimators': 4343, 'max_depth': 11, 'random_state': 123, 'min_child_weight': 98}. Best is trial 9 with value: 0.7939424031777557.\u001b[0m\n",
      "/Users/mariafar/opt/anaconda3/lib/python3.9/site-packages/xgboost/sklearn.py:1224: UserWarning:\n",
      "\n",
      "The use of label encoder in XGBClassifier is deprecated and will be removed in a future release. To remove this warning, do the following: 1) Pass option use_label_encoder=False when constructing XGBClassifier object; and 2) Encode your labels (y) as integers starting with 0, i.e. 0, 1, 2, ..., [num_class - 1].\n",
      "\n",
      "/Users/mariafar/opt/anaconda3/lib/python3.9/site-packages/sklearn/preprocessing/_label.py:99: DataConversionWarning:\n",
      "\n",
      "A column-vector y was passed when a 1d array was expected. Please change the shape of y to (n_samples, ), for example using ravel().\n",
      "\n",
      "/Users/mariafar/opt/anaconda3/lib/python3.9/site-packages/sklearn/preprocessing/_label.py:134: DataConversionWarning:\n",
      "\n",
      "A column-vector y was passed when a 1d array was expected. Please change the shape of y to (n_samples, ), for example using ravel().\n",
      "\n",
      "/Users/mariafar/opt/anaconda3/lib/python3.9/site-packages/sklearn/preprocessing/_label.py:134: DataConversionWarning:\n",
      "\n",
      "A column-vector y was passed when a 1d array was expected. Please change the shape of y to (n_samples, ), for example using ravel().\n",
      "\n",
      "\u001b[32m[I 2023-04-28 20:44:19,547]\u001b[0m Trial 11 finished with value: 0.8008082002759709 and parameters: {'lambda': 0.010292786987181996, 'alpha': 0.001211443999373633, 'colsample_bytree': 1.0, 'subsample': 0.5, 'learning_rate': 0.008, 'n_estimators': 9878, 'max_depth': 17, 'random_state': 123, 'min_child_weight': 37}. Best is trial 11 with value: 0.8008082002759709.\u001b[0m\n",
      "/Users/mariafar/opt/anaconda3/lib/python3.9/site-packages/xgboost/sklearn.py:1224: UserWarning:\n",
      "\n",
      "The use of label encoder in XGBClassifier is deprecated and will be removed in a future release. To remove this warning, do the following: 1) Pass option use_label_encoder=False when constructing XGBClassifier object; and 2) Encode your labels (y) as integers starting with 0, i.e. 0, 1, 2, ..., [num_class - 1].\n",
      "\n",
      "/Users/mariafar/opt/anaconda3/lib/python3.9/site-packages/sklearn/preprocessing/_label.py:99: DataConversionWarning:\n",
      "\n",
      "A column-vector y was passed when a 1d array was expected. Please change the shape of y to (n_samples, ), for example using ravel().\n",
      "\n",
      "/Users/mariafar/opt/anaconda3/lib/python3.9/site-packages/sklearn/preprocessing/_label.py:134: DataConversionWarning:\n",
      "\n",
      "A column-vector y was passed when a 1d array was expected. Please change the shape of y to (n_samples, ), for example using ravel().\n",
      "\n",
      "/Users/mariafar/opt/anaconda3/lib/python3.9/site-packages/sklearn/preprocessing/_label.py:134: DataConversionWarning:\n",
      "\n",
      "A column-vector y was passed when a 1d array was expected. Please change the shape of y to (n_samples, ), for example using ravel().\n",
      "\n",
      "\u001b[32m[I 2023-04-28 20:46:55,180]\u001b[0m Trial 12 finished with value: 0.8039035289478872 and parameters: {'lambda': 0.0018615399070199532, 'alpha': 0.001650053470837363, 'colsample_bytree': 0.5, 'subsample': 1.0, 'learning_rate': 0.008, 'n_estimators': 9961, 'max_depth': 17, 'random_state': 123, 'min_child_weight': 55}. Best is trial 12 with value: 0.8039035289478872.\u001b[0m\n",
      "/Users/mariafar/opt/anaconda3/lib/python3.9/site-packages/xgboost/sklearn.py:1224: UserWarning:\n",
      "\n",
      "The use of label encoder in XGBClassifier is deprecated and will be removed in a future release. To remove this warning, do the following: 1) Pass option use_label_encoder=False when constructing XGBClassifier object; and 2) Encode your labels (y) as integers starting with 0, i.e. 0, 1, 2, ..., [num_class - 1].\n",
      "\n",
      "/Users/mariafar/opt/anaconda3/lib/python3.9/site-packages/sklearn/preprocessing/_label.py:99: DataConversionWarning:\n",
      "\n",
      "A column-vector y was passed when a 1d array was expected. Please change the shape of y to (n_samples, ), for example using ravel().\n",
      "\n",
      "/Users/mariafar/opt/anaconda3/lib/python3.9/site-packages/sklearn/preprocessing/_label.py:134: DataConversionWarning:\n",
      "\n",
      "A column-vector y was passed when a 1d array was expected. Please change the shape of y to (n_samples, ), for example using ravel().\n",
      "\n",
      "/Users/mariafar/opt/anaconda3/lib/python3.9/site-packages/sklearn/preprocessing/_label.py:134: DataConversionWarning:\n",
      "\n",
      "A column-vector y was passed when a 1d array was expected. Please change the shape of y to (n_samples, ), for example using ravel().\n",
      "\n",
      "\u001b[32m[I 2023-04-28 20:50:14,013]\u001b[0m Trial 13 finished with value: 0.78486174656853 and parameters: {'lambda': 0.009104295505368879, 'alpha': 0.0011076791664299704, 'colsample_bytree': 0.5, 'subsample': 0.6, 'learning_rate': 0.008, 'n_estimators': 9728, 'max_depth': 17, 'random_state': 123, 'min_child_weight': 88}. Best is trial 12 with value: 0.8039035289478872.\u001b[0m\n",
      "/Users/mariafar/opt/anaconda3/lib/python3.9/site-packages/xgboost/sklearn.py:1224: UserWarning:\n",
      "\n",
      "The use of label encoder in XGBClassifier is deprecated and will be removed in a future release. To remove this warning, do the following: 1) Pass option use_label_encoder=False when constructing XGBClassifier object; and 2) Encode your labels (y) as integers starting with 0, i.e. 0, 1, 2, ..., [num_class - 1].\n",
      "\n",
      "/Users/mariafar/opt/anaconda3/lib/python3.9/site-packages/sklearn/preprocessing/_label.py:99: DataConversionWarning:\n",
      "\n",
      "A column-vector y was passed when a 1d array was expected. Please change the shape of y to (n_samples, ), for example using ravel().\n",
      "\n",
      "/Users/mariafar/opt/anaconda3/lib/python3.9/site-packages/sklearn/preprocessing/_label.py:134: DataConversionWarning:\n",
      "\n",
      "A column-vector y was passed when a 1d array was expected. Please change the shape of y to (n_samples, ), for example using ravel().\n",
      "\n",
      "/Users/mariafar/opt/anaconda3/lib/python3.9/site-packages/sklearn/preprocessing/_label.py:134: DataConversionWarning:\n",
      "\n",
      "A column-vector y was passed when a 1d array was expected. Please change the shape of y to (n_samples, ), for example using ravel().\n",
      "\n",
      "\u001b[32m[I 2023-04-28 20:51:51,767]\u001b[0m Trial 14 finished with value: 0.803614694519023 and parameters: {'lambda': 0.00732188537727952, 'alpha': 0.0011776676797182835, 'colsample_bytree': 0.5, 'subsample': 0.8, 'learning_rate': 0.008, 'n_estimators': 9843, 'max_depth': 17, 'random_state': 123, 'min_child_weight': 1}. Best is trial 12 with value: 0.8039035289478872.\u001b[0m\n",
      "/Users/mariafar/opt/anaconda3/lib/python3.9/site-packages/xgboost/sklearn.py:1224: UserWarning:\n",
      "\n",
      "The use of label encoder in XGBClassifier is deprecated and will be removed in a future release. To remove this warning, do the following: 1) Pass option use_label_encoder=False when constructing XGBClassifier object; and 2) Encode your labels (y) as integers starting with 0, i.e. 0, 1, 2, ..., [num_class - 1].\n",
      "\n",
      "/Users/mariafar/opt/anaconda3/lib/python3.9/site-packages/sklearn/preprocessing/_label.py:99: DataConversionWarning:\n",
      "\n",
      "A column-vector y was passed when a 1d array was expected. Please change the shape of y to (n_samples, ), for example using ravel().\n",
      "\n",
      "/Users/mariafar/opt/anaconda3/lib/python3.9/site-packages/sklearn/preprocessing/_label.py:134: DataConversionWarning:\n",
      "\n",
      "A column-vector y was passed when a 1d array was expected. Please change the shape of y to (n_samples, ), for example using ravel().\n",
      "\n",
      "/Users/mariafar/opt/anaconda3/lib/python3.9/site-packages/sklearn/preprocessing/_label.py:134: DataConversionWarning:\n",
      "\n",
      "A column-vector y was passed when a 1d array was expected. Please change the shape of y to (n_samples, ), for example using ravel().\n",
      "\n",
      "\u001b[32m[I 2023-04-28 20:53:34,958]\u001b[0m Trial 15 finished with value: 0.803935048778891 and parameters: {'lambda': 0.003288723807973738, 'alpha': 0.0047455658627473035, 'colsample_bytree': 0.5, 'subsample': 0.8, 'learning_rate': 0.008, 'n_estimators': 3064, 'max_depth': 17, 'random_state': 123, 'min_child_weight': 1}. Best is trial 15 with value: 0.803935048778891.\u001b[0m\n",
      "/Users/mariafar/opt/anaconda3/lib/python3.9/site-packages/xgboost/sklearn.py:1224: UserWarning:\n",
      "\n",
      "The use of label encoder in XGBClassifier is deprecated and will be removed in a future release. To remove this warning, do the following: 1) Pass option use_label_encoder=False when constructing XGBClassifier object; and 2) Encode your labels (y) as integers starting with 0, i.e. 0, 1, 2, ..., [num_class - 1].\n",
      "\n",
      "/Users/mariafar/opt/anaconda3/lib/python3.9/site-packages/sklearn/preprocessing/_label.py:99: DataConversionWarning:\n",
      "\n",
      "A column-vector y was passed when a 1d array was expected. Please change the shape of y to (n_samples, ), for example using ravel().\n",
      "\n",
      "/Users/mariafar/opt/anaconda3/lib/python3.9/site-packages/sklearn/preprocessing/_label.py:134: DataConversionWarning:\n",
      "\n",
      "A column-vector y was passed when a 1d array was expected. Please change the shape of y to (n_samples, ), for example using ravel().\n",
      "\n",
      "/Users/mariafar/opt/anaconda3/lib/python3.9/site-packages/sklearn/preprocessing/_label.py:134: DataConversionWarning:\n",
      "\n",
      "A column-vector y was passed when a 1d array was expected. Please change the shape of y to (n_samples, ), for example using ravel().\n",
      "\n",
      "\u001b[32m[I 2023-04-28 20:56:01,711]\u001b[0m Trial 16 finished with value: 0.7835072097813809 and parameters: {'lambda': 0.003007036436708291, 'alpha': 0.004333727494546168, 'colsample_bytree': 0.4, 'subsample': 0.8, 'learning_rate': 0.008, 'n_estimators': 2958, 'max_depth': 17, 'random_state': 123, 'min_child_weight': 145}. Best is trial 15 with value: 0.803935048778891.\u001b[0m\n",
      "/Users/mariafar/opt/anaconda3/lib/python3.9/site-packages/xgboost/sklearn.py:1224: UserWarning:\n",
      "\n",
      "The use of label encoder in XGBClassifier is deprecated and will be removed in a future release. To remove this warning, do the following: 1) Pass option use_label_encoder=False when constructing XGBClassifier object; and 2) Encode your labels (y) as integers starting with 0, i.e. 0, 1, 2, ..., [num_class - 1].\n",
      "\n",
      "/Users/mariafar/opt/anaconda3/lib/python3.9/site-packages/sklearn/preprocessing/_label.py:99: DataConversionWarning:\n",
      "\n",
      "A column-vector y was passed when a 1d array was expected. Please change the shape of y to (n_samples, ), for example using ravel().\n",
      "\n",
      "/Users/mariafar/opt/anaconda3/lib/python3.9/site-packages/sklearn/preprocessing/_label.py:134: DataConversionWarning:\n",
      "\n",
      "A column-vector y was passed when a 1d array was expected. Please change the shape of y to (n_samples, ), for example using ravel().\n",
      "\n",
      "/Users/mariafar/opt/anaconda3/lib/python3.9/site-packages/sklearn/preprocessing/_label.py:134: DataConversionWarning:\n",
      "\n",
      "A column-vector y was passed when a 1d array was expected. Please change the shape of y to (n_samples, ), for example using ravel().\n",
      "\n",
      "\u001b[32m[I 2023-04-28 20:57:48,538]\u001b[0m Trial 17 finished with value: 0.7817468236546264 and parameters: {'lambda': 0.026444811985603302, 'alpha': 0.04423289968282911, 'colsample_bytree': 0.5, 'subsample': 0.4, 'learning_rate': 0.008, 'n_estimators': 2494, 'max_depth': 7, 'random_state': 123, 'min_child_weight': 78}. Best is trial 15 with value: 0.803935048778891.\u001b[0m\n",
      "/Users/mariafar/opt/anaconda3/lib/python3.9/site-packages/xgboost/sklearn.py:1224: UserWarning:\n",
      "\n",
      "The use of label encoder in XGBClassifier is deprecated and will be removed in a future release. To remove this warning, do the following: 1) Pass option use_label_encoder=False when constructing XGBClassifier object; and 2) Encode your labels (y) as integers starting with 0, i.e. 0, 1, 2, ..., [num_class - 1].\n",
      "\n",
      "/Users/mariafar/opt/anaconda3/lib/python3.9/site-packages/sklearn/preprocessing/_label.py:99: DataConversionWarning:\n",
      "\n",
      "A column-vector y was passed when a 1d array was expected. Please change the shape of y to (n_samples, ), for example using ravel().\n",
      "\n",
      "/Users/mariafar/opt/anaconda3/lib/python3.9/site-packages/sklearn/preprocessing/_label.py:134: DataConversionWarning:\n",
      "\n",
      "A column-vector y was passed when a 1d array was expected. Please change the shape of y to (n_samples, ), for example using ravel().\n",
      "\n",
      "/Users/mariafar/opt/anaconda3/lib/python3.9/site-packages/sklearn/preprocessing/_label.py:134: DataConversionWarning:\n",
      "\n",
      "A column-vector y was passed when a 1d array was expected. Please change the shape of y to (n_samples, ), for example using ravel().\n",
      "\n",
      "\u001b[32m[I 2023-04-28 20:59:46,650]\u001b[0m Trial 18 finished with value: 0.8021949135834922 and parameters: {'lambda': 0.0031390237120454112, 'alpha': 0.004351856657898127, 'colsample_bytree': 0.5, 'subsample': 1.0, 'learning_rate': 0.012, 'n_estimators': 5219, 'max_depth': 13, 'random_state': 123, 'min_child_weight': 68}. Best is trial 15 with value: 0.803935048778891.\u001b[0m\n",
      "/Users/mariafar/opt/anaconda3/lib/python3.9/site-packages/xgboost/sklearn.py:1224: UserWarning:\n",
      "\n",
      "The use of label encoder in XGBClassifier is deprecated and will be removed in a future release. To remove this warning, do the following: 1) Pass option use_label_encoder=False when constructing XGBClassifier object; and 2) Encode your labels (y) as integers starting with 0, i.e. 0, 1, 2, ..., [num_class - 1].\n",
      "\n",
      "/Users/mariafar/opt/anaconda3/lib/python3.9/site-packages/sklearn/preprocessing/_label.py:99: DataConversionWarning:\n",
      "\n",
      "A column-vector y was passed when a 1d array was expected. Please change the shape of y to (n_samples, ), for example using ravel().\n",
      "\n",
      "/Users/mariafar/opt/anaconda3/lib/python3.9/site-packages/sklearn/preprocessing/_label.py:134: DataConversionWarning:\n",
      "\n",
      "A column-vector y was passed when a 1d array was expected. Please change the shape of y to (n_samples, ), for example using ravel().\n",
      "\n",
      "/Users/mariafar/opt/anaconda3/lib/python3.9/site-packages/sklearn/preprocessing/_label.py:134: DataConversionWarning:\n",
      "\n",
      "A column-vector y was passed when a 1d array was expected. Please change the shape of y to (n_samples, ), for example using ravel().\n",
      "\n",
      "\u001b[32m[I 2023-04-28 20:59:58,670]\u001b[0m Trial 19 finished with value: 0.76828860183388 and parameters: {'lambda': 0.4265425733302173, 'alpha': 0.03850040283492091, 'colsample_bytree': 0.5, 'subsample': 0.8, 'learning_rate': 0.016, 'n_estimators': 350, 'max_depth': 5, 'random_state': 123, 'min_child_weight': 170}. Best is trial 15 with value: 0.803935048778891.\u001b[0m\n",
      "/Users/mariafar/opt/anaconda3/lib/python3.9/site-packages/xgboost/sklearn.py:1224: UserWarning:\n",
      "\n",
      "The use of label encoder in XGBClassifier is deprecated and will be removed in a future release. To remove this warning, do the following: 1) Pass option use_label_encoder=False when constructing XGBClassifier object; and 2) Encode your labels (y) as integers starting with 0, i.e. 0, 1, 2, ..., [num_class - 1].\n",
      "\n",
      "/Users/mariafar/opt/anaconda3/lib/python3.9/site-packages/sklearn/preprocessing/_label.py:99: DataConversionWarning:\n",
      "\n",
      "A column-vector y was passed when a 1d array was expected. Please change the shape of y to (n_samples, ), for example using ravel().\n",
      "\n",
      "/Users/mariafar/opt/anaconda3/lib/python3.9/site-packages/sklearn/preprocessing/_label.py:134: DataConversionWarning:\n",
      "\n",
      "A column-vector y was passed when a 1d array was expected. Please change the shape of y to (n_samples, ), for example using ravel().\n",
      "\n",
      "/Users/mariafar/opt/anaconda3/lib/python3.9/site-packages/sklearn/preprocessing/_label.py:134: DataConversionWarning:\n",
      "\n",
      "A column-vector y was passed when a 1d array was expected. Please change the shape of y to (n_samples, ), for example using ravel().\n",
      "\n",
      "\u001b[32m[I 2023-04-28 21:00:46,124]\u001b[0m Trial 20 finished with value: 0.8032555080565603 and parameters: {'lambda': 0.02648918306929831, 'alpha': 0.003105169288897058, 'colsample_bytree': 0.4, 'subsample': 0.8, 'learning_rate': 0.018, 'n_estimators': 3189, 'max_depth': 15, 'random_state': 123, 'min_child_weight': 19}. Best is trial 15 with value: 0.803935048778891.\u001b[0m\n",
      "/Users/mariafar/opt/anaconda3/lib/python3.9/site-packages/xgboost/sklearn.py:1224: UserWarning:\n",
      "\n",
      "The use of label encoder in XGBClassifier is deprecated and will be removed in a future release. To remove this warning, do the following: 1) Pass option use_label_encoder=False when constructing XGBClassifier object; and 2) Encode your labels (y) as integers starting with 0, i.e. 0, 1, 2, ..., [num_class - 1].\n",
      "\n",
      "/Users/mariafar/opt/anaconda3/lib/python3.9/site-packages/sklearn/preprocessing/_label.py:99: DataConversionWarning:\n",
      "\n",
      "A column-vector y was passed when a 1d array was expected. Please change the shape of y to (n_samples, ), for example using ravel().\n",
      "\n",
      "/Users/mariafar/opt/anaconda3/lib/python3.9/site-packages/sklearn/preprocessing/_label.py:134: DataConversionWarning:\n",
      "\n",
      "A column-vector y was passed when a 1d array was expected. Please change the shape of y to (n_samples, ), for example using ravel().\n",
      "\n",
      "/Users/mariafar/opt/anaconda3/lib/python3.9/site-packages/sklearn/preprocessing/_label.py:134: DataConversionWarning:\n",
      "\n",
      "A column-vector y was passed when a 1d array was expected. Please change the shape of y to (n_samples, ), for example using ravel().\n",
      "\n",
      "\u001b[32m[I 2023-04-28 21:02:41,816]\u001b[0m Trial 21 finished with value: 0.8026376222032676 and parameters: {'lambda': 0.0032112410178006512, 'alpha': 0.0011019971883767148, 'colsample_bytree': 0.5, 'subsample': 0.8, 'learning_rate': 0.008, 'n_estimators': 8179, 'max_depth': 17, 'random_state': 123, 'min_child_weight': 4}. Best is trial 15 with value: 0.803935048778891.\u001b[0m\n",
      "/Users/mariafar/opt/anaconda3/lib/python3.9/site-packages/xgboost/sklearn.py:1224: UserWarning:\n",
      "\n",
      "The use of label encoder in XGBClassifier is deprecated and will be removed in a future release. To remove this warning, do the following: 1) Pass option use_label_encoder=False when constructing XGBClassifier object; and 2) Encode your labels (y) as integers starting with 0, i.e. 0, 1, 2, ..., [num_class - 1].\n",
      "\n",
      "/Users/mariafar/opt/anaconda3/lib/python3.9/site-packages/sklearn/preprocessing/_label.py:99: DataConversionWarning:\n",
      "\n",
      "A column-vector y was passed when a 1d array was expected. Please change the shape of y to (n_samples, ), for example using ravel().\n",
      "\n",
      "/Users/mariafar/opt/anaconda3/lib/python3.9/site-packages/sklearn/preprocessing/_label.py:134: DataConversionWarning:\n",
      "\n",
      "A column-vector y was passed when a 1d array was expected. Please change the shape of y to (n_samples, ), for example using ravel().\n",
      "\n",
      "/Users/mariafar/opt/anaconda3/lib/python3.9/site-packages/sklearn/preprocessing/_label.py:134: DataConversionWarning:\n",
      "\n",
      "A column-vector y was passed when a 1d array was expected. Please change the shape of y to (n_samples, ), for example using ravel().\n",
      "\n",
      "\u001b[32m[I 2023-04-28 21:04:37,683]\u001b[0m Trial 22 finished with value: 0.8025323099127467 and parameters: {'lambda': 0.005521851004711164, 'alpha': 0.007407678563543642, 'colsample_bytree': 0.5, 'subsample': 0.8, 'learning_rate': 0.008, 'n_estimators': 6219, 'max_depth': 17, 'random_state': 123, 'min_child_weight': 4}. Best is trial 15 with value: 0.803935048778891.\u001b[0m\n",
      "/Users/mariafar/opt/anaconda3/lib/python3.9/site-packages/xgboost/sklearn.py:1224: UserWarning:\n",
      "\n",
      "The use of label encoder in XGBClassifier is deprecated and will be removed in a future release. To remove this warning, do the following: 1) Pass option use_label_encoder=False when constructing XGBClassifier object; and 2) Encode your labels (y) as integers starting with 0, i.e. 0, 1, 2, ..., [num_class - 1].\n",
      "\n",
      "/Users/mariafar/opt/anaconda3/lib/python3.9/site-packages/sklearn/preprocessing/_label.py:99: DataConversionWarning:\n",
      "\n",
      "A column-vector y was passed when a 1d array was expected. Please change the shape of y to (n_samples, ), for example using ravel().\n",
      "\n",
      "/Users/mariafar/opt/anaconda3/lib/python3.9/site-packages/sklearn/preprocessing/_label.py:134: DataConversionWarning:\n",
      "\n",
      "A column-vector y was passed when a 1d array was expected. Please change the shape of y to (n_samples, ), for example using ravel().\n",
      "\n",
      "/Users/mariafar/opt/anaconda3/lib/python3.9/site-packages/sklearn/preprocessing/_label.py:134: DataConversionWarning:\n",
      "\n",
      "A column-vector y was passed when a 1d array was expected. Please change the shape of y to (n_samples, ), for example using ravel().\n",
      "\n",
      "\u001b[32m[I 2023-04-28 21:06:50,698]\u001b[0m Trial 23 finished with value: 0.8047578366300848 and parameters: {'lambda': 0.022142948164332345, 'alpha': 0.002476350526601671, 'colsample_bytree': 0.5, 'subsample': 0.8, 'learning_rate': 0.008, 'n_estimators': 9409, 'max_depth': 17, 'random_state': 123, 'min_child_weight': 40}. Best is trial 23 with value: 0.8047578366300848.\u001b[0m\n",
      "/Users/mariafar/opt/anaconda3/lib/python3.9/site-packages/xgboost/sklearn.py:1224: UserWarning:\n",
      "\n",
      "The use of label encoder in XGBClassifier is deprecated and will be removed in a future release. To remove this warning, do the following: 1) Pass option use_label_encoder=False when constructing XGBClassifier object; and 2) Encode your labels (y) as integers starting with 0, i.e. 0, 1, 2, ..., [num_class - 1].\n",
      "\n",
      "/Users/mariafar/opt/anaconda3/lib/python3.9/site-packages/sklearn/preprocessing/_label.py:99: DataConversionWarning:\n",
      "\n",
      "A column-vector y was passed when a 1d array was expected. Please change the shape of y to (n_samples, ), for example using ravel().\n",
      "\n",
      "/Users/mariafar/opt/anaconda3/lib/python3.9/site-packages/sklearn/preprocessing/_label.py:134: DataConversionWarning:\n",
      "\n",
      "A column-vector y was passed when a 1d array was expected. Please change the shape of y to (n_samples, ), for example using ravel().\n",
      "\n",
      "/Users/mariafar/opt/anaconda3/lib/python3.9/site-packages/sklearn/preprocessing/_label.py:134: DataConversionWarning:\n",
      "\n",
      "A column-vector y was passed when a 1d array was expected. Please change the shape of y to (n_samples, ), for example using ravel().\n",
      "\n",
      "\u001b[32m[I 2023-04-28 21:07:48,131]\u001b[0m Trial 24 finished with value: 0.8027429621366232 and parameters: {'lambda': 0.022022802210403286, 'alpha': 0.00246105804104289, 'colsample_bytree': 0.9, 'subsample': 1.0, 'learning_rate': 0.02, 'n_estimators': 5362, 'max_depth': 11, 'random_state': 123, 'min_child_weight': 57}. Best is trial 23 with value: 0.8047578366300848.\u001b[0m\n",
      "/Users/mariafar/opt/anaconda3/lib/python3.9/site-packages/xgboost/sklearn.py:1224: UserWarning:\n",
      "\n",
      "The use of label encoder in XGBClassifier is deprecated and will be removed in a future release. To remove this warning, do the following: 1) Pass option use_label_encoder=False when constructing XGBClassifier object; and 2) Encode your labels (y) as integers starting with 0, i.e. 0, 1, 2, ..., [num_class - 1].\n",
      "\n",
      "/Users/mariafar/opt/anaconda3/lib/python3.9/site-packages/sklearn/preprocessing/_label.py:99: DataConversionWarning:\n",
      "\n",
      "A column-vector y was passed when a 1d array was expected. Please change the shape of y to (n_samples, ), for example using ravel().\n",
      "\n",
      "/Users/mariafar/opt/anaconda3/lib/python3.9/site-packages/sklearn/preprocessing/_label.py:134: DataConversionWarning:\n",
      "\n",
      "A column-vector y was passed when a 1d array was expected. Please change the shape of y to (n_samples, ), for example using ravel().\n",
      "\n",
      "/Users/mariafar/opt/anaconda3/lib/python3.9/site-packages/sklearn/preprocessing/_label.py:134: DataConversionWarning:\n",
      "\n",
      "A column-vector y was passed when a 1d array was expected. Please change the shape of y to (n_samples, ), for example using ravel().\n",
      "\n",
      "\u001b[32m[I 2023-04-28 21:11:29,593]\u001b[0m Trial 25 finished with value: 0.7859744387788888 and parameters: {'lambda': 0.0018547596778751686, 'alpha': 0.02644018742695854, 'colsample_bytree': 0.8, 'subsample': 0.8, 'learning_rate': 0.008, 'n_estimators': 4339, 'max_depth': 17, 'random_state': 123, 'min_child_weight': 109}. Best is trial 23 with value: 0.8047578366300848.\u001b[0m\n",
      "/Users/mariafar/opt/anaconda3/lib/python3.9/site-packages/xgboost/sklearn.py:1224: UserWarning:\n",
      "\n",
      "The use of label encoder in XGBClassifier is deprecated and will be removed in a future release. To remove this warning, do the following: 1) Pass option use_label_encoder=False when constructing XGBClassifier object; and 2) Encode your labels (y) as integers starting with 0, i.e. 0, 1, 2, ..., [num_class - 1].\n",
      "\n",
      "/Users/mariafar/opt/anaconda3/lib/python3.9/site-packages/sklearn/preprocessing/_label.py:99: DataConversionWarning:\n",
      "\n",
      "A column-vector y was passed when a 1d array was expected. Please change the shape of y to (n_samples, ), for example using ravel().\n",
      "\n",
      "/Users/mariafar/opt/anaconda3/lib/python3.9/site-packages/sklearn/preprocessing/_label.py:134: DataConversionWarning:\n",
      "\n",
      "A column-vector y was passed when a 1d array was expected. Please change the shape of y to (n_samples, ), for example using ravel().\n",
      "\n",
      "/Users/mariafar/opt/anaconda3/lib/python3.9/site-packages/sklearn/preprocessing/_label.py:134: DataConversionWarning:\n",
      "\n",
      "A column-vector y was passed when a 1d array was expected. Please change the shape of y to (n_samples, ), for example using ravel().\n",
      "\n",
      "\u001b[32m[I 2023-04-28 21:13:08,711]\u001b[0m Trial 26 finished with value: 0.8051772909676995 and parameters: {'lambda': 0.016568407714597375, 'alpha': 0.006061039809342641, 'colsample_bytree': 0.5, 'subsample': 0.6, 'learning_rate': 0.008, 'n_estimators': 9159, 'max_depth': 17, 'random_state': 123, 'min_child_weight': 32}. Best is trial 26 with value: 0.8051772909676995.\u001b[0m\n",
      "/Users/mariafar/opt/anaconda3/lib/python3.9/site-packages/xgboost/sklearn.py:1224: UserWarning:\n",
      "\n",
      "The use of label encoder in XGBClassifier is deprecated and will be removed in a future release. To remove this warning, do the following: 1) Pass option use_label_encoder=False when constructing XGBClassifier object; and 2) Encode your labels (y) as integers starting with 0, i.e. 0, 1, 2, ..., [num_class - 1].\n",
      "\n",
      "/Users/mariafar/opt/anaconda3/lib/python3.9/site-packages/sklearn/preprocessing/_label.py:99: DataConversionWarning:\n",
      "\n",
      "A column-vector y was passed when a 1d array was expected. Please change the shape of y to (n_samples, ), for example using ravel().\n",
      "\n",
      "/Users/mariafar/opt/anaconda3/lib/python3.9/site-packages/sklearn/preprocessing/_label.py:134: DataConversionWarning:\n",
      "\n",
      "A column-vector y was passed when a 1d array was expected. Please change the shape of y to (n_samples, ), for example using ravel().\n",
      "\n",
      "/Users/mariafar/opt/anaconda3/lib/python3.9/site-packages/sklearn/preprocessing/_label.py:134: DataConversionWarning:\n",
      "\n",
      "A column-vector y was passed when a 1d array was expected. Please change the shape of y to (n_samples, ), for example using ravel().\n",
      "\n",
      "\u001b[32m[I 2023-04-28 21:15:06,159]\u001b[0m Trial 27 finished with value: 0.8047537642185548 and parameters: {'lambda': 0.05297181575843467, 'alpha': 0.007090341256611333, 'colsample_bytree': 0.5, 'subsample': 0.6, 'learning_rate': 0.008, 'n_estimators': 7593, 'max_depth': 17, 'random_state': 123, 'min_child_weight': 33}. Best is trial 26 with value: 0.8051772909676995.\u001b[0m\n",
      "/Users/mariafar/opt/anaconda3/lib/python3.9/site-packages/xgboost/sklearn.py:1224: UserWarning:\n",
      "\n",
      "The use of label encoder in XGBClassifier is deprecated and will be removed in a future release. To remove this warning, do the following: 1) Pass option use_label_encoder=False when constructing XGBClassifier object; and 2) Encode your labels (y) as integers starting with 0, i.e. 0, 1, 2, ..., [num_class - 1].\n",
      "\n",
      "/Users/mariafar/opt/anaconda3/lib/python3.9/site-packages/sklearn/preprocessing/_label.py:99: DataConversionWarning:\n",
      "\n",
      "A column-vector y was passed when a 1d array was expected. Please change the shape of y to (n_samples, ), for example using ravel().\n",
      "\n",
      "/Users/mariafar/opt/anaconda3/lib/python3.9/site-packages/sklearn/preprocessing/_label.py:134: DataConversionWarning:\n",
      "\n",
      "A column-vector y was passed when a 1d array was expected. Please change the shape of y to (n_samples, ), for example using ravel().\n",
      "\n",
      "/Users/mariafar/opt/anaconda3/lib/python3.9/site-packages/sklearn/preprocessing/_label.py:134: DataConversionWarning:\n",
      "\n",
      "A column-vector y was passed when a 1d array was expected. Please change the shape of y to (n_samples, ), for example using ravel().\n",
      "\n",
      "\u001b[32m[I 2023-04-28 21:17:11,896]\u001b[0m Trial 28 finished with value: 0.8048596041296772 and parameters: {'lambda': 0.05215458426552329, 'alpha': 0.009753202119680435, 'colsample_bytree': 0.5, 'subsample': 0.6, 'learning_rate': 0.008, 'n_estimators': 7476, 'max_depth': 17, 'random_state': 123, 'min_child_weight': 33}. Best is trial 26 with value: 0.8051772909676995.\u001b[0m\n",
      "/Users/mariafar/opt/anaconda3/lib/python3.9/site-packages/xgboost/sklearn.py:1224: UserWarning:\n",
      "\n",
      "The use of label encoder in XGBClassifier is deprecated and will be removed in a future release. To remove this warning, do the following: 1) Pass option use_label_encoder=False when constructing XGBClassifier object; and 2) Encode your labels (y) as integers starting with 0, i.e. 0, 1, 2, ..., [num_class - 1].\n",
      "\n",
      "/Users/mariafar/opt/anaconda3/lib/python3.9/site-packages/sklearn/preprocessing/_label.py:99: DataConversionWarning:\n",
      "\n",
      "A column-vector y was passed when a 1d array was expected. Please change the shape of y to (n_samples, ), for example using ravel().\n",
      "\n",
      "/Users/mariafar/opt/anaconda3/lib/python3.9/site-packages/sklearn/preprocessing/_label.py:134: DataConversionWarning:\n",
      "\n",
      "A column-vector y was passed when a 1d array was expected. Please change the shape of y to (n_samples, ), for example using ravel().\n",
      "\n",
      "/Users/mariafar/opt/anaconda3/lib/python3.9/site-packages/sklearn/preprocessing/_label.py:134: DataConversionWarning:\n",
      "\n",
      "A column-vector y was passed when a 1d array was expected. Please change the shape of y to (n_samples, ), for example using ravel().\n",
      "\n",
      "\u001b[32m[I 2023-04-28 21:20:30,164]\u001b[0m Trial 29 finished with value: 0.7837918462048393 and parameters: {'lambda': 0.10627268262065223, 'alpha': 0.014079756571620567, 'colsample_bytree': 0.6, 'subsample': 0.6, 'learning_rate': 0.01, 'n_estimators': 8678, 'max_depth': 15, 'random_state': 123, 'min_child_weight': 122}. Best is trial 26 with value: 0.8051772909676995.\u001b[0m\n",
      "/Users/mariafar/opt/anaconda3/lib/python3.9/site-packages/xgboost/sklearn.py:1224: UserWarning:\n",
      "\n",
      "The use of label encoder in XGBClassifier is deprecated and will be removed in a future release. To remove this warning, do the following: 1) Pass option use_label_encoder=False when constructing XGBClassifier object; and 2) Encode your labels (y) as integers starting with 0, i.e. 0, 1, 2, ..., [num_class - 1].\n",
      "\n",
      "/Users/mariafar/opt/anaconda3/lib/python3.9/site-packages/sklearn/preprocessing/_label.py:99: DataConversionWarning:\n",
      "\n",
      "A column-vector y was passed when a 1d array was expected. Please change the shape of y to (n_samples, ), for example using ravel().\n",
      "\n",
      "/Users/mariafar/opt/anaconda3/lib/python3.9/site-packages/sklearn/preprocessing/_label.py:134: DataConversionWarning:\n",
      "\n",
      "A column-vector y was passed when a 1d array was expected. Please change the shape of y to (n_samples, ), for example using ravel().\n",
      "\n",
      "/Users/mariafar/opt/anaconda3/lib/python3.9/site-packages/sklearn/preprocessing/_label.py:134: DataConversionWarning:\n",
      "\n",
      "A column-vector y was passed when a 1d array was expected. Please change the shape of y to (n_samples, ), for example using ravel().\n",
      "\n",
      "\u001b[32m[I 2023-04-28 21:21:49,171]\u001b[0m Trial 30 finished with value: 0.8039080459770115 and parameters: {'lambda': 0.017632176036145017, 'alpha': 0.06563647900915617, 'colsample_bytree': 0.5, 'subsample': 0.6, 'learning_rate': 0.016, 'n_estimators': 9171, 'max_depth': 7, 'random_state': 123, 'min_child_weight': 29}. Best is trial 26 with value: 0.8051772909676995.\u001b[0m\n",
      "/Users/mariafar/opt/anaconda3/lib/python3.9/site-packages/xgboost/sklearn.py:1224: UserWarning:\n",
      "\n",
      "The use of label encoder in XGBClassifier is deprecated and will be removed in a future release. To remove this warning, do the following: 1) Pass option use_label_encoder=False when constructing XGBClassifier object; and 2) Encode your labels (y) as integers starting with 0, i.e. 0, 1, 2, ..., [num_class - 1].\n",
      "\n",
      "/Users/mariafar/opt/anaconda3/lib/python3.9/site-packages/sklearn/preprocessing/_label.py:99: DataConversionWarning:\n",
      "\n",
      "A column-vector y was passed when a 1d array was expected. Please change the shape of y to (n_samples, ), for example using ravel().\n",
      "\n",
      "/Users/mariafar/opt/anaconda3/lib/python3.9/site-packages/sklearn/preprocessing/_label.py:134: DataConversionWarning:\n",
      "\n",
      "A column-vector y was passed when a 1d array was expected. Please change the shape of y to (n_samples, ), for example using ravel().\n",
      "\n",
      "/Users/mariafar/opt/anaconda3/lib/python3.9/site-packages/sklearn/preprocessing/_label.py:134: DataConversionWarning:\n",
      "\n",
      "A column-vector y was passed when a 1d array was expected. Please change the shape of y to (n_samples, ), for example using ravel().\n",
      "\n",
      "\u001b[32m[I 2023-04-28 21:23:52,799]\u001b[0m Trial 31 finished with value: 0.8052908314163654 and parameters: {'lambda': 0.05467665803947052, 'alpha': 0.0073392367361356506, 'colsample_bytree': 0.5, 'subsample': 0.6, 'learning_rate': 0.008, 'n_estimators': 7938, 'max_depth': 17, 'random_state': 123, 'min_child_weight': 31}. Best is trial 31 with value: 0.8052908314163654.\u001b[0m\n",
      "/Users/mariafar/opt/anaconda3/lib/python3.9/site-packages/xgboost/sklearn.py:1224: UserWarning:\n",
      "\n",
      "The use of label encoder in XGBClassifier is deprecated and will be removed in a future release. To remove this warning, do the following: 1) Pass option use_label_encoder=False when constructing XGBClassifier object; and 2) Encode your labels (y) as integers starting with 0, i.e. 0, 1, 2, ..., [num_class - 1].\n",
      "\n",
      "/Users/mariafar/opt/anaconda3/lib/python3.9/site-packages/sklearn/preprocessing/_label.py:99: DataConversionWarning:\n",
      "\n",
      "A column-vector y was passed when a 1d array was expected. Please change the shape of y to (n_samples, ), for example using ravel().\n",
      "\n",
      "/Users/mariafar/opt/anaconda3/lib/python3.9/site-packages/sklearn/preprocessing/_label.py:134: DataConversionWarning:\n",
      "\n",
      "A column-vector y was passed when a 1d array was expected. Please change the shape of y to (n_samples, ), for example using ravel().\n",
      "\n",
      "/Users/mariafar/opt/anaconda3/lib/python3.9/site-packages/sklearn/preprocessing/_label.py:134: DataConversionWarning:\n",
      "\n",
      "A column-vector y was passed when a 1d array was expected. Please change the shape of y to (n_samples, ), for example using ravel().\n",
      "\n",
      "\u001b[32m[I 2023-04-28 21:26:53,733]\u001b[0m Trial 32 finished with value: 0.7866132344174338 and parameters: {'lambda': 0.04681164560343319, 'alpha': 0.002214397143457016, 'colsample_bytree': 0.5, 'subsample': 0.6, 'learning_rate': 0.008, 'n_estimators': 8034, 'max_depth': 13, 'random_state': 123, 'min_child_weight': 66}. Best is trial 31 with value: 0.8052908314163654.\u001b[0m\n",
      "/Users/mariafar/opt/anaconda3/lib/python3.9/site-packages/xgboost/sklearn.py:1224: UserWarning:\n",
      "\n",
      "The use of label encoder in XGBClassifier is deprecated and will be removed in a future release. To remove this warning, do the following: 1) Pass option use_label_encoder=False when constructing XGBClassifier object; and 2) Encode your labels (y) as integers starting with 0, i.e. 0, 1, 2, ..., [num_class - 1].\n",
      "\n",
      "/Users/mariafar/opt/anaconda3/lib/python3.9/site-packages/sklearn/preprocessing/_label.py:99: DataConversionWarning:\n",
      "\n",
      "A column-vector y was passed when a 1d array was expected. Please change the shape of y to (n_samples, ), for example using ravel().\n",
      "\n",
      "/Users/mariafar/opt/anaconda3/lib/python3.9/site-packages/sklearn/preprocessing/_label.py:134: DataConversionWarning:\n",
      "\n",
      "A column-vector y was passed when a 1d array was expected. Please change the shape of y to (n_samples, ), for example using ravel().\n",
      "\n",
      "/Users/mariafar/opt/anaconda3/lib/python3.9/site-packages/sklearn/preprocessing/_label.py:134: DataConversionWarning:\n",
      "\n",
      "A column-vector y was passed when a 1d array was expected. Please change the shape of y to (n_samples, ), for example using ravel().\n",
      "\n",
      "\u001b[32m[I 2023-04-28 21:28:04,465]\u001b[0m Trial 33 finished with value: 0.8061552595314654 and parameters: {'lambda': 0.3671361121021464, 'alpha': 0.005882033632691254, 'colsample_bytree': 0.5, 'subsample': 0.6, 'learning_rate': 0.018, 'n_estimators': 6995, 'max_depth': 17, 'random_state': 123, 'min_child_weight': 26}. Best is trial 33 with value: 0.8061552595314654.\u001b[0m\n",
      "/Users/mariafar/opt/anaconda3/lib/python3.9/site-packages/xgboost/sklearn.py:1224: UserWarning:\n",
      "\n",
      "The use of label encoder in XGBClassifier is deprecated and will be removed in a future release. To remove this warning, do the following: 1) Pass option use_label_encoder=False when constructing XGBClassifier object; and 2) Encode your labels (y) as integers starting with 0, i.e. 0, 1, 2, ..., [num_class - 1].\n",
      "\n",
      "/Users/mariafar/opt/anaconda3/lib/python3.9/site-packages/sklearn/preprocessing/_label.py:99: DataConversionWarning:\n",
      "\n",
      "A column-vector y was passed when a 1d array was expected. Please change the shape of y to (n_samples, ), for example using ravel().\n",
      "\n",
      "/Users/mariafar/opt/anaconda3/lib/python3.9/site-packages/sklearn/preprocessing/_label.py:134: DataConversionWarning:\n",
      "\n",
      "A column-vector y was passed when a 1d array was expected. Please change the shape of y to (n_samples, ), for example using ravel().\n",
      "\n",
      "/Users/mariafar/opt/anaconda3/lib/python3.9/site-packages/sklearn/preprocessing/_label.py:134: DataConversionWarning:\n",
      "\n",
      "A column-vector y was passed when a 1d array was expected. Please change the shape of y to (n_samples, ), for example using ravel().\n",
      "\n",
      "\u001b[32m[I 2023-04-28 21:28:50,631]\u001b[0m Trial 34 finished with value: 0.8032603694208901 and parameters: {'lambda': 0.5205135780790044, 'alpha': 0.008164136335715893, 'colsample_bytree': 0.6, 'subsample': 0.6, 'learning_rate': 0.018, 'n_estimators': 6846, 'max_depth': 9, 'random_state': 123, 'min_child_weight': 27}. Best is trial 33 with value: 0.8061552595314654.\u001b[0m\n",
      "/Users/mariafar/opt/anaconda3/lib/python3.9/site-packages/xgboost/sklearn.py:1224: UserWarning:\n",
      "\n",
      "The use of label encoder in XGBClassifier is deprecated and will be removed in a future release. To remove this warning, do the following: 1) Pass option use_label_encoder=False when constructing XGBClassifier object; and 2) Encode your labels (y) as integers starting with 0, i.e. 0, 1, 2, ..., [num_class - 1].\n",
      "\n",
      "/Users/mariafar/opt/anaconda3/lib/python3.9/site-packages/sklearn/preprocessing/_label.py:99: DataConversionWarning:\n",
      "\n",
      "A column-vector y was passed when a 1d array was expected. Please change the shape of y to (n_samples, ), for example using ravel().\n",
      "\n",
      "/Users/mariafar/opt/anaconda3/lib/python3.9/site-packages/sklearn/preprocessing/_label.py:134: DataConversionWarning:\n",
      "\n",
      "A column-vector y was passed when a 1d array was expected. Please change the shape of y to (n_samples, ), for example using ravel().\n",
      "\n",
      "/Users/mariafar/opt/anaconda3/lib/python3.9/site-packages/sklearn/preprocessing/_label.py:134: DataConversionWarning:\n",
      "\n",
      "A column-vector y was passed when a 1d array was expected. Please change the shape of y to (n_samples, ), for example using ravel().\n",
      "\n",
      "\u001b[32m[I 2023-04-28 21:30:16,467]\u001b[0m Trial 35 finished with value: 0.7855440037083636 and parameters: {'lambda': 0.3051748168252592, 'alpha': 0.023026075782719608, 'colsample_bytree': 0.9, 'subsample': 0.6, 'learning_rate': 0.018, 'n_estimators': 7222, 'max_depth': 17, 'random_state': 123, 'min_child_weight': 83}. Best is trial 33 with value: 0.8061552595314654.\u001b[0m\n",
      "/Users/mariafar/opt/anaconda3/lib/python3.9/site-packages/xgboost/sklearn.py:1224: UserWarning:\n",
      "\n",
      "The use of label encoder in XGBClassifier is deprecated and will be removed in a future release. To remove this warning, do the following: 1) Pass option use_label_encoder=False when constructing XGBClassifier object; and 2) Encode your labels (y) as integers starting with 0, i.e. 0, 1, 2, ..., [num_class - 1].\n",
      "\n",
      "/Users/mariafar/opt/anaconda3/lib/python3.9/site-packages/sklearn/preprocessing/_label.py:99: DataConversionWarning:\n",
      "\n",
      "A column-vector y was passed when a 1d array was expected. Please change the shape of y to (n_samples, ), for example using ravel().\n",
      "\n",
      "/Users/mariafar/opt/anaconda3/lib/python3.9/site-packages/sklearn/preprocessing/_label.py:134: DataConversionWarning:\n",
      "\n",
      "A column-vector y was passed when a 1d array was expected. Please change the shape of y to (n_samples, ), for example using ravel().\n",
      "\n",
      "/Users/mariafar/opt/anaconda3/lib/python3.9/site-packages/sklearn/preprocessing/_label.py:134: DataConversionWarning:\n",
      "\n",
      "A column-vector y was passed when a 1d array was expected. Please change the shape of y to (n_samples, ), for example using ravel().\n",
      "\n",
      "\u001b[32m[I 2023-04-28 21:33:08,930]\u001b[0m Trial 36 finished with value: 0.7765007662069425 and parameters: {'lambda': 0.1012960251132099, 'alpha': 0.26935399364877294, 'colsample_bytree': 0.4, 'subsample': 0.6, 'learning_rate': 0.018, 'n_estimators': 6672, 'max_depth': 11, 'random_state': 123, 'min_child_weight': 194}. Best is trial 33 with value: 0.8061552595314654.\u001b[0m\n",
      "/Users/mariafar/opt/anaconda3/lib/python3.9/site-packages/xgboost/sklearn.py:1224: UserWarning:\n",
      "\n",
      "The use of label encoder in XGBClassifier is deprecated and will be removed in a future release. To remove this warning, do the following: 1) Pass option use_label_encoder=False when constructing XGBClassifier object; and 2) Encode your labels (y) as integers starting with 0, i.e. 0, 1, 2, ..., [num_class - 1].\n",
      "\n",
      "/Users/mariafar/opt/anaconda3/lib/python3.9/site-packages/sklearn/preprocessing/_label.py:99: DataConversionWarning:\n",
      "\n",
      "A column-vector y was passed when a 1d array was expected. Please change the shape of y to (n_samples, ), for example using ravel().\n",
      "\n",
      "/Users/mariafar/opt/anaconda3/lib/python3.9/site-packages/sklearn/preprocessing/_label.py:134: DataConversionWarning:\n",
      "\n",
      "A column-vector y was passed when a 1d array was expected. Please change the shape of y to (n_samples, ), for example using ravel().\n",
      "\n",
      "/Users/mariafar/opt/anaconda3/lib/python3.9/site-packages/sklearn/preprocessing/_label.py:134: DataConversionWarning:\n",
      "\n",
      "A column-vector y was passed when a 1d array was expected. Please change the shape of y to (n_samples, ), for example using ravel().\n",
      "\n",
      "\u001b[32m[I 2023-04-28 21:35:29,650]\u001b[0m Trial 37 finished with value: 0.7660822611825878 and parameters: {'lambda': 0.9189495234561863, 'alpha': 0.006245173080086102, 'colsample_bytree': 0.7, 'subsample': 0.4, 'learning_rate': 0.02, 'n_estimators': 8388, 'max_depth': 5, 'random_state': 123, 'min_child_weight': 239}. Best is trial 33 with value: 0.8061552595314654.\u001b[0m\n",
      "/Users/mariafar/opt/anaconda3/lib/python3.9/site-packages/xgboost/sklearn.py:1224: UserWarning:\n",
      "\n",
      "The use of label encoder in XGBClassifier is deprecated and will be removed in a future release. To remove this warning, do the following: 1) Pass option use_label_encoder=False when constructing XGBClassifier object; and 2) Encode your labels (y) as integers starting with 0, i.e. 0, 1, 2, ..., [num_class - 1].\n",
      "\n",
      "/Users/mariafar/opt/anaconda3/lib/python3.9/site-packages/sklearn/preprocessing/_label.py:99: DataConversionWarning:\n",
      "\n",
      "A column-vector y was passed when a 1d array was expected. Please change the shape of y to (n_samples, ), for example using ravel().\n",
      "\n",
      "/Users/mariafar/opt/anaconda3/lib/python3.9/site-packages/sklearn/preprocessing/_label.py:134: DataConversionWarning:\n",
      "\n",
      "A column-vector y was passed when a 1d array was expected. Please change the shape of y to (n_samples, ), for example using ravel().\n",
      "\n",
      "/Users/mariafar/opt/anaconda3/lib/python3.9/site-packages/sklearn/preprocessing/_label.py:134: DataConversionWarning:\n",
      "\n",
      "A column-vector y was passed when a 1d array was expected. Please change the shape of y to (n_samples, ), for example using ravel().\n",
      "\n",
      "\u001b[32m[I 2023-04-28 21:36:54,994]\u001b[0m Trial 38 finished with value: 0.8036783575705732 and parameters: {'lambda': 0.2078228779022598, 'alpha': 2.5388877239971928, 'colsample_bytree': 0.3, 'subsample': 0.6, 'learning_rate': 0.018, 'n_estimators': 5982, 'max_depth': 9, 'random_state': 123, 'min_child_weight': 21}. Best is trial 33 with value: 0.8061552595314654.\u001b[0m\n",
      "/Users/mariafar/opt/anaconda3/lib/python3.9/site-packages/xgboost/sklearn.py:1224: UserWarning:\n",
      "\n",
      "The use of label encoder in XGBClassifier is deprecated and will be removed in a future release. To remove this warning, do the following: 1) Pass option use_label_encoder=False when constructing XGBClassifier object; and 2) Encode your labels (y) as integers starting with 0, i.e. 0, 1, 2, ..., [num_class - 1].\n",
      "\n",
      "/Users/mariafar/opt/anaconda3/lib/python3.9/site-packages/sklearn/preprocessing/_label.py:99: DataConversionWarning:\n",
      "\n",
      "A column-vector y was passed when a 1d array was expected. Please change the shape of y to (n_samples, ), for example using ravel().\n",
      "\n",
      "/Users/mariafar/opt/anaconda3/lib/python3.9/site-packages/sklearn/preprocessing/_label.py:134: DataConversionWarning:\n",
      "\n",
      "A column-vector y was passed when a 1d array was expected. Please change the shape of y to (n_samples, ), for example using ravel().\n",
      "\n",
      "/Users/mariafar/opt/anaconda3/lib/python3.9/site-packages/sklearn/preprocessing/_label.py:134: DataConversionWarning:\n",
      "\n",
      "A column-vector y was passed when a 1d array was expected. Please change the shape of y to (n_samples, ), for example using ravel().\n",
      "\n",
      "\u001b[32m[I 2023-04-28 21:39:27,224]\u001b[0m Trial 39 finished with value: 0.7883992865164828 and parameters: {'lambda': 6.533495322433321, 'alpha': 0.011090132576608036, 'colsample_bytree': 1.0, 'subsample': 0.7, 'learning_rate': 0.01, 'n_estimators': 7263, 'max_depth': 15, 'random_state': 123, 'min_child_weight': 67}. Best is trial 33 with value: 0.8061552595314654.\u001b[0m\n",
      "/Users/mariafar/opt/anaconda3/lib/python3.9/site-packages/xgboost/sklearn.py:1224: UserWarning:\n",
      "\n",
      "The use of label encoder in XGBClassifier is deprecated and will be removed in a future release. To remove this warning, do the following: 1) Pass option use_label_encoder=False when constructing XGBClassifier object; and 2) Encode your labels (y) as integers starting with 0, i.e. 0, 1, 2, ..., [num_class - 1].\n",
      "\n",
      "/Users/mariafar/opt/anaconda3/lib/python3.9/site-packages/sklearn/preprocessing/_label.py:99: DataConversionWarning:\n",
      "\n",
      "A column-vector y was passed when a 1d array was expected. Please change the shape of y to (n_samples, ), for example using ravel().\n",
      "\n",
      "/Users/mariafar/opt/anaconda3/lib/python3.9/site-packages/sklearn/preprocessing/_label.py:134: DataConversionWarning:\n",
      "\n",
      "A column-vector y was passed when a 1d array was expected. Please change the shape of y to (n_samples, ), for example using ravel().\n",
      "\n",
      "/Users/mariafar/opt/anaconda3/lib/python3.9/site-packages/sklearn/preprocessing/_label.py:134: DataConversionWarning:\n",
      "\n",
      "A column-vector y was passed when a 1d array was expected. Please change the shape of y to (n_samples, ), for example using ravel().\n",
      "\n",
      "\u001b[32m[I 2023-04-28 21:41:16,622]\u001b[0m Trial 40 finished with value: 0.7725997193826418 and parameters: {'lambda': 2.5069832504758955, 'alpha': 0.02501268005087834, 'colsample_bytree': 0.8, 'subsample': 0.6, 'learning_rate': 0.018, 'n_estimators': 7721, 'max_depth': 3, 'random_state': 123, 'min_child_weight': 154}. Best is trial 33 with value: 0.8061552595314654.\u001b[0m\n",
      "/Users/mariafar/opt/anaconda3/lib/python3.9/site-packages/xgboost/sklearn.py:1224: UserWarning:\n",
      "\n",
      "The use of label encoder in XGBClassifier is deprecated and will be removed in a future release. To remove this warning, do the following: 1) Pass option use_label_encoder=False when constructing XGBClassifier object; and 2) Encode your labels (y) as integers starting with 0, i.e. 0, 1, 2, ..., [num_class - 1].\n",
      "\n",
      "/Users/mariafar/opt/anaconda3/lib/python3.9/site-packages/sklearn/preprocessing/_label.py:99: DataConversionWarning:\n",
      "\n",
      "A column-vector y was passed when a 1d array was expected. Please change the shape of y to (n_samples, ), for example using ravel().\n",
      "\n",
      "/Users/mariafar/opt/anaconda3/lib/python3.9/site-packages/sklearn/preprocessing/_label.py:134: DataConversionWarning:\n",
      "\n",
      "A column-vector y was passed when a 1d array was expected. Please change the shape of y to (n_samples, ), for example using ravel().\n",
      "\n",
      "/Users/mariafar/opt/anaconda3/lib/python3.9/site-packages/sklearn/preprocessing/_label.py:134: DataConversionWarning:\n",
      "\n",
      "A column-vector y was passed when a 1d array was expected. Please change the shape of y to (n_samples, ), for example using ravel().\n",
      "\n",
      "\u001b[32m[I 2023-04-28 21:43:56,871]\u001b[0m Trial 41 finished with value: 0.8010066451740246 and parameters: {'lambda': 0.03961748438166974, 'alpha': 0.0024668677374349163, 'colsample_bytree': 0.5, 'subsample': 0.6, 'learning_rate': 0.008, 'n_estimators': 9277, 'max_depth': 17, 'random_state': 123, 'min_child_weight': 43}. Best is trial 33 with value: 0.8061552595314654.\u001b[0m\n",
      "/Users/mariafar/opt/anaconda3/lib/python3.9/site-packages/xgboost/sklearn.py:1224: UserWarning:\n",
      "\n",
      "The use of label encoder in XGBClassifier is deprecated and will be removed in a future release. To remove this warning, do the following: 1) Pass option use_label_encoder=False when constructing XGBClassifier object; and 2) Encode your labels (y) as integers starting with 0, i.e. 0, 1, 2, ..., [num_class - 1].\n",
      "\n",
      "/Users/mariafar/opt/anaconda3/lib/python3.9/site-packages/sklearn/preprocessing/_label.py:99: DataConversionWarning:\n",
      "\n",
      "A column-vector y was passed when a 1d array was expected. Please change the shape of y to (n_samples, ), for example using ravel().\n",
      "\n",
      "/Users/mariafar/opt/anaconda3/lib/python3.9/site-packages/sklearn/preprocessing/_label.py:134: DataConversionWarning:\n",
      "\n",
      "A column-vector y was passed when a 1d array was expected. Please change the shape of y to (n_samples, ), for example using ravel().\n",
      "\n",
      "/Users/mariafar/opt/anaconda3/lib/python3.9/site-packages/sklearn/preprocessing/_label.py:134: DataConversionWarning:\n",
      "\n",
      "A column-vector y was passed when a 1d array was expected. Please change the shape of y to (n_samples, ), for example using ravel().\n",
      "\n",
      "\u001b[32m[I 2023-04-28 21:45:28,275]\u001b[0m Trial 42 finished with value: 0.7977565160013197 and parameters: {'lambda': 0.015641835934852955, 'alpha': 0.013956758086577635, 'colsample_bytree': 0.5, 'subsample': 0.6, 'learning_rate': 0.012, 'n_estimators': 9113, 'max_depth': 17, 'random_state': 123, 'min_child_weight': 46}. Best is trial 33 with value: 0.8061552595314654.\u001b[0m\n",
      "/Users/mariafar/opt/anaconda3/lib/python3.9/site-packages/xgboost/sklearn.py:1224: UserWarning:\n",
      "\n",
      "The use of label encoder in XGBClassifier is deprecated and will be removed in a future release. To remove this warning, do the following: 1) Pass option use_label_encoder=False when constructing XGBClassifier object; and 2) Encode your labels (y) as integers starting with 0, i.e. 0, 1, 2, ..., [num_class - 1].\n",
      "\n",
      "/Users/mariafar/opt/anaconda3/lib/python3.9/site-packages/sklearn/preprocessing/_label.py:99: DataConversionWarning:\n",
      "\n",
      "A column-vector y was passed when a 1d array was expected. Please change the shape of y to (n_samples, ), for example using ravel().\n",
      "\n",
      "/Users/mariafar/opt/anaconda3/lib/python3.9/site-packages/sklearn/preprocessing/_label.py:134: DataConversionWarning:\n",
      "\n",
      "A column-vector y was passed when a 1d array was expected. Please change the shape of y to (n_samples, ), for example using ravel().\n",
      "\n",
      "/Users/mariafar/opt/anaconda3/lib/python3.9/site-packages/sklearn/preprocessing/_label.py:134: DataConversionWarning:\n",
      "\n",
      "A column-vector y was passed when a 1d array was expected. Please change the shape of y to (n_samples, ), for example using ravel().\n",
      "\n",
      "\u001b[32m[I 2023-04-28 21:47:20,902]\u001b[0m Trial 43 finished with value: 0.8051888341543514 and parameters: {'lambda': 0.08276655413029363, 'alpha': 0.004348574170289107, 'colsample_bytree': 0.5, 'subsample': 0.7, 'learning_rate': 0.008, 'n_estimators': 8520, 'max_depth': 17, 'random_state': 123, 'min_child_weight': 20}. Best is trial 33 with value: 0.8061552595314654.\u001b[0m\n",
      "/Users/mariafar/opt/anaconda3/lib/python3.9/site-packages/xgboost/sklearn.py:1224: UserWarning:\n",
      "\n",
      "The use of label encoder in XGBClassifier is deprecated and will be removed in a future release. To remove this warning, do the following: 1) Pass option use_label_encoder=False when constructing XGBClassifier object; and 2) Encode your labels (y) as integers starting with 0, i.e. 0, 1, 2, ..., [num_class - 1].\n",
      "\n",
      "/Users/mariafar/opt/anaconda3/lib/python3.9/site-packages/sklearn/preprocessing/_label.py:99: DataConversionWarning:\n",
      "\n",
      "A column-vector y was passed when a 1d array was expected. Please change the shape of y to (n_samples, ), for example using ravel().\n",
      "\n",
      "/Users/mariafar/opt/anaconda3/lib/python3.9/site-packages/sklearn/preprocessing/_label.py:134: DataConversionWarning:\n",
      "\n",
      "A column-vector y was passed when a 1d array was expected. Please change the shape of y to (n_samples, ), for example using ravel().\n",
      "\n",
      "/Users/mariafar/opt/anaconda3/lib/python3.9/site-packages/sklearn/preprocessing/_label.py:134: DataConversionWarning:\n",
      "\n",
      "A column-vector y was passed when a 1d array was expected. Please change the shape of y to (n_samples, ), for example using ravel().\n",
      "\n",
      "\u001b[32m[I 2023-04-28 21:48:23,567]\u001b[0m Trial 44 finished with value: 0.8045463504368964 and parameters: {'lambda': 0.0677724315071836, 'alpha': 0.005133647814922642, 'colsample_bytree': 0.5, 'subsample': 0.7, 'learning_rate': 0.014, 'n_estimators': 8546, 'max_depth': 17, 'random_state': 123, 'min_child_weight': 18}. Best is trial 33 with value: 0.8061552595314654.\u001b[0m\n",
      "/Users/mariafar/opt/anaconda3/lib/python3.9/site-packages/xgboost/sklearn.py:1224: UserWarning:\n",
      "\n",
      "The use of label encoder in XGBClassifier is deprecated and will be removed in a future release. To remove this warning, do the following: 1) Pass option use_label_encoder=False when constructing XGBClassifier object; and 2) Encode your labels (y) as integers starting with 0, i.e. 0, 1, 2, ..., [num_class - 1].\n",
      "\n",
      "/Users/mariafar/opt/anaconda3/lib/python3.9/site-packages/sklearn/preprocessing/_label.py:99: DataConversionWarning:\n",
      "\n",
      "A column-vector y was passed when a 1d array was expected. Please change the shape of y to (n_samples, ), for example using ravel().\n",
      "\n",
      "/Users/mariafar/opt/anaconda3/lib/python3.9/site-packages/sklearn/preprocessing/_label.py:134: DataConversionWarning:\n",
      "\n",
      "A column-vector y was passed when a 1d array was expected. Please change the shape of y to (n_samples, ), for example using ravel().\n",
      "\n",
      "/Users/mariafar/opt/anaconda3/lib/python3.9/site-packages/sklearn/preprocessing/_label.py:134: DataConversionWarning:\n",
      "\n",
      "A column-vector y was passed when a 1d array was expected. Please change the shape of y to (n_samples, ), for example using ravel().\n",
      "\n",
      "\u001b[32m[I 2023-04-28 21:52:06,004]\u001b[0m Trial 45 finished with value: 0.7862590357450762 and parameters: {'lambda': 0.10417788361721497, 'alpha': 0.01047921312033693, 'colsample_bytree': 0.3, 'subsample': 0.7, 'learning_rate': 0.008, 'n_estimators': 6537, 'max_depth': 17, 'random_state': 123, 'min_child_weight': 96}. Best is trial 33 with value: 0.8061552595314654.\u001b[0m\n",
      "/Users/mariafar/opt/anaconda3/lib/python3.9/site-packages/xgboost/sklearn.py:1224: UserWarning:\n",
      "\n",
      "The use of label encoder in XGBClassifier is deprecated and will be removed in a future release. To remove this warning, do the following: 1) Pass option use_label_encoder=False when constructing XGBClassifier object; and 2) Encode your labels (y) as integers starting with 0, i.e. 0, 1, 2, ..., [num_class - 1].\n",
      "\n",
      "/Users/mariafar/opt/anaconda3/lib/python3.9/site-packages/sklearn/preprocessing/_label.py:99: DataConversionWarning:\n",
      "\n",
      "A column-vector y was passed when a 1d array was expected. Please change the shape of y to (n_samples, ), for example using ravel().\n",
      "\n",
      "/Users/mariafar/opt/anaconda3/lib/python3.9/site-packages/sklearn/preprocessing/_label.py:134: DataConversionWarning:\n",
      "\n",
      "A column-vector y was passed when a 1d array was expected. Please change the shape of y to (n_samples, ), for example using ravel().\n",
      "\n",
      "/Users/mariafar/opt/anaconda3/lib/python3.9/site-packages/sklearn/preprocessing/_label.py:134: DataConversionWarning:\n",
      "\n",
      "A column-vector y was passed when a 1d array was expected. Please change the shape of y to (n_samples, ), for example using ravel().\n",
      "\n",
      "\u001b[32m[I 2023-04-28 21:53:14,138]\u001b[0m Trial 46 finished with value: 0.7950965530877218 and parameters: {'lambda': 0.13893226901370093, 'alpha': 0.03904098700628577, 'colsample_bytree': 0.7, 'subsample': 0.7, 'learning_rate': 0.016, 'n_estimators': 7963, 'max_depth': 13, 'random_state': 123, 'min_child_weight': 56}. Best is trial 33 with value: 0.8061552595314654.\u001b[0m\n",
      "/Users/mariafar/opt/anaconda3/lib/python3.9/site-packages/xgboost/sklearn.py:1224: UserWarning:\n",
      "\n",
      "The use of label encoder in XGBClassifier is deprecated and will be removed in a future release. To remove this warning, do the following: 1) Pass option use_label_encoder=False when constructing XGBClassifier object; and 2) Encode your labels (y) as integers starting with 0, i.e. 0, 1, 2, ..., [num_class - 1].\n",
      "\n",
      "/Users/mariafar/opt/anaconda3/lib/python3.9/site-packages/sklearn/preprocessing/_label.py:99: DataConversionWarning:\n",
      "\n",
      "A column-vector y was passed when a 1d array was expected. Please change the shape of y to (n_samples, ), for example using ravel().\n",
      "\n",
      "/Users/mariafar/opt/anaconda3/lib/python3.9/site-packages/sklearn/preprocessing/_label.py:134: DataConversionWarning:\n",
      "\n",
      "A column-vector y was passed when a 1d array was expected. Please change the shape of y to (n_samples, ), for example using ravel().\n",
      "\n",
      "/Users/mariafar/opt/anaconda3/lib/python3.9/site-packages/sklearn/preprocessing/_label.py:134: DataConversionWarning:\n",
      "\n",
      "A column-vector y was passed when a 1d array was expected. Please change the shape of y to (n_samples, ), for example using ravel().\n",
      "\n",
      "\u001b[32m[I 2023-04-28 21:53:49,690]\u001b[0m Trial 47 finished with value: 0.8029386628098087 and parameters: {'lambda': 0.26577227957437843, 'alpha': 0.01860901757399984, 'colsample_bytree': 0.5, 'subsample': 0.5, 'learning_rate': 0.02, 'n_estimators': 8779, 'max_depth': 17, 'random_state': 123, 'min_child_weight': 15}. Best is trial 33 with value: 0.8061552595314654.\u001b[0m\n",
      "/Users/mariafar/opt/anaconda3/lib/python3.9/site-packages/xgboost/sklearn.py:1224: UserWarning:\n",
      "\n",
      "The use of label encoder in XGBClassifier is deprecated and will be removed in a future release. To remove this warning, do the following: 1) Pass option use_label_encoder=False when constructing XGBClassifier object; and 2) Encode your labels (y) as integers starting with 0, i.e. 0, 1, 2, ..., [num_class - 1].\n",
      "\n",
      "/Users/mariafar/opt/anaconda3/lib/python3.9/site-packages/sklearn/preprocessing/_label.py:99: DataConversionWarning:\n",
      "\n",
      "A column-vector y was passed when a 1d array was expected. Please change the shape of y to (n_samples, ), for example using ravel().\n",
      "\n",
      "/Users/mariafar/opt/anaconda3/lib/python3.9/site-packages/sklearn/preprocessing/_label.py:134: DataConversionWarning:\n",
      "\n",
      "A column-vector y was passed when a 1d array was expected. Please change the shape of y to (n_samples, ), for example using ravel().\n",
      "\n",
      "/Users/mariafar/opt/anaconda3/lib/python3.9/site-packages/sklearn/preprocessing/_label.py:134: DataConversionWarning:\n",
      "\n",
      "A column-vector y was passed when a 1d array was expected. Please change the shape of y to (n_samples, ), for example using ravel().\n",
      "\n",
      "\u001b[32m[I 2023-04-28 21:56:52,057]\u001b[0m Trial 48 finished with value: 0.7667829119442022 and parameters: {'lambda': 0.037296585436513666, 'alpha': 0.0016272246813940645, 'colsample_bytree': 1.0, 'subsample': 0.6, 'learning_rate': 0.008, 'n_estimators': 7489, 'max_depth': 3, 'random_state': 123, 'min_child_weight': 293}. Best is trial 33 with value: 0.8061552595314654.\u001b[0m\n",
      "/Users/mariafar/opt/anaconda3/lib/python3.9/site-packages/xgboost/sklearn.py:1224: UserWarning:\n",
      "\n",
      "The use of label encoder in XGBClassifier is deprecated and will be removed in a future release. To remove this warning, do the following: 1) Pass option use_label_encoder=False when constructing XGBClassifier object; and 2) Encode your labels (y) as integers starting with 0, i.e. 0, 1, 2, ..., [num_class - 1].\n",
      "\n",
      "/Users/mariafar/opt/anaconda3/lib/python3.9/site-packages/sklearn/preprocessing/_label.py:99: DataConversionWarning:\n",
      "\n",
      "A column-vector y was passed when a 1d array was expected. Please change the shape of y to (n_samples, ), for example using ravel().\n",
      "\n",
      "/Users/mariafar/opt/anaconda3/lib/python3.9/site-packages/sklearn/preprocessing/_label.py:134: DataConversionWarning:\n",
      "\n",
      "A column-vector y was passed when a 1d array was expected. Please change the shape of y to (n_samples, ), for example using ravel().\n",
      "\n",
      "/Users/mariafar/opt/anaconda3/lib/python3.9/site-packages/sklearn/preprocessing/_label.py:134: DataConversionWarning:\n",
      "\n",
      "A column-vector y was passed when a 1d array was expected. Please change the shape of y to (n_samples, ), for example using ravel().\n",
      "\n",
      "\u001b[32m[I 2023-04-28 21:57:27,481]\u001b[0m Trial 49 finished with value: 0.797109101709458 and parameters: {'lambda': 0.9397587960383964, 'alpha': 0.691261058744617, 'colsample_bytree': 0.5, 'subsample': 0.4, 'learning_rate': 0.01, 'n_estimators': 6969, 'max_depth': 17, 'random_state': 123, 'min_child_weight': 32}. Best is trial 33 with value: 0.8061552595314654.\u001b[0m\n",
      "/Users/mariafar/opt/anaconda3/lib/python3.9/site-packages/xgboost/sklearn.py:1224: UserWarning:\n",
      "\n",
      "The use of label encoder in XGBClassifier is deprecated and will be removed in a future release. To remove this warning, do the following: 1) Pass option use_label_encoder=False when constructing XGBClassifier object; and 2) Encode your labels (y) as integers starting with 0, i.e. 0, 1, 2, ..., [num_class - 1].\n",
      "\n",
      "/Users/mariafar/opt/anaconda3/lib/python3.9/site-packages/sklearn/preprocessing/_label.py:99: DataConversionWarning:\n",
      "\n",
      "A column-vector y was passed when a 1d array was expected. Please change the shape of y to (n_samples, ), for example using ravel().\n",
      "\n",
      "/Users/mariafar/opt/anaconda3/lib/python3.9/site-packages/sklearn/preprocessing/_label.py:134: DataConversionWarning:\n",
      "\n",
      "A column-vector y was passed when a 1d array was expected. Please change the shape of y to (n_samples, ), for example using ravel().\n",
      "\n",
      "/Users/mariafar/opt/anaconda3/lib/python3.9/site-packages/sklearn/preprocessing/_label.py:134: DataConversionWarning:\n",
      "\n",
      "A column-vector y was passed when a 1d array was expected. Please change the shape of y to (n_samples, ), for example using ravel().\n",
      "\n",
      "\u001b[32m[I 2023-04-28 21:58:40,433]\u001b[0m Trial 50 finished with value: 0.7870437835331522 and parameters: {'lambda': 0.012152180539274355, 'alpha': 0.003419429132219047, 'colsample_bytree': 0.6, 'subsample': 0.7, 'learning_rate': 0.008, 'n_estimators': 7982, 'max_depth': 7, 'random_state': 123, 'min_child_weight': 73}. Best is trial 33 with value: 0.8061552595314654.\u001b[0m\n",
      "/Users/mariafar/opt/anaconda3/lib/python3.9/site-packages/xgboost/sklearn.py:1224: UserWarning:\n",
      "\n",
      "The use of label encoder in XGBClassifier is deprecated and will be removed in a future release. To remove this warning, do the following: 1) Pass option use_label_encoder=False when constructing XGBClassifier object; and 2) Encode your labels (y) as integers starting with 0, i.e. 0, 1, 2, ..., [num_class - 1].\n",
      "\n",
      "/Users/mariafar/opt/anaconda3/lib/python3.9/site-packages/sklearn/preprocessing/_label.py:99: DataConversionWarning:\n",
      "\n",
      "A column-vector y was passed when a 1d array was expected. Please change the shape of y to (n_samples, ), for example using ravel().\n",
      "\n",
      "/Users/mariafar/opt/anaconda3/lib/python3.9/site-packages/sklearn/preprocessing/_label.py:134: DataConversionWarning:\n",
      "\n",
      "A column-vector y was passed when a 1d array was expected. Please change the shape of y to (n_samples, ), for example using ravel().\n",
      "\n",
      "/Users/mariafar/opt/anaconda3/lib/python3.9/site-packages/sklearn/preprocessing/_label.py:134: DataConversionWarning:\n",
      "\n",
      "A column-vector y was passed when a 1d array was expected. Please change the shape of y to (n_samples, ), for example using ravel().\n",
      "\n",
      "\u001b[32m[I 2023-04-28 21:59:58,798]\u001b[0m Trial 51 finished with value: 0.8041281092078492 and parameters: {'lambda': 0.07987842639566779, 'alpha': 0.001599498545306612, 'colsample_bytree': 0.5, 'subsample': 0.6, 'learning_rate': 0.008, 'n_estimators': 9337, 'max_depth': 17, 'random_state': 123, 'min_child_weight': 42}. Best is trial 33 with value: 0.8061552595314654.\u001b[0m\n",
      "/Users/mariafar/opt/anaconda3/lib/python3.9/site-packages/xgboost/sklearn.py:1224: UserWarning:\n",
      "\n",
      "The use of label encoder in XGBClassifier is deprecated and will be removed in a future release. To remove this warning, do the following: 1) Pass option use_label_encoder=False when constructing XGBClassifier object; and 2) Encode your labels (y) as integers starting with 0, i.e. 0, 1, 2, ..., [num_class - 1].\n",
      "\n",
      "/Users/mariafar/opt/anaconda3/lib/python3.9/site-packages/sklearn/preprocessing/_label.py:99: DataConversionWarning:\n",
      "\n",
      "A column-vector y was passed when a 1d array was expected. Please change the shape of y to (n_samples, ), for example using ravel().\n",
      "\n",
      "/Users/mariafar/opt/anaconda3/lib/python3.9/site-packages/sklearn/preprocessing/_label.py:134: DataConversionWarning:\n",
      "\n",
      "A column-vector y was passed when a 1d array was expected. Please change the shape of y to (n_samples, ), for example using ravel().\n",
      "\n",
      "/Users/mariafar/opt/anaconda3/lib/python3.9/site-packages/sklearn/preprocessing/_label.py:134: DataConversionWarning:\n",
      "\n",
      "A column-vector y was passed when a 1d array was expected. Please change the shape of y to (n_samples, ), for example using ravel().\n",
      "\n",
      "\u001b[32m[I 2023-04-28 22:01:11,291]\u001b[0m Trial 52 finished with value: 0.7913118109196541 and parameters: {'lambda': 0.03041309633292882, 'alpha': 0.003931507709515093, 'colsample_bytree': 0.5, 'subsample': 0.6, 'learning_rate': 0.008, 'n_estimators': 9560, 'max_depth': 17, 'random_state': 123, 'min_child_weight': 57}. Best is trial 33 with value: 0.8061552595314654.\u001b[0m\n",
      "/Users/mariafar/opt/anaconda3/lib/python3.9/site-packages/xgboost/sklearn.py:1224: UserWarning:\n",
      "\n",
      "The use of label encoder in XGBClassifier is deprecated and will be removed in a future release. To remove this warning, do the following: 1) Pass option use_label_encoder=False when constructing XGBClassifier object; and 2) Encode your labels (y) as integers starting with 0, i.e. 0, 1, 2, ..., [num_class - 1].\n",
      "\n",
      "/Users/mariafar/opt/anaconda3/lib/python3.9/site-packages/sklearn/preprocessing/_label.py:99: DataConversionWarning:\n",
      "\n",
      "A column-vector y was passed when a 1d array was expected. Please change the shape of y to (n_samples, ), for example using ravel().\n",
      "\n",
      "/Users/mariafar/opt/anaconda3/lib/python3.9/site-packages/sklearn/preprocessing/_label.py:134: DataConversionWarning:\n",
      "\n",
      "A column-vector y was passed when a 1d array was expected. Please change the shape of y to (n_samples, ), for example using ravel().\n",
      "\n",
      "/Users/mariafar/opt/anaconda3/lib/python3.9/site-packages/sklearn/preprocessing/_label.py:134: DataConversionWarning:\n",
      "\n",
      "A column-vector y was passed when a 1d array was expected. Please change the shape of y to (n_samples, ), for example using ravel().\n",
      "\n",
      "\u001b[32m[I 2023-04-28 22:02:02,236]\u001b[0m Trial 53 finished with value: 0.8012175057584733 and parameters: {'lambda': 0.15457980300220192, 'alpha': 0.005705859703469499, 'colsample_bytree': 0.5, 'subsample': 0.5, 'learning_rate': 0.008, 'n_estimators': 8847, 'max_depth': 17, 'random_state': 123, 'min_child_weight': 36}. Best is trial 33 with value: 0.8061552595314654.\u001b[0m\n",
      "/Users/mariafar/opt/anaconda3/lib/python3.9/site-packages/xgboost/sklearn.py:1224: UserWarning:\n",
      "\n",
      "The use of label encoder in XGBClassifier is deprecated and will be removed in a future release. To remove this warning, do the following: 1) Pass option use_label_encoder=False when constructing XGBClassifier object; and 2) Encode your labels (y) as integers starting with 0, i.e. 0, 1, 2, ..., [num_class - 1].\n",
      "\n",
      "/Users/mariafar/opt/anaconda3/lib/python3.9/site-packages/sklearn/preprocessing/_label.py:99: DataConversionWarning:\n",
      "\n",
      "A column-vector y was passed when a 1d array was expected. Please change the shape of y to (n_samples, ), for example using ravel().\n",
      "\n",
      "/Users/mariafar/opt/anaconda3/lib/python3.9/site-packages/sklearn/preprocessing/_label.py:134: DataConversionWarning:\n",
      "\n",
      "A column-vector y was passed when a 1d array was expected. Please change the shape of y to (n_samples, ), for example using ravel().\n",
      "\n",
      "/Users/mariafar/opt/anaconda3/lib/python3.9/site-packages/sklearn/preprocessing/_label.py:134: DataConversionWarning:\n",
      "\n",
      "A column-vector y was passed when a 1d array was expected. Please change the shape of y to (n_samples, ), for example using ravel().\n",
      "\n",
      "\u001b[32m[I 2023-04-28 22:02:28,429]\u001b[0m Trial 54 finished with value: 0.8027327070879591 and parameters: {'lambda': 0.06761275785088908, 'alpha': 0.0023314176398032556, 'colsample_bytree': 0.5, 'subsample': 0.7, 'learning_rate': 0.012, 'n_estimators': 8411, 'max_depth': 17, 'random_state': 123, 'min_child_weight': 12}. Best is trial 33 with value: 0.8061552595314654.\u001b[0m\n",
      "/Users/mariafar/opt/anaconda3/lib/python3.9/site-packages/xgboost/sklearn.py:1224: UserWarning:\n",
      "\n",
      "The use of label encoder in XGBClassifier is deprecated and will be removed in a future release. To remove this warning, do the following: 1) Pass option use_label_encoder=False when constructing XGBClassifier object; and 2) Encode your labels (y) as integers starting with 0, i.e. 0, 1, 2, ..., [num_class - 1].\n",
      "\n",
      "/Users/mariafar/opt/anaconda3/lib/python3.9/site-packages/sklearn/preprocessing/_label.py:99: DataConversionWarning:\n",
      "\n",
      "A column-vector y was passed when a 1d array was expected. Please change the shape of y to (n_samples, ), for example using ravel().\n",
      "\n",
      "/Users/mariafar/opt/anaconda3/lib/python3.9/site-packages/sklearn/preprocessing/_label.py:134: DataConversionWarning:\n",
      "\n",
      "A column-vector y was passed when a 1d array was expected. Please change the shape of y to (n_samples, ), for example using ravel().\n",
      "\n",
      "/Users/mariafar/opt/anaconda3/lib/python3.9/site-packages/sklearn/preprocessing/_label.py:134: DataConversionWarning:\n",
      "\n",
      "A column-vector y was passed when a 1d array was expected. Please change the shape of y to (n_samples, ), for example using ravel().\n",
      "\n",
      "\u001b[32m[I 2023-04-28 22:03:00,362]\u001b[0m Trial 55 finished with value: 0.7999143101970866 and parameters: {'lambda': 0.016887925155982607, 'alpha': 0.009190613305139792, 'colsample_bytree': 0.5, 'subsample': 0.6, 'learning_rate': 0.014, 'n_estimators': 9520, 'max_depth': 5, 'random_state': 123, 'min_child_weight': 26}. Best is trial 33 with value: 0.8061552595314654.\u001b[0m\n",
      "/Users/mariafar/opt/anaconda3/lib/python3.9/site-packages/xgboost/sklearn.py:1224: UserWarning:\n",
      "\n",
      "The use of label encoder in XGBClassifier is deprecated and will be removed in a future release. To remove this warning, do the following: 1) Pass option use_label_encoder=False when constructing XGBClassifier object; and 2) Encode your labels (y) as integers starting with 0, i.e. 0, 1, 2, ..., [num_class - 1].\n",
      "\n",
      "/Users/mariafar/opt/anaconda3/lib/python3.9/site-packages/sklearn/preprocessing/_label.py:99: DataConversionWarning:\n",
      "\n",
      "A column-vector y was passed when a 1d array was expected. Please change the shape of y to (n_samples, ), for example using ravel().\n",
      "\n",
      "/Users/mariafar/opt/anaconda3/lib/python3.9/site-packages/sklearn/preprocessing/_label.py:134: DataConversionWarning:\n",
      "\n",
      "A column-vector y was passed when a 1d array was expected. Please change the shape of y to (n_samples, ), for example using ravel().\n",
      "\n",
      "/Users/mariafar/opt/anaconda3/lib/python3.9/site-packages/sklearn/preprocessing/_label.py:134: DataConversionWarning:\n",
      "\n",
      "A column-vector y was passed when a 1d array was expected. Please change the shape of y to (n_samples, ), for example using ravel().\n",
      "\n",
      "\u001b[32m[I 2023-04-28 22:04:11,056]\u001b[0m Trial 56 finished with value: 0.7860785482482283 and parameters: {'lambda': 0.5332139834244158, 'alpha': 0.003152175788733416, 'colsample_bytree': 0.9, 'subsample': 0.4, 'learning_rate': 0.008, 'n_estimators': 8223, 'max_depth': 17, 'random_state': 123, 'min_child_weight': 50}. Best is trial 33 with value: 0.8061552595314654.\u001b[0m\n",
      "/Users/mariafar/opt/anaconda3/lib/python3.9/site-packages/xgboost/sklearn.py:1224: UserWarning:\n",
      "\n",
      "The use of label encoder in XGBClassifier is deprecated and will be removed in a future release. To remove this warning, do the following: 1) Pass option use_label_encoder=False when constructing XGBClassifier object; and 2) Encode your labels (y) as integers starting with 0, i.e. 0, 1, 2, ..., [num_class - 1].\n",
      "\n",
      "/Users/mariafar/opt/anaconda3/lib/python3.9/site-packages/sklearn/preprocessing/_label.py:99: DataConversionWarning:\n",
      "\n",
      "A column-vector y was passed when a 1d array was expected. Please change the shape of y to (n_samples, ), for example using ravel().\n",
      "\n",
      "/Users/mariafar/opt/anaconda3/lib/python3.9/site-packages/sklearn/preprocessing/_label.py:134: DataConversionWarning:\n",
      "\n",
      "A column-vector y was passed when a 1d array was expected. Please change the shape of y to (n_samples, ), for example using ravel().\n",
      "\n",
      "/Users/mariafar/opt/anaconda3/lib/python3.9/site-packages/sklearn/preprocessing/_label.py:134: DataConversionWarning:\n",
      "\n",
      "A column-vector y was passed when a 1d array was expected. Please change the shape of y to (n_samples, ), for example using ravel().\n",
      "\n",
      "\u001b[32m[I 2023-04-28 22:06:38,075]\u001b[0m Trial 57 finished with value: 0.768747073382835 and parameters: {'lambda': 0.00807533381053028, 'alpha': 0.001795589267129103, 'colsample_bytree': 0.5, 'subsample': 0.6, 'learning_rate': 0.008, 'n_estimators': 9934, 'max_depth': 17, 'random_state': 123, 'min_child_weight': 277}. Best is trial 33 with value: 0.8061552595314654.\u001b[0m\n",
      "/Users/mariafar/opt/anaconda3/lib/python3.9/site-packages/xgboost/sklearn.py:1224: UserWarning:\n",
      "\n",
      "The use of label encoder in XGBClassifier is deprecated and will be removed in a future release. To remove this warning, do the following: 1) Pass option use_label_encoder=False when constructing XGBClassifier object; and 2) Encode your labels (y) as integers starting with 0, i.e. 0, 1, 2, ..., [num_class - 1].\n",
      "\n",
      "/Users/mariafar/opt/anaconda3/lib/python3.9/site-packages/sklearn/preprocessing/_label.py:99: DataConversionWarning:\n",
      "\n",
      "A column-vector y was passed when a 1d array was expected. Please change the shape of y to (n_samples, ), for example using ravel().\n",
      "\n",
      "/Users/mariafar/opt/anaconda3/lib/python3.9/site-packages/sklearn/preprocessing/_label.py:134: DataConversionWarning:\n",
      "\n",
      "A column-vector y was passed when a 1d array was expected. Please change the shape of y to (n_samples, ), for example using ravel().\n",
      "\n",
      "/Users/mariafar/opt/anaconda3/lib/python3.9/site-packages/sklearn/preprocessing/_label.py:134: DataConversionWarning:\n",
      "\n",
      "A column-vector y was passed when a 1d array was expected. Please change the shape of y to (n_samples, ), for example using ravel().\n",
      "\n",
      "\u001b[32m[I 2023-04-28 22:07:44,795]\u001b[0m Trial 58 finished with value: 0.8034716286409364 and parameters: {'lambda': 0.0057659537050824905, 'alpha': 7.691710501150566, 'colsample_bytree': 0.8, 'subsample': 1.0, 'learning_rate': 0.008, 'n_estimators': 6338, 'max_depth': 9, 'random_state': 123, 'min_child_weight': 14}. Best is trial 33 with value: 0.8061552595314654.\u001b[0m\n",
      "/Users/mariafar/opt/anaconda3/lib/python3.9/site-packages/xgboost/sklearn.py:1224: UserWarning:\n",
      "\n",
      "The use of label encoder in XGBClassifier is deprecated and will be removed in a future release. To remove this warning, do the following: 1) Pass option use_label_encoder=False when constructing XGBClassifier object; and 2) Encode your labels (y) as integers starting with 0, i.e. 0, 1, 2, ..., [num_class - 1].\n",
      "\n",
      "/Users/mariafar/opt/anaconda3/lib/python3.9/site-packages/sklearn/preprocessing/_label.py:99: DataConversionWarning:\n",
      "\n",
      "A column-vector y was passed when a 1d array was expected. Please change the shape of y to (n_samples, ), for example using ravel().\n",
      "\n",
      "/Users/mariafar/opt/anaconda3/lib/python3.9/site-packages/sklearn/preprocessing/_label.py:134: DataConversionWarning:\n",
      "\n",
      "A column-vector y was passed when a 1d array was expected. Please change the shape of y to (n_samples, ), for example using ravel().\n",
      "\n",
      "/Users/mariafar/opt/anaconda3/lib/python3.9/site-packages/sklearn/preprocessing/_label.py:134: DataConversionWarning:\n",
      "\n",
      "A column-vector y was passed when a 1d array was expected. Please change the shape of y to (n_samples, ), for example using ravel().\n",
      "\n",
      "\u001b[32m[I 2023-04-28 22:09:04,196]\u001b[0m Trial 59 finished with value: 0.7997169376604568 and parameters: {'lambda': 0.012030959099627854, 'alpha': 0.11827920715834268, 'colsample_bytree': 0.4, 'subsample': 0.8, 'learning_rate': 0.008, 'n_estimators': 8922, 'max_depth': 11, 'random_state': 123, 'min_child_weight': 63}. Best is trial 33 with value: 0.8061552595314654.\u001b[0m\n",
      "/Users/mariafar/opt/anaconda3/lib/python3.9/site-packages/xgboost/sklearn.py:1224: UserWarning:\n",
      "\n",
      "The use of label encoder in XGBClassifier is deprecated and will be removed in a future release. To remove this warning, do the following: 1) Pass option use_label_encoder=False when constructing XGBClassifier object; and 2) Encode your labels (y) as integers starting with 0, i.e. 0, 1, 2, ..., [num_class - 1].\n",
      "\n",
      "/Users/mariafar/opt/anaconda3/lib/python3.9/site-packages/sklearn/preprocessing/_label.py:99: DataConversionWarning:\n",
      "\n",
      "A column-vector y was passed when a 1d array was expected. Please change the shape of y to (n_samples, ), for example using ravel().\n",
      "\n",
      "/Users/mariafar/opt/anaconda3/lib/python3.9/site-packages/sklearn/preprocessing/_label.py:134: DataConversionWarning:\n",
      "\n",
      "A column-vector y was passed when a 1d array was expected. Please change the shape of y to (n_samples, ), for example using ravel().\n",
      "\n",
      "/Users/mariafar/opt/anaconda3/lib/python3.9/site-packages/sklearn/preprocessing/_label.py:134: DataConversionWarning:\n",
      "\n",
      "A column-vector y was passed when a 1d array was expected. Please change the shape of y to (n_samples, ), for example using ravel().\n",
      "\n",
      "\u001b[32m[I 2023-04-28 22:09:42,409]\u001b[0m Trial 60 finished with value: 0.7856338214830033 and parameters: {'lambda': 0.031880783653902546, 'alpha': 0.016622995604357208, 'colsample_bytree': 0.5, 'subsample': 0.6, 'learning_rate': 0.018, 'n_estimators': 7364, 'max_depth': 17, 'random_state': 123, 'min_child_weight': 92}. Best is trial 33 with value: 0.8061552595314654.\u001b[0m\n",
      "/Users/mariafar/opt/anaconda3/lib/python3.9/site-packages/xgboost/sklearn.py:1224: UserWarning:\n",
      "\n",
      "The use of label encoder in XGBClassifier is deprecated and will be removed in a future release. To remove this warning, do the following: 1) Pass option use_label_encoder=False when constructing XGBClassifier object; and 2) Encode your labels (y) as integers starting with 0, i.e. 0, 1, 2, ..., [num_class - 1].\n",
      "\n",
      "/Users/mariafar/opt/anaconda3/lib/python3.9/site-packages/sklearn/preprocessing/_label.py:99: DataConversionWarning:\n",
      "\n",
      "A column-vector y was passed when a 1d array was expected. Please change the shape of y to (n_samples, ), for example using ravel().\n",
      "\n",
      "/Users/mariafar/opt/anaconda3/lib/python3.9/site-packages/sklearn/preprocessing/_label.py:134: DataConversionWarning:\n",
      "\n",
      "A column-vector y was passed when a 1d array was expected. Please change the shape of y to (n_samples, ), for example using ravel().\n",
      "\n",
      "/Users/mariafar/opt/anaconda3/lib/python3.9/site-packages/sklearn/preprocessing/_label.py:134: DataConversionWarning:\n",
      "\n",
      "A column-vector y was passed when a 1d array was expected. Please change the shape of y to (n_samples, ), for example using ravel().\n",
      "\n",
      "\u001b[32m[I 2023-04-28 22:10:28,267]\u001b[0m Trial 61 finished with value: 0.8027172840318442 and parameters: {'lambda': 0.04988999536651201, 'alpha': 0.006810797118469175, 'colsample_bytree': 0.5, 'subsample': 0.6, 'learning_rate': 0.008, 'n_estimators': 7614, 'max_depth': 17, 'random_state': 123, 'min_child_weight': 36}. Best is trial 33 with value: 0.8061552595314654.\u001b[0m\n",
      "/Users/mariafar/opt/anaconda3/lib/python3.9/site-packages/xgboost/sklearn.py:1224: UserWarning:\n",
      "\n",
      "The use of label encoder in XGBClassifier is deprecated and will be removed in a future release. To remove this warning, do the following: 1) Pass option use_label_encoder=False when constructing XGBClassifier object; and 2) Encode your labels (y) as integers starting with 0, i.e. 0, 1, 2, ..., [num_class - 1].\n",
      "\n",
      "/Users/mariafar/opt/anaconda3/lib/python3.9/site-packages/sklearn/preprocessing/_label.py:99: DataConversionWarning:\n",
      "\n",
      "A column-vector y was passed when a 1d array was expected. Please change the shape of y to (n_samples, ), for example using ravel().\n",
      "\n",
      "/Users/mariafar/opt/anaconda3/lib/python3.9/site-packages/sklearn/preprocessing/_label.py:134: DataConversionWarning:\n",
      "\n",
      "A column-vector y was passed when a 1d array was expected. Please change the shape of y to (n_samples, ), for example using ravel().\n",
      "\n",
      "/Users/mariafar/opt/anaconda3/lib/python3.9/site-packages/sklearn/preprocessing/_label.py:134: DataConversionWarning:\n",
      "\n",
      "A column-vector y was passed when a 1d array was expected. Please change the shape of y to (n_samples, ), for example using ravel().\n",
      "\n",
      "\u001b[32m[I 2023-04-28 22:11:06,784]\u001b[0m Trial 62 finished with value: 0.8025060843254623 and parameters: {'lambda': 0.06014386103936686, 'alpha': 0.005147358213205261, 'colsample_bytree': 0.5, 'subsample': 0.6, 'learning_rate': 0.008, 'n_estimators': 7739, 'max_depth': 17, 'random_state': 123, 'min_child_weight': 8}. Best is trial 33 with value: 0.8061552595314654.\u001b[0m\n",
      "/Users/mariafar/opt/anaconda3/lib/python3.9/site-packages/xgboost/sklearn.py:1224: UserWarning:\n",
      "\n",
      "The use of label encoder in XGBClassifier is deprecated and will be removed in a future release. To remove this warning, do the following: 1) Pass option use_label_encoder=False when constructing XGBClassifier object; and 2) Encode your labels (y) as integers starting with 0, i.e. 0, 1, 2, ..., [num_class - 1].\n",
      "\n",
      "/Users/mariafar/opt/anaconda3/lib/python3.9/site-packages/sklearn/preprocessing/_label.py:99: DataConversionWarning:\n",
      "\n",
      "A column-vector y was passed when a 1d array was expected. Please change the shape of y to (n_samples, ), for example using ravel().\n",
      "\n",
      "/Users/mariafar/opt/anaconda3/lib/python3.9/site-packages/sklearn/preprocessing/_label.py:134: DataConversionWarning:\n",
      "\n",
      "A column-vector y was passed when a 1d array was expected. Please change the shape of y to (n_samples, ), for example using ravel().\n",
      "\n",
      "/Users/mariafar/opt/anaconda3/lib/python3.9/site-packages/sklearn/preprocessing/_label.py:134: DataConversionWarning:\n",
      "\n",
      "A column-vector y was passed when a 1d array was expected. Please change the shape of y to (n_samples, ), for example using ravel().\n",
      "\n",
      "\u001b[32m[I 2023-04-28 22:11:44,913]\u001b[0m Trial 63 finished with value: 0.8051811427444276 and parameters: {'lambda': 0.020666879352289978, 'alpha': 0.007070811836984068, 'colsample_bytree': 0.5, 'subsample': 0.6, 'learning_rate': 0.008, 'n_estimators': 5425, 'max_depth': 17, 'random_state': 123, 'min_child_weight': 27}. Best is trial 33 with value: 0.8061552595314654.\u001b[0m\n",
      "/Users/mariafar/opt/anaconda3/lib/python3.9/site-packages/xgboost/sklearn.py:1224: UserWarning:\n",
      "\n",
      "The use of label encoder in XGBClassifier is deprecated and will be removed in a future release. To remove this warning, do the following: 1) Pass option use_label_encoder=False when constructing XGBClassifier object; and 2) Encode your labels (y) as integers starting with 0, i.e. 0, 1, 2, ..., [num_class - 1].\n",
      "\n",
      "/Users/mariafar/opt/anaconda3/lib/python3.9/site-packages/sklearn/preprocessing/_label.py:99: DataConversionWarning:\n",
      "\n",
      "A column-vector y was passed when a 1d array was expected. Please change the shape of y to (n_samples, ), for example using ravel().\n",
      "\n",
      "/Users/mariafar/opt/anaconda3/lib/python3.9/site-packages/sklearn/preprocessing/_label.py:134: DataConversionWarning:\n",
      "\n",
      "A column-vector y was passed when a 1d array was expected. Please change the shape of y to (n_samples, ), for example using ravel().\n",
      "\n",
      "/Users/mariafar/opt/anaconda3/lib/python3.9/site-packages/sklearn/preprocessing/_label.py:134: DataConversionWarning:\n",
      "\n",
      "A column-vector y was passed when a 1d array was expected. Please change the shape of y to (n_samples, ), for example using ravel().\n",
      "\n",
      "\u001b[32m[I 2023-04-28 22:12:24,360]\u001b[0m Trial 64 finished with value: 0.8052908314163654 and parameters: {'lambda': 0.02346934077857037, 'alpha': 0.011051962204798621, 'colsample_bytree': 0.5, 'subsample': 0.6, 'learning_rate': 0.008, 'n_estimators': 5552, 'max_depth': 17, 'random_state': 123, 'min_child_weight': 23}. Best is trial 33 with value: 0.8061552595314654.\u001b[0m\n",
      "/Users/mariafar/opt/anaconda3/lib/python3.9/site-packages/xgboost/sklearn.py:1224: UserWarning:\n",
      "\n",
      "The use of label encoder in XGBClassifier is deprecated and will be removed in a future release. To remove this warning, do the following: 1) Pass option use_label_encoder=False when constructing XGBClassifier object; and 2) Encode your labels (y) as integers starting with 0, i.e. 0, 1, 2, ..., [num_class - 1].\n",
      "\n",
      "/Users/mariafar/opt/anaconda3/lib/python3.9/site-packages/sklearn/preprocessing/_label.py:99: DataConversionWarning:\n",
      "\n",
      "A column-vector y was passed when a 1d array was expected. Please change the shape of y to (n_samples, ), for example using ravel().\n",
      "\n",
      "/Users/mariafar/opt/anaconda3/lib/python3.9/site-packages/sklearn/preprocessing/_label.py:134: DataConversionWarning:\n",
      "\n",
      "A column-vector y was passed when a 1d array was expected. Please change the shape of y to (n_samples, ), for example using ravel().\n",
      "\n",
      "/Users/mariafar/opt/anaconda3/lib/python3.9/site-packages/sklearn/preprocessing/_label.py:134: DataConversionWarning:\n",
      "\n",
      "A column-vector y was passed when a 1d array was expected. Please change the shape of y to (n_samples, ), for example using ravel().\n",
      "\n",
      "\u001b[32m[I 2023-04-28 22:13:03,778]\u001b[0m Trial 65 finished with value: 0.8049694340366791 and parameters: {'lambda': 0.02315644366062584, 'alpha': 0.010778830460807713, 'colsample_bytree': 0.5, 'subsample': 0.6, 'learning_rate': 0.008, 'n_estimators': 5581, 'max_depth': 17, 'random_state': 123, 'min_child_weight': 23}. Best is trial 33 with value: 0.8061552595314654.\u001b[0m\n",
      "/Users/mariafar/opt/anaconda3/lib/python3.9/site-packages/xgboost/sklearn.py:1224: UserWarning:\n",
      "\n",
      "The use of label encoder in XGBClassifier is deprecated and will be removed in a future release. To remove this warning, do the following: 1) Pass option use_label_encoder=False when constructing XGBClassifier object; and 2) Encode your labels (y) as integers starting with 0, i.e. 0, 1, 2, ..., [num_class - 1].\n",
      "\n",
      "/Users/mariafar/opt/anaconda3/lib/python3.9/site-packages/sklearn/preprocessing/_label.py:99: DataConversionWarning:\n",
      "\n",
      "A column-vector y was passed when a 1d array was expected. Please change the shape of y to (n_samples, ), for example using ravel().\n",
      "\n",
      "/Users/mariafar/opt/anaconda3/lib/python3.9/site-packages/sklearn/preprocessing/_label.py:134: DataConversionWarning:\n",
      "\n",
      "A column-vector y was passed when a 1d array was expected. Please change the shape of y to (n_samples, ), for example using ravel().\n",
      "\n",
      "/Users/mariafar/opt/anaconda3/lib/python3.9/site-packages/sklearn/preprocessing/_label.py:134: DataConversionWarning:\n",
      "\n",
      "A column-vector y was passed when a 1d array was expected. Please change the shape of y to (n_samples, ), for example using ravel().\n",
      "\n",
      "\u001b[32m[I 2023-04-28 22:13:21,829]\u001b[0m Trial 66 finished with value: 0.8035726034607541 and parameters: {'lambda': 0.020894938353871243, 'alpha': 0.012464266928733814, 'colsample_bytree': 0.5, 'subsample': 0.6, 'learning_rate': 0.016, 'n_estimators': 5548, 'max_depth': 17, 'random_state': 123, 'min_child_weight': 23}. Best is trial 33 with value: 0.8061552595314654.\u001b[0m\n",
      "/Users/mariafar/opt/anaconda3/lib/python3.9/site-packages/xgboost/sklearn.py:1224: UserWarning:\n",
      "\n",
      "The use of label encoder in XGBClassifier is deprecated and will be removed in a future release. To remove this warning, do the following: 1) Pass option use_label_encoder=False when constructing XGBClassifier object; and 2) Encode your labels (y) as integers starting with 0, i.e. 0, 1, 2, ..., [num_class - 1].\n",
      "\n",
      "/Users/mariafar/opt/anaconda3/lib/python3.9/site-packages/sklearn/preprocessing/_label.py:99: DataConversionWarning:\n",
      "\n",
      "A column-vector y was passed when a 1d array was expected. Please change the shape of y to (n_samples, ), for example using ravel().\n",
      "\n",
      "/Users/mariafar/opt/anaconda3/lib/python3.9/site-packages/sklearn/preprocessing/_label.py:134: DataConversionWarning:\n",
      "\n",
      "A column-vector y was passed when a 1d array was expected. Please change the shape of y to (n_samples, ), for example using ravel().\n",
      "\n",
      "/Users/mariafar/opt/anaconda3/lib/python3.9/site-packages/sklearn/preprocessing/_label.py:134: DataConversionWarning:\n",
      "\n",
      "A column-vector y was passed when a 1d array was expected. Please change the shape of y to (n_samples, ), for example using ravel().\n",
      "\n",
      "\u001b[32m[I 2023-04-28 22:14:05,505]\u001b[0m Trial 67 finished with value: 0.8023164249622677 and parameters: {'lambda': 0.014802330041995746, 'alpha': 0.030418261847139555, 'colsample_bytree': 0.7, 'subsample': 0.6, 'learning_rate': 0.008, 'n_estimators': 5091, 'max_depth': 15, 'random_state': 123, 'min_child_weight': 2}. Best is trial 33 with value: 0.8061552595314654.\u001b[0m\n",
      "/Users/mariafar/opt/anaconda3/lib/python3.9/site-packages/xgboost/sklearn.py:1224: UserWarning:\n",
      "\n",
      "The use of label encoder in XGBClassifier is deprecated and will be removed in a future release. To remove this warning, do the following: 1) Pass option use_label_encoder=False when constructing XGBClassifier object; and 2) Encode your labels (y) as integers starting with 0, i.e. 0, 1, 2, ..., [num_class - 1].\n",
      "\n",
      "/Users/mariafar/opt/anaconda3/lib/python3.9/site-packages/sklearn/preprocessing/_label.py:99: DataConversionWarning:\n",
      "\n",
      "A column-vector y was passed when a 1d array was expected. Please change the shape of y to (n_samples, ), for example using ravel().\n",
      "\n",
      "/Users/mariafar/opt/anaconda3/lib/python3.9/site-packages/sklearn/preprocessing/_label.py:134: DataConversionWarning:\n",
      "\n",
      "A column-vector y was passed when a 1d array was expected. Please change the shape of y to (n_samples, ), for example using ravel().\n",
      "\n",
      "/Users/mariafar/opt/anaconda3/lib/python3.9/site-packages/sklearn/preprocessing/_label.py:134: DataConversionWarning:\n",
      "\n",
      "A column-vector y was passed when a 1d array was expected. Please change the shape of y to (n_samples, ), for example using ravel().\n",
      "\n",
      "\u001b[32m[I 2023-04-28 22:15:12,986]\u001b[0m Trial 68 finished with value: 0.7976434088058617 and parameters: {'lambda': 0.005018003600554593, 'alpha': 0.0625055409795611, 'colsample_bytree': 0.3, 'subsample': 0.6, 'learning_rate': 0.008, 'n_estimators': 4688, 'max_depth': 13, 'random_state': 123, 'min_child_weight': 52}. Best is trial 33 with value: 0.8061552595314654.\u001b[0m\n",
      "/Users/mariafar/opt/anaconda3/lib/python3.9/site-packages/xgboost/sklearn.py:1224: UserWarning:\n",
      "\n",
      "The use of label encoder in XGBClassifier is deprecated and will be removed in a future release. To remove this warning, do the following: 1) Pass option use_label_encoder=False when constructing XGBClassifier object; and 2) Encode your labels (y) as integers starting with 0, i.e. 0, 1, 2, ..., [num_class - 1].\n",
      "\n",
      "/Users/mariafar/opt/anaconda3/lib/python3.9/site-packages/sklearn/preprocessing/_label.py:99: DataConversionWarning:\n",
      "\n",
      "A column-vector y was passed when a 1d array was expected. Please change the shape of y to (n_samples, ), for example using ravel().\n",
      "\n",
      "/Users/mariafar/opt/anaconda3/lib/python3.9/site-packages/sklearn/preprocessing/_label.py:134: DataConversionWarning:\n",
      "\n",
      "A column-vector y was passed when a 1d array was expected. Please change the shape of y to (n_samples, ), for example using ravel().\n",
      "\n",
      "/Users/mariafar/opt/anaconda3/lib/python3.9/site-packages/sklearn/preprocessing/_label.py:134: DataConversionWarning:\n",
      "\n",
      "A column-vector y was passed when a 1d array was expected. Please change the shape of y to (n_samples, ), for example using ravel().\n",
      "\n",
      "\u001b[32m[I 2023-04-28 22:15:52,428]\u001b[0m Trial 69 finished with value: 0.7822275353656106 and parameters: {'lambda': 0.02563843605602306, 'alpha': 0.019266004183555577, 'colsample_bytree': 0.5, 'subsample': 0.5, 'learning_rate': 0.02, 'n_estimators': 5652, 'max_depth': 7, 'random_state': 123, 'min_child_weight': 106}. Best is trial 33 with value: 0.8061552595314654.\u001b[0m\n",
      "/Users/mariafar/opt/anaconda3/lib/python3.9/site-packages/xgboost/sklearn.py:1224: UserWarning:\n",
      "\n",
      "The use of label encoder in XGBClassifier is deprecated and will be removed in a future release. To remove this warning, do the following: 1) Pass option use_label_encoder=False when constructing XGBClassifier object; and 2) Encode your labels (y) as integers starting with 0, i.e. 0, 1, 2, ..., [num_class - 1].\n",
      "\n",
      "/Users/mariafar/opt/anaconda3/lib/python3.9/site-packages/sklearn/preprocessing/_label.py:99: DataConversionWarning:\n",
      "\n",
      "A column-vector y was passed when a 1d array was expected. Please change the shape of y to (n_samples, ), for example using ravel().\n",
      "\n",
      "/Users/mariafar/opt/anaconda3/lib/python3.9/site-packages/sklearn/preprocessing/_label.py:134: DataConversionWarning:\n",
      "\n",
      "A column-vector y was passed when a 1d array was expected. Please change the shape of y to (n_samples, ), for example using ravel().\n",
      "\n",
      "/Users/mariafar/opt/anaconda3/lib/python3.9/site-packages/sklearn/preprocessing/_label.py:134: DataConversionWarning:\n",
      "\n",
      "A column-vector y was passed when a 1d array was expected. Please change the shape of y to (n_samples, ), for example using ravel().\n",
      "\n",
      "\u001b[32m[I 2023-04-28 22:16:24,130]\u001b[0m Trial 70 finished with value: 0.8058344818533831 and parameters: {'lambda': 0.011052216129851933, 'alpha': 0.007093139404596556, 'colsample_bytree': 1.0, 'subsample': 0.6, 'learning_rate': 0.012, 'n_estimators': 3558, 'max_depth': 17, 'random_state': 123, 'min_child_weight': 25}. Best is trial 33 with value: 0.8061552595314654.\u001b[0m\n",
      "/Users/mariafar/opt/anaconda3/lib/python3.9/site-packages/xgboost/sklearn.py:1224: UserWarning:\n",
      "\n",
      "The use of label encoder in XGBClassifier is deprecated and will be removed in a future release. To remove this warning, do the following: 1) Pass option use_label_encoder=False when constructing XGBClassifier object; and 2) Encode your labels (y) as integers starting with 0, i.e. 0, 1, 2, ..., [num_class - 1].\n",
      "\n",
      "/Users/mariafar/opt/anaconda3/lib/python3.9/site-packages/sklearn/preprocessing/_label.py:99: DataConversionWarning:\n",
      "\n",
      "A column-vector y was passed when a 1d array was expected. Please change the shape of y to (n_samples, ), for example using ravel().\n",
      "\n",
      "/Users/mariafar/opt/anaconda3/lib/python3.9/site-packages/sklearn/preprocessing/_label.py:134: DataConversionWarning:\n",
      "\n",
      "A column-vector y was passed when a 1d array was expected. Please change the shape of y to (n_samples, ), for example using ravel().\n",
      "\n",
      "/Users/mariafar/opt/anaconda3/lib/python3.9/site-packages/sklearn/preprocessing/_label.py:134: DataConversionWarning:\n",
      "\n",
      "A column-vector y was passed when a 1d array was expected. Please change the shape of y to (n_samples, ), for example using ravel().\n",
      "\n",
      "\u001b[32m[I 2023-04-28 22:16:56,411]\u001b[0m Trial 71 finished with value: 0.8053021851827548 and parameters: {'lambda': 0.01015321099642254, 'alpha': 0.00798211764743958, 'colsample_bytree': 1.0, 'subsample': 0.6, 'learning_rate': 0.012, 'n_estimators': 3777, 'max_depth': 17, 'random_state': 123, 'min_child_weight': 24}. Best is trial 33 with value: 0.8061552595314654.\u001b[0m\n",
      "/Users/mariafar/opt/anaconda3/lib/python3.9/site-packages/xgboost/sklearn.py:1224: UserWarning:\n",
      "\n",
      "The use of label encoder in XGBClassifier is deprecated and will be removed in a future release. To remove this warning, do the following: 1) Pass option use_label_encoder=False when constructing XGBClassifier object; and 2) Encode your labels (y) as integers starting with 0, i.e. 0, 1, 2, ..., [num_class - 1].\n",
      "\n",
      "/Users/mariafar/opt/anaconda3/lib/python3.9/site-packages/sklearn/preprocessing/_label.py:99: DataConversionWarning:\n",
      "\n",
      "A column-vector y was passed when a 1d array was expected. Please change the shape of y to (n_samples, ), for example using ravel().\n",
      "\n",
      "/Users/mariafar/opt/anaconda3/lib/python3.9/site-packages/sklearn/preprocessing/_label.py:134: DataConversionWarning:\n",
      "\n",
      "A column-vector y was passed when a 1d array was expected. Please change the shape of y to (n_samples, ), for example using ravel().\n",
      "\n",
      "/Users/mariafar/opt/anaconda3/lib/python3.9/site-packages/sklearn/preprocessing/_label.py:134: DataConversionWarning:\n",
      "\n",
      "A column-vector y was passed when a 1d array was expected. Please change the shape of y to (n_samples, ), for example using ravel().\n",
      "\n",
      "\u001b[32m[I 2023-04-28 22:17:33,067]\u001b[0m Trial 72 finished with value: 0.8016680895777236 and parameters: {'lambda': 0.009683423292739125, 'alpha': 0.007842566217098503, 'colsample_bytree': 1.0, 'subsample': 0.6, 'learning_rate': 0.012, 'n_estimators': 4061, 'max_depth': 17, 'random_state': 123, 'min_child_weight': 10}. Best is trial 33 with value: 0.8061552595314654.\u001b[0m\n",
      "/Users/mariafar/opt/anaconda3/lib/python3.9/site-packages/xgboost/sklearn.py:1224: UserWarning:\n",
      "\n",
      "The use of label encoder in XGBClassifier is deprecated and will be removed in a future release. To remove this warning, do the following: 1) Pass option use_label_encoder=False when constructing XGBClassifier object; and 2) Encode your labels (y) as integers starting with 0, i.e. 0, 1, 2, ..., [num_class - 1].\n",
      "\n",
      "/Users/mariafar/opt/anaconda3/lib/python3.9/site-packages/sklearn/preprocessing/_label.py:99: DataConversionWarning:\n",
      "\n",
      "A column-vector y was passed when a 1d array was expected. Please change the shape of y to (n_samples, ), for example using ravel().\n",
      "\n",
      "/Users/mariafar/opt/anaconda3/lib/python3.9/site-packages/sklearn/preprocessing/_label.py:134: DataConversionWarning:\n",
      "\n",
      "A column-vector y was passed when a 1d array was expected. Please change the shape of y to (n_samples, ), for example using ravel().\n",
      "\n",
      "/Users/mariafar/opt/anaconda3/lib/python3.9/site-packages/sklearn/preprocessing/_label.py:134: DataConversionWarning:\n",
      "\n",
      "A column-vector y was passed when a 1d array was expected. Please change the shape of y to (n_samples, ), for example using ravel().\n",
      "\n",
      "\u001b[32m[I 2023-04-28 22:18:23,781]\u001b[0m Trial 73 finished with value: 0.800802051147196 and parameters: {'lambda': 0.004197371839170614, 'alpha': 0.004408321422137615, 'colsample_bytree': 1.0, 'subsample': 0.6, 'learning_rate': 0.012, 'n_estimators': 3537, 'max_depth': 17, 'random_state': 123, 'min_child_weight': 44}. Best is trial 33 with value: 0.8061552595314654.\u001b[0m\n",
      "/Users/mariafar/opt/anaconda3/lib/python3.9/site-packages/xgboost/sklearn.py:1224: UserWarning:\n",
      "\n",
      "The use of label encoder in XGBClassifier is deprecated and will be removed in a future release. To remove this warning, do the following: 1) Pass option use_label_encoder=False when constructing XGBClassifier object; and 2) Encode your labels (y) as integers starting with 0, i.e. 0, 1, 2, ..., [num_class - 1].\n",
      "\n",
      "/Users/mariafar/opt/anaconda3/lib/python3.9/site-packages/sklearn/preprocessing/_label.py:99: DataConversionWarning:\n",
      "\n",
      "A column-vector y was passed when a 1d array was expected. Please change the shape of y to (n_samples, ), for example using ravel().\n",
      "\n",
      "/Users/mariafar/opt/anaconda3/lib/python3.9/site-packages/sklearn/preprocessing/_label.py:134: DataConversionWarning:\n",
      "\n",
      "A column-vector y was passed when a 1d array was expected. Please change the shape of y to (n_samples, ), for example using ravel().\n",
      "\n",
      "/Users/mariafar/opt/anaconda3/lib/python3.9/site-packages/sklearn/preprocessing/_label.py:134: DataConversionWarning:\n",
      "\n",
      "A column-vector y was passed when a 1d array was expected. Please change the shape of y to (n_samples, ), for example using ravel().\n",
      "\n",
      "\u001b[32m[I 2023-04-28 22:19:00,949]\u001b[0m Trial 74 finished with value: 0.7951096680140479 and parameters: {'lambda': 9.879117181802474, 'alpha': 0.0033709963366576265, 'colsample_bytree': 1.0, 'subsample': 0.6, 'learning_rate': 0.012, 'n_estimators': 2299, 'max_depth': 3, 'random_state': 123, 'min_child_weight': 22}. Best is trial 33 with value: 0.8061552595314654.\u001b[0m\n",
      "/Users/mariafar/opt/anaconda3/lib/python3.9/site-packages/xgboost/sklearn.py:1224: UserWarning:\n",
      "\n",
      "The use of label encoder in XGBClassifier is deprecated and will be removed in a future release. To remove this warning, do the following: 1) Pass option use_label_encoder=False when constructing XGBClassifier object; and 2) Encode your labels (y) as integers starting with 0, i.e. 0, 1, 2, ..., [num_class - 1].\n",
      "\n",
      "/Users/mariafar/opt/anaconda3/lib/python3.9/site-packages/sklearn/preprocessing/_label.py:99: DataConversionWarning:\n",
      "\n",
      "A column-vector y was passed when a 1d array was expected. Please change the shape of y to (n_samples, ), for example using ravel().\n",
      "\n",
      "/Users/mariafar/opt/anaconda3/lib/python3.9/site-packages/sklearn/preprocessing/_label.py:134: DataConversionWarning:\n",
      "\n",
      "A column-vector y was passed when a 1d array was expected. Please change the shape of y to (n_samples, ), for example using ravel().\n",
      "\n",
      "/Users/mariafar/opt/anaconda3/lib/python3.9/site-packages/sklearn/preprocessing/_label.py:134: DataConversionWarning:\n",
      "\n",
      "A column-vector y was passed when a 1d array was expected. Please change the shape of y to (n_samples, ), for example using ravel().\n",
      "\n",
      "\u001b[32m[I 2023-04-28 22:19:32,914]\u001b[0m Trial 75 finished with value: 0.8074401835463781 and parameters: {'lambda': 0.012609789565528766, 'alpha': 0.2946741239180167, 'colsample_bytree': 1.0, 'subsample': 1.0, 'learning_rate': 0.012, 'n_estimators': 3607, 'max_depth': 17, 'random_state': 123, 'min_child_weight': 32}. Best is trial 75 with value: 0.8074401835463781.\u001b[0m\n",
      "/Users/mariafar/opt/anaconda3/lib/python3.9/site-packages/xgboost/sklearn.py:1224: UserWarning:\n",
      "\n",
      "The use of label encoder in XGBClassifier is deprecated and will be removed in a future release. To remove this warning, do the following: 1) Pass option use_label_encoder=False when constructing XGBClassifier object; and 2) Encode your labels (y) as integers starting with 0, i.e. 0, 1, 2, ..., [num_class - 1].\n",
      "\n",
      "/Users/mariafar/opt/anaconda3/lib/python3.9/site-packages/sklearn/preprocessing/_label.py:99: DataConversionWarning:\n",
      "\n",
      "A column-vector y was passed when a 1d array was expected. Please change the shape of y to (n_samples, ), for example using ravel().\n",
      "\n",
      "/Users/mariafar/opt/anaconda3/lib/python3.9/site-packages/sklearn/preprocessing/_label.py:134: DataConversionWarning:\n",
      "\n",
      "A column-vector y was passed when a 1d array was expected. Please change the shape of y to (n_samples, ), for example using ravel().\n",
      "\n",
      "/Users/mariafar/opt/anaconda3/lib/python3.9/site-packages/sklearn/preprocessing/_label.py:134: DataConversionWarning:\n",
      "\n",
      "A column-vector y was passed when a 1d array was expected. Please change the shape of y to (n_samples, ), for example using ravel().\n",
      "\n",
      "\u001b[32m[I 2023-04-28 22:20:10,023]\u001b[0m Trial 76 finished with value: 0.798381235546746 and parameters: {'lambda': 0.011850981222685382, 'alpha': 0.31008655286729403, 'colsample_bytree': 1.0, 'subsample': 1.0, 'learning_rate': 0.012, 'n_estimators': 4750, 'max_depth': 5, 'random_state': 123, 'min_child_weight': 9}. Best is trial 75 with value: 0.8074401835463781.\u001b[0m\n",
      "/Users/mariafar/opt/anaconda3/lib/python3.9/site-packages/xgboost/sklearn.py:1224: UserWarning:\n",
      "\n",
      "The use of label encoder in XGBClassifier is deprecated and will be removed in a future release. To remove this warning, do the following: 1) Pass option use_label_encoder=False when constructing XGBClassifier object; and 2) Encode your labels (y) as integers starting with 0, i.e. 0, 1, 2, ..., [num_class - 1].\n",
      "\n",
      "/Users/mariafar/opt/anaconda3/lib/python3.9/site-packages/sklearn/preprocessing/_label.py:99: DataConversionWarning:\n",
      "\n",
      "A column-vector y was passed when a 1d array was expected. Please change the shape of y to (n_samples, ), for example using ravel().\n",
      "\n",
      "/Users/mariafar/opt/anaconda3/lib/python3.9/site-packages/sklearn/preprocessing/_label.py:134: DataConversionWarning:\n",
      "\n",
      "A column-vector y was passed when a 1d array was expected. Please change the shape of y to (n_samples, ), for example using ravel().\n",
      "\n",
      "/Users/mariafar/opt/anaconda3/lib/python3.9/site-packages/sklearn/preprocessing/_label.py:134: DataConversionWarning:\n",
      "\n",
      "A column-vector y was passed when a 1d array was expected. Please change the shape of y to (n_samples, ), for example using ravel().\n",
      "\n",
      "\u001b[32m[I 2023-04-28 22:20:45,800]\u001b[0m Trial 77 finished with value: 0.8020281321557085 and parameters: {'lambda': 0.006419943573284967, 'alpha': 0.3064741981827052, 'colsample_bytree': 1.0, 'subsample': 1.0, 'learning_rate': 0.012, 'n_estimators': 3584, 'max_depth': 17, 'random_state': 123, 'min_child_weight': 1}. Best is trial 75 with value: 0.8074401835463781.\u001b[0m\n",
      "/Users/mariafar/opt/anaconda3/lib/python3.9/site-packages/xgboost/sklearn.py:1224: UserWarning:\n",
      "\n",
      "The use of label encoder in XGBClassifier is deprecated and will be removed in a future release. To remove this warning, do the following: 1) Pass option use_label_encoder=False when constructing XGBClassifier object; and 2) Encode your labels (y) as integers starting with 0, i.e. 0, 1, 2, ..., [num_class - 1].\n",
      "\n",
      "/Users/mariafar/opt/anaconda3/lib/python3.9/site-packages/sklearn/preprocessing/_label.py:99: DataConversionWarning:\n",
      "\n",
      "A column-vector y was passed when a 1d array was expected. Please change the shape of y to (n_samples, ), for example using ravel().\n",
      "\n",
      "/Users/mariafar/opt/anaconda3/lib/python3.9/site-packages/sklearn/preprocessing/_label.py:134: DataConversionWarning:\n",
      "\n",
      "A column-vector y was passed when a 1d array was expected. Please change the shape of y to (n_samples, ), for example using ravel().\n",
      "\n",
      "/Users/mariafar/opt/anaconda3/lib/python3.9/site-packages/sklearn/preprocessing/_label.py:134: DataConversionWarning:\n",
      "\n",
      "A column-vector y was passed when a 1d array was expected. Please change the shape of y to (n_samples, ), for example using ravel().\n",
      "\n",
      "\u001b[32m[I 2023-04-28 22:22:03,191]\u001b[0m Trial 78 finished with value: 0.7968349016253209 and parameters: {'lambda': 0.03928792136263409, 'alpha': 1.8416793982812822, 'colsample_bytree': 1.0, 'subsample': 1.0, 'learning_rate': 0.012, 'n_estimators': 2141, 'max_depth': 17, 'random_state': 123, 'min_child_weight': 78}. Best is trial 75 with value: 0.8074401835463781.\u001b[0m\n",
      "/Users/mariafar/opt/anaconda3/lib/python3.9/site-packages/xgboost/sklearn.py:1224: UserWarning:\n",
      "\n",
      "The use of label encoder in XGBClassifier is deprecated and will be removed in a future release. To remove this warning, do the following: 1) Pass option use_label_encoder=False when constructing XGBClassifier object; and 2) Encode your labels (y) as integers starting with 0, i.e. 0, 1, 2, ..., [num_class - 1].\n",
      "\n",
      "/Users/mariafar/opt/anaconda3/lib/python3.9/site-packages/sklearn/preprocessing/_label.py:99: DataConversionWarning:\n",
      "\n",
      "A column-vector y was passed when a 1d array was expected. Please change the shape of y to (n_samples, ), for example using ravel().\n",
      "\n",
      "/Users/mariafar/opt/anaconda3/lib/python3.9/site-packages/sklearn/preprocessing/_label.py:134: DataConversionWarning:\n",
      "\n",
      "A column-vector y was passed when a 1d array was expected. Please change the shape of y to (n_samples, ), for example using ravel().\n",
      "\n",
      "/Users/mariafar/opt/anaconda3/lib/python3.9/site-packages/sklearn/preprocessing/_label.py:134: DataConversionWarning:\n",
      "\n",
      "A column-vector y was passed when a 1d array was expected. Please change the shape of y to (n_samples, ), for example using ravel().\n",
      "\n",
      "\u001b[32m[I 2023-04-28 22:22:32,590]\u001b[0m Trial 79 finished with value: 0.8073370455289879 and parameters: {'lambda': 0.12474530289319134, 'alpha': 0.18458822726154792, 'colsample_bytree': 1.0, 'subsample': 1.0, 'learning_rate': 0.012, 'n_estimators': 2676, 'max_depth': 11, 'random_state': 123, 'min_child_weight': 30}. Best is trial 75 with value: 0.8074401835463781.\u001b[0m\n",
      "/Users/mariafar/opt/anaconda3/lib/python3.9/site-packages/xgboost/sklearn.py:1224: UserWarning:\n",
      "\n",
      "The use of label encoder in XGBClassifier is deprecated and will be removed in a future release. To remove this warning, do the following: 1) Pass option use_label_encoder=False when constructing XGBClassifier object; and 2) Encode your labels (y) as integers starting with 0, i.e. 0, 1, 2, ..., [num_class - 1].\n",
      "\n",
      "/Users/mariafar/opt/anaconda3/lib/python3.9/site-packages/sklearn/preprocessing/_label.py:99: DataConversionWarning:\n",
      "\n",
      "A column-vector y was passed when a 1d array was expected. Please change the shape of y to (n_samples, ), for example using ravel().\n",
      "\n",
      "/Users/mariafar/opt/anaconda3/lib/python3.9/site-packages/sklearn/preprocessing/_label.py:134: DataConversionWarning:\n",
      "\n",
      "A column-vector y was passed when a 1d array was expected. Please change the shape of y to (n_samples, ), for example using ravel().\n",
      "\n",
      "/Users/mariafar/opt/anaconda3/lib/python3.9/site-packages/sklearn/preprocessing/_label.py:134: DataConversionWarning:\n",
      "\n",
      "A column-vector y was passed when a 1d array was expected. Please change the shape of y to (n_samples, ), for example using ravel().\n",
      "\n",
      "\u001b[32m[I 2023-04-28 22:23:03,392]\u001b[0m Trial 80 finished with value: 0.8061585885748017 and parameters: {'lambda': 0.29457515092441316, 'alpha': 0.20646933899365125, 'colsample_bytree': 1.0, 'subsample': 1.0, 'learning_rate': 0.012, 'n_estimators': 1572, 'max_depth': 11, 'random_state': 123, 'min_child_weight': 39}. Best is trial 75 with value: 0.8074401835463781.\u001b[0m\n",
      "/Users/mariafar/opt/anaconda3/lib/python3.9/site-packages/xgboost/sklearn.py:1224: UserWarning:\n",
      "\n",
      "The use of label encoder in XGBClassifier is deprecated and will be removed in a future release. To remove this warning, do the following: 1) Pass option use_label_encoder=False when constructing XGBClassifier object; and 2) Encode your labels (y) as integers starting with 0, i.e. 0, 1, 2, ..., [num_class - 1].\n",
      "\n",
      "/Users/mariafar/opt/anaconda3/lib/python3.9/site-packages/sklearn/preprocessing/_label.py:99: DataConversionWarning:\n",
      "\n",
      "A column-vector y was passed when a 1d array was expected. Please change the shape of y to (n_samples, ), for example using ravel().\n",
      "\n",
      "/Users/mariafar/opt/anaconda3/lib/python3.9/site-packages/sklearn/preprocessing/_label.py:134: DataConversionWarning:\n",
      "\n",
      "A column-vector y was passed when a 1d array was expected. Please change the shape of y to (n_samples, ), for example using ravel().\n",
      "\n",
      "/Users/mariafar/opt/anaconda3/lib/python3.9/site-packages/sklearn/preprocessing/_label.py:134: DataConversionWarning:\n",
      "\n",
      "A column-vector y was passed when a 1d array was expected. Please change the shape of y to (n_samples, ), for example using ravel().\n",
      "\n",
      "\u001b[32m[I 2023-04-28 22:23:57,730]\u001b[0m Trial 81 finished with value: 0.8048796484554338 and parameters: {'lambda': 0.3365983822191828, 'alpha': 0.18778697689416246, 'colsample_bytree': 1.0, 'subsample': 1.0, 'learning_rate': 0.012, 'n_estimators': 1491, 'max_depth': 11, 'random_state': 123, 'min_child_weight': 38}. Best is trial 75 with value: 0.8074401835463781.\u001b[0m\n",
      "/Users/mariafar/opt/anaconda3/lib/python3.9/site-packages/xgboost/sklearn.py:1224: UserWarning:\n",
      "\n",
      "The use of label encoder in XGBClassifier is deprecated and will be removed in a future release. To remove this warning, do the following: 1) Pass option use_label_encoder=False when constructing XGBClassifier object; and 2) Encode your labels (y) as integers starting with 0, i.e. 0, 1, 2, ..., [num_class - 1].\n",
      "\n",
      "/Users/mariafar/opt/anaconda3/lib/python3.9/site-packages/sklearn/preprocessing/_label.py:99: DataConversionWarning:\n",
      "\n",
      "A column-vector y was passed when a 1d array was expected. Please change the shape of y to (n_samples, ), for example using ravel().\n",
      "\n",
      "/Users/mariafar/opt/anaconda3/lib/python3.9/site-packages/sklearn/preprocessing/_label.py:134: DataConversionWarning:\n",
      "\n",
      "A column-vector y was passed when a 1d array was expected. Please change the shape of y to (n_samples, ), for example using ravel().\n",
      "\n",
      "/Users/mariafar/opt/anaconda3/lib/python3.9/site-packages/sklearn/preprocessing/_label.py:134: DataConversionWarning:\n",
      "\n",
      "A column-vector y was passed when a 1d array was expected. Please change the shape of y to (n_samples, ), for example using ravel().\n",
      "\n",
      "\u001b[32m[I 2023-04-28 22:25:00,499]\u001b[0m Trial 82 finished with value: 0.8032749228850824 and parameters: {'lambda': 0.5402117536758083, 'alpha': 0.19982172534610654, 'colsample_bytree': 1.0, 'subsample': 1.0, 'learning_rate': 0.012, 'n_estimators': 2597, 'max_depth': 11, 'random_state': 123, 'min_child_weight': 60}. Best is trial 75 with value: 0.8074401835463781.\u001b[0m\n",
      "/Users/mariafar/opt/anaconda3/lib/python3.9/site-packages/xgboost/sklearn.py:1224: UserWarning:\n",
      "\n",
      "The use of label encoder in XGBClassifier is deprecated and will be removed in a future release. To remove this warning, do the following: 1) Pass option use_label_encoder=False when constructing XGBClassifier object; and 2) Encode your labels (y) as integers starting with 0, i.e. 0, 1, 2, ..., [num_class - 1].\n",
      "\n",
      "/Users/mariafar/opt/anaconda3/lib/python3.9/site-packages/sklearn/preprocessing/_label.py:99: DataConversionWarning:\n",
      "\n",
      "A column-vector y was passed when a 1d array was expected. Please change the shape of y to (n_samples, ), for example using ravel().\n",
      "\n",
      "/Users/mariafar/opt/anaconda3/lib/python3.9/site-packages/sklearn/preprocessing/_label.py:134: DataConversionWarning:\n",
      "\n",
      "A column-vector y was passed when a 1d array was expected. Please change the shape of y to (n_samples, ), for example using ravel().\n",
      "\n",
      "/Users/mariafar/opt/anaconda3/lib/python3.9/site-packages/sklearn/preprocessing/_label.py:134: DataConversionWarning:\n",
      "\n",
      "A column-vector y was passed when a 1d array was expected. Please change the shape of y to (n_samples, ), for example using ravel().\n",
      "\n",
      "\u001b[32m[I 2023-04-28 22:25:50,075]\u001b[0m Trial 83 finished with value: 0.8051965094153926 and parameters: {'lambda': 0.24767802752770152, 'alpha': 0.13290724967510864, 'colsample_bytree': 1.0, 'subsample': 1.0, 'learning_rate': 0.012, 'n_estimators': 1857, 'max_depth': 11, 'random_state': 123, 'min_child_weight': 48}. Best is trial 75 with value: 0.8074401835463781.\u001b[0m\n",
      "/Users/mariafar/opt/anaconda3/lib/python3.9/site-packages/xgboost/sklearn.py:1224: UserWarning:\n",
      "\n",
      "The use of label encoder in XGBClassifier is deprecated and will be removed in a future release. To remove this warning, do the following: 1) Pass option use_label_encoder=False when constructing XGBClassifier object; and 2) Encode your labels (y) as integers starting with 0, i.e. 0, 1, 2, ..., [num_class - 1].\n",
      "\n",
      "/Users/mariafar/opt/anaconda3/lib/python3.9/site-packages/sklearn/preprocessing/_label.py:99: DataConversionWarning:\n",
      "\n",
      "A column-vector y was passed when a 1d array was expected. Please change the shape of y to (n_samples, ), for example using ravel().\n",
      "\n",
      "/Users/mariafar/opt/anaconda3/lib/python3.9/site-packages/sklearn/preprocessing/_label.py:134: DataConversionWarning:\n",
      "\n",
      "A column-vector y was passed when a 1d array was expected. Please change the shape of y to (n_samples, ), for example using ravel().\n",
      "\n",
      "/Users/mariafar/opt/anaconda3/lib/python3.9/site-packages/sklearn/preprocessing/_label.py:134: DataConversionWarning:\n",
      "\n",
      "A column-vector y was passed when a 1d array was expected. Please change the shape of y to (n_samples, ), for example using ravel().\n",
      "\n",
      "\u001b[32m[I 2023-04-28 22:26:58,402]\u001b[0m Trial 84 finished with value: 0.805626598465473 and parameters: {'lambda': 0.23284079121808643, 'alpha': 0.5030336621153813, 'colsample_bytree': 1.0, 'subsample': 1.0, 'learning_rate': 0.012, 'n_estimators': 1806, 'max_depth': 11, 'random_state': 123, 'min_child_weight': 45}. Best is trial 75 with value: 0.8074401835463781.\u001b[0m\n",
      "/Users/mariafar/opt/anaconda3/lib/python3.9/site-packages/xgboost/sklearn.py:1224: UserWarning:\n",
      "\n",
      "The use of label encoder in XGBClassifier is deprecated and will be removed in a future release. To remove this warning, do the following: 1) Pass option use_label_encoder=False when constructing XGBClassifier object; and 2) Encode your labels (y) as integers starting with 0, i.e. 0, 1, 2, ..., [num_class - 1].\n",
      "\n",
      "/Users/mariafar/opt/anaconda3/lib/python3.9/site-packages/sklearn/preprocessing/_label.py:99: DataConversionWarning:\n",
      "\n",
      "A column-vector y was passed when a 1d array was expected. Please change the shape of y to (n_samples, ), for example using ravel().\n",
      "\n",
      "/Users/mariafar/opt/anaconda3/lib/python3.9/site-packages/sklearn/preprocessing/_label.py:134: DataConversionWarning:\n",
      "\n",
      "A column-vector y was passed when a 1d array was expected. Please change the shape of y to (n_samples, ), for example using ravel().\n",
      "\n",
      "/Users/mariafar/opt/anaconda3/lib/python3.9/site-packages/sklearn/preprocessing/_label.py:134: DataConversionWarning:\n",
      "\n",
      "A column-vector y was passed when a 1d array was expected. Please change the shape of y to (n_samples, ), for example using ravel().\n",
      "\n",
      "\u001b[32m[I 2023-04-28 22:27:55,236]\u001b[0m Trial 85 finished with value: 0.8071199108372125 and parameters: {'lambda': 0.13097590138444504, 'alpha': 0.46460254068392487, 'colsample_bytree': 1.0, 'subsample': 1.0, 'learning_rate': 0.012, 'n_estimators': 2788, 'max_depth': 11, 'random_state': 123, 'min_child_weight': 31}. Best is trial 75 with value: 0.8074401835463781.\u001b[0m\n",
      "/Users/mariafar/opt/anaconda3/lib/python3.9/site-packages/xgboost/sklearn.py:1224: UserWarning:\n",
      "\n",
      "The use of label encoder in XGBClassifier is deprecated and will be removed in a future release. To remove this warning, do the following: 1) Pass option use_label_encoder=False when constructing XGBClassifier object; and 2) Encode your labels (y) as integers starting with 0, i.e. 0, 1, 2, ..., [num_class - 1].\n",
      "\n",
      "/Users/mariafar/opt/anaconda3/lib/python3.9/site-packages/sklearn/preprocessing/_label.py:99: DataConversionWarning:\n",
      "\n",
      "A column-vector y was passed when a 1d array was expected. Please change the shape of y to (n_samples, ), for example using ravel().\n",
      "\n",
      "/Users/mariafar/opt/anaconda3/lib/python3.9/site-packages/sklearn/preprocessing/_label.py:134: DataConversionWarning:\n",
      "\n",
      "A column-vector y was passed when a 1d array was expected. Please change the shape of y to (n_samples, ), for example using ravel().\n",
      "\n",
      "/Users/mariafar/opt/anaconda3/lib/python3.9/site-packages/sklearn/preprocessing/_label.py:134: DataConversionWarning:\n",
      "\n",
      "A column-vector y was passed when a 1d array was expected. Please change the shape of y to (n_samples, ), for example using ravel().\n",
      "\n",
      "\u001b[32m[I 2023-04-28 22:28:27,593]\u001b[0m Trial 86 finished with value: 0.8072285208729274 and parameters: {'lambda': 0.13845698461444886, 'alpha': 0.44063873935461545, 'colsample_bytree': 1.0, 'subsample': 1.0, 'learning_rate': 0.012, 'n_estimators': 565, 'max_depth': 11, 'random_state': 123, 'min_child_weight': 30}. Best is trial 75 with value: 0.8074401835463781.\u001b[0m\n",
      "/Users/mariafar/opt/anaconda3/lib/python3.9/site-packages/xgboost/sklearn.py:1224: UserWarning:\n",
      "\n",
      "The use of label encoder in XGBClassifier is deprecated and will be removed in a future release. To remove this warning, do the following: 1) Pass option use_label_encoder=False when constructing XGBClassifier object; and 2) Encode your labels (y) as integers starting with 0, i.e. 0, 1, 2, ..., [num_class - 1].\n",
      "\n",
      "/Users/mariafar/opt/anaconda3/lib/python3.9/site-packages/sklearn/preprocessing/_label.py:99: DataConversionWarning:\n",
      "\n",
      "A column-vector y was passed when a 1d array was expected. Please change the shape of y to (n_samples, ), for example using ravel().\n",
      "\n",
      "/Users/mariafar/opt/anaconda3/lib/python3.9/site-packages/sklearn/preprocessing/_label.py:134: DataConversionWarning:\n",
      "\n",
      "A column-vector y was passed when a 1d array was expected. Please change the shape of y to (n_samples, ), for example using ravel().\n",
      "\n",
      "/Users/mariafar/opt/anaconda3/lib/python3.9/site-packages/sklearn/preprocessing/_label.py:134: DataConversionWarning:\n",
      "\n",
      "A column-vector y was passed when a 1d array was expected. Please change the shape of y to (n_samples, ), for example using ravel().\n",
      "\n",
      "\u001b[32m[I 2023-04-28 22:28:32,053]\u001b[0m Trial 87 finished with value: 0.7795513373597929 and parameters: {'lambda': 0.17677677604712486, 'alpha': 0.45574112126844385, 'colsample_bytree': 1.0, 'subsample': 1.0, 'learning_rate': 0.012, 'n_estimators': 86, 'max_depth': 11, 'random_state': 123, 'min_child_weight': 71}. Best is trial 75 with value: 0.8074401835463781.\u001b[0m\n",
      "/Users/mariafar/opt/anaconda3/lib/python3.9/site-packages/xgboost/sklearn.py:1224: UserWarning:\n",
      "\n",
      "The use of label encoder in XGBClassifier is deprecated and will be removed in a future release. To remove this warning, do the following: 1) Pass option use_label_encoder=False when constructing XGBClassifier object; and 2) Encode your labels (y) as integers starting with 0, i.e. 0, 1, 2, ..., [num_class - 1].\n",
      "\n",
      "/Users/mariafar/opt/anaconda3/lib/python3.9/site-packages/sklearn/preprocessing/_label.py:99: DataConversionWarning:\n",
      "\n",
      "A column-vector y was passed when a 1d array was expected. Please change the shape of y to (n_samples, ), for example using ravel().\n",
      "\n",
      "/Users/mariafar/opt/anaconda3/lib/python3.9/site-packages/sklearn/preprocessing/_label.py:134: DataConversionWarning:\n",
      "\n",
      "A column-vector y was passed when a 1d array was expected. Please change the shape of y to (n_samples, ), for example using ravel().\n",
      "\n",
      "/Users/mariafar/opt/anaconda3/lib/python3.9/site-packages/sklearn/preprocessing/_label.py:134: DataConversionWarning:\n",
      "\n",
      "A column-vector y was passed when a 1d array was expected. Please change the shape of y to (n_samples, ), for example using ravel().\n",
      "\n",
      "\u001b[32m[I 2023-04-28 22:30:55,557]\u001b[0m Trial 88 finished with value: 0.785766302548825 and parameters: {'lambda': 0.13427269865175798, 'alpha': 1.3730862333035698, 'colsample_bytree': 1.0, 'subsample': 1.0, 'learning_rate': 0.012, 'n_estimators': 2967, 'max_depth': 11, 'random_state': 123, 'min_child_weight': 185}. Best is trial 75 with value: 0.8074401835463781.\u001b[0m\n",
      "/Users/mariafar/opt/anaconda3/lib/python3.9/site-packages/xgboost/sklearn.py:1224: UserWarning:\n",
      "\n",
      "The use of label encoder in XGBClassifier is deprecated and will be removed in a future release. To remove this warning, do the following: 1) Pass option use_label_encoder=False when constructing XGBClassifier object; and 2) Encode your labels (y) as integers starting with 0, i.e. 0, 1, 2, ..., [num_class - 1].\n",
      "\n",
      "/Users/mariafar/opt/anaconda3/lib/python3.9/site-packages/sklearn/preprocessing/_label.py:99: DataConversionWarning:\n",
      "\n",
      "A column-vector y was passed when a 1d array was expected. Please change the shape of y to (n_samples, ), for example using ravel().\n",
      "\n",
      "/Users/mariafar/opt/anaconda3/lib/python3.9/site-packages/sklearn/preprocessing/_label.py:134: DataConversionWarning:\n",
      "\n",
      "A column-vector y was passed when a 1d array was expected. Please change the shape of y to (n_samples, ), for example using ravel().\n",
      "\n",
      "/Users/mariafar/opt/anaconda3/lib/python3.9/site-packages/sklearn/preprocessing/_label.py:134: DataConversionWarning:\n",
      "\n",
      "A column-vector y was passed when a 1d array was expected. Please change the shape of y to (n_samples, ), for example using ravel().\n",
      "\n",
      "\u001b[32m[I 2023-04-28 22:31:47,103]\u001b[0m Trial 89 finished with value: 0.8051965094153926 and parameters: {'lambda': 0.19455465763328136, 'alpha': 0.43684782949389994, 'colsample_bytree': 1.0, 'subsample': 1.0, 'learning_rate': 0.012, 'n_estimators': 1047, 'max_depth': 11, 'random_state': 123, 'min_child_weight': 40}. Best is trial 75 with value: 0.8074401835463781.\u001b[0m\n",
      "/Users/mariafar/opt/anaconda3/lib/python3.9/site-packages/xgboost/sklearn.py:1224: UserWarning:\n",
      "\n",
      "The use of label encoder in XGBClassifier is deprecated and will be removed in a future release. To remove this warning, do the following: 1) Pass option use_label_encoder=False when constructing XGBClassifier object; and 2) Encode your labels (y) as integers starting with 0, i.e. 0, 1, 2, ..., [num_class - 1].\n",
      "\n",
      "/Users/mariafar/opt/anaconda3/lib/python3.9/site-packages/sklearn/preprocessing/_label.py:99: DataConversionWarning:\n",
      "\n",
      "A column-vector y was passed when a 1d array was expected. Please change the shape of y to (n_samples, ), for example using ravel().\n",
      "\n",
      "/Users/mariafar/opt/anaconda3/lib/python3.9/site-packages/sklearn/preprocessing/_label.py:134: DataConversionWarning:\n",
      "\n",
      "A column-vector y was passed when a 1d array was expected. Please change the shape of y to (n_samples, ), for example using ravel().\n",
      "\n",
      "/Users/mariafar/opt/anaconda3/lib/python3.9/site-packages/sklearn/preprocessing/_label.py:134: DataConversionWarning:\n",
      "\n",
      "A column-vector y was passed when a 1d array was expected. Please change the shape of y to (n_samples, ), for example using ravel().\n",
      "\n",
      "\u001b[32m[I 2023-04-28 22:32:30,113]\u001b[0m Trial 90 finished with value: 0.7850699741327851 and parameters: {'lambda': 0.39369198838586866, 'alpha': 0.7306290122042233, 'colsample_bytree': 1.0, 'subsample': 1.0, 'learning_rate': 0.012, 'n_estimators': 1019, 'max_depth': 11, 'random_state': 123, 'min_child_weight': 135}. Best is trial 75 with value: 0.8074401835463781.\u001b[0m\n",
      "/Users/mariafar/opt/anaconda3/lib/python3.9/site-packages/xgboost/sklearn.py:1224: UserWarning:\n",
      "\n",
      "The use of label encoder in XGBClassifier is deprecated and will be removed in a future release. To remove this warning, do the following: 1) Pass option use_label_encoder=False when constructing XGBClassifier object; and 2) Encode your labels (y) as integers starting with 0, i.e. 0, 1, 2, ..., [num_class - 1].\n",
      "\n",
      "/Users/mariafar/opt/anaconda3/lib/python3.9/site-packages/sklearn/preprocessing/_label.py:99: DataConversionWarning:\n",
      "\n",
      "A column-vector y was passed when a 1d array was expected. Please change the shape of y to (n_samples, ), for example using ravel().\n",
      "\n",
      "/Users/mariafar/opt/anaconda3/lib/python3.9/site-packages/sklearn/preprocessing/_label.py:134: DataConversionWarning:\n",
      "\n",
      "A column-vector y was passed when a 1d array was expected. Please change the shape of y to (n_samples, ), for example using ravel().\n",
      "\n",
      "/Users/mariafar/opt/anaconda3/lib/python3.9/site-packages/sklearn/preprocessing/_label.py:134: DataConversionWarning:\n",
      "\n",
      "A column-vector y was passed when a 1d array was expected. Please change the shape of y to (n_samples, ), for example using ravel().\n",
      "\n",
      "\u001b[32m[I 2023-04-28 22:33:09,944]\u001b[0m Trial 91 finished with value: 0.8050830761147961 and parameters: {'lambda': 0.2343270838125721, 'alpha': 0.3979877139138283, 'colsample_bytree': 1.0, 'subsample': 1.0, 'learning_rate': 0.012, 'n_estimators': 3409, 'max_depth': 11, 'random_state': 123, 'min_child_weight': 16}. Best is trial 75 with value: 0.8074401835463781.\u001b[0m\n",
      "/Users/mariafar/opt/anaconda3/lib/python3.9/site-packages/xgboost/sklearn.py:1224: UserWarning:\n",
      "\n",
      "The use of label encoder in XGBClassifier is deprecated and will be removed in a future release. To remove this warning, do the following: 1) Pass option use_label_encoder=False when constructing XGBClassifier object; and 2) Encode your labels (y) as integers starting with 0, i.e. 0, 1, 2, ..., [num_class - 1].\n",
      "\n",
      "/Users/mariafar/opt/anaconda3/lib/python3.9/site-packages/sklearn/preprocessing/_label.py:99: DataConversionWarning:\n",
      "\n",
      "A column-vector y was passed when a 1d array was expected. Please change the shape of y to (n_samples, ), for example using ravel().\n",
      "\n",
      "/Users/mariafar/opt/anaconda3/lib/python3.9/site-packages/sklearn/preprocessing/_label.py:134: DataConversionWarning:\n",
      "\n",
      "A column-vector y was passed when a 1d array was expected. Please change the shape of y to (n_samples, ), for example using ravel().\n",
      "\n",
      "/Users/mariafar/opt/anaconda3/lib/python3.9/site-packages/sklearn/preprocessing/_label.py:134: DataConversionWarning:\n",
      "\n",
      "A column-vector y was passed when a 1d array was expected. Please change the shape of y to (n_samples, ), for example using ravel().\n",
      "\n"
     ]
    }
   ],
   "source": [
    "%%time\n",
    "study = optuna.create_study(direction='maximize', study_name=\"xgb_tuning\")\n",
    "study.optimize(objective, n_trials=100)"
   ]
  },
  {
   "cell_type": "code",
   "execution_count": null,
   "id": "2c98fbf5-f15b-428d-81e1-4d7c3be76f7e",
   "metadata": {
    "tags": []
   },
   "outputs": [],
   "source": [
    "print('Number of finished trials:', len(study.trials))\n",
    "print('Best trial:', study.best_trial.params)"
   ]
  },
  {
   "cell_type": "markdown",
   "id": "b9c7c48c-92bd-4c8d-8067-cbcc9b494311",
   "metadata": {},
   "source": [
    "roc auc:  {'lambda': 1.7421477167896806, 'alpha': 0.00489780565711341, 'colsample_bytree': 1.0, 'subsample': 1.0, 'learning_rate': 0.018, 'n_estimators': 4873, 'max_depth': 5, 'random_state': 123, 'min_child_weight': 1}"
   ]
  },
  {
   "cell_type": "markdown",
   "id": "3f831b23-df01-4068-862c-71bf2f9d0f1b",
   "metadata": {},
   "source": [
    "## Обучаем `XGBoost`\n",
    "\n",
    "- аналогично 1 этапу, предполагаем что оптимальные гиперпараметры уже выбраны\n",
    "- используем только механизм early_stopping для выбора оптимального количества деревьев на небольшой валидационной выборке "
   ]
  },
  {
   "cell_type": "code",
   "execution_count": 215,
   "id": "c9680722-0132-45ca-a6b0-0240b280a282",
   "metadata": {
    "tags": []
   },
   "outputs": [
    {
     "name": "stderr",
     "output_type": "stream",
     "text": [
      "/Users/mariafar/opt/anaconda3/lib/python3.9/site-packages/xgboost/sklearn.py:1224: UserWarning:\n",
      "\n",
      "The use of label encoder in XGBClassifier is deprecated and will be removed in a future release. To remove this warning, do the following: 1) Pass option use_label_encoder=False when constructing XGBClassifier object; and 2) Encode your labels (y) as integers starting with 0, i.e. 0, 1, 2, ..., [num_class - 1].\n",
      "\n",
      "/Users/mariafar/opt/anaconda3/lib/python3.9/site-packages/sklearn/preprocessing/_label.py:99: DataConversionWarning:\n",
      "\n",
      "A column-vector y was passed when a 1d array was expected. Please change the shape of y to (n_samples, ), for example using ravel().\n",
      "\n",
      "/Users/mariafar/opt/anaconda3/lib/python3.9/site-packages/sklearn/preprocessing/_label.py:134: DataConversionWarning:\n",
      "\n",
      "A column-vector y was passed when a 1d array was expected. Please change the shape of y to (n_samples, ), for example using ravel().\n",
      "\n",
      "/Users/mariafar/opt/anaconda3/lib/python3.9/site-packages/sklearn/preprocessing/_label.py:134: DataConversionWarning:\n",
      "\n",
      "A column-vector y was passed when a 1d array was expected. Please change the shape of y to (n_samples, ), for example using ravel().\n",
      "\n"
     ]
    },
    {
     "data": {
      "text/html": [
       "<style>#sk-container-id-9 {color: black;background-color: white;}#sk-container-id-9 pre{padding: 0;}#sk-container-id-9 div.sk-toggleable {background-color: white;}#sk-container-id-9 label.sk-toggleable__label {cursor: pointer;display: block;width: 100%;margin-bottom: 0;padding: 0.3em;box-sizing: border-box;text-align: center;}#sk-container-id-9 label.sk-toggleable__label-arrow:before {content: \"▸\";float: left;margin-right: 0.25em;color: #696969;}#sk-container-id-9 label.sk-toggleable__label-arrow:hover:before {color: black;}#sk-container-id-9 div.sk-estimator:hover label.sk-toggleable__label-arrow:before {color: black;}#sk-container-id-9 div.sk-toggleable__content {max-height: 0;max-width: 0;overflow: hidden;text-align: left;background-color: #f0f8ff;}#sk-container-id-9 div.sk-toggleable__content pre {margin: 0.2em;color: black;border-radius: 0.25em;background-color: #f0f8ff;}#sk-container-id-9 input.sk-toggleable__control:checked~div.sk-toggleable__content {max-height: 200px;max-width: 100%;overflow: auto;}#sk-container-id-9 input.sk-toggleable__control:checked~label.sk-toggleable__label-arrow:before {content: \"▾\";}#sk-container-id-9 div.sk-estimator input.sk-toggleable__control:checked~label.sk-toggleable__label {background-color: #d4ebff;}#sk-container-id-9 div.sk-label input.sk-toggleable__control:checked~label.sk-toggleable__label {background-color: #d4ebff;}#sk-container-id-9 input.sk-hidden--visually {border: 0;clip: rect(1px 1px 1px 1px);clip: rect(1px, 1px, 1px, 1px);height: 1px;margin: -1px;overflow: hidden;padding: 0;position: absolute;width: 1px;}#sk-container-id-9 div.sk-estimator {font-family: monospace;background-color: #f0f8ff;border: 1px dotted black;border-radius: 0.25em;box-sizing: border-box;margin-bottom: 0.5em;}#sk-container-id-9 div.sk-estimator:hover {background-color: #d4ebff;}#sk-container-id-9 div.sk-parallel-item::after {content: \"\";width: 100%;border-bottom: 1px solid gray;flex-grow: 1;}#sk-container-id-9 div.sk-label:hover label.sk-toggleable__label {background-color: #d4ebff;}#sk-container-id-9 div.sk-serial::before {content: \"\";position: absolute;border-left: 1px solid gray;box-sizing: border-box;top: 0;bottom: 0;left: 50%;z-index: 0;}#sk-container-id-9 div.sk-serial {display: flex;flex-direction: column;align-items: center;background-color: white;padding-right: 0.2em;padding-left: 0.2em;position: relative;}#sk-container-id-9 div.sk-item {position: relative;z-index: 1;}#sk-container-id-9 div.sk-parallel {display: flex;align-items: stretch;justify-content: center;background-color: white;position: relative;}#sk-container-id-9 div.sk-item::before, #sk-container-id-9 div.sk-parallel-item::before {content: \"\";position: absolute;border-left: 1px solid gray;box-sizing: border-box;top: 0;bottom: 0;left: 50%;z-index: -1;}#sk-container-id-9 div.sk-parallel-item {display: flex;flex-direction: column;z-index: 1;position: relative;background-color: white;}#sk-container-id-9 div.sk-parallel-item:first-child::after {align-self: flex-end;width: 50%;}#sk-container-id-9 div.sk-parallel-item:last-child::after {align-self: flex-start;width: 50%;}#sk-container-id-9 div.sk-parallel-item:only-child::after {width: 0;}#sk-container-id-9 div.sk-dashed-wrapped {border: 1px dashed gray;margin: 0 0.4em 0.5em 0.4em;box-sizing: border-box;padding-bottom: 0.4em;background-color: white;}#sk-container-id-9 div.sk-label label {font-family: monospace;font-weight: bold;display: inline-block;line-height: 1.2em;}#sk-container-id-9 div.sk-label-container {text-align: center;}#sk-container-id-9 div.sk-container {/* jupyter's `normalize.less` sets `[hidden] { display: none; }` but bootstrap.min.css set `[hidden] { display: none !important; }` so we also need the `!important` here to be able to override the default hidden behavior on the sphinx rendered scikit-learn.org. See: https://github.com/scikit-learn/scikit-learn/issues/21755 */display: inline-block !important;position: relative;}#sk-container-id-9 div.sk-text-repr-fallback {display: none;}</style><div id=\"sk-container-id-9\" class=\"sk-top-container\"><div class=\"sk-text-repr-fallback\"><pre>XGBClassifier(alpha=0.021502313612253954, base_score=0.5, booster=&#x27;gbtree&#x27;,\n",
       "              colsample_bylevel=1, colsample_bynode=1, colsample_bytree=1.0,\n",
       "              enable_categorical=False, gamma=0, gpu_id=-1,\n",
       "              importance_type=None, interaction_constraints=&#x27;&#x27;,\n",
       "              lambda=0.0014106942816886593, learning_rate=0.014,\n",
       "              max_delta_step=0, max_depth=17, min_child_weight=1, missing=nan,\n",
       "              monotone_constraints=&#x27;()&#x27;, n_estimators=9036, n_jobs=8,\n",
       "              num_parallel_tree=1, predictor=&#x27;auto&#x27;, random_state=123,\n",
       "              reg_alpha=0.0215023141, reg_lambda=0.00141069433,\n",
       "              scale_pos_weight=1, subsample=0.7, tree_method=&#x27;exact&#x27;,\n",
       "              validate_parameters=1, verbosity=None)</pre><b>In a Jupyter environment, please rerun this cell to show the HTML representation or trust the notebook. <br />On GitHub, the HTML representation is unable to render, please try loading this page with nbviewer.org.</b></div><div class=\"sk-container\" hidden><div class=\"sk-item\"><div class=\"sk-estimator sk-toggleable\"><input class=\"sk-toggleable__control sk-hidden--visually\" id=\"sk-estimator-id-9\" type=\"checkbox\" checked><label for=\"sk-estimator-id-9\" class=\"sk-toggleable__label sk-toggleable__label-arrow\">XGBClassifier</label><div class=\"sk-toggleable__content\"><pre>XGBClassifier(alpha=0.021502313612253954, base_score=0.5, booster=&#x27;gbtree&#x27;,\n",
       "              colsample_bylevel=1, colsample_bynode=1, colsample_bytree=1.0,\n",
       "              enable_categorical=False, gamma=0, gpu_id=-1,\n",
       "              importance_type=None, interaction_constraints=&#x27;&#x27;,\n",
       "              lambda=0.0014106942816886593, learning_rate=0.014,\n",
       "              max_delta_step=0, max_depth=17, min_child_weight=1, missing=nan,\n",
       "              monotone_constraints=&#x27;()&#x27;, n_estimators=9036, n_jobs=8,\n",
       "              num_parallel_tree=1, predictor=&#x27;auto&#x27;, random_state=123,\n",
       "              reg_alpha=0.0215023141, reg_lambda=0.00141069433,\n",
       "              scale_pos_weight=1, subsample=0.7, tree_method=&#x27;exact&#x27;,\n",
       "              validate_parameters=1, verbosity=None)</pre></div></div></div></div></div>"
      ],
      "text/plain": [
       "XGBClassifier(alpha=0.021502313612253954, base_score=0.5, booster='gbtree',\n",
       "              colsample_bylevel=1, colsample_bynode=1, colsample_bytree=1.0,\n",
       "              enable_categorical=False, gamma=0, gpu_id=-1,\n",
       "              importance_type=None, interaction_constraints='',\n",
       "              lambda=0.0014106942816886593, learning_rate=0.014,\n",
       "              max_delta_step=0, max_depth=17, min_child_weight=1, missing=nan,\n",
       "              monotone_constraints='()', n_estimators=9036, n_jobs=8,\n",
       "              num_parallel_tree=1, predictor='auto', random_state=123,\n",
       "              reg_alpha=0.0215023141, reg_lambda=0.00141069433,\n",
       "              scale_pos_weight=1, subsample=0.7, tree_method='exact',\n",
       "              validate_parameters=1, verbosity=None)"
      ]
     },
     "execution_count": 215,
     "metadata": {},
     "output_type": "execute_result"
    }
   ],
   "source": [
    "from xgboost import XGBClassifier\n",
    "\n",
    "est_params = {'lambda': 0.0014106942816886593, 'alpha': 0.021502313612253954, 'colsample_bytree': 1.0, 'subsample': 0.7, 'learning_rate': 0.014, 'n_estimators': 9036, 'max_depth': 17, 'random_state': 123, 'min_child_weight': 1}\n",
    "\n",
    "ctb_model = XGBClassifier(**est_params)\n",
    "ctb_model.fit(X_train_sc,\n",
    "              y_train,\n",
    "              eval_set=[(X_train_sc, y_train), (X_val_sc, y_val)],\n",
    "              eval_metric=[\"error\", \"logloss\"],\n",
    "              verbose=False,\n",
    "              early_stopping_rounds=80)"
   ]
  },
  {
   "cell_type": "code",
   "execution_count": 174,
   "id": "e56c4789-12f5-49a6-9a16-22e3b68205fc",
   "metadata": {},
   "outputs": [
    {
     "data": {
      "application/vnd.plotly.v1+json": {
       "config": {
        "plotlyServerURL": "https://plot.ly"
       },
       "data": [
        {
         "orientation": "h",
         "type": "bar",
         "x": [
          0,
          0,
          0,
          0,
          0,
          0,
          0,
          0,
          0,
          0,
          0,
          0,
          0,
          0,
          0,
          0,
          0,
          0.0005851963069289923,
          0.0006494685658253729,
          0.0019320865394547582,
          0.003348530735820532,
          0.0038019386120140553,
          0.0039936150424182415,
          0.005549360997974873,
          0.005606687627732754,
          0.00678036455065012,
          0.00989103689789772,
          0.011299323290586472,
          0.01629786752164364,
          0.01630186289548874,
          0.016484851017594337,
          0.017520559951663017,
          0.017953025177121162,
          0.023163432255387306,
          0.031755976378917694,
          0.032761625945568085,
          0.04509132727980614,
          0.052477072924375534,
          0.2511090934276581,
          0.4256456196308136
         ],
         "y": [
          "Группа2_ТЕХНИКА И ТОВАРЫ ДЛЯ ДОМА",
          "segment_8.0",
          "Группа2_КАНЦТОВАРЫ, КНИГИ, ДИСКИ",
          "Группа2_ОБУВЬ",
          "Группа2_ТОВАРЫ ДЛЯ ЖИВОТНЫХ",
          "segment_9.0",
          "region_PRIVOLZIE",
          "region_NORTH",
          "region_FAR EAST",
          "region_SIBERIA",
          "sex_0.0",
          "Группа2_ТОВАРЫ ДЛЯ КОРМЛЕНИЯ",
          "Тип_ИНОЕ",
          "Группа2_СОПУТСТВУЮЩИЕ ТОВАРЫ",
          "Тип_КГТ",
          "sex_1.0",
          "Группа2_ЖЕНСКИЕ ШТУЧКИ",
          "Зарплата",
          "segment_6.0",
          "region_URAL",
          "Группа2_ТЕКСТИЛЬ, ТРИКОТАЖ",
          "население",
          "segment_3.0",
          "segment_1.0",
          "region_SOUTHERN",
          "segment_2.0",
          "Группа2_КРУПНОГАБАРИТНЫЙ ТОВАР",
          "ncf_score",
          "segment_7.0",
          "Группа2_КОСМЕТИКА/ГИГИЕНА",
          "Тип_ОДЕЖДА",
          "Группа2_ИГРУШКИ",
          "segment_4.0",
          "lfm_score",
          "segment_5.0",
          "Группа2_ПОДГУЗНИКИ",
          "Тип_ППКП",
          "rank_top",
          "ncf_rank",
          "lfm_rank"
         ]
        }
       ],
       "layout": {
        "autosize": false,
        "height": 900,
        "template": {
         "data": {
          "bar": [
           {
            "error_x": {
             "color": "#2a3f5f"
            },
            "error_y": {
             "color": "#2a3f5f"
            },
            "marker": {
             "line": {
              "color": "#E5ECF6",
              "width": 0.5
             },
             "pattern": {
              "fillmode": "overlay",
              "size": 10,
              "solidity": 0.2
             }
            },
            "type": "bar"
           }
          ],
          "barpolar": [
           {
            "marker": {
             "line": {
              "color": "#E5ECF6",
              "width": 0.5
             },
             "pattern": {
              "fillmode": "overlay",
              "size": 10,
              "solidity": 0.2
             }
            },
            "type": "barpolar"
           }
          ],
          "carpet": [
           {
            "aaxis": {
             "endlinecolor": "#2a3f5f",
             "gridcolor": "white",
             "linecolor": "white",
             "minorgridcolor": "white",
             "startlinecolor": "#2a3f5f"
            },
            "baxis": {
             "endlinecolor": "#2a3f5f",
             "gridcolor": "white",
             "linecolor": "white",
             "minorgridcolor": "white",
             "startlinecolor": "#2a3f5f"
            },
            "type": "carpet"
           }
          ],
          "choropleth": [
           {
            "colorbar": {
             "outlinewidth": 0,
             "ticks": ""
            },
            "type": "choropleth"
           }
          ],
          "contour": [
           {
            "colorbar": {
             "outlinewidth": 0,
             "ticks": ""
            },
            "colorscale": [
             [
              0,
              "#0d0887"
             ],
             [
              0.1111111111111111,
              "#46039f"
             ],
             [
              0.2222222222222222,
              "#7201a8"
             ],
             [
              0.3333333333333333,
              "#9c179e"
             ],
             [
              0.4444444444444444,
              "#bd3786"
             ],
             [
              0.5555555555555556,
              "#d8576b"
             ],
             [
              0.6666666666666666,
              "#ed7953"
             ],
             [
              0.7777777777777778,
              "#fb9f3a"
             ],
             [
              0.8888888888888888,
              "#fdca26"
             ],
             [
              1,
              "#f0f921"
             ]
            ],
            "type": "contour"
           }
          ],
          "contourcarpet": [
           {
            "colorbar": {
             "outlinewidth": 0,
             "ticks": ""
            },
            "type": "contourcarpet"
           }
          ],
          "heatmap": [
           {
            "colorbar": {
             "outlinewidth": 0,
             "ticks": ""
            },
            "colorscale": [
             [
              0,
              "#0d0887"
             ],
             [
              0.1111111111111111,
              "#46039f"
             ],
             [
              0.2222222222222222,
              "#7201a8"
             ],
             [
              0.3333333333333333,
              "#9c179e"
             ],
             [
              0.4444444444444444,
              "#bd3786"
             ],
             [
              0.5555555555555556,
              "#d8576b"
             ],
             [
              0.6666666666666666,
              "#ed7953"
             ],
             [
              0.7777777777777778,
              "#fb9f3a"
             ],
             [
              0.8888888888888888,
              "#fdca26"
             ],
             [
              1,
              "#f0f921"
             ]
            ],
            "type": "heatmap"
           }
          ],
          "heatmapgl": [
           {
            "colorbar": {
             "outlinewidth": 0,
             "ticks": ""
            },
            "colorscale": [
             [
              0,
              "#0d0887"
             ],
             [
              0.1111111111111111,
              "#46039f"
             ],
             [
              0.2222222222222222,
              "#7201a8"
             ],
             [
              0.3333333333333333,
              "#9c179e"
             ],
             [
              0.4444444444444444,
              "#bd3786"
             ],
             [
              0.5555555555555556,
              "#d8576b"
             ],
             [
              0.6666666666666666,
              "#ed7953"
             ],
             [
              0.7777777777777778,
              "#fb9f3a"
             ],
             [
              0.8888888888888888,
              "#fdca26"
             ],
             [
              1,
              "#f0f921"
             ]
            ],
            "type": "heatmapgl"
           }
          ],
          "histogram": [
           {
            "marker": {
             "pattern": {
              "fillmode": "overlay",
              "size": 10,
              "solidity": 0.2
             }
            },
            "type": "histogram"
           }
          ],
          "histogram2d": [
           {
            "colorbar": {
             "outlinewidth": 0,
             "ticks": ""
            },
            "colorscale": [
             [
              0,
              "#0d0887"
             ],
             [
              0.1111111111111111,
              "#46039f"
             ],
             [
              0.2222222222222222,
              "#7201a8"
             ],
             [
              0.3333333333333333,
              "#9c179e"
             ],
             [
              0.4444444444444444,
              "#bd3786"
             ],
             [
              0.5555555555555556,
              "#d8576b"
             ],
             [
              0.6666666666666666,
              "#ed7953"
             ],
             [
              0.7777777777777778,
              "#fb9f3a"
             ],
             [
              0.8888888888888888,
              "#fdca26"
             ],
             [
              1,
              "#f0f921"
             ]
            ],
            "type": "histogram2d"
           }
          ],
          "histogram2dcontour": [
           {
            "colorbar": {
             "outlinewidth": 0,
             "ticks": ""
            },
            "colorscale": [
             [
              0,
              "#0d0887"
             ],
             [
              0.1111111111111111,
              "#46039f"
             ],
             [
              0.2222222222222222,
              "#7201a8"
             ],
             [
              0.3333333333333333,
              "#9c179e"
             ],
             [
              0.4444444444444444,
              "#bd3786"
             ],
             [
              0.5555555555555556,
              "#d8576b"
             ],
             [
              0.6666666666666666,
              "#ed7953"
             ],
             [
              0.7777777777777778,
              "#fb9f3a"
             ],
             [
              0.8888888888888888,
              "#fdca26"
             ],
             [
              1,
              "#f0f921"
             ]
            ],
            "type": "histogram2dcontour"
           }
          ],
          "mesh3d": [
           {
            "colorbar": {
             "outlinewidth": 0,
             "ticks": ""
            },
            "type": "mesh3d"
           }
          ],
          "parcoords": [
           {
            "line": {
             "colorbar": {
              "outlinewidth": 0,
              "ticks": ""
             }
            },
            "type": "parcoords"
           }
          ],
          "pie": [
           {
            "automargin": true,
            "type": "pie"
           }
          ],
          "scatter": [
           {
            "fillpattern": {
             "fillmode": "overlay",
             "size": 10,
             "solidity": 0.2
            },
            "type": "scatter"
           }
          ],
          "scatter3d": [
           {
            "line": {
             "colorbar": {
              "outlinewidth": 0,
              "ticks": ""
             }
            },
            "marker": {
             "colorbar": {
              "outlinewidth": 0,
              "ticks": ""
             }
            },
            "type": "scatter3d"
           }
          ],
          "scattercarpet": [
           {
            "marker": {
             "colorbar": {
              "outlinewidth": 0,
              "ticks": ""
             }
            },
            "type": "scattercarpet"
           }
          ],
          "scattergeo": [
           {
            "marker": {
             "colorbar": {
              "outlinewidth": 0,
              "ticks": ""
             }
            },
            "type": "scattergeo"
           }
          ],
          "scattergl": [
           {
            "marker": {
             "colorbar": {
              "outlinewidth": 0,
              "ticks": ""
             }
            },
            "type": "scattergl"
           }
          ],
          "scattermapbox": [
           {
            "marker": {
             "colorbar": {
              "outlinewidth": 0,
              "ticks": ""
             }
            },
            "type": "scattermapbox"
           }
          ],
          "scatterpolar": [
           {
            "marker": {
             "colorbar": {
              "outlinewidth": 0,
              "ticks": ""
             }
            },
            "type": "scatterpolar"
           }
          ],
          "scatterpolargl": [
           {
            "marker": {
             "colorbar": {
              "outlinewidth": 0,
              "ticks": ""
             }
            },
            "type": "scatterpolargl"
           }
          ],
          "scatterternary": [
           {
            "marker": {
             "colorbar": {
              "outlinewidth": 0,
              "ticks": ""
             }
            },
            "type": "scatterternary"
           }
          ],
          "surface": [
           {
            "colorbar": {
             "outlinewidth": 0,
             "ticks": ""
            },
            "colorscale": [
             [
              0,
              "#0d0887"
             ],
             [
              0.1111111111111111,
              "#46039f"
             ],
             [
              0.2222222222222222,
              "#7201a8"
             ],
             [
              0.3333333333333333,
              "#9c179e"
             ],
             [
              0.4444444444444444,
              "#bd3786"
             ],
             [
              0.5555555555555556,
              "#d8576b"
             ],
             [
              0.6666666666666666,
              "#ed7953"
             ],
             [
              0.7777777777777778,
              "#fb9f3a"
             ],
             [
              0.8888888888888888,
              "#fdca26"
             ],
             [
              1,
              "#f0f921"
             ]
            ],
            "type": "surface"
           }
          ],
          "table": [
           {
            "cells": {
             "fill": {
              "color": "#EBF0F8"
             },
             "line": {
              "color": "white"
             }
            },
            "header": {
             "fill": {
              "color": "#C8D4E3"
             },
             "line": {
              "color": "white"
             }
            },
            "type": "table"
           }
          ]
         },
         "layout": {
          "annotationdefaults": {
           "arrowcolor": "#2a3f5f",
           "arrowhead": 0,
           "arrowwidth": 1
          },
          "autotypenumbers": "strict",
          "coloraxis": {
           "colorbar": {
            "outlinewidth": 0,
            "ticks": ""
           }
          },
          "colorscale": {
           "diverging": [
            [
             0,
             "#8e0152"
            ],
            [
             0.1,
             "#c51b7d"
            ],
            [
             0.2,
             "#de77ae"
            ],
            [
             0.3,
             "#f1b6da"
            ],
            [
             0.4,
             "#fde0ef"
            ],
            [
             0.5,
             "#f7f7f7"
            ],
            [
             0.6,
             "#e6f5d0"
            ],
            [
             0.7,
             "#b8e186"
            ],
            [
             0.8,
             "#7fbc41"
            ],
            [
             0.9,
             "#4d9221"
            ],
            [
             1,
             "#276419"
            ]
           ],
           "sequential": [
            [
             0,
             "#0d0887"
            ],
            [
             0.1111111111111111,
             "#46039f"
            ],
            [
             0.2222222222222222,
             "#7201a8"
            ],
            [
             0.3333333333333333,
             "#9c179e"
            ],
            [
             0.4444444444444444,
             "#bd3786"
            ],
            [
             0.5555555555555556,
             "#d8576b"
            ],
            [
             0.6666666666666666,
             "#ed7953"
            ],
            [
             0.7777777777777778,
             "#fb9f3a"
            ],
            [
             0.8888888888888888,
             "#fdca26"
            ],
            [
             1,
             "#f0f921"
            ]
           ],
           "sequentialminus": [
            [
             0,
             "#0d0887"
            ],
            [
             0.1111111111111111,
             "#46039f"
            ],
            [
             0.2222222222222222,
             "#7201a8"
            ],
            [
             0.3333333333333333,
             "#9c179e"
            ],
            [
             0.4444444444444444,
             "#bd3786"
            ],
            [
             0.5555555555555556,
             "#d8576b"
            ],
            [
             0.6666666666666666,
             "#ed7953"
            ],
            [
             0.7777777777777778,
             "#fb9f3a"
            ],
            [
             0.8888888888888888,
             "#fdca26"
            ],
            [
             1,
             "#f0f921"
            ]
           ]
          },
          "colorway": [
           "#636efa",
           "#EF553B",
           "#00cc96",
           "#ab63fa",
           "#FFA15A",
           "#19d3f3",
           "#FF6692",
           "#B6E880",
           "#FF97FF",
           "#FECB52"
          ],
          "font": {
           "color": "#2a3f5f"
          },
          "geo": {
           "bgcolor": "white",
           "lakecolor": "white",
           "landcolor": "#E5ECF6",
           "showlakes": true,
           "showland": true,
           "subunitcolor": "white"
          },
          "hoverlabel": {
           "align": "left"
          },
          "hovermode": "closest",
          "mapbox": {
           "style": "light"
          },
          "paper_bgcolor": "white",
          "plot_bgcolor": "#E5ECF6",
          "polar": {
           "angularaxis": {
            "gridcolor": "white",
            "linecolor": "white",
            "ticks": ""
           },
           "bgcolor": "#E5ECF6",
           "radialaxis": {
            "gridcolor": "white",
            "linecolor": "white",
            "ticks": ""
           }
          },
          "scene": {
           "xaxis": {
            "backgroundcolor": "#E5ECF6",
            "gridcolor": "white",
            "gridwidth": 2,
            "linecolor": "white",
            "showbackground": true,
            "ticks": "",
            "zerolinecolor": "white"
           },
           "yaxis": {
            "backgroundcolor": "#E5ECF6",
            "gridcolor": "white",
            "gridwidth": 2,
            "linecolor": "white",
            "showbackground": true,
            "ticks": "",
            "zerolinecolor": "white"
           },
           "zaxis": {
            "backgroundcolor": "#E5ECF6",
            "gridcolor": "white",
            "gridwidth": 2,
            "linecolor": "white",
            "showbackground": true,
            "ticks": "",
            "zerolinecolor": "white"
           }
          },
          "shapedefaults": {
           "line": {
            "color": "#2a3f5f"
           }
          },
          "ternary": {
           "aaxis": {
            "gridcolor": "white",
            "linecolor": "white",
            "ticks": ""
           },
           "baxis": {
            "gridcolor": "white",
            "linecolor": "white",
            "ticks": ""
           },
           "bgcolor": "#E5ECF6",
           "caxis": {
            "gridcolor": "white",
            "linecolor": "white",
            "ticks": ""
           }
          },
          "title": {
           "x": 0.05
          },
          "xaxis": {
           "automargin": true,
           "gridcolor": "white",
           "linecolor": "white",
           "ticks": "",
           "title": {
            "standoff": 15
           },
           "zerolinecolor": "white",
           "zerolinewidth": 2
          },
          "yaxis": {
           "automargin": true,
           "gridcolor": "white",
           "linecolor": "white",
           "ticks": "",
           "title": {
            "standoff": 15
           },
           "zerolinecolor": "white",
           "zerolinewidth": 2
          }
         }
        },
        "title": {
         "text": "Feature Importances"
        },
        "width": 900,
        "xaxis": {
         "autorange": true,
         "range": [
          0,
          0.44804802066401433
         ],
         "title": {
          "text": "Relative Importance"
         },
         "type": "linear"
        },
        "yaxis": {
         "autorange": true,
         "range": [
          -0.5,
          39.5
         ],
         "type": "category"
        }
       }
      },
      "image/png": "[encoded data removed]",
      "text/html": [
       "<div>                            <div id=\"e9fb7050-36bf-4844-951d-c7e8643766d9\" class=\"plotly-graph-div\" style=\"height:900px; width:900px;\"></div>            <script type=\"text/javascript\">                require([\"plotly\"], function(Plotly) {                    window.PLOTLYENV=window.PLOTLYENV || {};                                    if (document.getElementById(\"e9fb7050-36bf-4844-951d-c7e8643766d9\")) {                    Plotly.newPlot(                        \"e9fb7050-36bf-4844-951d-c7e8643766d9\",                        [{\"orientation\":\"h\",\"x\":[0.0,0.0,0.0,0.0,0.0,0.0,0.0,0.0,0.0,0.0,0.0,0.0,0.0,0.0,0.0,0.0,0.0,0.0005851963069289923,0.0006494685658253729,0.0019320865394547582,0.003348530735820532,0.0038019386120140553,0.0039936150424182415,0.005549360997974873,0.005606687627732754,0.00678036455065012,0.00989103689789772,0.011299323290586472,0.01629786752164364,0.01630186289548874,0.016484851017594337,0.017520559951663017,0.017953025177121162,0.023163432255387306,0.031755976378917694,0.032761625945568085,0.04509132727980614,0.052477072924375534,0.2511090934276581,0.4256456196308136],\"y\":[\"\\u0413\\u0440\\u0443\\u043f\\u043f\\u04302_\\u0422\\u0415\\u0425\\u041d\\u0418\\u041a\\u0410 \\u0418 \\u0422\\u041e\\u0412\\u0410\\u0420\\u042b \\u0414\\u041b\\u042f \\u0414\\u041e\\u041c\\u0410\",\"segment_8.0\",\"\\u0413\\u0440\\u0443\\u043f\\u043f\\u04302_\\u041a\\u0410\\u041d\\u0426\\u0422\\u041e\\u0412\\u0410\\u0420\\u042b, \\u041a\\u041d\\u0418\\u0413\\u0418, \\u0414\\u0418\\u0421\\u041a\\u0418\",\"\\u0413\\u0440\\u0443\\u043f\\u043f\\u04302_\\u041e\\u0411\\u0423\\u0412\\u042c\",\"\\u0413\\u0440\\u0443\\u043f\\u043f\\u04302_\\u0422\\u041e\\u0412\\u0410\\u0420\\u042b \\u0414\\u041b\\u042f \\u0416\\u0418\\u0412\\u041e\\u0422\\u041d\\u042b\\u0425\",\"segment_9.0\",\"region_PRIVOLZIE\",\"region_NORTH\",\"region_FAR EAST\",\"region_SIBERIA\",\"sex_0.0\",\"\\u0413\\u0440\\u0443\\u043f\\u043f\\u04302_\\u0422\\u041e\\u0412\\u0410\\u0420\\u042b \\u0414\\u041b\\u042f \\u041a\\u041e\\u0420\\u041c\\u041b\\u0415\\u041d\\u0418\\u042f\",\"\\u0422\\u0438\\u043f_\\u0418\\u041d\\u041e\\u0415\",\"\\u0413\\u0440\\u0443\\u043f\\u043f\\u04302_\\u0421\\u041e\\u041f\\u0423\\u0422\\u0421\\u0422\\u0412\\u0423\\u042e\\u0429\\u0418\\u0415 \\u0422\\u041e\\u0412\\u0410\\u0420\\u042b\",\"\\u0422\\u0438\\u043f_\\u041a\\u0413\\u0422\",\"sex_1.0\",\"\\u0413\\u0440\\u0443\\u043f\\u043f\\u04302_\\u0416\\u0415\\u041d\\u0421\\u041a\\u0418\\u0415 \\u0428\\u0422\\u0423\\u0427\\u041a\\u0418\",\"\\u0417\\u0430\\u0440\\u043f\\u043b\\u0430\\u0442\\u0430\",\"segment_6.0\",\"region_URAL\",\"\\u0413\\u0440\\u0443\\u043f\\u043f\\u04302_\\u0422\\u0415\\u041a\\u0421\\u0422\\u0418\\u041b\\u042c, \\u0422\\u0420\\u0418\\u041a\\u041e\\u0422\\u0410\\u0416\",\"\\u043d\\u0430\\u0441\\u0435\\u043b\\u0435\\u043d\\u0438\\u0435\",\"segment_3.0\",\"segment_1.0\",\"region_SOUTHERN\",\"segment_2.0\",\"\\u0413\\u0440\\u0443\\u043f\\u043f\\u04302_\\u041a\\u0420\\u0423\\u041f\\u041d\\u041e\\u0413\\u0410\\u0411\\u0410\\u0420\\u0418\\u0422\\u041d\\u042b\\u0419 \\u0422\\u041e\\u0412\\u0410\\u0420\",\"ncf_score\",\"segment_7.0\",\"\\u0413\\u0440\\u0443\\u043f\\u043f\\u04302_\\u041a\\u041e\\u0421\\u041c\\u0415\\u0422\\u0418\\u041a\\u0410/\\u0413\\u0418\\u0413\\u0418\\u0415\\u041d\\u0410\",\"\\u0422\\u0438\\u043f_\\u041e\\u0414\\u0415\\u0416\\u0414\\u0410\",\"\\u0413\\u0440\\u0443\\u043f\\u043f\\u04302_\\u0418\\u0413\\u0420\\u0423\\u0428\\u041a\\u0418\",\"segment_4.0\",\"lfm_score\",\"segment_5.0\",\"\\u0413\\u0440\\u0443\\u043f\\u043f\\u04302_\\u041f\\u041e\\u0414\\u0413\\u0423\\u0417\\u041d\\u0418\\u041a\\u0418\",\"\\u0422\\u0438\\u043f_\\u041f\\u041f\\u041a\\u041f\",\"rank_top\",\"ncf_rank\",\"lfm_rank\"],\"type\":\"bar\"}],                        {\"template\":{\"data\":{\"histogram2dcontour\":[{\"type\":\"histogram2dcontour\",\"colorbar\":{\"outlinewidth\":0,\"ticks\":\"\"},\"colorscale\":[[0.0,\"#0d0887\"],[0.1111111111111111,\"#46039f\"],[0.2222222222222222,\"#7201a8\"],[0.3333333333333333,\"#9c179e\"],[0.4444444444444444,\"#bd3786\"],[0.5555555555555556,\"#d8576b\"],[0.6666666666666666,\"#ed7953\"],[0.7777777777777778,\"#fb9f3a\"],[0.8888888888888888,\"#fdca26\"],[1.0,\"#f0f921\"]]}],\"choropleth\":[{\"type\":\"choropleth\",\"colorbar\":{\"outlinewidth\":0,\"ticks\":\"\"}}],\"histogram2d\":[{\"type\":\"histogram2d\",\"colorbar\":{\"outlinewidth\":0,\"ticks\":\"\"},\"colorscale\":[[0.0,\"#0d0887\"],[0.1111111111111111,\"#46039f\"],[0.2222222222222222,\"#7201a8\"],[0.3333333333333333,\"#9c179e\"],[0.4444444444444444,\"#bd3786\"],[0.5555555555555556,\"#d8576b\"],[0.6666666666666666,\"#ed7953\"],[0.7777777777777778,\"#fb9f3a\"],[0.8888888888888888,\"#fdca26\"],[1.0,\"#f0f921\"]]}],\"heatmap\":[{\"type\":\"heatmap\",\"colorbar\":{\"outlinewidth\":0,\"ticks\":\"\"},\"colorscale\":[[0.0,\"#0d0887\"],[0.1111111111111111,\"#46039f\"],[0.2222222222222222,\"#7201a8\"],[0.3333333333333333,\"#9c179e\"],[0.4444444444444444,\"#bd3786\"],[0.5555555555555556,\"#d8576b\"],[0.6666666666666666,\"#ed7953\"],[0.7777777777777778,\"#fb9f3a\"],[0.8888888888888888,\"#fdca26\"],[1.0,\"#f0f921\"]]}],\"heatmapgl\":[{\"type\":\"heatmapgl\",\"colorbar\":{\"outlinewidth\":0,\"ticks\":\"\"},\"colorscale\":[[0.0,\"#0d0887\"],[0.1111111111111111,\"#46039f\"],[0.2222222222222222,\"#7201a8\"],[0.3333333333333333,\"#9c179e\"],[0.4444444444444444,\"#bd3786\"],[0.5555555555555556,\"#d8576b\"],[0.6666666666666666,\"#ed7953\"],[0.7777777777777778,\"#fb9f3a\"],[0.8888888888888888,\"#fdca26\"],[1.0,\"#f0f921\"]]}],\"contourcarpet\":[{\"type\":\"contourcarpet\",\"colorbar\":{\"outlinewidth\":0,\"ticks\":\"\"}}],\"contour\":[{\"type\":\"contour\",\"colorbar\":{\"outlinewidth\":0,\"ticks\":\"\"},\"colorscale\":[[0.0,\"#0d0887\"],[0.1111111111111111,\"#46039f\"],[0.2222222222222222,\"#7201a8\"],[0.3333333333333333,\"#9c179e\"],[0.4444444444444444,\"#bd3786\"],[0.5555555555555556,\"#d8576b\"],[0.6666666666666666,\"#ed7953\"],[0.7777777777777778,\"#fb9f3a\"],[0.8888888888888888,\"#fdca26\"],[1.0,\"#f0f921\"]]}],\"surface\":[{\"type\":\"surface\",\"colorbar\":{\"outlinewidth\":0,\"ticks\":\"\"},\"colorscale\":[[0.0,\"#0d0887\"],[0.1111111111111111,\"#46039f\"],[0.2222222222222222,\"#7201a8\"],[0.3333333333333333,\"#9c179e\"],[0.4444444444444444,\"#bd3786\"],[0.5555555555555556,\"#d8576b\"],[0.6666666666666666,\"#ed7953\"],[0.7777777777777778,\"#fb9f3a\"],[0.8888888888888888,\"#fdca26\"],[1.0,\"#f0f921\"]]}],\"mesh3d\":[{\"type\":\"mesh3d\",\"colorbar\":{\"outlinewidth\":0,\"ticks\":\"\"}}],\"scatter\":[{\"fillpattern\":{\"fillmode\":\"overlay\",\"size\":10,\"solidity\":0.2},\"type\":\"scatter\"}],\"parcoords\":[{\"type\":\"parcoords\",\"line\":{\"colorbar\":{\"outlinewidth\":0,\"ticks\":\"\"}}}],\"scatterpolargl\":[{\"type\":\"scatterpolargl\",\"marker\":{\"colorbar\":{\"outlinewidth\":0,\"ticks\":\"\"}}}],\"bar\":[{\"error_x\":{\"color\":\"#2a3f5f\"},\"error_y\":{\"color\":\"#2a3f5f\"},\"marker\":{\"line\":{\"color\":\"#E5ECF6\",\"width\":0.5},\"pattern\":{\"fillmode\":\"overlay\",\"size\":10,\"solidity\":0.2}},\"type\":\"bar\"}],\"scattergeo\":[{\"type\":\"scattergeo\",\"marker\":{\"colorbar\":{\"outlinewidth\":0,\"ticks\":\"\"}}}],\"scatterpolar\":[{\"type\":\"scatterpolar\",\"marker\":{\"colorbar\":{\"outlinewidth\":0,\"ticks\":\"\"}}}],\"histogram\":[{\"marker\":{\"pattern\":{\"fillmode\":\"overlay\",\"size\":10,\"solidity\":0.2}},\"type\":\"histogram\"}],\"scattergl\":[{\"type\":\"scattergl\",\"marker\":{\"colorbar\":{\"outlinewidth\":0,\"ticks\":\"\"}}}],\"scatter3d\":[{\"type\":\"scatter3d\",\"line\":{\"colorbar\":{\"outlinewidth\":0,\"ticks\":\"\"}},\"marker\":{\"colorbar\":{\"outlinewidth\":0,\"ticks\":\"\"}}}],\"scattermapbox\":[{\"type\":\"scattermapbox\",\"marker\":{\"colorbar\":{\"outlinewidth\":0,\"ticks\":\"\"}}}],\"scatterternary\":[{\"type\":\"scatterternary\",\"marker\":{\"colorbar\":{\"outlinewidth\":0,\"ticks\":\"\"}}}],\"scattercarpet\":[{\"type\":\"scattercarpet\",\"marker\":{\"colorbar\":{\"outlinewidth\":0,\"ticks\":\"\"}}}],\"carpet\":[{\"aaxis\":{\"endlinecolor\":\"#2a3f5f\",\"gridcolor\":\"white\",\"linecolor\":\"white\",\"minorgridcolor\":\"white\",\"startlinecolor\":\"#2a3f5f\"},\"baxis\":{\"endlinecolor\":\"#2a3f5f\",\"gridcolor\":\"white\",\"linecolor\":\"white\",\"minorgridcolor\":\"white\",\"startlinecolor\":\"#2a3f5f\"},\"type\":\"carpet\"}],\"table\":[{\"cells\":{\"fill\":{\"color\":\"#EBF0F8\"},\"line\":{\"color\":\"white\"}},\"header\":{\"fill\":{\"color\":\"#C8D4E3\"},\"line\":{\"color\":\"white\"}},\"type\":\"table\"}],\"barpolar\":[{\"marker\":{\"line\":{\"color\":\"#E5ECF6\",\"width\":0.5},\"pattern\":{\"fillmode\":\"overlay\",\"size\":10,\"solidity\":0.2}},\"type\":\"barpolar\"}],\"pie\":[{\"automargin\":true,\"type\":\"pie\"}]},\"layout\":{\"autotypenumbers\":\"strict\",\"colorway\":[\"#636efa\",\"#EF553B\",\"#00cc96\",\"#ab63fa\",\"#FFA15A\",\"#19d3f3\",\"#FF6692\",\"#B6E880\",\"#FF97FF\",\"#FECB52\"],\"font\":{\"color\":\"#2a3f5f\"},\"hovermode\":\"closest\",\"hoverlabel\":{\"align\":\"left\"},\"paper_bgcolor\":\"white\",\"plot_bgcolor\":\"#E5ECF6\",\"polar\":{\"bgcolor\":\"#E5ECF6\",\"angularaxis\":{\"gridcolor\":\"white\",\"linecolor\":\"white\",\"ticks\":\"\"},\"radialaxis\":{\"gridcolor\":\"white\",\"linecolor\":\"white\",\"ticks\":\"\"}},\"ternary\":{\"bgcolor\":\"#E5ECF6\",\"aaxis\":{\"gridcolor\":\"white\",\"linecolor\":\"white\",\"ticks\":\"\"},\"baxis\":{\"gridcolor\":\"white\",\"linecolor\":\"white\",\"ticks\":\"\"},\"caxis\":{\"gridcolor\":\"white\",\"linecolor\":\"white\",\"ticks\":\"\"}},\"coloraxis\":{\"colorbar\":{\"outlinewidth\":0,\"ticks\":\"\"}},\"colorscale\":{\"sequential\":[[0.0,\"#0d0887\"],[0.1111111111111111,\"#46039f\"],[0.2222222222222222,\"#7201a8\"],[0.3333333333333333,\"#9c179e\"],[0.4444444444444444,\"#bd3786\"],[0.5555555555555556,\"#d8576b\"],[0.6666666666666666,\"#ed7953\"],[0.7777777777777778,\"#fb9f3a\"],[0.8888888888888888,\"#fdca26\"],[1.0,\"#f0f921\"]],\"sequentialminus\":[[0.0,\"#0d0887\"],[0.1111111111111111,\"#46039f\"],[0.2222222222222222,\"#7201a8\"],[0.3333333333333333,\"#9c179e\"],[0.4444444444444444,\"#bd3786\"],[0.5555555555555556,\"#d8576b\"],[0.6666666666666666,\"#ed7953\"],[0.7777777777777778,\"#fb9f3a\"],[0.8888888888888888,\"#fdca26\"],[1.0,\"#f0f921\"]],\"diverging\":[[0,\"#8e0152\"],[0.1,\"#c51b7d\"],[0.2,\"#de77ae\"],[0.3,\"#f1b6da\"],[0.4,\"#fde0ef\"],[0.5,\"#f7f7f7\"],[0.6,\"#e6f5d0\"],[0.7,\"#b8e186\"],[0.8,\"#7fbc41\"],[0.9,\"#4d9221\"],[1,\"#276419\"]]},\"xaxis\":{\"gridcolor\":\"white\",\"linecolor\":\"white\",\"ticks\":\"\",\"title\":{\"standoff\":15},\"zerolinecolor\":\"white\",\"automargin\":true,\"zerolinewidth\":2},\"yaxis\":{\"gridcolor\":\"white\",\"linecolor\":\"white\",\"ticks\":\"\",\"title\":{\"standoff\":15},\"zerolinecolor\":\"white\",\"automargin\":true,\"zerolinewidth\":2},\"scene\":{\"xaxis\":{\"backgroundcolor\":\"#E5ECF6\",\"gridcolor\":\"white\",\"linecolor\":\"white\",\"showbackground\":true,\"ticks\":\"\",\"zerolinecolor\":\"white\",\"gridwidth\":2},\"yaxis\":{\"backgroundcolor\":\"#E5ECF6\",\"gridcolor\":\"white\",\"linecolor\":\"white\",\"showbackground\":true,\"ticks\":\"\",\"zerolinecolor\":\"white\",\"gridwidth\":2},\"zaxis\":{\"backgroundcolor\":\"#E5ECF6\",\"gridcolor\":\"white\",\"linecolor\":\"white\",\"showbackground\":true,\"ticks\":\"\",\"zerolinecolor\":\"white\",\"gridwidth\":2}},\"shapedefaults\":{\"line\":{\"color\":\"#2a3f5f\"}},\"annotationdefaults\":{\"arrowcolor\":\"#2a3f5f\",\"arrowhead\":0,\"arrowwidth\":1},\"geo\":{\"bgcolor\":\"white\",\"landcolor\":\"#E5ECF6\",\"subunitcolor\":\"white\",\"showland\":true,\"showlakes\":true,\"lakecolor\":\"white\"},\"title\":{\"x\":0.05},\"mapbox\":{\"style\":\"light\"}}},\"autosize\":false,\"width\":900,\"height\":900,\"title\":{\"text\":\"Feature Importances\"},\"xaxis\":{\"title\":{\"text\":\"Relative Importance\"}}},                        {\"responsive\": true}                    ).then(function(){\n",
       "                            \n",
       "var gd = document.getElementById('e9fb7050-36bf-4844-951d-c7e8643766d9');\n",
       "var x = new MutationObserver(function (mutations, observer) {{\n",
       "        var display = window.getComputedStyle(gd).display;\n",
       "        if (!display || display === 'none') {{\n",
       "            console.log([gd, 'removed!']);\n",
       "            Plotly.purge(gd);\n",
       "            observer.disconnect();\n",
       "        }}\n",
       "}});\n",
       "\n",
       "// Listen for the removal of the full notebook cells\n",
       "var notebookContainer = gd.closest('#notebook-container');\n",
       "if (notebookContainer) {{\n",
       "    x.observe(notebookContainer, {childList: true});\n",
       "}}\n",
       "\n",
       "// Listen for the clearing of the current output cell\n",
       "var outputEl = gd.closest('.output');\n",
       "if (outputEl) {{\n",
       "    x.observe(outputEl, {childList: true});\n",
       "}}\n",
       "\n",
       "                        })                };                });            </script>        </div>"
      ]
     },
     "metadata": {},
     "output_type": "display_data"
    }
   ],
   "source": [
    "import plotly.graph_objects as go\n",
    "\n",
    "features = X_train.columns\n",
    "importances = ctb_model.feature_importances_\n",
    "indices = np.argsort(importances)\n",
    "\n",
    "\n",
    "fig = go.Figure(go.Bar(\n",
    "            x=importances[indices],\n",
    "            y=[features[i] for i in indices],\n",
    "            orientation='h',\n",
    "\n",
    "            ))\n",
    "\n",
    "fig.update_layout(\n",
    "    autosize=False,\n",
    "    width=900,\n",
    "    height=900,\n",
    "    title='Feature Importances',\n",
    "    xaxis_title='Relative Importance'\n",
    "    )\n",
    "\n",
    "fig.show()"
   ]
  },
  {
   "cell_type": "markdown",
   "id": "d855fc7e-b4f1-4537-81c3-7c0f6807215d",
   "metadata": {},
   "source": [
    "## Оценим метрики catboost модели "
   ]
  },
  {
   "cell_type": "code",
   "execution_count": 216,
   "id": "d5d4372a-c04d-4fc8-9f57-3a3e61d64068",
   "metadata": {},
   "outputs": [],
   "source": [
    "test_feat = ctb_test.merge(\n",
    "                        stat_user_features,\n",
    "                        on=['user_id'],\n",
    "                        how='left')\\\n",
    "                    .merge(\n",
    "                        stat_item_features,\n",
    "                        on=['item_id'],\n",
    "                        how='left')\\\n",
    "                    .merge(\n",
    "                            pred_1lvl[['user_id', 'item_id']],\n",
    "                            on=['user_id', 'item_id'],\n",
    "                            how='left')"
   ]
  },
  {
   "cell_type": "code",
   "execution_count": 217,
   "id": "d1aabde6-fc46-4239-974e-267ba8988f40",
   "metadata": {},
   "outputs": [],
   "source": [
    "# fillna for catboost with the most frequent value \n",
    "test_feat = test_feat.fillna(X_train.mode().iloc[0])"
   ]
  },
  {
   "cell_type": "code",
   "execution_count": 218,
   "id": "d2fe8e4d-6232-4b8f-bd23-8b219b3573dd",
   "metadata": {},
   "outputs": [],
   "source": [
    "X_test, y_test = test_feat.drop(drop_col + target_col, axis=1), test_feat['target']"
   ]
  },
  {
   "cell_type": "code",
   "execution_count": 219,
   "id": "a1f58ede-8c4c-48f2-a96d-77763a2229cb",
   "metadata": {},
   "outputs": [],
   "source": [
    "X_test_sc = scaler.transform(X_test)"
   ]
  },
  {
   "cell_type": "code",
   "execution_count": 220,
   "id": "7129d876-d8ee-4042-b87a-a412fa542512",
   "metadata": {},
   "outputs": [],
   "source": [
    "y_pred_ctb = ctb_model.predict_proba(X_test_sc)"
   ]
  },
  {
   "cell_type": "code",
   "execution_count": 221,
   "id": "6e19eceb-36ec-4b34-912a-c7006c0fcff6",
   "metadata": {},
   "outputs": [
    {
     "data": {
      "text/plain": [
       "(15676,)"
      ]
     },
     "execution_count": 221,
     "metadata": {},
     "output_type": "execute_result"
    }
   ],
   "source": [
    "ctb_model.predict(X_test_sc).shape"
   ]
  },
  {
   "cell_type": "code",
   "execution_count": 222,
   "id": "97804ba2-2978-47ea-9520-fbf5c2237ae7",
   "metadata": {},
   "outputs": [
    {
     "data": {
      "text/plain": [
       "'ROC AUC score = 0.94'"
      ]
     },
     "execution_count": 222,
     "metadata": {},
     "output_type": "execute_result"
    }
   ],
   "source": [
    "from sklearn.metrics import roc_auc_score\n",
    "\n",
    "f\"ROC AUC score = {roc_auc_score(y_test, y_pred_ctb[:, 1]):.2f}\""
   ]
  },
  {
   "cell_type": "code",
   "execution_count": 223,
   "id": "ebeb1cff-9172-44b7-a888-adfb1ea61949",
   "metadata": {},
   "outputs": [],
   "source": [
    "from sklearn.metrics import precision_recall_curve\n",
    "\n",
    "precision, recall, thresholds = precision_recall_curve(y_test, y_pred_ctb[:, 1])"
   ]
  },
  {
   "cell_type": "code",
   "execution_count": 224,
   "id": "d5c51ccb-756f-458c-82e7-2300bbce989c",
   "metadata": {},
   "outputs": [
    {
     "data": {
      "image/png": "[encoded data removed]",
      "text/plain": [
       "<Figure size 640x480 with 1 Axes>"
      ]
     },
     "metadata": {},
     "output_type": "display_data"
    }
   ],
   "source": [
    "from matplotlib import pyplot\n",
    "\n",
    "pyplot.plot(recall, precision, marker='.', label='Logistic')\n",
    "# axis labels\n",
    "pyplot.xlabel('Recall')\n",
    "pyplot.ylabel('Precision')\n",
    "# show the legend\n",
    "pyplot.legend()\n",
    "# show the plot\n",
    "pyplot.show()"
   ]
  },
  {
   "cell_type": "code",
   "execution_count": 238,
   "id": "bd8b688a-a48e-48fd-8cab-251969e333c1",
   "metadata": {},
   "outputs": [
    {
     "data": {
      "text/plain": [
       "(0.9099932325738778, 0.11124001, 0.5860816504431208)"
      ]
     },
     "execution_count": 238,
     "metadata": {},
     "output_type": "execute_result"
    }
   ],
   "source": [
    "recall[4912], thresholds[4912], precision[4912]"
   ]
  },
  {
   "cell_type": "code",
   "execution_count": 235,
   "id": "57771935-06c1-4399-912f-ccb3a4a89bd3",
   "metadata": {},
   "outputs": [
    {
     "data": {
      "text/plain": [
       "(array([4912, 4913, 4914, 4915, 4916, 4917, 4918, 4919, 4920, 4921, 4922,\n",
       "        4923, 4924, 4925, 4926, 4927, 4928, 4929, 4930, 4931, 4932, 4933,\n",
       "        4934, 4935, 4936, 4937, 4938, 4939, 4940, 4941, 4942, 4943, 4944,\n",
       "        4945, 4946, 4947, 4948, 4949, 4950, 4951, 4952, 4953, 4954, 4955,\n",
       "        4956, 4957, 4958, 4959, 4960, 4961, 4962, 4963, 4964, 4965, 4966,\n",
       "        4967, 4968, 4969, 4970, 4971, 4972, 4973, 4974, 4975, 4976, 4977,\n",
       "        4978, 4979, 4980, 4981, 4982, 4983, 4984, 4985, 4986, 4987, 4988,\n",
       "        4989, 4990, 4991, 4992, 4993, 4994, 4995, 4996, 4997, 4998, 4999,\n",
       "        5000, 5001, 5002, 5003, 5004, 5005, 5006, 5007, 5008, 5009, 5010,\n",
       "        5011, 5012, 5013, 5014, 5015, 5016, 5017, 5018, 5019, 5020, 5021,\n",
       "        5022, 5023, 5024, 5025, 5026, 5027, 5028, 5029, 5030, 5031, 5032,\n",
       "        5033, 5034, 5035, 5036, 5037, 5038, 5039, 5040, 5041, 5042, 5043,\n",
       "        5044, 5045, 5046, 5047, 5048, 5049, 5050, 5051, 5052, 5053, 5054,\n",
       "        5055, 5056, 5057, 5058, 5059, 5060, 5061, 5062, 5063, 5064, 5065,\n",
       "        5066, 5067, 5068, 5069, 5070, 5071, 5072, 5073, 5074, 5075, 5076,\n",
       "        5077, 5078, 5079, 5080, 5081, 5082, 5083, 5084, 5085, 5086, 5087,\n",
       "        5088, 5089, 5090, 5091, 5092, 5093, 5094, 5095, 5096, 5097, 5098,\n",
       "        5099, 5100, 5101, 5102, 5103, 5104, 5105, 5106, 5107, 5108, 5109,\n",
       "        5110, 5111, 5112, 5113, 5114, 5115, 5116, 5117, 5118, 5119, 5120,\n",
       "        5121, 5122, 5123, 5124, 5125, 5126, 5127, 5128, 5129, 5130, 5131,\n",
       "        5132]),)"
      ]
     },
     "execution_count": 235,
     "metadata": {},
     "output_type": "execute_result"
    }
   ],
   "source": [
    "np.where((recall > 0.9) & (recall < 0.91))"
   ]
  },
  {
   "cell_type": "markdown",
   "id": "f4a18e9a-652e-4115-93da-5875d116230b",
   "metadata": {},
   "source": [
    "# Метрики качества на глобальном test\n",
    "\n",
    "- Формируем рекомендации отдельно моделью 1 этапа - LightFM\n",
    "- Отдельно двухэтапной моделью LightFM + Catboost \n",
    "- Сравниваем\n"
   ]
  },
  {
   "cell_type": "code",
   "execution_count": 225,
   "id": "d0d5b64a-cc1a-4c0a-91b0-bccd18275251",
   "metadata": {},
   "outputs": [],
   "source": [
    "pred_feats = lfm\\\n",
    "                .merge(\n",
    "                        ncf,\n",
    "                        on=['user_id', 'item_id'],\n",
    "                        how='outer')\\\n",
    "                .merge(\n",
    "                        popular,\n",
    "                        on=['user_id', 'item_id'],\n",
    "                        how='outer')"
   ]
  },
  {
   "cell_type": "code",
   "execution_count": 226,
   "id": "bac513c6-9fb1-4f2c-95e9-45f7f7676159",
   "metadata": {},
   "outputs": [],
   "source": [
    "# фичи для теста\n",
    "score_feat = pred_feats.merge(\n",
    "                            stat_user_features,\n",
    "                            on=['user_id'],\n",
    "                            how='left')\\\n",
    "                        .merge(\n",
    "                            stat_item_features,\n",
    "                            on=['item_id'],\n",
    "                            how='left')\\\n",
    "                        .merge(\n",
    "                            test[['user_id', 'item_id']],\n",
    "                            on=['user_id', 'item_id'],\n",
    "                            how='left')\n",
    "\n",
    "# fillna with the most frequent value \n",
    "score_feat = score_feat.fillna(X_train.mode().iloc[0])"
   ]
  },
  {
   "cell_type": "code",
   "execution_count": 227,
   "id": "5ea02943-bc0d-4515-b595-f4265fbc4cbf",
   "metadata": {},
   "outputs": [],
   "source": [
    "score_feat_sc = scaler.transform(score_feat.drop(drop_col, axis=1, errors='ignore'))"
   ]
  },
  {
   "cell_type": "code",
   "execution_count": 240,
   "id": "ce7f56bd-8c10-4f4d-aa53-1109f083841d",
   "metadata": {
    "tags": []
   },
   "outputs": [],
   "source": [
    "# catboost predict_proba\n",
    "ctb_prediction = ctb_model.predict_proba(score_feat.drop(drop_col, axis=1, errors='ignore'))\n",
    "pred_feats['ctb_pred'] = ctb_prediction[:, 1]"
   ]
  },
  {
   "cell_type": "code",
   "execution_count": 243,
   "id": "14c5425b-2d75-4f68-805c-041de262d9c7",
   "metadata": {
    "tags": []
   },
   "outputs": [],
   "source": [
    "# сортируем по скору внутри одного пользователя и проставляем новый ранг\n",
    "pred_feats = pred_feats.sort_values(\n",
    "    by=['user_id', 'ctb_pred'], ascending=[True, False])\n",
    "pred_feats['rank_ctb'] = pred_feats.groupby('user_id').cumcount() + 1"
   ]
  },
  {
   "cell_type": "code",
   "execution_count": 188,
   "id": "5f377927-25eb-4ca0-b230-352096323318",
   "metadata": {
    "tags": []
   },
   "outputs": [],
   "source": [
    "# test['i_qty'] = test.groupby(['user_id', 'item_id'])['qty'].transform(sum)\n",
    "# test['last_dt'] = test.groupby(['user_id', 'item_id']).date.transform(max)\n",
    "# test['last_week_day'] = test.apply(lambda x: x['last_dt'].weekday(), axis=1)\n",
    "# test['last_month'] = test.apply(lambda x: x['last_dt'].month, axis=1)\n",
    "\n",
    "# # преобразуем в матрицу user-item-ranting\n",
    "# test = test[['user_id', 'item_id', 'last_month', 'last_week_day', 'i_qty']].drop_duplicates()\n",
    "\n",
    "\n",
    "# print(f\" pred: {test.shape}\")"
   ]
  },
  {
   "cell_type": "code",
   "execution_count": 244,
   "id": "d0cdf6d9-03a0-41f7-817c-c2a3e8603c17",
   "metadata": {},
   "outputs": [
    {
     "data": {
      "text/plain": [
       "Precision@1     0.211544\n",
       "Recall@1        0.094238\n",
       "Precision@2     0.189785\n",
       "Recall@2        0.163626\n",
       "Precision@3     0.131359\n",
       "Recall@3        0.167831\n",
       "Precision@4     0.115594\n",
       "Recall@4        0.183549\n",
       "Precision@5     0.097129\n",
       "Recall@5        0.195141\n",
       "Precision@6     0.087287\n",
       "Recall@6        0.202572\n",
       "Precision@7     0.077537\n",
       "Recall@7        0.208051\n",
       "Precision@8     0.076496\n",
       "Recall@8        0.224017\n",
       "Precision@9     0.069810\n",
       "Recall@9        0.226979\n",
       "Precision@10    0.063252\n",
       "Recall@10       0.227697\n",
       "MAP@10          0.179731\n",
       "MRR             0.325744\n",
       "dtype: float64"
      ]
     },
     "execution_count": 244,
     "metadata": {},
     "output_type": "execute_result"
    }
   ],
   "source": [
    "model_2step_metrics_ctb = compute_metrics(test[['user_id', 'item_id']],\n",
    "                                       pred_feats, \n",
    "                                       top_N=10, \n",
    "                                       rank_col='rank_ctb')\n",
    "model_2step_metrics_ctb"
   ]
  },
  {
   "cell_type": "code",
   "execution_count": 232,
   "id": "996ba31f-8e88-4193-9ee8-82c1a0cd3c15",
   "metadata": {},
   "outputs": [
    {
     "data": {
      "text/html": [
       "<div>\n",
       "<style scoped>\n",
       "    .dataframe tbody tr th:only-of-type {\n",
       "        vertical-align: middle;\n",
       "    }\n",
       "\n",
       "    .dataframe tbody tr th {\n",
       "        vertical-align: top;\n",
       "    }\n",
       "\n",
       "    .dataframe thead th {\n",
       "        text-align: right;\n",
       "    }\n",
       "</style>\n",
       "<table border=\"1\" class=\"dataframe\">\n",
       "  <thead>\n",
       "    <tr style=\"text-align: right;\">\n",
       "      <th></th>\n",
       "      <th>Precision@1</th>\n",
       "      <th>Recall@1</th>\n",
       "      <th>Precision@2</th>\n",
       "      <th>Recall@2</th>\n",
       "      <th>Precision@3</th>\n",
       "      <th>Recall@3</th>\n",
       "      <th>Precision@4</th>\n",
       "      <th>Recall@4</th>\n",
       "      <th>Precision@5</th>\n",
       "      <th>Recall@5</th>\n",
       "      <th>...</th>\n",
       "      <th>Precision@7</th>\n",
       "      <th>Recall@7</th>\n",
       "      <th>Precision@8</th>\n",
       "      <th>Recall@8</th>\n",
       "      <th>Precision@9</th>\n",
       "      <th>Recall@9</th>\n",
       "      <th>Precision@10</th>\n",
       "      <th>Recall@10</th>\n",
       "      <th>MAP@10</th>\n",
       "      <th>MRR</th>\n",
       "    </tr>\n",
       "  </thead>\n",
       "  <tbody>\n",
       "    <tr>\n",
       "      <th>model_2step_ctb</th>\n",
       "      <td>0.211544</td>\n",
       "      <td>0.094238</td>\n",
       "      <td>0.189785</td>\n",
       "      <td>0.163626</td>\n",
       "      <td>0.131359</td>\n",
       "      <td>0.167831</td>\n",
       "      <td>0.115594</td>\n",
       "      <td>0.183549</td>\n",
       "      <td>0.097129</td>\n",
       "      <td>0.195141</td>\n",
       "      <td>...</td>\n",
       "      <td>0.077537</td>\n",
       "      <td>0.208051</td>\n",
       "      <td>0.076496</td>\n",
       "      <td>0.224017</td>\n",
       "      <td>0.06981</td>\n",
       "      <td>0.226979</td>\n",
       "      <td>0.063252</td>\n",
       "      <td>0.227697</td>\n",
       "      <td>0.179731</td>\n",
       "      <td>0.325744</td>\n",
       "    </tr>\n",
       "  </tbody>\n",
       "</table>\n",
       "<p>1 rows × 22 columns</p>\n",
       "</div>"
      ],
      "text/plain": [
       "                 Precision@1  Recall@1  Precision@2  Recall@2  Precision@3  \\\n",
       "model_2step_ctb     0.211544  0.094238     0.189785  0.163626     0.131359   \n",
       "\n",
       "                 Recall@3  Precision@4  Recall@4  Precision@5  Recall@5  ...  \\\n",
       "model_2step_ctb  0.167831     0.115594  0.183549     0.097129  0.195141  ...   \n",
       "\n",
       "                 Precision@7  Recall@7  Precision@8  Recall@8  Precision@9  \\\n",
       "model_2step_ctb     0.077537  0.208051     0.076496  0.224017      0.06981   \n",
       "\n",
       "                 Recall@9  Precision@10  Recall@10    MAP@10       MRR  \n",
       "model_2step_ctb  0.226979      0.063252   0.227697  0.179731  0.325744  \n",
       "\n",
       "[1 rows x 22 columns]"
      ]
     },
     "execution_count": 232,
     "metadata": {},
     "output_type": "execute_result"
    }
   ],
   "source": [
    "df_metrics = pd.concat([\n",
    "    pd.DataFrame(model_2step_metrics_ctb).transpose()\n",
    "])\n",
    "\n",
    "df_metrics.index = ['model_2step_ctb']\n",
    "\n",
    "df_metrics"
   ]
  },
  {
   "cell_type": "code",
   "execution_count": 233,
   "id": "64c22c4d-341a-4984-9596-f6f9ec857389",
   "metadata": {},
   "outputs": [
    {
     "data": {
      "image/png": "[encoded data removed]",
      "text/plain": [
       "<Figure size 700x1500 with 2 Axes>"
      ]
     },
     "metadata": {},
     "output_type": "display_data"
    }
   ],
   "source": [
    "fig, axes = plt.subplots(ncols=1, nrows=2, figsize=(7, 15))\n",
    "\n",
    "for indx, metric in enumerate([f'Recall@', f'Precision@']):\n",
    "    for model in df_metrics.index:\n",
    "        axes[indx].plot(range(1, 11), \n",
    "                        df_metrics.loc[model][[metric+f'{k}' for k in range(1, 11)]].values,\n",
    "                        label=model, marker='o')\n",
    "        axes[indx].legend()\n",
    "        axes[indx].set_title(f'{metric}k')\n",
    "        axes[indx].set_xlabel('k')"
   ]
  },
  {
   "cell_type": "code",
   "execution_count": 92,
   "id": "048d35df-d377-4961-8101-aae0fa26df93",
   "metadata": {},
   "outputs": [
    {
     "data": {
      "image/png": "[encoded data removed]",
      "text/plain": [
       "<Figure size 700x1500 with 2 Axes>"
      ]
     },
     "metadata": {},
     "output_type": "display_data"
    }
   ],
   "source": [
    "fig, axes = plt.subplots(ncols=1, nrows=2, figsize=(7, 15))\n",
    "\n",
    "for indx, metric in enumerate([f'Recall@', f'Precision@']):\n",
    "    for model in df_metrics.index:\n",
    "        axes[indx].plot(range(1, 11), \n",
    "                        df_metrics.loc[model][[metric+f'{k}' for k in range(1, 11)]].values,\n",
    "                        label=model, marker='o')\n",
    "        axes[indx].legend()\n",
    "        axes[indx].set_title(f'{metric}k')\n",
    "        axes[indx].set_xlabel('k')"
   ]
  },
  {
   "cell_type": "code",
   "execution_count": null,
   "id": "e8faeaab-835c-415f-a721-79e5ee4333d4",
   "metadata": {},
   "outputs": [],
   "source": []
  },
  {
   "cell_type": "code",
   "execution_count": null,
   "id": "11ab1218-b34f-423e-b45d-92ff4b49299e",
   "metadata": {},
   "outputs": [],
   "source": []
  },
  {
   "cell_type": "code",
   "execution_count": null,
   "id": "c5f3544c-ef32-4b26-88b4-d25f926e98a2",
   "metadata": {},
   "outputs": [],
   "source": []
  },
  {
   "cell_type": "code",
   "execution_count": null,
   "id": "815afec9-1667-4104-b653-7d51fa4456c4",
   "metadata": {},
   "outputs": [],
   "source": []
  },
  {
   "cell_type": "code",
   "execution_count": null,
   "id": "712ebcc7-ac52-4bfd-9d2b-c1a64ffd6d6e",
   "metadata": {},
   "outputs": [],
   "source": []
  },
  {
   "cell_type": "code",
   "execution_count": null,
   "id": "b4744035-c0ad-4cd1-a688-8a1cb27a9c5b",
   "metadata": {},
   "outputs": [],
   "source": []
  },
  {
   "cell_type": "code",
   "execution_count": null,
   "id": "b92ce014-c0f5-4f66-9b15-106388879895",
   "metadata": {},
   "outputs": [],
   "source": []
  }
 ],
 "metadata": {
  "kernelspec": {
   "display_name": "Python 3 (ipykernel)",
   "language": "python",
   "name": "python3"
  },
  "language_info": {
   "codemirror_mode": {
    "name": "ipython",
    "version": 3
   },
   "file_extension": ".py",
   "mimetype": "text/x-python",
   "name": "python",
   "nbconvert_exporter": "python",
   "pygments_lexer": "ipython3",
   "version": "3.9.7"
  }
 },
 "nbformat": 4,
 "nbformat_minor": 5
}
