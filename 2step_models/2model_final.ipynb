{
 "cells": [
  {
   "cell_type": "code",
   "execution_count": 52,
   "id": "085114df-47bf-4042-9940-b03d717b99b4",
   "metadata": {},
   "outputs": [],
   "source": [
    "import pandas as pd\n",
    "import numpy as np\n",
    "import datetime\n",
    "import matplotlib.pyplot as plt\n",
    "from datetime import datetime\n",
    "from tqdm.auto import tqdm\n",
    "from sklearn.utils import shuffle\n",
    "from sklearn.model_selection import train_test_split\n",
    "import sys\n",
    "sys.path.append('../')\n",
    "from utils.prep_dataset import prepare_df\n",
    "from utils.popular_model import top_prediction\n",
    "from utils.create_features import stat_features\n",
    "from utils.tools import generate_lightfm_recs_mapper, compute_metrics"
   ]
  },
  {
   "cell_type": "code",
   "execution_count": 53,
   "id": "988b1c53-a26a-43f1-9f49-0d5f9622951e",
   "metadata": {
    "tags": []
   },
   "outputs": [],
   "source": [
    "# LightAutoML presets, task and report generation\n",
    "from lightautoml.automl.presets.tabular_presets import TabularAutoML, TabularUtilizedAutoML\n",
    "from lightautoml.tasks import Task\n",
    "from lightautoml.report.report_deco import ReportDeco"
   ]
  },
  {
   "cell_type": "code",
   "execution_count": 54,
   "id": "6e889d07-b977-4f62-9b6b-a3165931184c",
   "metadata": {},
   "outputs": [],
   "source": [
    "TOP_CANDIDATES = 30\n",
    "TOP_FOR_TEST = 200"
   ]
  },
  {
   "cell_type": "code",
   "execution_count": 55,
   "id": "4177691d-aa9b-4a1f-85b8-934177419389",
   "metadata": {},
   "outputs": [],
   "source": [
    "df = pd.read_csv('../data/prepare_data.csv')\n",
    "\n",
    "df['user_id'] = df.groupby(['Телефон_new', 'ЭлектроннаяПочта_new']).ngroup()\n",
    "df = df[(df['Цена'] > 0) & (df['Количество'] > 0)] # оставляем товары, стоимость которых больше 0\n",
    "df = df.drop_duplicates()\n",
    "df = df.dropna(subset=['item_name']) # удаляем случаи, когда товары неизветны (посмореть их долю)\n",
    "df = df.dropna(subset=['user_id']) # удаляем user_id, у которых неизветны айдишники (посмореть их долю)\n",
    "df['item_id'] = df.groupby(['item_name', 'Группа2']).ngroup() #create item_id\n",
    "df['user_id'] = df.apply(lambda x: int(x['user_id']), axis=1)"
   ]
  },
  {
   "cell_type": "markdown",
   "id": "909a3e50-e07c-4c32-ad9a-815d4cb189b9",
   "metadata": {
    "tags": []
   },
   "source": [
    "## Делим на test - train\n",
    "\n",
    "На test оставим последние 7 дней"
   ]
  },
  {
   "cell_type": "code",
   "execution_count": 56,
   "id": "52a66f32-26eb-43e0-8f6d-906a84923ed7",
   "metadata": {},
   "outputs": [],
   "source": [
    "df['date'] = pd.to_datetime(df['date'])\n",
    "max_date = df['date'].max()\n",
    "\n",
    "df_1lvl = df[['user_id', 'item_id', 'Количество', 'date']]\n",
    "df_1lvl['qty'] = df_1lvl.groupby(['user_id', 'item_id', 'date'])['Количество'].transform(sum)\n",
    "df_1lvl = df_1lvl[['user_id', 'item_id', 'qty', 'date']].drop_duplicates()"
   ]
  },
  {
   "cell_type": "code",
   "execution_count": 57,
   "id": "b7b6617f-0092-4ab4-87a5-52c995a079b7",
   "metadata": {},
   "outputs": [
    {
     "name": "stdout",
     "output_type": "stream",
     "text": [
      "train: (332153, 4)\n",
      "test: (48753, 4)\n"
     ]
    }
   ],
   "source": [
    "train = df_1lvl[(df_1lvl['date'] < max_date - pd.Timedelta(days=7))]\n",
    "test = df_1lvl[(df_1lvl['date'] >= max_date - pd.Timedelta(days=7))]\n",
    "\n",
    "print(f\"train: {train.shape}\")\n",
    "print(f\"test: {test.shape}\")"
   ]
  },
  {
   "cell_type": "code",
   "execution_count": 58,
   "id": "e22811a7-af41-4da6-83a3-f125067f215c",
   "metadata": {},
   "outputs": [
    {
     "data": {
      "text/plain": [
       "Timestamp('2017-05-25 00:00:00')"
      ]
     },
     "execution_count": 58,
     "metadata": {},
     "output_type": "execute_result"
    }
   ],
   "source": [
    "for_1lvl_date_threshold = train['date'].quantile(q=0.5, interpolation='nearest')\n",
    "for_1lvl_date_threshold"
   ]
  },
  {
   "cell_type": "code",
   "execution_count": 59,
   "id": "2fa0f306-fe16-46ff-bc47-233ef8930b78",
   "metadata": {},
   "outputs": [
    {
     "name": "stdout",
     "output_type": "stream",
     "text": [
      "train: (163057, 4)\n",
      "pred: (169096, 4)\n"
     ]
    }
   ],
   "source": [
    "train_1lvl = train[(train['date'] < for_1lvl_date_threshold)]\n",
    "pred_1lvl = train[(train['date'] >= for_1lvl_date_threshold)]\n",
    "\n",
    "print(f\"train: {train_1lvl.shape}\")\n",
    "print(f\"pred: {pred_1lvl.shape}\")"
   ]
  },
  {
   "cell_type": "code",
   "execution_count": 60,
   "id": "ce0675de-50ae-4678-ad54-bfc958a0af55",
   "metadata": {
    "tags": []
   },
   "outputs": [
    {
     "name": "stdout",
     "output_type": "stream",
     "text": [
      " train lvl1: (152702, 5)\n"
     ]
    }
   ],
   "source": [
    "train_1lvl['i_qty'] = train_1lvl.groupby(['user_id', 'item_id'])['qty'].transform(sum)\n",
    "train_1lvl['last_dt'] = train_1lvl.groupby(['user_id', 'item_id']).date.transform(max)\n",
    "train_1lvl['last_week_day'] = train_1lvl.apply(lambda x: x['last_dt'].weekday(), axis=1)\n",
    "train_1lvl['last_month'] = train_1lvl.apply(lambda x: x['last_dt'].month, axis=1)\n",
    "\n",
    "# преобразуем в матрицу user-item-ranting\n",
    "train_1lvl = train_1lvl[['user_id', 'item_id', 'last_month', 'last_week_day', 'i_qty']].drop_duplicates()\n",
    "\n",
    "print(f\" train lvl1: {train_1lvl.shape}\")"
   ]
  },
  {
   "cell_type": "code",
   "execution_count": 61,
   "id": "79388b5b-98fb-465e-901b-0d1cdf77cf47",
   "metadata": {},
   "outputs": [
    {
     "name": "stdout",
     "output_type": "stream",
     "text": [
      "lfm_train: (152702, 5)\n",
      "lfm_pred: (157342, 3)\n"
     ]
    }
   ],
   "source": [
    "#train_1lvl['i_qty'] = train_1lvl.groupby(['user_id', 'item_id'])['qty'].transform(sum)\n",
    "pred_1lvl['i_qty'] = pred_1lvl.groupby(['user_id', 'item_id'])['qty'].transform(sum)\n",
    "\n",
    "# преобразуем в матрицу user-item-ranting\n",
    "#train_1lvl = train_1lvl[['user_id', 'item_id', 'i_qty']].drop_duplicates()\n",
    "pred_1lvl = pred_1lvl[['user_id', 'item_id', 'i_qty']].drop_duplicates()\n",
    "\n",
    "print(f\"lfm_train: {train_1lvl.shape}\")\n",
    "print(f\"lfm_pred: {pred_1lvl.shape}\")"
   ]
  },
  {
   "cell_type": "code",
   "execution_count": 62,
   "id": "f4532694-040d-4b57-93be-022ea0da74b1",
   "metadata": {},
   "outputs": [],
   "source": [
    "test['i_qty'] = test.groupby(['user_id', 'item_id'])['qty'].transform(sum)\n",
    "test = test[['user_id', 'item_id', 'i_qty']].drop_duplicates()\n",
    "# оставляем только теплых пользователей\n",
    "test = test[test['user_id'].isin(train_1lvl['user_id'].unique())]"
   ]
  },
  {
   "cell_type": "code",
   "execution_count": 63,
   "id": "d250e9db-8ba3-4fbe-a094-ad6a6032b637",
   "metadata": {
    "tags": []
   },
   "outputs": [
    {
     "name": "stdout",
     "output_type": "stream",
     "text": [
      " train: (296537, 5)\n"
     ]
    }
   ],
   "source": [
    "train['i_qty'] = train.groupby(['user_id', 'item_id'])['qty'].transform(sum)\n",
    "train['last_dt'] = train.groupby(['user_id', 'item_id']).date.transform(max)\n",
    "train['last_week_day'] = train.apply(lambda x: x['last_dt'].weekday(), axis=1)\n",
    "train['last_month'] = train.apply(lambda x: x['last_dt'].month, axis=1)\n",
    "\n",
    "# преобразуем в матрицу user-item-ranting\n",
    "train = train[['user_id', 'item_id', 'last_month', 'last_week_day', 'i_qty']].drop_duplicates()\n",
    "\n",
    "print(f\" train: {train.shape}\")"
   ]
  },
  {
   "cell_type": "markdown",
   "id": "f110877f-c66b-4fd1-9085-c5c5446614f6",
   "metadata": {
    "tags": []
   },
   "source": [
    "# Level 1\n",
    "## Считываем кандидатов от моделей первого уровня \n",
    "- NCF\n",
    "- LightFM\n",
    "- Popular items"
   ]
  },
  {
   "cell_type": "code",
   "execution_count": 64,
   "id": "f852d863-f947-4d95-aa46-98d1d11dd0e0",
   "metadata": {},
   "outputs": [],
   "source": [
    "candidates_lghtfm = pd.read_csv('../prediction_1lvl_models/top30_candidates_lghtfm.csv').drop(columns='index')\n",
    "candidates_popular = pd.read_csv('../prediction_1lvl_models/top30_candidates_popular.csv').drop(columns='index')\n",
    "candidates_ncf = pd.read_csv('../prediction_1lvl_models/top30_candidates_ncf.csv')"
   ]
  },
  {
   "cell_type": "code",
   "execution_count": 65,
   "id": "1c0c199a-c5f6-4911-a16d-de46e938ab55",
   "metadata": {},
   "outputs": [],
   "source": [
    "lfm = pd.read_csv('../prediction_1lvl_models/top200_candidates_lfm.csv')\n",
    "popular = pd.read_csv('../prediction_1lvl_models/top200_candidates_popular.csv')\n",
    "ncf = pd.read_csv('../prediction_1lvl_models/top200_candidates_ncf.csv')"
   ]
  },
  {
   "cell_type": "markdown",
   "id": "230999a7-4b9a-406c-ab1e-9c534837882e",
   "metadata": {
    "jp-MarkdownHeadingCollapsed": true,
    "tags": []
   },
   "source": [
    "## 1) Метрики качества моделей первого уровня"
   ]
  },
  {
   "cell_type": "code",
   "execution_count": 66,
   "id": "2a6f91d6-e78f-42c1-bc05-120e1ddc86be",
   "metadata": {},
   "outputs": [],
   "source": [
    "# оставляем только теплых пользователей\n",
    "test = test[test['user_id'].isin(train_1lvl['user_id'].unique())]"
   ]
  },
  {
   "cell_type": "code",
   "execution_count": 67,
   "id": "80d00854-3ccb-44df-94c2-3cae70abd7cb",
   "metadata": {
    "tags": []
   },
   "outputs": [
    {
     "data": {
      "text/plain": [
       "Precision@1     0.211480\n",
       "Recall@1        0.094210\n",
       "Precision@2     0.189728\n",
       "Recall@2        0.163577\n",
       "Precision@3     0.131319\n",
       "Recall@3        0.167780\n",
       "Precision@4     0.115559\n",
       "Recall@4        0.183493\n",
       "Precision@5     0.097100\n",
       "Recall@5        0.195082\n",
       "Precision@6     0.087261\n",
       "Recall@6        0.202511\n",
       "Precision@7     0.077514\n",
       "Recall@7        0.207988\n",
       "Precision@8     0.076473\n",
       "Recall@8        0.223950\n",
       "Precision@9     0.069789\n",
       "Recall@9        0.226911\n",
       "Precision@10    0.063233\n",
       "Recall@10       0.227628\n",
       "Precision@11    0.060093\n",
       "Recall@11       0.234015\n",
       "Precision@12    0.058233\n",
       "Recall@12       0.244566\n",
       "Precision@13    0.063281\n",
       "Recall@13       0.299318\n",
       "Precision@14    0.060898\n",
       "Recall@14       0.309026\n",
       "Precision@15    0.059255\n",
       "Recall@15       0.316600\n",
       "MAP@15          0.177013\n",
       "MRR             0.325431\n",
       "dtype: float64"
      ]
     },
     "execution_count": 67,
     "metadata": {},
     "output_type": "execute_result"
    }
   ],
   "source": [
    "lfm_metrics = compute_metrics(test[['user_id', 'item_id']],\n",
    "                              lfm, \n",
    "                              top_N=15, rank_col='lfm_rank')\n",
    "lfm_metrics"
   ]
  },
  {
   "cell_type": "code",
   "execution_count": 68,
   "id": "80bcf1c2-e79f-47ec-b049-53213fc4df51",
   "metadata": {},
   "outputs": [
    {
     "data": {
      "text/plain": [
       "Precision@1     0.044109\n",
       "Recall@1        0.008541\n",
       "Precision@2     0.040785\n",
       "Recall@2        0.015466\n",
       "Precision@3     0.034642\n",
       "Recall@3        0.019018\n",
       "Precision@4     0.029079\n",
       "Recall@4        0.020663\n",
       "Precision@5     0.024169\n",
       "Recall@5        0.021133\n",
       "Precision@6     0.020896\n",
       "Recall@6        0.021592\n",
       "Precision@7     0.018213\n",
       "Recall@7        0.021761\n",
       "Precision@8     0.016579\n",
       "Recall@8        0.022200\n",
       "Precision@9     0.014871\n",
       "Recall@9        0.022299\n",
       "Precision@10    0.013535\n",
       "Recall@10       0.022416\n",
       "Precision@11    0.012387\n",
       "Recall@11       0.022482\n",
       "Precision@12    0.011354\n",
       "Recall@12       0.022482\n",
       "Precision@13    0.010504\n",
       "Recall@13       0.022504\n",
       "Precision@14    0.009797\n",
       "Recall@14       0.022547\n",
       "Precision@15    0.009164\n",
       "Recall@15       0.022559\n",
       "MAP@15          0.016848\n",
       "MRR             0.060567\n",
       "dtype: float64"
      ]
     },
     "execution_count": 68,
     "metadata": {},
     "output_type": "execute_result"
    }
   ],
   "source": [
    "metrics_popular = compute_metrics(test[['user_id', 'item_id']],\n",
    "                              popular, \n",
    "                              top_N=15, rank_col='rank_top')\n",
    "metrics_popular"
   ]
  },
  {
   "cell_type": "code",
   "execution_count": 69,
   "id": "39f95ada-4b48-4c94-b4c5-5e1576be5bdf",
   "metadata": {},
   "outputs": [
    {
     "data": {
      "text/plain": [
       "Precision@1     0.094562\n",
       "Recall@1        0.030505\n",
       "Precision@2     0.082628\n",
       "Recall@2        0.048980\n",
       "Precision@3     0.072306\n",
       "Recall@3        0.062010\n",
       "Precision@4     0.064879\n",
       "Recall@4        0.073057\n",
       "Precision@5     0.060785\n",
       "Recall@5        0.084174\n",
       "Precision@6     0.057654\n",
       "Recall@6        0.095008\n",
       "Precision@7     0.054985\n",
       "Recall@7        0.104385\n",
       "Precision@8     0.052002\n",
       "Recall@8        0.112230\n",
       "Precision@9     0.049178\n",
       "Recall@9        0.119810\n",
       "Precision@10    0.046647\n",
       "Recall@10       0.125689\n",
       "Precision@11    0.045125\n",
       "Recall@11       0.132657\n",
       "Precision@12    0.043630\n",
       "Recall@12       0.139729\n",
       "Precision@13    0.042110\n",
       "Recall@13       0.146237\n",
       "Precision@14    0.041066\n",
       "Recall@14       0.152620\n",
       "Precision@15    0.040282\n",
       "Recall@15       0.159275\n",
       "MAP@15          0.081741\n",
       "MRR             0.174643\n",
       "dtype: float64"
      ]
     },
     "execution_count": 69,
     "metadata": {},
     "output_type": "execute_result"
    }
   ],
   "source": [
    "metrics_ncf = compute_metrics(test[['user_id', 'item_id']],\n",
    "                              ncf, \n",
    "                              top_N=15, rank_col='ncf_rank')\n",
    "metrics_ncf"
   ]
  },
  {
   "cell_type": "markdown",
   "id": "21c33d20-576a-4a15-8739-7b32dabcc090",
   "metadata": {
    "tags": []
   },
   "source": [
    "# Level 2: обучаем бустинг\n",
    "\n",
    "##  Собираем train + target\n",
    "\n",
    "### `target = 1` Позитивные взаимодействия = все что пользователь посмотрел из кандидатов"
   ]
  },
  {
   "cell_type": "code",
   "execution_count": 70,
   "id": "c55ab9ad-767e-4d79-a43c-ec798b41e10d",
   "metadata": {},
   "outputs": [],
   "source": [
    "pos_lightfm = candidates_lghtfm.merge(pred_1lvl[['user_id', 'item_id']],\n",
    "                        on=['user_id', 'item_id'],\n",
    "                        how='inner')\n",
    "pos_ncf = candidates_ncf.merge(pred_1lvl[['user_id', 'item_id']],\n",
    "                        on=['user_id', 'item_id'],\n",
    "                        how='inner')\n",
    "pos_popular = candidates_popular.merge(pred_1lvl[['user_id', 'item_id']],\n",
    "                        on=['user_id', 'item_id'],\n",
    "                        how='inner')"
   ]
  },
  {
   "cell_type": "code",
   "execution_count": 71,
   "id": "537214ae-e55f-4644-b650-b56216478ba8",
   "metadata": {},
   "outputs": [],
   "source": [
    "pos = pos_lightfm\\\n",
    "            .merge(\n",
    "                pos_popular,\n",
    "                on=['user_id', 'item_id'],\n",
    "                how='outer')\\\n",
    "            .merge(\n",
    "                pos_ncf,\n",
    "                on=['user_id', 'item_id'],\n",
    "                how='outer')"
   ]
  },
  {
   "cell_type": "code",
   "execution_count": 72,
   "id": "e7aef047-bd1d-4805-a087-c55e3dd69c5b",
   "metadata": {},
   "outputs": [
    {
     "name": "stdout",
     "output_type": "stream",
     "text": [
      "(22434, 8)\n"
     ]
    },
    {
     "data": {
      "text/html": [
       "<div>\n",
       "<style scoped>\n",
       "    .dataframe tbody tr th:only-of-type {\n",
       "        vertical-align: middle;\n",
       "    }\n",
       "\n",
       "    .dataframe tbody tr th {\n",
       "        vertical-align: top;\n",
       "    }\n",
       "\n",
       "    .dataframe thead th {\n",
       "        text-align: right;\n",
       "    }\n",
       "</style>\n",
       "<table border=\"1\" class=\"dataframe\">\n",
       "  <thead>\n",
       "    <tr style=\"text-align: right;\">\n",
       "      <th></th>\n",
       "      <th>user_id</th>\n",
       "      <th>item_id</th>\n",
       "      <th>lfm_score</th>\n",
       "      <th>lfm_rank</th>\n",
       "      <th>rank_top</th>\n",
       "      <th>ncf_score</th>\n",
       "      <th>ncf_rank</th>\n",
       "      <th>target</th>\n",
       "    </tr>\n",
       "  </thead>\n",
       "  <tbody>\n",
       "    <tr>\n",
       "      <th>0</th>\n",
       "      <td>111502</td>\n",
       "      <td>420</td>\n",
       "      <td>0.000005</td>\n",
       "      <td>8.0</td>\n",
       "      <td>NaN</td>\n",
       "      <td>NaN</td>\n",
       "      <td>NaN</td>\n",
       "      <td>1</td>\n",
       "    </tr>\n",
       "    <tr>\n",
       "      <th>1</th>\n",
       "      <td>3933</td>\n",
       "      <td>304</td>\n",
       "      <td>0.000005</td>\n",
       "      <td>9.0</td>\n",
       "      <td>NaN</td>\n",
       "      <td>NaN</td>\n",
       "      <td>NaN</td>\n",
       "      <td>1</td>\n",
       "    </tr>\n",
       "    <tr>\n",
       "      <th>2</th>\n",
       "      <td>3933</td>\n",
       "      <td>24</td>\n",
       "      <td>0.000004</td>\n",
       "      <td>15.0</td>\n",
       "      <td>NaN</td>\n",
       "      <td>NaN</td>\n",
       "      <td>NaN</td>\n",
       "      <td>1</td>\n",
       "    </tr>\n",
       "    <tr>\n",
       "      <th>3</th>\n",
       "      <td>108684</td>\n",
       "      <td>296</td>\n",
       "      <td>0.000009</td>\n",
       "      <td>2.0</td>\n",
       "      <td>NaN</td>\n",
       "      <td>NaN</td>\n",
       "      <td>NaN</td>\n",
       "      <td>1</td>\n",
       "    </tr>\n",
       "    <tr>\n",
       "      <th>4</th>\n",
       "      <td>67247</td>\n",
       "      <td>296</td>\n",
       "      <td>0.000009</td>\n",
       "      <td>2.0</td>\n",
       "      <td>NaN</td>\n",
       "      <td>NaN</td>\n",
       "      <td>NaN</td>\n",
       "      <td>1</td>\n",
       "    </tr>\n",
       "  </tbody>\n",
       "</table>\n",
       "</div>"
      ],
      "text/plain": [
       "   user_id  item_id  lfm_score  lfm_rank  rank_top  ncf_score  ncf_rank  \\\n",
       "0   111502      420   0.000005       8.0       NaN        NaN       NaN   \n",
       "1     3933      304   0.000005       9.0       NaN        NaN       NaN   \n",
       "2     3933       24   0.000004      15.0       NaN        NaN       NaN   \n",
       "3   108684      296   0.000009       2.0       NaN        NaN       NaN   \n",
       "4    67247      296   0.000009       2.0       NaN        NaN       NaN   \n",
       "\n",
       "   target  \n",
       "0       1  \n",
       "1       1  \n",
       "2       1  \n",
       "3       1  \n",
       "4       1  "
      ]
     },
     "execution_count": 72,
     "metadata": {},
     "output_type": "execute_result"
    }
   ],
   "source": [
    "pos['target'] = 1\n",
    "print(pos.shape)\n",
    "pos.head()"
   ]
  },
  {
   "cell_type": "code",
   "execution_count": 355,
   "id": "a99e2860-639a-44bb-acef-728a2b58eeb0",
   "metadata": {
    "jupyter": {
     "source_hidden": true
    },
    "tags": []
   },
   "outputs": [],
   "source": [
    "# # for test\n",
    "# pos= candidates_lghtfm.merge(pred_1lvl[['user_id', 'item_id']],\n",
    "#                         on=['user_id', 'item_id'],\n",
    "#                         how='inner')\n",
    "# pos['target'] = 1"
   ]
  },
  {
   "cell_type": "code",
   "execution_count": 28,
   "id": "ccfc211e-9940-44bd-b3cc-0525b1e879e7",
   "metadata": {
    "jupyter": {
     "source_hidden": true
    },
    "tags": []
   },
   "outputs": [],
   "source": [
    "# # for test\n",
    "# pos_lightfm = candidates_lghtfm.merge(pred_1lvl[['user_id', 'item_id']],\n",
    "#                         on=['user_id', 'item_id'],\n",
    "#                         how='inner')\n",
    "# pos_popular = candidates_ncf.merge(pred_1lvl[['user_id', 'item_id']],\n",
    "#                         on=['user_id', 'item_id'],\n",
    "#                         how='inner')\n",
    "\n",
    "# pos = pos_lightfm\\\n",
    "#             .merge(\n",
    "#                 pos_popular,\n",
    "#                 on=['user_id', 'item_id'],\n",
    "#                 how='outer')\n",
    "\n",
    "# pos['target'] = 1\n",
    "# print(pos.shape)\n",
    "# pos.head()"
   ]
  },
  {
   "cell_type": "markdown",
   "id": "580bd9ee-81d4-4f40-bda4-eef5d9f85760",
   "metadata": {
    "tags": []
   },
   "source": [
    "### 📕 `target = 0` Негативные взаимодействия = все что пользователь НЕ посмотрел из кандидатов \n",
    "\n",
    "- добавим сэмплирование, чтобы соблюсти баланс классов\n",
    "train_1lvl"
   ]
  },
  {
   "cell_type": "code",
   "execution_count": 640,
   "id": "6b621c96-395b-4819-9f93-f70f50716342",
   "metadata": {
    "jupyter": {
     "source_hidden": true
    },
    "tags": []
   },
   "outputs": [
    {
     "data": {
      "text/plain": [
       "(83497, 4)"
      ]
     },
     "execution_count": 640,
     "metadata": {},
     "output_type": "execute_result"
    }
   ],
   "source": [
    "# # tst\n",
    "\n",
    "# neg = train_1lvl[['user_id', 'item_id']].set_index(['user_id', 'item_id'])\\\n",
    "#         .join(pred_1lvl[['user_id', 'item_id', 'i_qty']].set_index(['user_id', 'item_id']), how='left')\n",
    "# neg = neg[neg['i_qty'].isnull()].reset_index()\n",
    "# neg.shape\n",
    "\n",
    "# neg = neg.sample(frac=0.6)\n",
    "\n",
    "# neg['target'] = 0\n",
    "# neg.shape\n",
    "# # testчфчч"
   ]
  },
  {
   "cell_type": "code",
   "execution_count": 110,
   "id": "27fdf7de-e404-4ba1-8431-69f566cf510c",
   "metadata": {},
   "outputs": [],
   "source": [
    "neg_lightfm = candidates_lghtfm.merge(pred_1lvl[['user_id', 'item_id']],\n",
    "                        on=['user_id', 'item_id'],\n",
    "                        how='left')\n",
    "neg_popular = candidates_popular.merge(pred_1lvl[['user_id', 'item_id']],\n",
    "                        on=['user_id', 'item_id'],\n",
    "                        how='left')\n",
    "neg_ncf = candidates_ncf.merge(pred_1lvl[['user_id', 'item_id']],\n",
    "                        on=['user_id', 'item_id'],\n",
    "                        how='left')\n",
    "\n",
    "\n",
    "candidates_neg = neg_lightfm\\\n",
    "        .merge(\n",
    "            neg_popular,\n",
    "            on=['user_id', 'item_id'],\n",
    "            how='outer')\\\n",
    "        .merge(\n",
    "            neg_ncf,\n",
    "            on=['user_id', 'item_id'],\n",
    "            how='outer')"
   ]
  },
  {
   "cell_type": "code",
   "execution_count": 111,
   "id": "80430b01-6c6c-4e07-bd9f-7f0bb01aa307",
   "metadata": {},
   "outputs": [
    {
     "data": {
      "text/plain": [
       "(602380, 8)"
      ]
     },
     "execution_count": 111,
     "metadata": {},
     "output_type": "execute_result"
    }
   ],
   "source": [
    "neg = candidates_neg.set_index(['user_id', 'item_id'])\\\n",
    "        .join(pred_1lvl[['user_id', 'item_id', 'i_qty']].set_index(['user_id', 'item_id']), how='left')\n",
    "neg = neg[neg['i_qty'].isnull()].reset_index()\n",
    "neg.shape"
   ]
  },
  {
   "cell_type": "code",
   "execution_count": 112,
   "id": "5f05e542-2474-4d95-8c5b-81fc05379cc7",
   "metadata": {},
   "outputs": [
    {
     "data": {
      "text/plain": [
       "(602380, 9)"
      ]
     },
     "execution_count": 112,
     "metadata": {},
     "output_type": "execute_result"
    }
   ],
   "source": [
    "neg = neg.sample(frac=1)\n",
    "\n",
    "neg['target'] = 0\n",
    "\n",
    "neg.shape"
   ]
  },
  {
   "cell_type": "code",
   "execution_count": 32,
   "id": "d8d8420a-0fc6-4fe7-b460-1b776b709d02",
   "metadata": {},
   "outputs": [],
   "source": [
    "# # for test\n",
    "# neg_lightfm = candidates_lghtfm.merge(pred_1lvl[['user_id', 'item_id']],\n",
    "#                         on=['user_id', 'item_id'],\n",
    "#                         how='left')\n",
    "# neg_popular = candidates_ncf.merge(pred_1lvl[['user_id', 'item_id']],\n",
    "#                         on=['user_id', 'item_id'],\n",
    "#                         how='left')\n",
    "\n",
    "# candidates_neg = neg_lightfm\\\n",
    "#         .merge(\n",
    "#             neg_popular,\n",
    "#             on=['user_id', 'item_id'],\n",
    "#             how='outer')\n",
    "\n",
    "# neg = candidates_neg.set_index(['user_id', 'item_id'])\\\n",
    "#         .join(pred_1lvl[['user_id', 'item_id', 'i_qty']].set_index(['user_id', 'item_id']), how='left')\n",
    "# neg = neg[neg['i_qty'].isnull()].reset_index()\n",
    "# neg.shape\n",
    "\n",
    "# neg = neg.sample(frac=0.1)\\\n",
    "# [['user_id', 'item_id', 'lfm_score', 'lfm_rank', 'ncf_rank']]\n",
    "\n",
    "# neg['target'] = 0\n",
    "\n",
    "# neg.shape"
   ]
  },
  {
   "cell_type": "code",
   "execution_count": 33,
   "id": "6ada3761-383a-4191-b8ef-34598fecf955",
   "metadata": {},
   "outputs": [],
   "source": [
    "# # for test\n",
    "# neg = candidates_lghtfm.set_index(['user_id', 'item_id'])\\\n",
    "#         .join(pred_1lvl[['user_id', 'item_id', 'i_qty']].set_index(['user_id', 'item_id']), how='left')\n",
    "# neg = neg[neg['i_qty'].isnull()].reset_index()\n",
    "# neg.shape\n",
    "\n",
    "# neg = neg.sample(frac=0.1)[['user_id', 'item_id', 'lfm_score', 'lfm_rank']]\n",
    "\n",
    "# neg['target'] = 0\n",
    "\n",
    "# neg.shape"
   ]
  },
  {
   "cell_type": "markdown",
   "id": "c6c9b749-a4ee-4615-afd5-3edfde697b4a",
   "metadata": {},
   "source": [
    "## Формируем трейн и тест\n",
    "\n",
    "### Важно! Делим по пользователям, а не по дате. \n",
    "\n",
    "`Мотивация`: \n",
    "\n",
    "- Для негативных взаимодействий нет даты\n",
    "- Проверяем робастность бустинга относительно новых (холодных) пользователей"
   ]
  },
  {
   "cell_type": "code",
   "execution_count": 113,
   "id": "806823f7-b367-4439-bfd4-e85685065627",
   "metadata": {},
   "outputs": [],
   "source": [
    "tr_data_users, te_data_users = train_test_split(pred_1lvl['user_id'].unique(),\n",
    "                                                  random_state=1,\n",
    "                                                  test_size=0.3)"
   ]
  },
  {
   "cell_type": "code",
   "execution_count": 114,
   "id": "02d42478-b6d6-4919-ab3f-bafac45d590a",
   "metadata": {},
   "outputs": [],
   "source": [
    "tr_data = shuffle(\n",
    "    pd.concat([\n",
    "        pos[pos['user_id'].isin(tr_data_users)],\n",
    "        neg[neg['user_id'].isin(tr_data_users)]\n",
    "])\n",
    ")\n",
    "\n",
    "te_data = shuffle(\n",
    "    pd.concat([\n",
    "        pos[pos['user_id'].isin(te_data_users)],\n",
    "        neg[neg['user_id'].isin(te_data_users)]\n",
    "])\n",
    ")"
   ]
  },
  {
   "cell_type": "code",
   "execution_count": 115,
   "id": "ac9acd60-4609-4f3b-8bcc-468360d27546",
   "metadata": {},
   "outputs": [
    {
     "data": {
      "text/plain": [
       "0    0.964582\n",
       "1    0.035418\n",
       "Name: target, dtype: float64"
      ]
     },
     "execution_count": 115,
     "metadata": {},
     "output_type": "execute_result"
    }
   ],
   "source": [
    "tr_data['target'].value_counts(normalize=True)"
   ]
  },
  {
   "cell_type": "code",
   "execution_count": 116,
   "id": "f0aa2c35-6628-480f-8dc4-16c18eea2291",
   "metadata": {},
   "outputs": [
    {
     "data": {
      "text/plain": [
       "0    0.962964\n",
       "1    0.037036\n",
       "Name: target, dtype: float64"
      ]
     },
     "execution_count": 116,
     "metadata": {},
     "output_type": "execute_result"
    }
   ],
   "source": [
    "te_data['target'].value_counts(normalize=True)"
   ]
  },
  {
   "cell_type": "markdown",
   "id": "bfbbe027-adb7-4c56-93a4-5cb4aea1cc7f",
   "metadata": {},
   "source": [
    "## Формируем фичи \n",
    "\n",
    "- формируем признаки для user_id статичные и зависящие от окна \n",
    "- как признак также используем `rank` от модели 1 этапа\n",
    "- заполняем пропуски в данных"
   ]
  },
  {
   "cell_type": "code",
   "execution_count": 117,
   "id": "ea90165a-e2f4-4734-b4bd-20c97f890a46",
   "metadata": {},
   "outputs": [],
   "source": [
    "stat_user_features, stat_item_features = stat_features(df, df[['user_id']].drop_duplicates())"
   ]
  },
  {
   "cell_type": "code",
   "execution_count": 118,
   "id": "7ad6a3a9-a56a-40ff-97fb-c760b6f34eeb",
   "metadata": {},
   "outputs": [],
   "source": [
    "train_feat = tr_data.merge(\n",
    "                            stat_user_features,\n",
    "                            on=['user_id'],\n",
    "                            how='left')\\\n",
    "                        .merge(\n",
    "                            stat_item_features,\n",
    "                            on=['item_id'],\n",
    "                            how='left')\\\n",
    "                        .merge(\n",
    "                            train_1lvl,\n",
    "                            on=['item_id', 'user_id'],\n",
    "                            how='left'   \n",
    "                        )\n",
    "test_feat = te_data.merge(\n",
    "                        stat_user_features,\n",
    "                        on=['user_id'],\n",
    "                        how='left')\\\n",
    "                    .merge(\n",
    "                        stat_item_features,\n",
    "                        on=['item_id'],\n",
    "                        how='left')\\\n",
    "                    .merge(\n",
    "                            train_1lvl,\n",
    "                            on=['user_id', 'item_id'],\n",
    "                            how='left')"
   ]
  },
  {
   "cell_type": "code",
   "execution_count": 119,
   "id": "aeccee17-a60e-460e-b4b9-50d9b1010441",
   "metadata": {},
   "outputs": [],
   "source": [
    "train_feat = train_feat.drop(columns='i_qty_x').rename(columns={'i_qty_y': 'i_qty'})\n",
    "test_feat = test_feat.drop(columns='i_qty_x').rename(columns={'i_qty_y': 'i_qty'})"
   ]
  },
  {
   "cell_type": "code",
   "execution_count": 120,
   "id": "4243be3c-4ca7-4d15-bdaf-fdec51c78654",
   "metadata": {},
   "outputs": [
    {
     "data": {
      "text/plain": [
       "((436648, 46), (188166, 46))"
      ]
     },
     "execution_count": 120,
     "metadata": {},
     "output_type": "execute_result"
    }
   ],
   "source": [
    "train_feat.shape, test_feat.shape"
   ]
  },
  {
   "cell_type": "code",
   "execution_count": 121,
   "id": "ed4f0f3e-5467-422e-8181-fea23d54bc01",
   "metadata": {},
   "outputs": [
    {
     "data": {
      "text/plain": [
       "Index(['user_id', 'item_id', 'lfm_score', 'lfm_rank', 'rank_top', 'ncf_score',\n",
       "       'ncf_rank', 'target', 'население', 'Зарплата', 'sex_0.0', 'sex_1.0',\n",
       "       'region_FAR EAST', 'region_NORTH', 'region_PRIVOLZIE', 'region_SIBERIA',\n",
       "       'region_SOUTHERN', 'region_URAL', 'segment_1.0', 'segment_2.0',\n",
       "       'segment_3.0', 'segment_4.0', 'segment_5.0', 'segment_6.0',\n",
       "       'segment_7.0', 'segment_8.0', 'segment_9.0', 'Группа2_ЖЕНСКИЕ ШТУЧКИ',\n",
       "       'Группа2_ИГРУШКИ', 'Группа2_КАНЦТОВАРЫ, КНИГИ, ДИСКИ',\n",
       "       'Группа2_КОСМЕТИКА/ГИГИЕНА', 'Группа2_КРУПНОГАБАРИТНЫЙ ТОВАР',\n",
       "       'Группа2_ОБУВЬ', 'Группа2_ПОДГУЗНИКИ', 'Группа2_СОПУТСТВУЮЩИЕ ТОВАРЫ',\n",
       "       'Группа2_ТЕКСТИЛЬ, ТРИКОТАЖ', 'Группа2_ТЕХНИКА И ТОВАРЫ ДЛЯ ДОМА',\n",
       "       'Группа2_ТОВАРЫ ДЛЯ ЖИВОТНЫХ', 'Группа2_ТОВАРЫ ДЛЯ КОРМЛЕНИЯ',\n",
       "       'Тип_ИНОЕ', 'Тип_КГТ', 'Тип_ОДЕЖДА', 'Тип_ППКП', 'last_month',\n",
       "       'last_week_day', 'i_qty'],\n",
       "      dtype='object')"
      ]
     },
     "execution_count": 121,
     "metadata": {},
     "output_type": "execute_result"
    }
   ],
   "source": [
    "test_feat.columns"
   ]
  },
  {
   "cell_type": "code",
   "execution_count": 122,
   "id": "57c6de6e-6a49-4be7-a668-e420661946be",
   "metadata": {},
   "outputs": [],
   "source": [
    "drop_col = ['user_id', 'item_id']\n",
    "train_feat = train_feat.drop(drop_col, axis=1)\n",
    "test_feat = test_feat.drop(drop_col, axis=1)"
   ]
  },
  {
   "cell_type": "code",
   "execution_count": 651,
   "id": "1a6e5869-bdf3-4d4f-ad29-c92350ac5393",
   "metadata": {},
   "outputs": [],
   "source": [
    "drop_col = ['user_id', 'item_id']\n",
    "target_col = ['target']\n",
    "cat_col = []"
   ]
  },
  {
   "cell_type": "code",
   "execution_count": 652,
   "id": "36923d91-e15e-4387-8d42-8dde517bcdf5",
   "metadata": {},
   "outputs": [],
   "source": [
    "X_train, y_train = train_feat.drop(drop_col + target_col, axis=1), train_feat[target_col]\n",
    "X_val, y_val = eval_feat.drop(drop_col + target_col, axis=1), eval_feat[target_col]"
   ]
  },
  {
   "cell_type": "code",
   "execution_count": 653,
   "id": "7df9f946-d872-4cc6-bcbe-973e330d323b",
   "metadata": {},
   "outputs": [],
   "source": [
    "# fillna for catboost with the most frequent value \n",
    "X_train = X_train.fillna(X_train.mode().iloc[0])"
   ]
  },
  {
   "cell_type": "code",
   "execution_count": 654,
   "id": "59b74bee-d7ee-4c82-83e3-7b717e09a44c",
   "metadata": {},
   "outputs": [],
   "source": [
    "# fillna for catboost with the most frequent value \n",
    "X_val = X_val.fillna(X_train.mode().iloc[0])"
   ]
  },
  {
   "cell_type": "code",
   "execution_count": 655,
   "id": "8b1b2535-4be9-4036-9e9c-9f81288e866b",
   "metadata": {},
   "outputs": [],
   "source": [
    "cols=X_train.columns"
   ]
  },
  {
   "cell_type": "markdown",
   "id": "3f831b23-df01-4068-862c-71bf2f9d0f1b",
   "metadata": {
    "tags": []
   },
   "source": [
    "## Обучаем `Lama`"
   ]
  },
  {
   "cell_type": "code",
   "execution_count": 123,
   "id": "1d00ea04-8bd0-442e-bca0-8d04cea41b74",
   "metadata": {},
   "outputs": [],
   "source": [
    "import warnings\n",
    "warnings.filterwarnings(\"ignore\")"
   ]
  },
  {
   "cell_type": "code",
   "execution_count": 124,
   "id": "a5f4afe5-8d40-4567-a820-818fb2ed1fbd",
   "metadata": {},
   "outputs": [],
   "source": [
    "N_THREADS = 4\n",
    "N_FOLDS = 5\n",
    "RANDOM_STATE = 42\n",
    "TIMEOUT = 3600*3\n",
    "TARGET_NAME = 'target'"
   ]
  },
  {
   "cell_type": "code",
   "execution_count": 125,
   "id": "c41d812f-e3c5-45bd-b372-d20a4e7ddda4",
   "metadata": {},
   "outputs": [],
   "source": [
    "roles = {\n",
    "    'target': TARGET_NAME\n",
    "}"
   ]
  },
  {
   "cell_type": "code",
   "execution_count": 195,
   "id": "b9f11cad-8544-4902-b005-25b61ccd466e",
   "metadata": {},
   "outputs": [],
   "source": [
    "RD = ReportDeco(output_path = 'tabularAutoML_model_report')\n",
    "\n",
    "automl_rd = RD(\n",
    "    TabularAutoML(\n",
    "        task = Task('binary'), \n",
    "        timeout = TIMEOUT,\n",
    "        cpu_limit = N_THREADS,\n",
    "        reader_params = {'n_jobs': N_THREADS, 'cv': N_FOLDS, 'random_state': RANDOM_STATE}\n",
    "    )\n",
    ")"
   ]
  },
  {
   "cell_type": "code",
   "execution_count": 196,
   "id": "bb8ce60a-bf71-4063-8edb-67d6daa25a8a",
   "metadata": {
    "collapsed": true,
    "jupyter": {
     "outputs_hidden": true
    },
    "tags": []
   },
   "outputs": [
    {
     "name": "stdout",
     "output_type": "stream",
     "text": [
      "[22:57:26] Stdout logging level is INFO.\n",
      "[22:57:26] Task: binary\n",
      "\n",
      "[22:57:26] Start automl preset with listed constraints:\n",
      "[22:57:26] - time: 10800.00 seconds\n",
      "[22:57:26] - CPU: 4 cores\n",
      "[22:57:26] - memory: 16 GB\n",
      "\n",
      "[22:57:26] \u001b[1mTrain data shape: (436648, 44)\u001b[0m\n",
      "\n"
     ]
    },
    {
     "name": "stderr",
     "output_type": "stream",
     "text": [
      "/Users/mariafar/opt/anaconda3/lib/python3.9/site-packages/scipy/__init__.py:146: UserWarning: A NumPy version >=1.16.5 and <1.23.0 is required for this version of SciPy (detected version 1.23.5\n",
      "  warnings.warn(f\"A NumPy version >={np_minversion} and <{np_maxversion}\"\n",
      "/Users/mariafar/opt/anaconda3/lib/python3.9/site-packages/scipy/__init__.py:146: UserWarning: A NumPy version >=1.16.5 and <1.23.0 is required for this version of SciPy (detected version 1.23.5\n",
      "  warnings.warn(f\"A NumPy version >={np_minversion} and <{np_maxversion}\"\n",
      "/Users/mariafar/opt/anaconda3/lib/python3.9/site-packages/scipy/__init__.py:146: UserWarning: A NumPy version >=1.16.5 and <1.23.0 is required for this version of SciPy (detected version 1.23.5\n",
      "  warnings.warn(f\"A NumPy version >={np_minversion} and <{np_maxversion}\"\n",
      "/Users/mariafar/opt/anaconda3/lib/python3.9/site-packages/scipy/__init__.py:146: UserWarning: A NumPy version >=1.16.5 and <1.23.0 is required for this version of SciPy (detected version 1.23.5\n",
      "  warnings.warn(f\"A NumPy version >={np_minversion} and <{np_maxversion}\"\n"
     ]
    },
    {
     "name": "stdout",
     "output_type": "stream",
     "text": [
      "[22:57:33] Layer \u001b[1m1\u001b[0m train process start. Time left 10792.64 secs\n",
      "[22:57:40] Start fitting \u001b[1mLvl_0_Pipe_0_Mod_0_LinearL2\u001b[0m ...\n",
      "[22:58:01] Fitting \u001b[1mLvl_0_Pipe_0_Mod_0_LinearL2\u001b[0m finished. score = \u001b[1m0.8224917131573712\u001b[0m\n",
      "[22:58:01] \u001b[1mLvl_0_Pipe_0_Mod_0_LinearL2\u001b[0m fitting and predicting completed\n",
      "[22:58:01] Time left 10764.60 secs\n",
      "\n",
      "[22:58:06] \u001b[1mSelector_LightGBM\u001b[0m fitting and predicting completed\n",
      "[22:58:12] Start fitting \u001b[1mLvl_0_Pipe_1_Mod_0_LightGBM\u001b[0m ...\n",
      "[22:58:32] Fitting \u001b[1mLvl_0_Pipe_1_Mod_0_LightGBM\u001b[0m finished. score = \u001b[1m0.8284294753203415\u001b[0m\n",
      "[22:58:32] \u001b[1mLvl_0_Pipe_1_Mod_0_LightGBM\u001b[0m fitting and predicting completed\n",
      "[22:58:32] Start hyperparameters optimization for \u001b[1mLvl_0_Pipe_1_Mod_1_Tuned_LightGBM\u001b[0m ... Time budget is 300.00 secs\n",
      "[23:03:38] Hyperparameters optimization for \u001b[1mLvl_0_Pipe_1_Mod_1_Tuned_LightGBM\u001b[0m completed\n",
      "[23:03:38] Start fitting \u001b[1mLvl_0_Pipe_1_Mod_1_Tuned_LightGBM\u001b[0m ...\n",
      "[23:04:03] Fitting \u001b[1mLvl_0_Pipe_1_Mod_1_Tuned_LightGBM\u001b[0m finished. score = \u001b[1m0.8328432257270976\u001b[0m\n",
      "[23:04:03] \u001b[1mLvl_0_Pipe_1_Mod_1_Tuned_LightGBM\u001b[0m fitting and predicting completed\n",
      "[23:04:04] Start fitting \u001b[1mLvl_0_Pipe_1_Mod_2_CatBoost\u001b[0m ...\n",
      "[23:06:18] Fitting \u001b[1mLvl_0_Pipe_1_Mod_2_CatBoost\u001b[0m finished. score = \u001b[1m0.8290533675704322\u001b[0m\n",
      "[23:06:18] \u001b[1mLvl_0_Pipe_1_Mod_2_CatBoost\u001b[0m fitting and predicting completed\n",
      "[23:06:18] Start hyperparameters optimization for \u001b[1mLvl_0_Pipe_1_Mod_3_Tuned_CatBoost\u001b[0m ... Time budget is 300.00 secs\n",
      "[23:11:44] Hyperparameters optimization for \u001b[1mLvl_0_Pipe_1_Mod_3_Tuned_CatBoost\u001b[0m completed\n",
      "[23:11:44] Start fitting \u001b[1mLvl_0_Pipe_1_Mod_3_Tuned_CatBoost\u001b[0m ...\n",
      "[23:15:18] Fitting \u001b[1mLvl_0_Pipe_1_Mod_3_Tuned_CatBoost\u001b[0m finished. score = \u001b[1m0.8296364327509675\u001b[0m\n",
      "[23:15:18] \u001b[1mLvl_0_Pipe_1_Mod_3_Tuned_CatBoost\u001b[0m fitting and predicting completed\n",
      "[23:15:18] Time left 9727.61 secs\n",
      "\n",
      "[23:15:18] \u001b[1mLayer 1 training completed.\u001b[0m\n",
      "\n",
      "[23:15:18] Blending: optimization starts with equal weights and score \u001b[1m0.8315721641429418\u001b[0m\n",
      "[23:15:22] Blending: iteration \u001b[1m0\u001b[0m: score = \u001b[1m0.8329603859111233\u001b[0m, weights = \u001b[1m[0.         0.06355018 0.8031817  0.07405505 0.05921303]\u001b[0m\n",
      "[23:15:25] Blending: iteration \u001b[1m1\u001b[0m: score = \u001b[1m0.8329626634552114\u001b[0m, weights = \u001b[1m[0.         0.08599965 0.7815546  0.0735981  0.05884765]\u001b[0m\n",
      "[23:15:28] Blending: iteration \u001b[1m2\u001b[0m: score = \u001b[1m0.8329648033640937\u001b[0m, weights = \u001b[1m[0.         0.0835307  0.7836191  0.0826282  0.05022199]\u001b[0m\n",
      "[23:15:32] Blending: iteration \u001b[1m3\u001b[0m: score = \u001b[1m0.8329648033640937\u001b[0m, weights = \u001b[1m[0.         0.08353071 0.78361917 0.08262821 0.05022199]\u001b[0m\n",
      "[23:15:35] Blending: iteration \u001b[1m4\u001b[0m: score = \u001b[1m0.8329648067416447\u001b[0m, weights = \u001b[1m[0.         0.08353071 0.7836191  0.0826282  0.05022199]\u001b[0m\n",
      "[23:15:35] \u001b[1mAutoml preset training completed in 1089.09 seconds\u001b[0m\n",
      "\n",
      "[23:15:35] Model description:\n",
      "Final prediction for new objects (level 0) = \n",
      "\t 0.08353 * (5 averaged models Lvl_0_Pipe_1_Mod_0_LightGBM) +\n",
      "\t 0.78362 * (5 averaged models Lvl_0_Pipe_1_Mod_1_Tuned_LightGBM) +\n",
      "\t 0.08263 * (5 averaged models Lvl_0_Pipe_1_Mod_2_CatBoost) +\n",
      "\t 0.05022 * (5 averaged models Lvl_0_Pipe_1_Mod_3_Tuned_CatBoost) \n",
      "\n",
      "CPU times: user 59min 13s, sys: 1min 25s, total: 1h 38s\n",
      "Wall time: 18min 13s\n"
     ]
    }
   ],
   "source": [
    "%%time\n",
    "oof_pred = automl_rd.fit_predict(train_feat, roles = roles, verbose = 1)"
   ]
  },
  {
   "cell_type": "code",
   "execution_count": 194,
   "id": "b028608a-4695-4d0b-a4ea-f235bc1617dd",
   "metadata": {},
   "outputs": [],
   "source": [
    "automl_rd = TabularAutoML(\n",
    "    task = Task('binary'), \n",
    "    timeout = TIMEOUT,\n",
    "    cpu_limit = N_THREADS,\n",
    "    reader_params = {'n_jobs': N_THREADS, 'cv': N_FOLDS, 'random_state': RANDOM_STATE}\n",
    ")"
   ]
  },
  {
   "cell_type": "code",
   "execution_count": null,
   "id": "ca033641-a667-48d2-bea1-da7ccf50929f",
   "metadata": {},
   "outputs": [],
   "source": []
  },
  {
   "cell_type": "code",
   "execution_count": 128,
   "id": "bf03c124-4e2a-49c0-bb9e-2d05ea5cf7b0",
   "metadata": {
    "tags": []
   },
   "outputs": [
    {
     "name": "stdout",
     "output_type": "stream",
     "text": [
      "[11:33:12] Stdout logging level is INFO.\n",
      "[11:33:12] Task: binary\n",
      "\n",
      "[11:33:12] Start automl preset with listed constraints:\n",
      "[11:33:12] - time: 10800.00 seconds\n",
      "[11:33:12] - CPU: 4 cores\n",
      "[11:33:12] - memory: 16 GB\n",
      "\n",
      "[11:33:12] \u001b[1mTrain data shape: (436648, 44)\u001b[0m\n",
      "\n"
     ]
    },
    {
     "name": "stderr",
     "output_type": "stream",
     "text": [
      "/Users/mariafar/opt/anaconda3/lib/python3.9/site-packages/scipy/__init__.py:146: UserWarning: A NumPy version >=1.16.5 and <1.23.0 is required for this version of SciPy (detected version 1.23.5\n",
      "  warnings.warn(f\"A NumPy version >={np_minversion} and <{np_maxversion}\"\n",
      "/Users/mariafar/opt/anaconda3/lib/python3.9/site-packages/scipy/__init__.py:146: UserWarning: A NumPy version >=1.16.5 and <1.23.0 is required for this version of SciPy (detected version 1.23.5\n",
      "  warnings.warn(f\"A NumPy version >={np_minversion} and <{np_maxversion}\"\n",
      "/Users/mariafar/opt/anaconda3/lib/python3.9/site-packages/scipy/__init__.py:146: UserWarning: A NumPy version >=1.16.5 and <1.23.0 is required for this version of SciPy (detected version 1.23.5\n",
      "  warnings.warn(f\"A NumPy version >={np_minversion} and <{np_maxversion}\"\n",
      "/Users/mariafar/opt/anaconda3/lib/python3.9/site-packages/scipy/__init__.py:146: UserWarning: A NumPy version >=1.16.5 and <1.23.0 is required for this version of SciPy (detected version 1.23.5\n",
      "  warnings.warn(f\"A NumPy version >={np_minversion} and <{np_maxversion}\"\n"
     ]
    },
    {
     "name": "stdout",
     "output_type": "stream",
     "text": [
      "[11:33:19] Layer \u001b[1m1\u001b[0m train process start. Time left 10793.10 secs\n",
      "[11:33:26] Start fitting \u001b[1mLvl_0_Pipe_0_Mod_0_LinearL2\u001b[0m ...\n",
      "[11:33:47] Fitting \u001b[1mLvl_0_Pipe_0_Mod_0_LinearL2\u001b[0m finished. score = \u001b[1m0.8225095051751908\u001b[0m\n",
      "[11:33:47] \u001b[1mLvl_0_Pipe_0_Mod_0_LinearL2\u001b[0m fitting and predicting completed\n",
      "[11:33:47] Time left 10765.02 secs\n",
      "\n",
      "[11:33:51] \u001b[1mSelector_LightGBM\u001b[0m fitting and predicting completed\n",
      "[11:33:58] Start fitting \u001b[1mLvl_0_Pipe_1_Mod_0_LightGBM\u001b[0m ...\n",
      "[11:34:20] Fitting \u001b[1mLvl_0_Pipe_1_Mod_0_LightGBM\u001b[0m finished. score = \u001b[1m0.8284294753203415\u001b[0m\n",
      "[11:34:20] \u001b[1mLvl_0_Pipe_1_Mod_0_LightGBM\u001b[0m fitting and predicting completed\n",
      "[11:34:20] Start hyperparameters optimization for \u001b[1mLvl_0_Pipe_1_Mod_1_Tuned_LightGBM\u001b[0m ... Time budget is 300.00 secs\n",
      "[11:39:21] Hyperparameters optimization for \u001b[1mLvl_0_Pipe_1_Mod_1_Tuned_LightGBM\u001b[0m completed\n",
      "[11:39:21] Start fitting \u001b[1mLvl_0_Pipe_1_Mod_1_Tuned_LightGBM\u001b[0m ...\n",
      "[11:39:45] Fitting \u001b[1mLvl_0_Pipe_1_Mod_1_Tuned_LightGBM\u001b[0m finished. score = \u001b[1m0.8328432257270976\u001b[0m\n",
      "[11:39:45] \u001b[1mLvl_0_Pipe_1_Mod_1_Tuned_LightGBM\u001b[0m fitting and predicting completed\n",
      "[11:39:45] Start fitting \u001b[1mLvl_0_Pipe_1_Mod_2_CatBoost\u001b[0m ...\n",
      "[11:42:04] Fitting \u001b[1mLvl_0_Pipe_1_Mod_2_CatBoost\u001b[0m finished. score = \u001b[1m0.8290533675704322\u001b[0m\n",
      "[11:42:04] \u001b[1mLvl_0_Pipe_1_Mod_2_CatBoost\u001b[0m fitting and predicting completed\n",
      "[11:42:04] Start hyperparameters optimization for \u001b[1mLvl_0_Pipe_1_Mod_3_Tuned_CatBoost\u001b[0m ... Time budget is 300.00 secs\n",
      "[11:47:18] Hyperparameters optimization for \u001b[1mLvl_0_Pipe_1_Mod_3_Tuned_CatBoost\u001b[0m completed\n",
      "[11:47:18] Start fitting \u001b[1mLvl_0_Pipe_1_Mod_3_Tuned_CatBoost\u001b[0m ...\n",
      "[11:50:47] Fitting \u001b[1mLvl_0_Pipe_1_Mod_3_Tuned_CatBoost\u001b[0m finished. score = \u001b[1m0.8296364327509675\u001b[0m\n",
      "[11:50:47] \u001b[1mLvl_0_Pipe_1_Mod_3_Tuned_CatBoost\u001b[0m fitting and predicting completed\n",
      "[11:50:47] Time left 9744.59 secs\n",
      "\n",
      "[11:50:47] \u001b[1mLayer 1 training completed.\u001b[0m\n",
      "\n",
      "[11:50:47] Blending: optimization starts with equal weights and score \u001b[1m0.8315725131053759\u001b[0m\n",
      "[11:50:51] Blending: iteration \u001b[1m0\u001b[0m: score = \u001b[1m0.8329603859111233\u001b[0m, weights = \u001b[1m[0.         0.06355018 0.8031817  0.07405505 0.05921303]\u001b[0m\n",
      "[11:50:54] Blending: iteration \u001b[1m1\u001b[0m: score = \u001b[1m0.8329626634552114\u001b[0m, weights = \u001b[1m[0.         0.08599965 0.7815546  0.0735981  0.05884765]\u001b[0m\n",
      "[11:50:57] Blending: iteration \u001b[1m2\u001b[0m: score = \u001b[1m0.8329648033640937\u001b[0m, weights = \u001b[1m[0.         0.0835307  0.7836191  0.0826282  0.05022199]\u001b[0m\n",
      "[11:51:00] Blending: iteration \u001b[1m3\u001b[0m: score = \u001b[1m0.8329648067416447\u001b[0m, weights = \u001b[1m[0.         0.08353071 0.7836191  0.0826282  0.05022199]\u001b[0m\n",
      "[11:51:04] Blending: iteration \u001b[1m4\u001b[0m: score = \u001b[1m0.8329648067416447\u001b[0m, weights = \u001b[1m[0.         0.08353071 0.7836191  0.0826282  0.05022199]\u001b[0m\n",
      "[11:51:04] Blending: no score update. Terminated\n",
      "\n",
      "[11:51:04] \u001b[1mAutoml preset training completed in 1071.92 seconds\u001b[0m\n",
      "\n",
      "[11:51:04] Model description:\n",
      "Final prediction for new objects (level 0) = \n",
      "\t 0.08353 * (5 averaged models Lvl_0_Pipe_1_Mod_0_LightGBM) +\n",
      "\t 0.78362 * (5 averaged models Lvl_0_Pipe_1_Mod_1_Tuned_LightGBM) +\n",
      "\t 0.08263 * (5 averaged models Lvl_0_Pipe_1_Mod_2_CatBoost) +\n",
      "\t 0.05022 * (5 averaged models Lvl_0_Pipe_1_Mod_3_Tuned_CatBoost) \n",
      "\n",
      "CPU times: user 58min 52s, sys: 1min 18s, total: 1h 11s\n",
      "Wall time: 17min 51s\n"
     ]
    }
   ],
   "source": [
    "%%time\n",
    "oof_pred = automl_rd.fit_predict(train_feat, roles = roles, verbose = 1)"
   ]
  },
  {
   "cell_type": "code",
   "execution_count": 130,
   "id": "6ed9264e-f173-4d93-b356-046726a6f5c3",
   "metadata": {},
   "outputs": [
    {
     "name": "stdout",
     "output_type": "stream",
     "text": [
      "CPU times: user 64.3 ms, sys: 22.5 ms, total: 86.7 ms\n",
      "Wall time: 102 ms\n"
     ]
    },
    {
     "data": {
      "text/plain": [
       "<Axes: xlabel='Feature'>"
      ]
     },
     "execution_count": 130,
     "metadata": {},
     "output_type": "execute_result"
    },
    {
     "data": {
      "image/png": "[encoded data removed]",
      "text/plain": [
       "<Figure size 3000x1000 with 1 Axes>"
      ]
     },
     "metadata": {},
     "output_type": "display_data"
    }
   ],
   "source": [
    "%%time\n",
    "\n",
    "# Fast feature importances calculation\n",
    "fast_fi = automl_rd.get_feature_scores('fast')\n",
    "fast_fi.set_index('Feature')['Importance'].plot.bar(figsize = (30, 10), grid = True)"
   ]
  },
  {
   "cell_type": "code",
   "execution_count": 193,
   "id": "db8a2de9-fe2a-449c-a105-14aac9c0cdd9",
   "metadata": {},
   "outputs": [
    {
     "data": {
      "application/vnd.plotly.v1+json": {
       "config": {
        "plotlyServerURL": "https://plot.ly"
       },
       "data": [
        {
         "orientation": "h",
         "type": "bar",
         "x": [
          456.1319707632065,
          458.86644208431244,
          575.4649977684021,
          912.7618585824966,
          1103.6264182329178,
          1242.5896146297455,
          1258.2259763479233,
          1263.05350792408,
          1450.6543234586716,
          1565.4467551708221,
          1612.2983720302582,
          8205.346504211426,
          8456.654888391495,
          9979.09804391861,
          11398.127021551132,
          11442.283755540848,
          13538.434858441353,
          21769.09859418869,
          43557.376873493195,
          115075.41454148293
         ],
         "y": [
          "segment_2.0",
          "Тип_ОДЕЖДА",
          "sex_0.0",
          "last_week_day",
          "sex_1.0",
          "segment_7.0",
          "Группа2_ИГРУШКИ",
          "Группа2_КОСМЕТИКА/ГИГИЕНА",
          "segment_5.0",
          "Группа2_КРУПНОГАБАРИТНЫЙ ТОВАР",
          "segment_4.0",
          "rank_top",
          "Тип_ППКП",
          "lfm_score",
          "Зарплата",
          "ncf_rank",
          "население",
          "lfm_rank",
          "ncf_score",
          "i_qty"
         ]
        }
       ],
       "layout": {
        "autosize": false,
        "height": 800,
        "template": {
         "data": {
          "bar": [
           {
            "error_x": {
             "color": "#2a3f5f"
            },
            "error_y": {
             "color": "#2a3f5f"
            },
            "marker": {
             "line": {
              "color": "#E5ECF6",
              "width": 0.5
             },
             "pattern": {
              "fillmode": "overlay",
              "size": 10,
              "solidity": 0.2
             }
            },
            "type": "bar"
           }
          ],
          "barpolar": [
           {
            "marker": {
             "line": {
              "color": "#E5ECF6",
              "width": 0.5
             },
             "pattern": {
              "fillmode": "overlay",
              "size": 10,
              "solidity": 0.2
             }
            },
            "type": "barpolar"
           }
          ],
          "carpet": [
           {
            "aaxis": {
             "endlinecolor": "#2a3f5f",
             "gridcolor": "white",
             "linecolor": "white",
             "minorgridcolor": "white",
             "startlinecolor": "#2a3f5f"
            },
            "baxis": {
             "endlinecolor": "#2a3f5f",
             "gridcolor": "white",
             "linecolor": "white",
             "minorgridcolor": "white",
             "startlinecolor": "#2a3f5f"
            },
            "type": "carpet"
           }
          ],
          "choropleth": [
           {
            "colorbar": {
             "outlinewidth": 0,
             "ticks": ""
            },
            "type": "choropleth"
           }
          ],
          "contour": [
           {
            "colorbar": {
             "outlinewidth": 0,
             "ticks": ""
            },
            "colorscale": [
             [
              0,
              "#0d0887"
             ],
             [
              0.1111111111111111,
              "#46039f"
             ],
             [
              0.2222222222222222,
              "#7201a8"
             ],
             [
              0.3333333333333333,
              "#9c179e"
             ],
             [
              0.4444444444444444,
              "#bd3786"
             ],
             [
              0.5555555555555556,
              "#d8576b"
             ],
             [
              0.6666666666666666,
              "#ed7953"
             ],
             [
              0.7777777777777778,
              "#fb9f3a"
             ],
             [
              0.8888888888888888,
              "#fdca26"
             ],
             [
              1,
              "#f0f921"
             ]
            ],
            "type": "contour"
           }
          ],
          "contourcarpet": [
           {
            "colorbar": {
             "outlinewidth": 0,
             "ticks": ""
            },
            "type": "contourcarpet"
           }
          ],
          "heatmap": [
           {
            "colorbar": {
             "outlinewidth": 0,
             "ticks": ""
            },
            "colorscale": [
             [
              0,
              "#0d0887"
             ],
             [
              0.1111111111111111,
              "#46039f"
             ],
             [
              0.2222222222222222,
              "#7201a8"
             ],
             [
              0.3333333333333333,
              "#9c179e"
             ],
             [
              0.4444444444444444,
              "#bd3786"
             ],
             [
              0.5555555555555556,
              "#d8576b"
             ],
             [
              0.6666666666666666,
              "#ed7953"
             ],
             [
              0.7777777777777778,
              "#fb9f3a"
             ],
             [
              0.8888888888888888,
              "#fdca26"
             ],
             [
              1,
              "#f0f921"
             ]
            ],
            "type": "heatmap"
           }
          ],
          "heatmapgl": [
           {
            "colorbar": {
             "outlinewidth": 0,
             "ticks": ""
            },
            "colorscale": [
             [
              0,
              "#0d0887"
             ],
             [
              0.1111111111111111,
              "#46039f"
             ],
             [
              0.2222222222222222,
              "#7201a8"
             ],
             [
              0.3333333333333333,
              "#9c179e"
             ],
             [
              0.4444444444444444,
              "#bd3786"
             ],
             [
              0.5555555555555556,
              "#d8576b"
             ],
             [
              0.6666666666666666,
              "#ed7953"
             ],
             [
              0.7777777777777778,
              "#fb9f3a"
             ],
             [
              0.8888888888888888,
              "#fdca26"
             ],
             [
              1,
              "#f0f921"
             ]
            ],
            "type": "heatmapgl"
           }
          ],
          "histogram": [
           {
            "marker": {
             "pattern": {
              "fillmode": "overlay",
              "size": 10,
              "solidity": 0.2
             }
            },
            "type": "histogram"
           }
          ],
          "histogram2d": [
           {
            "colorbar": {
             "outlinewidth": 0,
             "ticks": ""
            },
            "colorscale": [
             [
              0,
              "#0d0887"
             ],
             [
              0.1111111111111111,
              "#46039f"
             ],
             [
              0.2222222222222222,
              "#7201a8"
             ],
             [
              0.3333333333333333,
              "#9c179e"
             ],
             [
              0.4444444444444444,
              "#bd3786"
             ],
             [
              0.5555555555555556,
              "#d8576b"
             ],
             [
              0.6666666666666666,
              "#ed7953"
             ],
             [
              0.7777777777777778,
              "#fb9f3a"
             ],
             [
              0.8888888888888888,
              "#fdca26"
             ],
             [
              1,
              "#f0f921"
             ]
            ],
            "type": "histogram2d"
           }
          ],
          "histogram2dcontour": [
           {
            "colorbar": {
             "outlinewidth": 0,
             "ticks": ""
            },
            "colorscale": [
             [
              0,
              "#0d0887"
             ],
             [
              0.1111111111111111,
              "#46039f"
             ],
             [
              0.2222222222222222,
              "#7201a8"
             ],
             [
              0.3333333333333333,
              "#9c179e"
             ],
             [
              0.4444444444444444,
              "#bd3786"
             ],
             [
              0.5555555555555556,
              "#d8576b"
             ],
             [
              0.6666666666666666,
              "#ed7953"
             ],
             [
              0.7777777777777778,
              "#fb9f3a"
             ],
             [
              0.8888888888888888,
              "#fdca26"
             ],
             [
              1,
              "#f0f921"
             ]
            ],
            "type": "histogram2dcontour"
           }
          ],
          "mesh3d": [
           {
            "colorbar": {
             "outlinewidth": 0,
             "ticks": ""
            },
            "type": "mesh3d"
           }
          ],
          "parcoords": [
           {
            "line": {
             "colorbar": {
              "outlinewidth": 0,
              "ticks": ""
             }
            },
            "type": "parcoords"
           }
          ],
          "pie": [
           {
            "automargin": true,
            "type": "pie"
           }
          ],
          "scatter": [
           {
            "fillpattern": {
             "fillmode": "overlay",
             "size": 10,
             "solidity": 0.2
            },
            "type": "scatter"
           }
          ],
          "scatter3d": [
           {
            "line": {
             "colorbar": {
              "outlinewidth": 0,
              "ticks": ""
             }
            },
            "marker": {
             "colorbar": {
              "outlinewidth": 0,
              "ticks": ""
             }
            },
            "type": "scatter3d"
           }
          ],
          "scattercarpet": [
           {
            "marker": {
             "colorbar": {
              "outlinewidth": 0,
              "ticks": ""
             }
            },
            "type": "scattercarpet"
           }
          ],
          "scattergeo": [
           {
            "marker": {
             "colorbar": {
              "outlinewidth": 0,
              "ticks": ""
             }
            },
            "type": "scattergeo"
           }
          ],
          "scattergl": [
           {
            "marker": {
             "colorbar": {
              "outlinewidth": 0,
              "ticks": ""
             }
            },
            "type": "scattergl"
           }
          ],
          "scattermapbox": [
           {
            "marker": {
             "colorbar": {
              "outlinewidth": 0,
              "ticks": ""
             }
            },
            "type": "scattermapbox"
           }
          ],
          "scatterpolar": [
           {
            "marker": {
             "colorbar": {
              "outlinewidth": 0,
              "ticks": ""
             }
            },
            "type": "scatterpolar"
           }
          ],
          "scatterpolargl": [
           {
            "marker": {
             "colorbar": {
              "outlinewidth": 0,
              "ticks": ""
             }
            },
            "type": "scatterpolargl"
           }
          ],
          "scatterternary": [
           {
            "marker": {
             "colorbar": {
              "outlinewidth": 0,
              "ticks": ""
             }
            },
            "type": "scatterternary"
           }
          ],
          "surface": [
           {
            "colorbar": {
             "outlinewidth": 0,
             "ticks": ""
            },
            "colorscale": [
             [
              0,
              "#0d0887"
             ],
             [
              0.1111111111111111,
              "#46039f"
             ],
             [
              0.2222222222222222,
              "#7201a8"
             ],
             [
              0.3333333333333333,
              "#9c179e"
             ],
             [
              0.4444444444444444,
              "#bd3786"
             ],
             [
              0.5555555555555556,
              "#d8576b"
             ],
             [
              0.6666666666666666,
              "#ed7953"
             ],
             [
              0.7777777777777778,
              "#fb9f3a"
             ],
             [
              0.8888888888888888,
              "#fdca26"
             ],
             [
              1,
              "#f0f921"
             ]
            ],
            "type": "surface"
           }
          ],
          "table": [
           {
            "cells": {
             "fill": {
              "color": "#EBF0F8"
             },
             "line": {
              "color": "white"
             }
            },
            "header": {
             "fill": {
              "color": "#C8D4E3"
             },
             "line": {
              "color": "white"
             }
            },
            "type": "table"
           }
          ]
         },
         "layout": {
          "annotationdefaults": {
           "arrowcolor": "#2a3f5f",
           "arrowhead": 0,
           "arrowwidth": 1
          },
          "autotypenumbers": "strict",
          "coloraxis": {
           "colorbar": {
            "outlinewidth": 0,
            "ticks": ""
           }
          },
          "colorscale": {
           "diverging": [
            [
             0,
             "#8e0152"
            ],
            [
             0.1,
             "#c51b7d"
            ],
            [
             0.2,
             "#de77ae"
            ],
            [
             0.3,
             "#f1b6da"
            ],
            [
             0.4,
             "#fde0ef"
            ],
            [
             0.5,
             "#f7f7f7"
            ],
            [
             0.6,
             "#e6f5d0"
            ],
            [
             0.7,
             "#b8e186"
            ],
            [
             0.8,
             "#7fbc41"
            ],
            [
             0.9,
             "#4d9221"
            ],
            [
             1,
             "#276419"
            ]
           ],
           "sequential": [
            [
             0,
             "#0d0887"
            ],
            [
             0.1111111111111111,
             "#46039f"
            ],
            [
             0.2222222222222222,
             "#7201a8"
            ],
            [
             0.3333333333333333,
             "#9c179e"
            ],
            [
             0.4444444444444444,
             "#bd3786"
            ],
            [
             0.5555555555555556,
             "#d8576b"
            ],
            [
             0.6666666666666666,
             "#ed7953"
            ],
            [
             0.7777777777777778,
             "#fb9f3a"
            ],
            [
             0.8888888888888888,
             "#fdca26"
            ],
            [
             1,
             "#f0f921"
            ]
           ],
           "sequentialminus": [
            [
             0,
             "#0d0887"
            ],
            [
             0.1111111111111111,
             "#46039f"
            ],
            [
             0.2222222222222222,
             "#7201a8"
            ],
            [
             0.3333333333333333,
             "#9c179e"
            ],
            [
             0.4444444444444444,
             "#bd3786"
            ],
            [
             0.5555555555555556,
             "#d8576b"
            ],
            [
             0.6666666666666666,
             "#ed7953"
            ],
            [
             0.7777777777777778,
             "#fb9f3a"
            ],
            [
             0.8888888888888888,
             "#fdca26"
            ],
            [
             1,
             "#f0f921"
            ]
           ]
          },
          "colorway": [
           "#636efa",
           "#EF553B",
           "#00cc96",
           "#ab63fa",
           "#FFA15A",
           "#19d3f3",
           "#FF6692",
           "#B6E880",
           "#FF97FF",
           "#FECB52"
          ],
          "font": {
           "color": "#2a3f5f"
          },
          "geo": {
           "bgcolor": "white",
           "lakecolor": "white",
           "landcolor": "#E5ECF6",
           "showlakes": true,
           "showland": true,
           "subunitcolor": "white"
          },
          "hoverlabel": {
           "align": "left"
          },
          "hovermode": "closest",
          "mapbox": {
           "style": "light"
          },
          "paper_bgcolor": "white",
          "plot_bgcolor": "#E5ECF6",
          "polar": {
           "angularaxis": {
            "gridcolor": "white",
            "linecolor": "white",
            "ticks": ""
           },
           "bgcolor": "#E5ECF6",
           "radialaxis": {
            "gridcolor": "white",
            "linecolor": "white",
            "ticks": ""
           }
          },
          "scene": {
           "xaxis": {
            "backgroundcolor": "#E5ECF6",
            "gridcolor": "white",
            "gridwidth": 2,
            "linecolor": "white",
            "showbackground": true,
            "ticks": "",
            "zerolinecolor": "white"
           },
           "yaxis": {
            "backgroundcolor": "#E5ECF6",
            "gridcolor": "white",
            "gridwidth": 2,
            "linecolor": "white",
            "showbackground": true,
            "ticks": "",
            "zerolinecolor": "white"
           },
           "zaxis": {
            "backgroundcolor": "#E5ECF6",
            "gridcolor": "white",
            "gridwidth": 2,
            "linecolor": "white",
            "showbackground": true,
            "ticks": "",
            "zerolinecolor": "white"
           }
          },
          "shapedefaults": {
           "line": {
            "color": "#2a3f5f"
           }
          },
          "ternary": {
           "aaxis": {
            "gridcolor": "white",
            "linecolor": "white",
            "ticks": ""
           },
           "baxis": {
            "gridcolor": "white",
            "linecolor": "white",
            "ticks": ""
           },
           "bgcolor": "#E5ECF6",
           "caxis": {
            "gridcolor": "white",
            "linecolor": "white",
            "ticks": ""
           }
          },
          "title": {
           "x": 0.05
          },
          "xaxis": {
           "automargin": true,
           "gridcolor": "white",
           "linecolor": "white",
           "ticks": "",
           "title": {
            "standoff": 15
           },
           "zerolinecolor": "white",
           "zerolinewidth": 2
          },
          "yaxis": {
           "automargin": true,
           "gridcolor": "white",
           "linecolor": "white",
           "ticks": "",
           "title": {
            "standoff": 15
           },
           "zerolinecolor": "white",
           "zerolinewidth": 2
          }
         }
        },
        "title": {
         "text": "Feature Importances"
        },
        "width": 800,
        "xaxis": {
         "autorange": true,
         "range": [
          0,
          121132.01530682413
         ],
         "title": {
          "text": "Importance"
         },
         "type": "linear"
        },
        "yaxis": {
         "autorange": true,
         "range": [
          -0.5,
          19.5
         ],
         "type": "category"
        }
       }
      },
      "image/png": "[encoded data removed]",
      "text/html": [
       "<div>                            <div id=\"97843e94-aedd-4238-b443-2e84f8b2394b\" class=\"plotly-graph-div\" style=\"height:800px; width:800px;\"></div>            <script type=\"text/javascript\">                require([\"plotly\"], function(Plotly) {                    window.PLOTLYENV=window.PLOTLYENV || {};                                    if (document.getElementById(\"97843e94-aedd-4238-b443-2e84f8b2394b\")) {                    Plotly.newPlot(                        \"97843e94-aedd-4238-b443-2e84f8b2394b\",                        [{\"orientation\":\"h\",\"x\":[456.1319707632065,458.86644208431244,575.4649977684021,912.7618585824966,1103.6264182329178,1242.5896146297455,1258.2259763479233,1263.05350792408,1450.6543234586716,1565.4467551708221,1612.2983720302582,8205.346504211426,8456.654888391495,9979.09804391861,11398.127021551132,11442.283755540848,13538.434858441353,21769.09859418869,43557.376873493195,115075.41454148293],\"y\":[\"segment_2.0\",\"\\u0422\\u0438\\u043f_\\u041e\\u0414\\u0415\\u0416\\u0414\\u0410\",\"sex_0.0\",\"last_week_day\",\"sex_1.0\",\"segment_7.0\",\"\\u0413\\u0440\\u0443\\u043f\\u043f\\u04302_\\u0418\\u0413\\u0420\\u0423\\u0428\\u041a\\u0418\",\"\\u0413\\u0440\\u0443\\u043f\\u043f\\u04302_\\u041a\\u041e\\u0421\\u041c\\u0415\\u0422\\u0418\\u041a\\u0410/\\u0413\\u0418\\u0413\\u0418\\u0415\\u041d\\u0410\",\"segment_5.0\",\"\\u0413\\u0440\\u0443\\u043f\\u043f\\u04302_\\u041a\\u0420\\u0423\\u041f\\u041d\\u041e\\u0413\\u0410\\u0411\\u0410\\u0420\\u0418\\u0422\\u041d\\u042b\\u0419 \\u0422\\u041e\\u0412\\u0410\\u0420\",\"segment_4.0\",\"rank_top\",\"\\u0422\\u0438\\u043f_\\u041f\\u041f\\u041a\\u041f\",\"lfm_score\",\"\\u0417\\u0430\\u0440\\u043f\\u043b\\u0430\\u0442\\u0430\",\"ncf_rank\",\"\\u043d\\u0430\\u0441\\u0435\\u043b\\u0435\\u043d\\u0438\\u0435\",\"lfm_rank\",\"ncf_score\",\"i_qty\"],\"type\":\"bar\"}],                        {\"template\":{\"data\":{\"histogram2dcontour\":[{\"type\":\"histogram2dcontour\",\"colorbar\":{\"outlinewidth\":0,\"ticks\":\"\"},\"colorscale\":[[0.0,\"#0d0887\"],[0.1111111111111111,\"#46039f\"],[0.2222222222222222,\"#7201a8\"],[0.3333333333333333,\"#9c179e\"],[0.4444444444444444,\"#bd3786\"],[0.5555555555555556,\"#d8576b\"],[0.6666666666666666,\"#ed7953\"],[0.7777777777777778,\"#fb9f3a\"],[0.8888888888888888,\"#fdca26\"],[1.0,\"#f0f921\"]]}],\"choropleth\":[{\"type\":\"choropleth\",\"colorbar\":{\"outlinewidth\":0,\"ticks\":\"\"}}],\"histogram2d\":[{\"type\":\"histogram2d\",\"colorbar\":{\"outlinewidth\":0,\"ticks\":\"\"},\"colorscale\":[[0.0,\"#0d0887\"],[0.1111111111111111,\"#46039f\"],[0.2222222222222222,\"#7201a8\"],[0.3333333333333333,\"#9c179e\"],[0.4444444444444444,\"#bd3786\"],[0.5555555555555556,\"#d8576b\"],[0.6666666666666666,\"#ed7953\"],[0.7777777777777778,\"#fb9f3a\"],[0.8888888888888888,\"#fdca26\"],[1.0,\"#f0f921\"]]}],\"heatmap\":[{\"type\":\"heatmap\",\"colorbar\":{\"outlinewidth\":0,\"ticks\":\"\"},\"colorscale\":[[0.0,\"#0d0887\"],[0.1111111111111111,\"#46039f\"],[0.2222222222222222,\"#7201a8\"],[0.3333333333333333,\"#9c179e\"],[0.4444444444444444,\"#bd3786\"],[0.5555555555555556,\"#d8576b\"],[0.6666666666666666,\"#ed7953\"],[0.7777777777777778,\"#fb9f3a\"],[0.8888888888888888,\"#fdca26\"],[1.0,\"#f0f921\"]]}],\"heatmapgl\":[{\"type\":\"heatmapgl\",\"colorbar\":{\"outlinewidth\":0,\"ticks\":\"\"},\"colorscale\":[[0.0,\"#0d0887\"],[0.1111111111111111,\"#46039f\"],[0.2222222222222222,\"#7201a8\"],[0.3333333333333333,\"#9c179e\"],[0.4444444444444444,\"#bd3786\"],[0.5555555555555556,\"#d8576b\"],[0.6666666666666666,\"#ed7953\"],[0.7777777777777778,\"#fb9f3a\"],[0.8888888888888888,\"#fdca26\"],[1.0,\"#f0f921\"]]}],\"contourcarpet\":[{\"type\":\"contourcarpet\",\"colorbar\":{\"outlinewidth\":0,\"ticks\":\"\"}}],\"contour\":[{\"type\":\"contour\",\"colorbar\":{\"outlinewidth\":0,\"ticks\":\"\"},\"colorscale\":[[0.0,\"#0d0887\"],[0.1111111111111111,\"#46039f\"],[0.2222222222222222,\"#7201a8\"],[0.3333333333333333,\"#9c179e\"],[0.4444444444444444,\"#bd3786\"],[0.5555555555555556,\"#d8576b\"],[0.6666666666666666,\"#ed7953\"],[0.7777777777777778,\"#fb9f3a\"],[0.8888888888888888,\"#fdca26\"],[1.0,\"#f0f921\"]]}],\"surface\":[{\"type\":\"surface\",\"colorbar\":{\"outlinewidth\":0,\"ticks\":\"\"},\"colorscale\":[[0.0,\"#0d0887\"],[0.1111111111111111,\"#46039f\"],[0.2222222222222222,\"#7201a8\"],[0.3333333333333333,\"#9c179e\"],[0.4444444444444444,\"#bd3786\"],[0.5555555555555556,\"#d8576b\"],[0.6666666666666666,\"#ed7953\"],[0.7777777777777778,\"#fb9f3a\"],[0.8888888888888888,\"#fdca26\"],[1.0,\"#f0f921\"]]}],\"mesh3d\":[{\"type\":\"mesh3d\",\"colorbar\":{\"outlinewidth\":0,\"ticks\":\"\"}}],\"scatter\":[{\"fillpattern\":{\"fillmode\":\"overlay\",\"size\":10,\"solidity\":0.2},\"type\":\"scatter\"}],\"parcoords\":[{\"type\":\"parcoords\",\"line\":{\"colorbar\":{\"outlinewidth\":0,\"ticks\":\"\"}}}],\"scatterpolargl\":[{\"type\":\"scatterpolargl\",\"marker\":{\"colorbar\":{\"outlinewidth\":0,\"ticks\":\"\"}}}],\"bar\":[{\"error_x\":{\"color\":\"#2a3f5f\"},\"error_y\":{\"color\":\"#2a3f5f\"},\"marker\":{\"line\":{\"color\":\"#E5ECF6\",\"width\":0.5},\"pattern\":{\"fillmode\":\"overlay\",\"size\":10,\"solidity\":0.2}},\"type\":\"bar\"}],\"scattergeo\":[{\"type\":\"scattergeo\",\"marker\":{\"colorbar\":{\"outlinewidth\":0,\"ticks\":\"\"}}}],\"scatterpolar\":[{\"type\":\"scatterpolar\",\"marker\":{\"colorbar\":{\"outlinewidth\":0,\"ticks\":\"\"}}}],\"histogram\":[{\"marker\":{\"pattern\":{\"fillmode\":\"overlay\",\"size\":10,\"solidity\":0.2}},\"type\":\"histogram\"}],\"scattergl\":[{\"type\":\"scattergl\",\"marker\":{\"colorbar\":{\"outlinewidth\":0,\"ticks\":\"\"}}}],\"scatter3d\":[{\"type\":\"scatter3d\",\"line\":{\"colorbar\":{\"outlinewidth\":0,\"ticks\":\"\"}},\"marker\":{\"colorbar\":{\"outlinewidth\":0,\"ticks\":\"\"}}}],\"scattermapbox\":[{\"type\":\"scattermapbox\",\"marker\":{\"colorbar\":{\"outlinewidth\":0,\"ticks\":\"\"}}}],\"scatterternary\":[{\"type\":\"scatterternary\",\"marker\":{\"colorbar\":{\"outlinewidth\":0,\"ticks\":\"\"}}}],\"scattercarpet\":[{\"type\":\"scattercarpet\",\"marker\":{\"colorbar\":{\"outlinewidth\":0,\"ticks\":\"\"}}}],\"carpet\":[{\"aaxis\":{\"endlinecolor\":\"#2a3f5f\",\"gridcolor\":\"white\",\"linecolor\":\"white\",\"minorgridcolor\":\"white\",\"startlinecolor\":\"#2a3f5f\"},\"baxis\":{\"endlinecolor\":\"#2a3f5f\",\"gridcolor\":\"white\",\"linecolor\":\"white\",\"minorgridcolor\":\"white\",\"startlinecolor\":\"#2a3f5f\"},\"type\":\"carpet\"}],\"table\":[{\"cells\":{\"fill\":{\"color\":\"#EBF0F8\"},\"line\":{\"color\":\"white\"}},\"header\":{\"fill\":{\"color\":\"#C8D4E3\"},\"line\":{\"color\":\"white\"}},\"type\":\"table\"}],\"barpolar\":[{\"marker\":{\"line\":{\"color\":\"#E5ECF6\",\"width\":0.5},\"pattern\":{\"fillmode\":\"overlay\",\"size\":10,\"solidity\":0.2}},\"type\":\"barpolar\"}],\"pie\":[{\"automargin\":true,\"type\":\"pie\"}]},\"layout\":{\"autotypenumbers\":\"strict\",\"colorway\":[\"#636efa\",\"#EF553B\",\"#00cc96\",\"#ab63fa\",\"#FFA15A\",\"#19d3f3\",\"#FF6692\",\"#B6E880\",\"#FF97FF\",\"#FECB52\"],\"font\":{\"color\":\"#2a3f5f\"},\"hovermode\":\"closest\",\"hoverlabel\":{\"align\":\"left\"},\"paper_bgcolor\":\"white\",\"plot_bgcolor\":\"#E5ECF6\",\"polar\":{\"bgcolor\":\"#E5ECF6\",\"angularaxis\":{\"gridcolor\":\"white\",\"linecolor\":\"white\",\"ticks\":\"\"},\"radialaxis\":{\"gridcolor\":\"white\",\"linecolor\":\"white\",\"ticks\":\"\"}},\"ternary\":{\"bgcolor\":\"#E5ECF6\",\"aaxis\":{\"gridcolor\":\"white\",\"linecolor\":\"white\",\"ticks\":\"\"},\"baxis\":{\"gridcolor\":\"white\",\"linecolor\":\"white\",\"ticks\":\"\"},\"caxis\":{\"gridcolor\":\"white\",\"linecolor\":\"white\",\"ticks\":\"\"}},\"coloraxis\":{\"colorbar\":{\"outlinewidth\":0,\"ticks\":\"\"}},\"colorscale\":{\"sequential\":[[0.0,\"#0d0887\"],[0.1111111111111111,\"#46039f\"],[0.2222222222222222,\"#7201a8\"],[0.3333333333333333,\"#9c179e\"],[0.4444444444444444,\"#bd3786\"],[0.5555555555555556,\"#d8576b\"],[0.6666666666666666,\"#ed7953\"],[0.7777777777777778,\"#fb9f3a\"],[0.8888888888888888,\"#fdca26\"],[1.0,\"#f0f921\"]],\"sequentialminus\":[[0.0,\"#0d0887\"],[0.1111111111111111,\"#46039f\"],[0.2222222222222222,\"#7201a8\"],[0.3333333333333333,\"#9c179e\"],[0.4444444444444444,\"#bd3786\"],[0.5555555555555556,\"#d8576b\"],[0.6666666666666666,\"#ed7953\"],[0.7777777777777778,\"#fb9f3a\"],[0.8888888888888888,\"#fdca26\"],[1.0,\"#f0f921\"]],\"diverging\":[[0,\"#8e0152\"],[0.1,\"#c51b7d\"],[0.2,\"#de77ae\"],[0.3,\"#f1b6da\"],[0.4,\"#fde0ef\"],[0.5,\"#f7f7f7\"],[0.6,\"#e6f5d0\"],[0.7,\"#b8e186\"],[0.8,\"#7fbc41\"],[0.9,\"#4d9221\"],[1,\"#276419\"]]},\"xaxis\":{\"gridcolor\":\"white\",\"linecolor\":\"white\",\"ticks\":\"\",\"title\":{\"standoff\":15},\"zerolinecolor\":\"white\",\"automargin\":true,\"zerolinewidth\":2},\"yaxis\":{\"gridcolor\":\"white\",\"linecolor\":\"white\",\"ticks\":\"\",\"title\":{\"standoff\":15},\"zerolinecolor\":\"white\",\"automargin\":true,\"zerolinewidth\":2},\"scene\":{\"xaxis\":{\"backgroundcolor\":\"#E5ECF6\",\"gridcolor\":\"white\",\"linecolor\":\"white\",\"showbackground\":true,\"ticks\":\"\",\"zerolinecolor\":\"white\",\"gridwidth\":2},\"yaxis\":{\"backgroundcolor\":\"#E5ECF6\",\"gridcolor\":\"white\",\"linecolor\":\"white\",\"showbackground\":true,\"ticks\":\"\",\"zerolinecolor\":\"white\",\"gridwidth\":2},\"zaxis\":{\"backgroundcolor\":\"#E5ECF6\",\"gridcolor\":\"white\",\"linecolor\":\"white\",\"showbackground\":true,\"ticks\":\"\",\"zerolinecolor\":\"white\",\"gridwidth\":2}},\"shapedefaults\":{\"line\":{\"color\":\"#2a3f5f\"}},\"annotationdefaults\":{\"arrowcolor\":\"#2a3f5f\",\"arrowhead\":0,\"arrowwidth\":1},\"geo\":{\"bgcolor\":\"white\",\"landcolor\":\"#E5ECF6\",\"subunitcolor\":\"white\",\"showland\":true,\"showlakes\":true,\"lakecolor\":\"white\"},\"title\":{\"x\":0.05},\"mapbox\":{\"style\":\"light\"}}},\"autosize\":false,\"width\":800,\"height\":800,\"title\":{\"text\":\"Feature Importances\"},\"xaxis\":{\"title\":{\"text\":\"Importance\"}}},                        {\"responsive\": true}                    ).then(function(){\n",
       "                            \n",
       "var gd = document.getElementById('97843e94-aedd-4238-b443-2e84f8b2394b');\n",
       "var x = new MutationObserver(function (mutations, observer) {{\n",
       "        var display = window.getComputedStyle(gd).display;\n",
       "        if (!display || display === 'none') {{\n",
       "            console.log([gd, 'removed!']);\n",
       "            Plotly.purge(gd);\n",
       "            observer.disconnect();\n",
       "        }}\n",
       "}});\n",
       "\n",
       "// Listen for the removal of the full notebook cells\n",
       "var notebookContainer = gd.closest('#notebook-container');\n",
       "if (notebookContainer) {{\n",
       "    x.observe(notebookContainer, {childList: true});\n",
       "}}\n",
       "\n",
       "// Listen for the clearing of the current output cell\n",
       "var outputEl = gd.closest('.output');\n",
       "if (outputEl) {{\n",
       "    x.observe(outputEl, {childList: true});\n",
       "}}\n",
       "\n",
       "                        })                };                });            </script>        </div>"
      ]
     },
     "metadata": {},
     "output_type": "display_data"
    }
   ],
   "source": [
    "import plotly.graph_objects as go\n",
    "import plotly\n",
    "import plotly.graph_objs as go\n",
    "import plotly.express as px\n",
    "\n",
    "top10 = fast_fi.head(20)\n",
    "\n",
    "fig = go.Figure(go.Bar(\n",
    "            y=top10.Feature.values[::-1],\n",
    "            x=top10.Importance.values[::-1],\n",
    "            orientation='h',\n",
    "\n",
    "            ))\n",
    "\n",
    "fig.update_layout(\n",
    "    autosize=False,\n",
    "    width=800,\n",
    "    height=800,\n",
    "    title='Feature Importances',\n",
    "    xaxis_title='Importance'\n",
    "    )\n",
    "\n",
    "fig.show()"
   ]
  },
  {
   "cell_type": "code",
   "execution_count": 257,
   "id": "d73228df-b595-4f10-9b8a-616e490598e2",
   "metadata": {},
   "outputs": [],
   "source": [
    "def objective(trial,data=X_train_sc, target=y_train):\n",
    "    \n",
    "    train_x, test_x, train_y, test_y = train_test_split(data, target, test_size=0.15,random_state=42)\n",
    "    param = {\n",
    "        'lambda': trial.suggest_loguniform('lambda', 1e-3, 10.0),\n",
    "        'alpha': trial.suggest_loguniform('alpha', 1e-3, 10.0),\n",
    "        'colsample_bytree': trial.suggest_categorical('colsample_bytree', [0.3,0.4,0.5,0.6,0.7,0.8,0.9, 1.0]),\n",
    "        'subsample': trial.suggest_categorical('subsample', [0.4,0.5,0.6,0.7,0.8,1.0]),\n",
    "        'learning_rate': trial.suggest_categorical('learning_rate', [0.008,0.01,0.012,0.014,0.016,0.018, 0.02]),\n",
    "        'n_estimators': trial.suggest_int('n_estimators', 10, 10000),\n",
    "        'max_depth': trial.suggest_categorical('max_depth', [3, 5,7,9,11,13,15,17]),\n",
    "        'random_state': trial.suggest_categorical('random_state', [123]),\n",
    "        'min_child_weight': trial.suggest_int('min_child_weight', 1, 300),\n",
    "    }\n",
    "    model = xgb.XGBClassifier(**param, eval_metric='logloss')  \n",
    "    \n",
    "    model.fit(train_x,train_y,eval_set=[(test_x,test_y)],early_stopping_rounds=100,verbose=False)\n",
    "    \n",
    "    preds = model.predict(test_x)\n",
    "    \n",
    "    # roc_auc = roc_auc_score(test_y, preds[:, 1])\n",
    "    # recall = recall_score(test_y, preds)\n",
    "    fbeta = fbeta_score(test_y, preds, beta=1.5)\n",
    "    return fbeta"
   ]
  },
  {
   "cell_type": "code",
   "execution_count": 258,
   "id": "4647ff61-9388-4fe4-b5e3-5436b94251ba",
   "metadata": {
    "collapsed": true,
    "jupyter": {
     "outputs_hidden": true
    },
    "tags": []
   },
   "outputs": [
    {
     "name": "stderr",
     "output_type": "stream",
     "text": [
      "\u001b[32m[I 2023-04-28 20:18:24,722]\u001b[0m A new study created in memory with name: xgb_tuning\u001b[0m\n",
      "/Users/mariafar/opt/anaconda3/lib/python3.9/site-packages/xgboost/sklearn.py:1224: UserWarning:\n",
      "\n",
      "The use of label encoder in XGBClassifier is deprecated and will be removed in a future release. To remove this warning, do the following: 1) Pass option use_label_encoder=False when constructing XGBClassifier object; and 2) Encode your labels (y) as integers starting with 0, i.e. 0, 1, 2, ..., [num_class - 1].\n",
      "\n",
      "/Users/mariafar/opt/anaconda3/lib/python3.9/site-packages/sklearn/preprocessing/_label.py:99: DataConversionWarning:\n",
      "\n",
      "A column-vector y was passed when a 1d array was expected. Please change the shape of y to (n_samples, ), for example using ravel().\n",
      "\n",
      "/Users/mariafar/opt/anaconda3/lib/python3.9/site-packages/sklearn/preprocessing/_label.py:134: DataConversionWarning:\n",
      "\n",
      "A column-vector y was passed when a 1d array was expected. Please change the shape of y to (n_samples, ), for example using ravel().\n",
      "\n",
      "/Users/mariafar/opt/anaconda3/lib/python3.9/site-packages/sklearn/preprocessing/_label.py:134: DataConversionWarning:\n",
      "\n",
      "A column-vector y was passed when a 1d array was expected. Please change the shape of y to (n_samples, ), for example using ravel().\n",
      "\n",
      "\u001b[32m[I 2023-04-28 20:22:04,755]\u001b[0m Trial 0 finished with value: 0.7676173936276801 and parameters: {'lambda': 0.07801380051054163, 'alpha': 4.778017285224487, 'colsample_bytree': 0.6, 'subsample': 0.4, 'learning_rate': 0.01, 'n_estimators': 8698, 'max_depth': 15, 'random_state': 123, 'min_child_weight': 216}. Best is trial 0 with value: 0.7676173936276801.\u001b[0m\n",
      "/Users/mariafar/opt/anaconda3/lib/python3.9/site-packages/xgboost/sklearn.py:1224: UserWarning:\n",
      "\n",
      "The use of label encoder in XGBClassifier is deprecated and will be removed in a future release. To remove this warning, do the following: 1) Pass option use_label_encoder=False when constructing XGBClassifier object; and 2) Encode your labels (y) as integers starting with 0, i.e. 0, 1, 2, ..., [num_class - 1].\n",
      "\n",
      "/Users/mariafar/opt/anaconda3/lib/python3.9/site-packages/sklearn/preprocessing/_label.py:99: DataConversionWarning:\n",
      "\n",
      "A column-vector y was passed when a 1d array was expected. Please change the shape of y to (n_samples, ), for example using ravel().\n",
      "\n",
      "/Users/mariafar/opt/anaconda3/lib/python3.9/site-packages/sklearn/preprocessing/_label.py:134: DataConversionWarning:\n",
      "\n",
      "A column-vector y was passed when a 1d array was expected. Please change the shape of y to (n_samples, ), for example using ravel().\n",
      "\n",
      "/Users/mariafar/opt/anaconda3/lib/python3.9/site-packages/sklearn/preprocessing/_label.py:134: DataConversionWarning:\n",
      "\n",
      "A column-vector y was passed when a 1d array was expected. Please change the shape of y to (n_samples, ), for example using ravel().\n",
      "\n",
      "\u001b[32m[I 2023-04-28 20:25:36,341]\u001b[0m Trial 1 finished with value: 0.7762745751416196 and parameters: {'lambda': 1.9539171414486805, 'alpha': 0.0842319272554008, 'colsample_bytree': 0.3, 'subsample': 1.0, 'learning_rate': 0.014, 'n_estimators': 6724, 'max_depth': 13, 'random_state': 123, 'min_child_weight': 262}. Best is trial 1 with value: 0.7762745751416196.\u001b[0m\n",
      "/Users/mariafar/opt/anaconda3/lib/python3.9/site-packages/xgboost/sklearn.py:1224: UserWarning:\n",
      "\n",
      "The use of label encoder in XGBClassifier is deprecated and will be removed in a future release. To remove this warning, do the following: 1) Pass option use_label_encoder=False when constructing XGBClassifier object; and 2) Encode your labels (y) as integers starting with 0, i.e. 0, 1, 2, ..., [num_class - 1].\n",
      "\n",
      "/Users/mariafar/opt/anaconda3/lib/python3.9/site-packages/sklearn/preprocessing/_label.py:99: DataConversionWarning:\n",
      "\n",
      "A column-vector y was passed when a 1d array was expected. Please change the shape of y to (n_samples, ), for example using ravel().\n",
      "\n",
      "/Users/mariafar/opt/anaconda3/lib/python3.9/site-packages/sklearn/preprocessing/_label.py:134: DataConversionWarning:\n",
      "\n",
      "A column-vector y was passed when a 1d array was expected. Please change the shape of y to (n_samples, ), for example using ravel().\n",
      "\n",
      "/Users/mariafar/opt/anaconda3/lib/python3.9/site-packages/sklearn/preprocessing/_label.py:134: DataConversionWarning:\n",
      "\n",
      "A column-vector y was passed when a 1d array was expected. Please change the shape of y to (n_samples, ), for example using ravel().\n",
      "\n",
      "\u001b[32m[I 2023-04-28 20:28:21,789]\u001b[0m Trial 2 finished with value: 0.771421892740266 and parameters: {'lambda': 0.19085633681538608, 'alpha': 8.195716333907175, 'colsample_bytree': 0.7, 'subsample': 0.5, 'learning_rate': 0.018, 'n_estimators': 7178, 'max_depth': 9, 'random_state': 123, 'min_child_weight': 210}. Best is trial 1 with value: 0.7762745751416196.\u001b[0m\n",
      "/Users/mariafar/opt/anaconda3/lib/python3.9/site-packages/xgboost/sklearn.py:1224: UserWarning:\n",
      "\n",
      "The use of label encoder in XGBClassifier is deprecated and will be removed in a future release. To remove this warning, do the following: 1) Pass option use_label_encoder=False when constructing XGBClassifier object; and 2) Encode your labels (y) as integers starting with 0, i.e. 0, 1, 2, ..., [num_class - 1].\n",
      "\n",
      "/Users/mariafar/opt/anaconda3/lib/python3.9/site-packages/sklearn/preprocessing/_label.py:99: DataConversionWarning:\n",
      "\n",
      "A column-vector y was passed when a 1d array was expected. Please change the shape of y to (n_samples, ), for example using ravel().\n",
      "\n",
      "/Users/mariafar/opt/anaconda3/lib/python3.9/site-packages/sklearn/preprocessing/_label.py:134: DataConversionWarning:\n",
      "\n",
      "A column-vector y was passed when a 1d array was expected. Please change the shape of y to (n_samples, ), for example using ravel().\n",
      "\n",
      "/Users/mariafar/opt/anaconda3/lib/python3.9/site-packages/sklearn/preprocessing/_label.py:134: DataConversionWarning:\n",
      "\n",
      "A column-vector y was passed when a 1d array was expected. Please change the shape of y to (n_samples, ), for example using ravel().\n",
      "\n",
      "\u001b[32m[I 2023-04-28 20:28:57,257]\u001b[0m Trial 3 finished with value: 0.7625041848008034 and parameters: {'lambda': 5.369293344343443, 'alpha': 0.9463372874686132, 'colsample_bytree': 0.6, 'subsample': 0.6, 'learning_rate': 0.014, 'n_estimators': 1441, 'max_depth': 3, 'random_state': 123, 'min_child_weight': 271}. Best is trial 1 with value: 0.7762745751416196.\u001b[0m\n",
      "/Users/mariafar/opt/anaconda3/lib/python3.9/site-packages/xgboost/sklearn.py:1224: UserWarning:\n",
      "\n",
      "The use of label encoder in XGBClassifier is deprecated and will be removed in a future release. To remove this warning, do the following: 1) Pass option use_label_encoder=False when constructing XGBClassifier object; and 2) Encode your labels (y) as integers starting with 0, i.e. 0, 1, 2, ..., [num_class - 1].\n",
      "\n",
      "/Users/mariafar/opt/anaconda3/lib/python3.9/site-packages/sklearn/preprocessing/_label.py:99: DataConversionWarning:\n",
      "\n",
      "A column-vector y was passed when a 1d array was expected. Please change the shape of y to (n_samples, ), for example using ravel().\n",
      "\n",
      "/Users/mariafar/opt/anaconda3/lib/python3.9/site-packages/sklearn/preprocessing/_label.py:134: DataConversionWarning:\n",
      "\n",
      "A column-vector y was passed when a 1d array was expected. Please change the shape of y to (n_samples, ), for example using ravel().\n",
      "\n",
      "/Users/mariafar/opt/anaconda3/lib/python3.9/site-packages/sklearn/preprocessing/_label.py:134: DataConversionWarning:\n",
      "\n",
      "A column-vector y was passed when a 1d array was expected. Please change the shape of y to (n_samples, ), for example using ravel().\n",
      "\n",
      "\u001b[32m[I 2023-04-28 20:32:59,293]\u001b[0m Trial 4 finished with value: 0.777685511193782 and parameters: {'lambda': 0.007291536764035974, 'alpha': 0.6636635042470496, 'colsample_bytree': 0.7, 'subsample': 1.0, 'learning_rate': 0.016, 'n_estimators': 8560, 'max_depth': 7, 'random_state': 123, 'min_child_weight': 291}. Best is trial 4 with value: 0.777685511193782.\u001b[0m\n",
      "/Users/mariafar/opt/anaconda3/lib/python3.9/site-packages/xgboost/sklearn.py:1224: UserWarning:\n",
      "\n",
      "The use of label encoder in XGBClassifier is deprecated and will be removed in a future release. To remove this warning, do the following: 1) Pass option use_label_encoder=False when constructing XGBClassifier object; and 2) Encode your labels (y) as integers starting with 0, i.e. 0, 1, 2, ..., [num_class - 1].\n",
      "\n",
      "/Users/mariafar/opt/anaconda3/lib/python3.9/site-packages/sklearn/preprocessing/_label.py:99: DataConversionWarning:\n",
      "\n",
      "A column-vector y was passed when a 1d array was expected. Please change the shape of y to (n_samples, ), for example using ravel().\n",
      "\n",
      "/Users/mariafar/opt/anaconda3/lib/python3.9/site-packages/sklearn/preprocessing/_label.py:134: DataConversionWarning:\n",
      "\n",
      "A column-vector y was passed when a 1d array was expected. Please change the shape of y to (n_samples, ), for example using ravel().\n",
      "\n",
      "/Users/mariafar/opt/anaconda3/lib/python3.9/site-packages/sklearn/preprocessing/_label.py:134: DataConversionWarning:\n",
      "\n",
      "A column-vector y was passed when a 1d array was expected. Please change the shape of y to (n_samples, ), for example using ravel().\n",
      "\n",
      "\u001b[32m[I 2023-04-28 20:34:19,873]\u001b[0m Trial 5 finished with value: 0.7843267254524962 and parameters: {'lambda': 3.0689306488016026, 'alpha': 0.010123801850571565, 'colsample_bytree': 0.9, 'subsample': 0.7, 'learning_rate': 0.02, 'n_estimators': 5949, 'max_depth': 5, 'random_state': 123, 'min_child_weight': 122}. Best is trial 5 with value: 0.7843267254524962.\u001b[0m\n",
      "/Users/mariafar/opt/anaconda3/lib/python3.9/site-packages/xgboost/sklearn.py:1224: UserWarning:\n",
      "\n",
      "The use of label encoder in XGBClassifier is deprecated and will be removed in a future release. To remove this warning, do the following: 1) Pass option use_label_encoder=False when constructing XGBClassifier object; and 2) Encode your labels (y) as integers starting with 0, i.e. 0, 1, 2, ..., [num_class - 1].\n",
      "\n",
      "/Users/mariafar/opt/anaconda3/lib/python3.9/site-packages/sklearn/preprocessing/_label.py:99: DataConversionWarning:\n",
      "\n",
      "A column-vector y was passed when a 1d array was expected. Please change the shape of y to (n_samples, ), for example using ravel().\n",
      "\n",
      "/Users/mariafar/opt/anaconda3/lib/python3.9/site-packages/sklearn/preprocessing/_label.py:134: DataConversionWarning:\n",
      "\n",
      "A column-vector y was passed when a 1d array was expected. Please change the shape of y to (n_samples, ), for example using ravel().\n",
      "\n",
      "/Users/mariafar/opt/anaconda3/lib/python3.9/site-packages/sklearn/preprocessing/_label.py:134: DataConversionWarning:\n",
      "\n",
      "A column-vector y was passed when a 1d array was expected. Please change the shape of y to (n_samples, ), for example using ravel().\n",
      "\n",
      "\u001b[32m[I 2023-04-28 20:36:31,232]\u001b[0m Trial 6 finished with value: 0.7762359063313096 and parameters: {'lambda': 1.134926507419305, 'alpha': 0.003336973515621737, 'colsample_bytree': 0.3, 'subsample': 0.7, 'learning_rate': 0.014, 'n_estimators': 3941, 'max_depth': 9, 'random_state': 123, 'min_child_weight': 220}. Best is trial 5 with value: 0.7843267254524962.\u001b[0m\n",
      "/Users/mariafar/opt/anaconda3/lib/python3.9/site-packages/xgboost/sklearn.py:1224: UserWarning:\n",
      "\n",
      "The use of label encoder in XGBClassifier is deprecated and will be removed in a future release. To remove this warning, do the following: 1) Pass option use_label_encoder=False when constructing XGBClassifier object; and 2) Encode your labels (y) as integers starting with 0, i.e. 0, 1, 2, ..., [num_class - 1].\n",
      "\n",
      "/Users/mariafar/opt/anaconda3/lib/python3.9/site-packages/sklearn/preprocessing/_label.py:99: DataConversionWarning:\n",
      "\n",
      "A column-vector y was passed when a 1d array was expected. Please change the shape of y to (n_samples, ), for example using ravel().\n",
      "\n",
      "/Users/mariafar/opt/anaconda3/lib/python3.9/site-packages/sklearn/preprocessing/_label.py:134: DataConversionWarning:\n",
      "\n",
      "A column-vector y was passed when a 1d array was expected. Please change the shape of y to (n_samples, ), for example using ravel().\n",
      "\n",
      "/Users/mariafar/opt/anaconda3/lib/python3.9/site-packages/sklearn/preprocessing/_label.py:134: DataConversionWarning:\n",
      "\n",
      "A column-vector y was passed when a 1d array was expected. Please change the shape of y to (n_samples, ), for example using ravel().\n",
      "\n",
      "\u001b[32m[I 2023-04-28 20:37:00,563]\u001b[0m Trial 7 finished with value: 0.7866626833964018 and parameters: {'lambda': 0.15978494269739105, 'alpha': 0.0181237493234422, 'colsample_bytree': 0.3, 'subsample': 0.5, 'learning_rate': 0.01, 'n_estimators': 1186, 'max_depth': 3, 'random_state': 123, 'min_child_weight': 13}. Best is trial 7 with value: 0.7866626833964018.\u001b[0m\n",
      "/Users/mariafar/opt/anaconda3/lib/python3.9/site-packages/xgboost/sklearn.py:1224: UserWarning:\n",
      "\n",
      "The use of label encoder in XGBClassifier is deprecated and will be removed in a future release. To remove this warning, do the following: 1) Pass option use_label_encoder=False when constructing XGBClassifier object; and 2) Encode your labels (y) as integers starting with 0, i.e. 0, 1, 2, ..., [num_class - 1].\n",
      "\n",
      "/Users/mariafar/opt/anaconda3/lib/python3.9/site-packages/sklearn/preprocessing/_label.py:99: DataConversionWarning:\n",
      "\n",
      "A column-vector y was passed when a 1d array was expected. Please change the shape of y to (n_samples, ), for example using ravel().\n",
      "\n",
      "/Users/mariafar/opt/anaconda3/lib/python3.9/site-packages/sklearn/preprocessing/_label.py:134: DataConversionWarning:\n",
      "\n",
      "A column-vector y was passed when a 1d array was expected. Please change the shape of y to (n_samples, ), for example using ravel().\n",
      "\n",
      "/Users/mariafar/opt/anaconda3/lib/python3.9/site-packages/sklearn/preprocessing/_label.py:134: DataConversionWarning:\n",
      "\n",
      "A column-vector y was passed when a 1d array was expected. Please change the shape of y to (n_samples, ), for example using ravel().\n",
      "\n",
      "\u001b[32m[I 2023-04-28 20:38:28,161]\u001b[0m Trial 8 finished with value: 0.7880740006607202 and parameters: {'lambda': 0.054077542541478854, 'alpha': 0.013836852508855524, 'colsample_bytree': 1.0, 'subsample': 0.5, 'learning_rate': 0.014, 'n_estimators': 8955, 'max_depth': 17, 'random_state': 123, 'min_child_weight': 49}. Best is trial 8 with value: 0.7880740006607202.\u001b[0m\n",
      "/Users/mariafar/opt/anaconda3/lib/python3.9/site-packages/xgboost/sklearn.py:1224: UserWarning:\n",
      "\n",
      "The use of label encoder in XGBClassifier is deprecated and will be removed in a future release. To remove this warning, do the following: 1) Pass option use_label_encoder=False when constructing XGBClassifier object; and 2) Encode your labels (y) as integers starting with 0, i.e. 0, 1, 2, ..., [num_class - 1].\n",
      "\n",
      "/Users/mariafar/opt/anaconda3/lib/python3.9/site-packages/sklearn/preprocessing/_label.py:99: DataConversionWarning:\n",
      "\n",
      "A column-vector y was passed when a 1d array was expected. Please change the shape of y to (n_samples, ), for example using ravel().\n",
      "\n",
      "/Users/mariafar/opt/anaconda3/lib/python3.9/site-packages/sklearn/preprocessing/_label.py:134: DataConversionWarning:\n",
      "\n",
      "A column-vector y was passed when a 1d array was expected. Please change the shape of y to (n_samples, ), for example using ravel().\n",
      "\n",
      "/Users/mariafar/opt/anaconda3/lib/python3.9/site-packages/sklearn/preprocessing/_label.py:134: DataConversionWarning:\n",
      "\n",
      "A column-vector y was passed when a 1d array was expected. Please change the shape of y to (n_samples, ), for example using ravel().\n",
      "\n",
      "\u001b[32m[I 2023-04-28 20:39:32,086]\u001b[0m Trial 9 finished with value: 0.7939424031777557 and parameters: {'lambda': 0.0012239621442665563, 'alpha': 0.15437050357243395, 'colsample_bytree': 0.7, 'subsample': 1.0, 'learning_rate': 0.014, 'n_estimators': 7701, 'max_depth': 3, 'random_state': 123, 'min_child_weight': 44}. Best is trial 9 with value: 0.7939424031777557.\u001b[0m\n",
      "/Users/mariafar/opt/anaconda3/lib/python3.9/site-packages/xgboost/sklearn.py:1224: UserWarning:\n",
      "\n",
      "The use of label encoder in XGBClassifier is deprecated and will be removed in a future release. To remove this warning, do the following: 1) Pass option use_label_encoder=False when constructing XGBClassifier object; and 2) Encode your labels (y) as integers starting with 0, i.e. 0, 1, 2, ..., [num_class - 1].\n",
      "\n",
      "/Users/mariafar/opt/anaconda3/lib/python3.9/site-packages/sklearn/preprocessing/_label.py:99: DataConversionWarning:\n",
      "\n",
      "A column-vector y was passed when a 1d array was expected. Please change the shape of y to (n_samples, ), for example using ravel().\n",
      "\n",
      "/Users/mariafar/opt/anaconda3/lib/python3.9/site-packages/sklearn/preprocessing/_label.py:134: DataConversionWarning:\n",
      "\n",
      "A column-vector y was passed when a 1d array was expected. Please change the shape of y to (n_samples, ), for example using ravel().\n",
      "\n",
      "/Users/mariafar/opt/anaconda3/lib/python3.9/site-packages/sklearn/preprocessing/_label.py:134: DataConversionWarning:\n",
      "\n",
      "A column-vector y was passed when a 1d array was expected. Please change the shape of y to (n_samples, ), for example using ravel().\n",
      "\n",
      "\u001b[32m[I 2023-04-28 20:41:58,712]\u001b[0m Trial 10 finished with value: 0.7860785482482283 and parameters: {'lambda': 0.0011290982477474617, 'alpha': 0.16124146751203025, 'colsample_bytree': 0.8, 'subsample': 0.8, 'learning_rate': 0.012, 'n_estimators': 4343, 'max_depth': 11, 'random_state': 123, 'min_child_weight': 98}. Best is trial 9 with value: 0.7939424031777557.\u001b[0m\n",
      "/Users/mariafar/opt/anaconda3/lib/python3.9/site-packages/xgboost/sklearn.py:1224: UserWarning:\n",
      "\n",
      "The use of label encoder in XGBClassifier is deprecated and will be removed in a future release. To remove this warning, do the following: 1) Pass option use_label_encoder=False when constructing XGBClassifier object; and 2) Encode your labels (y) as integers starting with 0, i.e. 0, 1, 2, ..., [num_class - 1].\n",
      "\n",
      "/Users/mariafar/opt/anaconda3/lib/python3.9/site-packages/sklearn/preprocessing/_label.py:99: DataConversionWarning:\n",
      "\n",
      "A column-vector y was passed when a 1d array was expected. Please change the shape of y to (n_samples, ), for example using ravel().\n",
      "\n",
      "/Users/mariafar/opt/anaconda3/lib/python3.9/site-packages/sklearn/preprocessing/_label.py:134: DataConversionWarning:\n",
      "\n",
      "A column-vector y was passed when a 1d array was expected. Please change the shape of y to (n_samples, ), for example using ravel().\n",
      "\n",
      "/Users/mariafar/opt/anaconda3/lib/python3.9/site-packages/sklearn/preprocessing/_label.py:134: DataConversionWarning:\n",
      "\n",
      "A column-vector y was passed when a 1d array was expected. Please change the shape of y to (n_samples, ), for example using ravel().\n",
      "\n",
      "\u001b[32m[I 2023-04-28 20:44:19,547]\u001b[0m Trial 11 finished with value: 0.8008082002759709 and parameters: {'lambda': 0.010292786987181996, 'alpha': 0.001211443999373633, 'colsample_bytree': 1.0, 'subsample': 0.5, 'learning_rate': 0.008, 'n_estimators': 9878, 'max_depth': 17, 'random_state': 123, 'min_child_weight': 37}. Best is trial 11 with value: 0.8008082002759709.\u001b[0m\n",
      "/Users/mariafar/opt/anaconda3/lib/python3.9/site-packages/xgboost/sklearn.py:1224: UserWarning:\n",
      "\n",
      "The use of label encoder in XGBClassifier is deprecated and will be removed in a future release. To remove this warning, do the following: 1) Pass option use_label_encoder=False when constructing XGBClassifier object; and 2) Encode your labels (y) as integers starting with 0, i.e. 0, 1, 2, ..., [num_class - 1].\n",
      "\n",
      "/Users/mariafar/opt/anaconda3/lib/python3.9/site-packages/sklearn/preprocessing/_label.py:99: DataConversionWarning:\n",
      "\n",
      "A column-vector y was passed when a 1d array was expected. Please change the shape of y to (n_samples, ), for example using ravel().\n",
      "\n",
      "/Users/mariafar/opt/anaconda3/lib/python3.9/site-packages/sklearn/preprocessing/_label.py:134: DataConversionWarning:\n",
      "\n",
      "A column-vector y was passed when a 1d array was expected. Please change the shape of y to (n_samples, ), for example using ravel().\n",
      "\n",
      "/Users/mariafar/opt/anaconda3/lib/python3.9/site-packages/sklearn/preprocessing/_label.py:134: DataConversionWarning:\n",
      "\n",
      "A column-vector y was passed when a 1d array was expected. Please change the shape of y to (n_samples, ), for example using ravel().\n",
      "\n",
      "\u001b[32m[I 2023-04-28 20:46:55,180]\u001b[0m Trial 12 finished with value: 0.8039035289478872 and parameters: {'lambda': 0.0018615399070199532, 'alpha': 0.001650053470837363, 'colsample_bytree': 0.5, 'subsample': 1.0, 'learning_rate': 0.008, 'n_estimators': 9961, 'max_depth': 17, 'random_state': 123, 'min_child_weight': 55}. Best is trial 12 with value: 0.8039035289478872.\u001b[0m\n",
      "/Users/mariafar/opt/anaconda3/lib/python3.9/site-packages/xgboost/sklearn.py:1224: UserWarning:\n",
      "\n",
      "The use of label encoder in XGBClassifier is deprecated and will be removed in a future release. To remove this warning, do the following: 1) Pass option use_label_encoder=False when constructing XGBClassifier object; and 2) Encode your labels (y) as integers starting with 0, i.e. 0, 1, 2, ..., [num_class - 1].\n",
      "\n",
      "/Users/mariafar/opt/anaconda3/lib/python3.9/site-packages/sklearn/preprocessing/_label.py:99: DataConversionWarning:\n",
      "\n",
      "A column-vector y was passed when a 1d array was expected. Please change the shape of y to (n_samples, ), for example using ravel().\n",
      "\n",
      "/Users/mariafar/opt/anaconda3/lib/python3.9/site-packages/sklearn/preprocessing/_label.py:134: DataConversionWarning:\n",
      "\n",
      "A column-vector y was passed when a 1d array was expected. Please change the shape of y to (n_samples, ), for example using ravel().\n",
      "\n",
      "/Users/mariafar/opt/anaconda3/lib/python3.9/site-packages/sklearn/preprocessing/_label.py:134: DataConversionWarning:\n",
      "\n",
      "A column-vector y was passed when a 1d array was expected. Please change the shape of y to (n_samples, ), for example using ravel().\n",
      "\n",
      "\u001b[32m[I 2023-04-28 20:50:14,013]\u001b[0m Trial 13 finished with value: 0.78486174656853 and parameters: {'lambda': 0.009104295505368879, 'alpha': 0.0011076791664299704, 'colsample_bytree': 0.5, 'subsample': 0.6, 'learning_rate': 0.008, 'n_estimators': 9728, 'max_depth': 17, 'random_state': 123, 'min_child_weight': 88}. Best is trial 12 with value: 0.8039035289478872.\u001b[0m\n",
      "/Users/mariafar/opt/anaconda3/lib/python3.9/site-packages/xgboost/sklearn.py:1224: UserWarning:\n",
      "\n",
      "The use of label encoder in XGBClassifier is deprecated and will be removed in a future release. To remove this warning, do the following: 1) Pass option use_label_encoder=False when constructing XGBClassifier object; and 2) Encode your labels (y) as integers starting with 0, i.e. 0, 1, 2, ..., [num_class - 1].\n",
      "\n",
      "/Users/mariafar/opt/anaconda3/lib/python3.9/site-packages/sklearn/preprocessing/_label.py:99: DataConversionWarning:\n",
      "\n",
      "A column-vector y was passed when a 1d array was expected. Please change the shape of y to (n_samples, ), for example using ravel().\n",
      "\n",
      "/Users/mariafar/opt/anaconda3/lib/python3.9/site-packages/sklearn/preprocessing/_label.py:134: DataConversionWarning:\n",
      "\n",
      "A column-vector y was passed when a 1d array was expected. Please change the shape of y to (n_samples, ), for example using ravel().\n",
      "\n",
      "/Users/mariafar/opt/anaconda3/lib/python3.9/site-packages/sklearn/preprocessing/_label.py:134: DataConversionWarning:\n",
      "\n",
      "A column-vector y was passed when a 1d array was expected. Please change the shape of y to (n_samples, ), for example using ravel().\n",
      "\n",
      "\u001b[32m[I 2023-04-28 20:51:51,767]\u001b[0m Trial 14 finished with value: 0.803614694519023 and parameters: {'lambda': 0.00732188537727952, 'alpha': 0.0011776676797182835, 'colsample_bytree': 0.5, 'subsample': 0.8, 'learning_rate': 0.008, 'n_estimators': 9843, 'max_depth': 17, 'random_state': 123, 'min_child_weight': 1}. Best is trial 12 with value: 0.8039035289478872.\u001b[0m\n",
      "/Users/mariafar/opt/anaconda3/lib/python3.9/site-packages/xgboost/sklearn.py:1224: UserWarning:\n",
      "\n",
      "The use of label encoder in XGBClassifier is deprecated and will be removed in a future release. To remove this warning, do the following: 1) Pass option use_label_encoder=False when constructing XGBClassifier object; and 2) Encode your labels (y) as integers starting with 0, i.e. 0, 1, 2, ..., [num_class - 1].\n",
      "\n",
      "/Users/mariafar/opt/anaconda3/lib/python3.9/site-packages/sklearn/preprocessing/_label.py:99: DataConversionWarning:\n",
      "\n",
      "A column-vector y was passed when a 1d array was expected. Please change the shape of y to (n_samples, ), for example using ravel().\n",
      "\n",
      "/Users/mariafar/opt/anaconda3/lib/python3.9/site-packages/sklearn/preprocessing/_label.py:134: DataConversionWarning:\n",
      "\n",
      "A column-vector y was passed when a 1d array was expected. Please change the shape of y to (n_samples, ), for example using ravel().\n",
      "\n",
      "/Users/mariafar/opt/anaconda3/lib/python3.9/site-packages/sklearn/preprocessing/_label.py:134: DataConversionWarning:\n",
      "\n",
      "A column-vector y was passed when a 1d array was expected. Please change the shape of y to (n_samples, ), for example using ravel().\n",
      "\n",
      "\u001b[32m[I 2023-04-28 20:53:34,958]\u001b[0m Trial 15 finished with value: 0.803935048778891 and parameters: {'lambda': 0.003288723807973738, 'alpha': 0.0047455658627473035, 'colsample_bytree': 0.5, 'subsample': 0.8, 'learning_rate': 0.008, 'n_estimators': 3064, 'max_depth': 17, 'random_state': 123, 'min_child_weight': 1}. Best is trial 15 with value: 0.803935048778891.\u001b[0m\n",
      "/Users/mariafar/opt/anaconda3/lib/python3.9/site-packages/xgboost/sklearn.py:1224: UserWarning:\n",
      "\n",
      "The use of label encoder in XGBClassifier is deprecated and will be removed in a future release. To remove this warning, do the following: 1) Pass option use_label_encoder=False when constructing XGBClassifier object; and 2) Encode your labels (y) as integers starting with 0, i.e. 0, 1, 2, ..., [num_class - 1].\n",
      "\n",
      "/Users/mariafar/opt/anaconda3/lib/python3.9/site-packages/sklearn/preprocessing/_label.py:99: DataConversionWarning:\n",
      "\n",
      "A column-vector y was passed when a 1d array was expected. Please change the shape of y to (n_samples, ), for example using ravel().\n",
      "\n",
      "/Users/mariafar/opt/anaconda3/lib/python3.9/site-packages/sklearn/preprocessing/_label.py:134: DataConversionWarning:\n",
      "\n",
      "A column-vector y was passed when a 1d array was expected. Please change the shape of y to (n_samples, ), for example using ravel().\n",
      "\n",
      "/Users/mariafar/opt/anaconda3/lib/python3.9/site-packages/sklearn/preprocessing/_label.py:134: DataConversionWarning:\n",
      "\n",
      "A column-vector y was passed when a 1d array was expected. Please change the shape of y to (n_samples, ), for example using ravel().\n",
      "\n",
      "\u001b[32m[I 2023-04-28 20:56:01,711]\u001b[0m Trial 16 finished with value: 0.7835072097813809 and parameters: {'lambda': 0.003007036436708291, 'alpha': 0.004333727494546168, 'colsample_bytree': 0.4, 'subsample': 0.8, 'learning_rate': 0.008, 'n_estimators': 2958, 'max_depth': 17, 'random_state': 123, 'min_child_weight': 145}. Best is trial 15 with value: 0.803935048778891.\u001b[0m\n",
      "/Users/mariafar/opt/anaconda3/lib/python3.9/site-packages/xgboost/sklearn.py:1224: UserWarning:\n",
      "\n",
      "The use of label encoder in XGBClassifier is deprecated and will be removed in a future release. To remove this warning, do the following: 1) Pass option use_label_encoder=False when constructing XGBClassifier object; and 2) Encode your labels (y) as integers starting with 0, i.e. 0, 1, 2, ..., [num_class - 1].\n",
      "\n",
      "/Users/mariafar/opt/anaconda3/lib/python3.9/site-packages/sklearn/preprocessing/_label.py:99: DataConversionWarning:\n",
      "\n",
      "A column-vector y was passed when a 1d array was expected. Please change the shape of y to (n_samples, ), for example using ravel().\n",
      "\n",
      "/Users/mariafar/opt/anaconda3/lib/python3.9/site-packages/sklearn/preprocessing/_label.py:134: DataConversionWarning:\n",
      "\n",
      "A column-vector y was passed when a 1d array was expected. Please change the shape of y to (n_samples, ), for example using ravel().\n",
      "\n",
      "/Users/mariafar/opt/anaconda3/lib/python3.9/site-packages/sklearn/preprocessing/_label.py:134: DataConversionWarning:\n",
      "\n",
      "A column-vector y was passed when a 1d array was expected. Please change the shape of y to (n_samples, ), for example using ravel().\n",
      "\n",
      "\u001b[32m[I 2023-04-28 20:57:48,538]\u001b[0m Trial 17 finished with value: 0.7817468236546264 and parameters: {'lambda': 0.026444811985603302, 'alpha': 0.04423289968282911, 'colsample_bytree': 0.5, 'subsample': 0.4, 'learning_rate': 0.008, 'n_estimators': 2494, 'max_depth': 7, 'random_state': 123, 'min_child_weight': 78}. Best is trial 15 with value: 0.803935048778891.\u001b[0m\n",
      "/Users/mariafar/opt/anaconda3/lib/python3.9/site-packages/xgboost/sklearn.py:1224: UserWarning:\n",
      "\n",
      "The use of label encoder in XGBClassifier is deprecated and will be removed in a future release. To remove this warning, do the following: 1) Pass option use_label_encoder=False when constructing XGBClassifier object; and 2) Encode your labels (y) as integers starting with 0, i.e. 0, 1, 2, ..., [num_class - 1].\n",
      "\n",
      "/Users/mariafar/opt/anaconda3/lib/python3.9/site-packages/sklearn/preprocessing/_label.py:99: DataConversionWarning:\n",
      "\n",
      "A column-vector y was passed when a 1d array was expected. Please change the shape of y to (n_samples, ), for example using ravel().\n",
      "\n",
      "/Users/mariafar/opt/anaconda3/lib/python3.9/site-packages/sklearn/preprocessing/_label.py:134: DataConversionWarning:\n",
      "\n",
      "A column-vector y was passed when a 1d array was expected. Please change the shape of y to (n_samples, ), for example using ravel().\n",
      "\n",
      "/Users/mariafar/opt/anaconda3/lib/python3.9/site-packages/sklearn/preprocessing/_label.py:134: DataConversionWarning:\n",
      "\n",
      "A column-vector y was passed when a 1d array was expected. Please change the shape of y to (n_samples, ), for example using ravel().\n",
      "\n",
      "\u001b[32m[I 2023-04-28 20:59:46,650]\u001b[0m Trial 18 finished with value: 0.8021949135834922 and parameters: {'lambda': 0.0031390237120454112, 'alpha': 0.004351856657898127, 'colsample_bytree': 0.5, 'subsample': 1.0, 'learning_rate': 0.012, 'n_estimators': 5219, 'max_depth': 13, 'random_state': 123, 'min_child_weight': 68}. Best is trial 15 with value: 0.803935048778891.\u001b[0m\n",
      "/Users/mariafar/opt/anaconda3/lib/python3.9/site-packages/xgboost/sklearn.py:1224: UserWarning:\n",
      "\n",
      "The use of label encoder in XGBClassifier is deprecated and will be removed in a future release. To remove this warning, do the following: 1) Pass option use_label_encoder=False when constructing XGBClassifier object; and 2) Encode your labels (y) as integers starting with 0, i.e. 0, 1, 2, ..., [num_class - 1].\n",
      "\n",
      "/Users/mariafar/opt/anaconda3/lib/python3.9/site-packages/sklearn/preprocessing/_label.py:99: DataConversionWarning:\n",
      "\n",
      "A column-vector y was passed when a 1d array was expected. Please change the shape of y to (n_samples, ), for example using ravel().\n",
      "\n",
      "/Users/mariafar/opt/anaconda3/lib/python3.9/site-packages/sklearn/preprocessing/_label.py:134: DataConversionWarning:\n",
      "\n",
      "A column-vector y was passed when a 1d array was expected. Please change the shape of y to (n_samples, ), for example using ravel().\n",
      "\n",
      "/Users/mariafar/opt/anaconda3/lib/python3.9/site-packages/sklearn/preprocessing/_label.py:134: DataConversionWarning:\n",
      "\n",
      "A column-vector y was passed when a 1d array was expected. Please change the shape of y to (n_samples, ), for example using ravel().\n",
      "\n",
      "\u001b[32m[I 2023-04-28 20:59:58,670]\u001b[0m Trial 19 finished with value: 0.76828860183388 and parameters: {'lambda': 0.4265425733302173, 'alpha': 0.03850040283492091, 'colsample_bytree': 0.5, 'subsample': 0.8, 'learning_rate': 0.016, 'n_estimators': 350, 'max_depth': 5, 'random_state': 123, 'min_child_weight': 170}. Best is trial 15 with value: 0.803935048778891.\u001b[0m\n",
      "/Users/mariafar/opt/anaconda3/lib/python3.9/site-packages/xgboost/sklearn.py:1224: UserWarning:\n",
      "\n",
      "The use of label encoder in XGBClassifier is deprecated and will be removed in a future release. To remove this warning, do the following: 1) Pass option use_label_encoder=False when constructing XGBClassifier object; and 2) Encode your labels (y) as integers starting with 0, i.e. 0, 1, 2, ..., [num_class - 1].\n",
      "\n",
      "/Users/mariafar/opt/anaconda3/lib/python3.9/site-packages/sklearn/preprocessing/_label.py:99: DataConversionWarning:\n",
      "\n",
      "A column-vector y was passed when a 1d array was expected. Please change the shape of y to (n_samples, ), for example using ravel().\n",
      "\n",
      "/Users/mariafar/opt/anaconda3/lib/python3.9/site-packages/sklearn/preprocessing/_label.py:134: DataConversionWarning:\n",
      "\n",
      "A column-vector y was passed when a 1d array was expected. Please change the shape of y to (n_samples, ), for example using ravel().\n",
      "\n",
      "/Users/mariafar/opt/anaconda3/lib/python3.9/site-packages/sklearn/preprocessing/_label.py:134: DataConversionWarning:\n",
      "\n",
      "A column-vector y was passed when a 1d array was expected. Please change the shape of y to (n_samples, ), for example using ravel().\n",
      "\n",
      "\u001b[32m[I 2023-04-28 21:00:46,124]\u001b[0m Trial 20 finished with value: 0.8032555080565603 and parameters: {'lambda': 0.02648918306929831, 'alpha': 0.003105169288897058, 'colsample_bytree': 0.4, 'subsample': 0.8, 'learning_rate': 0.018, 'n_estimators': 3189, 'max_depth': 15, 'random_state': 123, 'min_child_weight': 19}. Best is trial 15 with value: 0.803935048778891.\u001b[0m\n",
      "/Users/mariafar/opt/anaconda3/lib/python3.9/site-packages/xgboost/sklearn.py:1224: UserWarning:\n",
      "\n",
      "The use of label encoder in XGBClassifier is deprecated and will be removed in a future release. To remove this warning, do the following: 1) Pass option use_label_encoder=False when constructing XGBClassifier object; and 2) Encode your labels (y) as integers starting with 0, i.e. 0, 1, 2, ..., [num_class - 1].\n",
      "\n",
      "/Users/mariafar/opt/anaconda3/lib/python3.9/site-packages/sklearn/preprocessing/_label.py:99: DataConversionWarning:\n",
      "\n",
      "A column-vector y was passed when a 1d array was expected. Please change the shape of y to (n_samples, ), for example using ravel().\n",
      "\n",
      "/Users/mariafar/opt/anaconda3/lib/python3.9/site-packages/sklearn/preprocessing/_label.py:134: DataConversionWarning:\n",
      "\n",
      "A column-vector y was passed when a 1d array was expected. Please change the shape of y to (n_samples, ), for example using ravel().\n",
      "\n",
      "/Users/mariafar/opt/anaconda3/lib/python3.9/site-packages/sklearn/preprocessing/_label.py:134: DataConversionWarning:\n",
      "\n",
      "A column-vector y was passed when a 1d array was expected. Please change the shape of y to (n_samples, ), for example using ravel().\n",
      "\n",
      "\u001b[32m[I 2023-04-28 21:02:41,816]\u001b[0m Trial 21 finished with value: 0.8026376222032676 and parameters: {'lambda': 0.0032112410178006512, 'alpha': 0.0011019971883767148, 'colsample_bytree': 0.5, 'subsample': 0.8, 'learning_rate': 0.008, 'n_estimators': 8179, 'max_depth': 17, 'random_state': 123, 'min_child_weight': 4}. Best is trial 15 with value: 0.803935048778891.\u001b[0m\n",
      "/Users/mariafar/opt/anaconda3/lib/python3.9/site-packages/xgboost/sklearn.py:1224: UserWarning:\n",
      "\n",
      "The use of label encoder in XGBClassifier is deprecated and will be removed in a future release. To remove this warning, do the following: 1) Pass option use_label_encoder=False when constructing XGBClassifier object; and 2) Encode your labels (y) as integers starting with 0, i.e. 0, 1, 2, ..., [num_class - 1].\n",
      "\n",
      "/Users/mariafar/opt/anaconda3/lib/python3.9/site-packages/sklearn/preprocessing/_label.py:99: DataConversionWarning:\n",
      "\n",
      "A column-vector y was passed when a 1d array was expected. Please change the shape of y to (n_samples, ), for example using ravel().\n",
      "\n",
      "/Users/mariafar/opt/anaconda3/lib/python3.9/site-packages/sklearn/preprocessing/_label.py:134: DataConversionWarning:\n",
      "\n",
      "A column-vector y was passed when a 1d array was expected. Please change the shape of y to (n_samples, ), for example using ravel().\n",
      "\n",
      "/Users/mariafar/opt/anaconda3/lib/python3.9/site-packages/sklearn/preprocessing/_label.py:134: DataConversionWarning:\n",
      "\n",
      "A column-vector y was passed when a 1d array was expected. Please change the shape of y to (n_samples, ), for example using ravel().\n",
      "\n",
      "\u001b[32m[I 2023-04-28 21:04:37,683]\u001b[0m Trial 22 finished with value: 0.8025323099127467 and parameters: {'lambda': 0.005521851004711164, 'alpha': 0.007407678563543642, 'colsample_bytree': 0.5, 'subsample': 0.8, 'learning_rate': 0.008, 'n_estimators': 6219, 'max_depth': 17, 'random_state': 123, 'min_child_weight': 4}. Best is trial 15 with value: 0.803935048778891.\u001b[0m\n",
      "/Users/mariafar/opt/anaconda3/lib/python3.9/site-packages/xgboost/sklearn.py:1224: UserWarning:\n",
      "\n",
      "The use of label encoder in XGBClassifier is deprecated and will be removed in a future release. To remove this warning, do the following: 1) Pass option use_label_encoder=False when constructing XGBClassifier object; and 2) Encode your labels (y) as integers starting with 0, i.e. 0, 1, 2, ..., [num_class - 1].\n",
      "\n",
      "/Users/mariafar/opt/anaconda3/lib/python3.9/site-packages/sklearn/preprocessing/_label.py:99: DataConversionWarning:\n",
      "\n",
      "A column-vector y was passed when a 1d array was expected. Please change the shape of y to (n_samples, ), for example using ravel().\n",
      "\n",
      "/Users/mariafar/opt/anaconda3/lib/python3.9/site-packages/sklearn/preprocessing/_label.py:134: DataConversionWarning:\n",
      "\n",
      "A column-vector y was passed when a 1d array was expected. Please change the shape of y to (n_samples, ), for example using ravel().\n",
      "\n",
      "/Users/mariafar/opt/anaconda3/lib/python3.9/site-packages/sklearn/preprocessing/_label.py:134: DataConversionWarning:\n",
      "\n",
      "A column-vector y was passed when a 1d array was expected. Please change the shape of y to (n_samples, ), for example using ravel().\n",
      "\n",
      "\u001b[32m[I 2023-04-28 21:06:50,698]\u001b[0m Trial 23 finished with value: 0.8047578366300848 and parameters: {'lambda': 0.022142948164332345, 'alpha': 0.002476350526601671, 'colsample_bytree': 0.5, 'subsample': 0.8, 'learning_rate': 0.008, 'n_estimators': 9409, 'max_depth': 17, 'random_state': 123, 'min_child_weight': 40}. Best is trial 23 with value: 0.8047578366300848.\u001b[0m\n",
      "/Users/mariafar/opt/anaconda3/lib/python3.9/site-packages/xgboost/sklearn.py:1224: UserWarning:\n",
      "\n",
      "The use of label encoder in XGBClassifier is deprecated and will be removed in a future release. To remove this warning, do the following: 1) Pass option use_label_encoder=False when constructing XGBClassifier object; and 2) Encode your labels (y) as integers starting with 0, i.e. 0, 1, 2, ..., [num_class - 1].\n",
      "\n",
      "/Users/mariafar/opt/anaconda3/lib/python3.9/site-packages/sklearn/preprocessing/_label.py:99: DataConversionWarning:\n",
      "\n",
      "A column-vector y was passed when a 1d array was expected. Please change the shape of y to (n_samples, ), for example using ravel().\n",
      "\n",
      "/Users/mariafar/opt/anaconda3/lib/python3.9/site-packages/sklearn/preprocessing/_label.py:134: DataConversionWarning:\n",
      "\n",
      "A column-vector y was passed when a 1d array was expected. Please change the shape of y to (n_samples, ), for example using ravel().\n",
      "\n",
      "/Users/mariafar/opt/anaconda3/lib/python3.9/site-packages/sklearn/preprocessing/_label.py:134: DataConversionWarning:\n",
      "\n",
      "A column-vector y was passed when a 1d array was expected. Please change the shape of y to (n_samples, ), for example using ravel().\n",
      "\n",
      "\u001b[32m[I 2023-04-28 21:07:48,131]\u001b[0m Trial 24 finished with value: 0.8027429621366232 and parameters: {'lambda': 0.022022802210403286, 'alpha': 0.00246105804104289, 'colsample_bytree': 0.9, 'subsample': 1.0, 'learning_rate': 0.02, 'n_estimators': 5362, 'max_depth': 11, 'random_state': 123, 'min_child_weight': 57}. Best is trial 23 with value: 0.8047578366300848.\u001b[0m\n",
      "/Users/mariafar/opt/anaconda3/lib/python3.9/site-packages/xgboost/sklearn.py:1224: UserWarning:\n",
      "\n",
      "The use of label encoder in XGBClassifier is deprecated and will be removed in a future release. To remove this warning, do the following: 1) Pass option use_label_encoder=False when constructing XGBClassifier object; and 2) Encode your labels (y) as integers starting with 0, i.e. 0, 1, 2, ..., [num_class - 1].\n",
      "\n",
      "/Users/mariafar/opt/anaconda3/lib/python3.9/site-packages/sklearn/preprocessing/_label.py:99: DataConversionWarning:\n",
      "\n",
      "A column-vector y was passed when a 1d array was expected. Please change the shape of y to (n_samples, ), for example using ravel().\n",
      "\n",
      "/Users/mariafar/opt/anaconda3/lib/python3.9/site-packages/sklearn/preprocessing/_label.py:134: DataConversionWarning:\n",
      "\n",
      "A column-vector y was passed when a 1d array was expected. Please change the shape of y to (n_samples, ), for example using ravel().\n",
      "\n",
      "/Users/mariafar/opt/anaconda3/lib/python3.9/site-packages/sklearn/preprocessing/_label.py:134: DataConversionWarning:\n",
      "\n",
      "A column-vector y was passed when a 1d array was expected. Please change the shape of y to (n_samples, ), for example using ravel().\n",
      "\n",
      "\u001b[32m[I 2023-04-28 21:11:29,593]\u001b[0m Trial 25 finished with value: 0.7859744387788888 and parameters: {'lambda': 0.0018547596778751686, 'alpha': 0.02644018742695854, 'colsample_bytree': 0.8, 'subsample': 0.8, 'learning_rate': 0.008, 'n_estimators': 4339, 'max_depth': 17, 'random_state': 123, 'min_child_weight': 109}. Best is trial 23 with value: 0.8047578366300848.\u001b[0m\n",
      "/Users/mariafar/opt/anaconda3/lib/python3.9/site-packages/xgboost/sklearn.py:1224: UserWarning:\n",
      "\n",
      "The use of label encoder in XGBClassifier is deprecated and will be removed in a future release. To remove this warning, do the following: 1) Pass option use_label_encoder=False when constructing XGBClassifier object; and 2) Encode your labels (y) as integers starting with 0, i.e. 0, 1, 2, ..., [num_class - 1].\n",
      "\n",
      "/Users/mariafar/opt/anaconda3/lib/python3.9/site-packages/sklearn/preprocessing/_label.py:99: DataConversionWarning:\n",
      "\n",
      "A column-vector y was passed when a 1d array was expected. Please change the shape of y to (n_samples, ), for example using ravel().\n",
      "\n",
      "/Users/mariafar/opt/anaconda3/lib/python3.9/site-packages/sklearn/preprocessing/_label.py:134: DataConversionWarning:\n",
      "\n",
      "A column-vector y was passed when a 1d array was expected. Please change the shape of y to (n_samples, ), for example using ravel().\n",
      "\n",
      "/Users/mariafar/opt/anaconda3/lib/python3.9/site-packages/sklearn/preprocessing/_label.py:134: DataConversionWarning:\n",
      "\n",
      "A column-vector y was passed when a 1d array was expected. Please change the shape of y to (n_samples, ), for example using ravel().\n",
      "\n",
      "\u001b[32m[I 2023-04-28 21:13:08,711]\u001b[0m Trial 26 finished with value: 0.8051772909676995 and parameters: {'lambda': 0.016568407714597375, 'alpha': 0.006061039809342641, 'colsample_bytree': 0.5, 'subsample': 0.6, 'learning_rate': 0.008, 'n_estimators': 9159, 'max_depth': 17, 'random_state': 123, 'min_child_weight': 32}. Best is trial 26 with value: 0.8051772909676995.\u001b[0m\n",
      "/Users/mariafar/opt/anaconda3/lib/python3.9/site-packages/xgboost/sklearn.py:1224: UserWarning:\n",
      "\n",
      "The use of label encoder in XGBClassifier is deprecated and will be removed in a future release. To remove this warning, do the following: 1) Pass option use_label_encoder=False when constructing XGBClassifier object; and 2) Encode your labels (y) as integers starting with 0, i.e. 0, 1, 2, ..., [num_class - 1].\n",
      "\n",
      "/Users/mariafar/opt/anaconda3/lib/python3.9/site-packages/sklearn/preprocessing/_label.py:99: DataConversionWarning:\n",
      "\n",
      "A column-vector y was passed when a 1d array was expected. Please change the shape of y to (n_samples, ), for example using ravel().\n",
      "\n",
      "/Users/mariafar/opt/anaconda3/lib/python3.9/site-packages/sklearn/preprocessing/_label.py:134: DataConversionWarning:\n",
      "\n",
      "A column-vector y was passed when a 1d array was expected. Please change the shape of y to (n_samples, ), for example using ravel().\n",
      "\n",
      "/Users/mariafar/opt/anaconda3/lib/python3.9/site-packages/sklearn/preprocessing/_label.py:134: DataConversionWarning:\n",
      "\n",
      "A column-vector y was passed when a 1d array was expected. Please change the shape of y to (n_samples, ), for example using ravel().\n",
      "\n",
      "\u001b[32m[I 2023-04-28 21:15:06,159]\u001b[0m Trial 27 finished with value: 0.8047537642185548 and parameters: {'lambda': 0.05297181575843467, 'alpha': 0.007090341256611333, 'colsample_bytree': 0.5, 'subsample': 0.6, 'learning_rate': 0.008, 'n_estimators': 7593, 'max_depth': 17, 'random_state': 123, 'min_child_weight': 33}. Best is trial 26 with value: 0.8051772909676995.\u001b[0m\n",
      "/Users/mariafar/opt/anaconda3/lib/python3.9/site-packages/xgboost/sklearn.py:1224: UserWarning:\n",
      "\n",
      "The use of label encoder in XGBClassifier is deprecated and will be removed in a future release. To remove this warning, do the following: 1) Pass option use_label_encoder=False when constructing XGBClassifier object; and 2) Encode your labels (y) as integers starting with 0, i.e. 0, 1, 2, ..., [num_class - 1].\n",
      "\n",
      "/Users/mariafar/opt/anaconda3/lib/python3.9/site-packages/sklearn/preprocessing/_label.py:99: DataConversionWarning:\n",
      "\n",
      "A column-vector y was passed when a 1d array was expected. Please change the shape of y to (n_samples, ), for example using ravel().\n",
      "\n",
      "/Users/mariafar/opt/anaconda3/lib/python3.9/site-packages/sklearn/preprocessing/_label.py:134: DataConversionWarning:\n",
      "\n",
      "A column-vector y was passed when a 1d array was expected. Please change the shape of y to (n_samples, ), for example using ravel().\n",
      "\n",
      "/Users/mariafar/opt/anaconda3/lib/python3.9/site-packages/sklearn/preprocessing/_label.py:134: DataConversionWarning:\n",
      "\n",
      "A column-vector y was passed when a 1d array was expected. Please change the shape of y to (n_samples, ), for example using ravel().\n",
      "\n",
      "\u001b[32m[I 2023-04-28 21:17:11,896]\u001b[0m Trial 28 finished with value: 0.8048596041296772 and parameters: {'lambda': 0.05215458426552329, 'alpha': 0.009753202119680435, 'colsample_bytree': 0.5, 'subsample': 0.6, 'learning_rate': 0.008, 'n_estimators': 7476, 'max_depth': 17, 'random_state': 123, 'min_child_weight': 33}. Best is trial 26 with value: 0.8051772909676995.\u001b[0m\n",
      "/Users/mariafar/opt/anaconda3/lib/python3.9/site-packages/xgboost/sklearn.py:1224: UserWarning:\n",
      "\n",
      "The use of label encoder in XGBClassifier is deprecated and will be removed in a future release. To remove this warning, do the following: 1) Pass option use_label_encoder=False when constructing XGBClassifier object; and 2) Encode your labels (y) as integers starting with 0, i.e. 0, 1, 2, ..., [num_class - 1].\n",
      "\n",
      "/Users/mariafar/opt/anaconda3/lib/python3.9/site-packages/sklearn/preprocessing/_label.py:99: DataConversionWarning:\n",
      "\n",
      "A column-vector y was passed when a 1d array was expected. Please change the shape of y to (n_samples, ), for example using ravel().\n",
      "\n",
      "/Users/mariafar/opt/anaconda3/lib/python3.9/site-packages/sklearn/preprocessing/_label.py:134: DataConversionWarning:\n",
      "\n",
      "A column-vector y was passed when a 1d array was expected. Please change the shape of y to (n_samples, ), for example using ravel().\n",
      "\n",
      "/Users/mariafar/opt/anaconda3/lib/python3.9/site-packages/sklearn/preprocessing/_label.py:134: DataConversionWarning:\n",
      "\n",
      "A column-vector y was passed when a 1d array was expected. Please change the shape of y to (n_samples, ), for example using ravel().\n",
      "\n",
      "\u001b[32m[I 2023-04-28 21:20:30,164]\u001b[0m Trial 29 finished with value: 0.7837918462048393 and parameters: {'lambda': 0.10627268262065223, 'alpha': 0.014079756571620567, 'colsample_bytree': 0.6, 'subsample': 0.6, 'learning_rate': 0.01, 'n_estimators': 8678, 'max_depth': 15, 'random_state': 123, 'min_child_weight': 122}. Best is trial 26 with value: 0.8051772909676995.\u001b[0m\n",
      "/Users/mariafar/opt/anaconda3/lib/python3.9/site-packages/xgboost/sklearn.py:1224: UserWarning:\n",
      "\n",
      "The use of label encoder in XGBClassifier is deprecated and will be removed in a future release. To remove this warning, do the following: 1) Pass option use_label_encoder=False when constructing XGBClassifier object; and 2) Encode your labels (y) as integers starting with 0, i.e. 0, 1, 2, ..., [num_class - 1].\n",
      "\n",
      "/Users/mariafar/opt/anaconda3/lib/python3.9/site-packages/sklearn/preprocessing/_label.py:99: DataConversionWarning:\n",
      "\n",
      "A column-vector y was passed when a 1d array was expected. Please change the shape of y to (n_samples, ), for example using ravel().\n",
      "\n",
      "/Users/mariafar/opt/anaconda3/lib/python3.9/site-packages/sklearn/preprocessing/_label.py:134: DataConversionWarning:\n",
      "\n",
      "A column-vector y was passed when a 1d array was expected. Please change the shape of y to (n_samples, ), for example using ravel().\n",
      "\n",
      "/Users/mariafar/opt/anaconda3/lib/python3.9/site-packages/sklearn/preprocessing/_label.py:134: DataConversionWarning:\n",
      "\n",
      "A column-vector y was passed when a 1d array was expected. Please change the shape of y to (n_samples, ), for example using ravel().\n",
      "\n",
      "\u001b[32m[I 2023-04-28 21:21:49,171]\u001b[0m Trial 30 finished with value: 0.8039080459770115 and parameters: {'lambda': 0.017632176036145017, 'alpha': 0.06563647900915617, 'colsample_bytree': 0.5, 'subsample': 0.6, 'learning_rate': 0.016, 'n_estimators': 9171, 'max_depth': 7, 'random_state': 123, 'min_child_weight': 29}. Best is trial 26 with value: 0.8051772909676995.\u001b[0m\n",
      "/Users/mariafar/opt/anaconda3/lib/python3.9/site-packages/xgboost/sklearn.py:1224: UserWarning:\n",
      "\n",
      "The use of label encoder in XGBClassifier is deprecated and will be removed in a future release. To remove this warning, do the following: 1) Pass option use_label_encoder=False when constructing XGBClassifier object; and 2) Encode your labels (y) as integers starting with 0, i.e. 0, 1, 2, ..., [num_class - 1].\n",
      "\n",
      "/Users/mariafar/opt/anaconda3/lib/python3.9/site-packages/sklearn/preprocessing/_label.py:99: DataConversionWarning:\n",
      "\n",
      "A column-vector y was passed when a 1d array was expected. Please change the shape of y to (n_samples, ), for example using ravel().\n",
      "\n",
      "/Users/mariafar/opt/anaconda3/lib/python3.9/site-packages/sklearn/preprocessing/_label.py:134: DataConversionWarning:\n",
      "\n",
      "A column-vector y was passed when a 1d array was expected. Please change the shape of y to (n_samples, ), for example using ravel().\n",
      "\n",
      "/Users/mariafar/opt/anaconda3/lib/python3.9/site-packages/sklearn/preprocessing/_label.py:134: DataConversionWarning:\n",
      "\n",
      "A column-vector y was passed when a 1d array was expected. Please change the shape of y to (n_samples, ), for example using ravel().\n",
      "\n",
      "\u001b[32m[I 2023-04-28 21:23:52,799]\u001b[0m Trial 31 finished with value: 0.8052908314163654 and parameters: {'lambda': 0.05467665803947052, 'alpha': 0.0073392367361356506, 'colsample_bytree': 0.5, 'subsample': 0.6, 'learning_rate': 0.008, 'n_estimators': 7938, 'max_depth': 17, 'random_state': 123, 'min_child_weight': 31}. Best is trial 31 with value: 0.8052908314163654.\u001b[0m\n",
      "/Users/mariafar/opt/anaconda3/lib/python3.9/site-packages/xgboost/sklearn.py:1224: UserWarning:\n",
      "\n",
      "The use of label encoder in XGBClassifier is deprecated and will be removed in a future release. To remove this warning, do the following: 1) Pass option use_label_encoder=False when constructing XGBClassifier object; and 2) Encode your labels (y) as integers starting with 0, i.e. 0, 1, 2, ..., [num_class - 1].\n",
      "\n",
      "/Users/mariafar/opt/anaconda3/lib/python3.9/site-packages/sklearn/preprocessing/_label.py:99: DataConversionWarning:\n",
      "\n",
      "A column-vector y was passed when a 1d array was expected. Please change the shape of y to (n_samples, ), for example using ravel().\n",
      "\n",
      "/Users/mariafar/opt/anaconda3/lib/python3.9/site-packages/sklearn/preprocessing/_label.py:134: DataConversionWarning:\n",
      "\n",
      "A column-vector y was passed when a 1d array was expected. Please change the shape of y to (n_samples, ), for example using ravel().\n",
      "\n",
      "/Users/mariafar/opt/anaconda3/lib/python3.9/site-packages/sklearn/preprocessing/_label.py:134: DataConversionWarning:\n",
      "\n",
      "A column-vector y was passed when a 1d array was expected. Please change the shape of y to (n_samples, ), for example using ravel().\n",
      "\n",
      "\u001b[32m[I 2023-04-28 21:26:53,733]\u001b[0m Trial 32 finished with value: 0.7866132344174338 and parameters: {'lambda': 0.04681164560343319, 'alpha': 0.002214397143457016, 'colsample_bytree': 0.5, 'subsample': 0.6, 'learning_rate': 0.008, 'n_estimators': 8034, 'max_depth': 13, 'random_state': 123, 'min_child_weight': 66}. Best is trial 31 with value: 0.8052908314163654.\u001b[0m\n",
      "/Users/mariafar/opt/anaconda3/lib/python3.9/site-packages/xgboost/sklearn.py:1224: UserWarning:\n",
      "\n",
      "The use of label encoder in XGBClassifier is deprecated and will be removed in a future release. To remove this warning, do the following: 1) Pass option use_label_encoder=False when constructing XGBClassifier object; and 2) Encode your labels (y) as integers starting with 0, i.e. 0, 1, 2, ..., [num_class - 1].\n",
      "\n",
      "/Users/mariafar/opt/anaconda3/lib/python3.9/site-packages/sklearn/preprocessing/_label.py:99: DataConversionWarning:\n",
      "\n",
      "A column-vector y was passed when a 1d array was expected. Please change the shape of y to (n_samples, ), for example using ravel().\n",
      "\n",
      "/Users/mariafar/opt/anaconda3/lib/python3.9/site-packages/sklearn/preprocessing/_label.py:134: DataConversionWarning:\n",
      "\n",
      "A column-vector y was passed when a 1d array was expected. Please change the shape of y to (n_samples, ), for example using ravel().\n",
      "\n",
      "/Users/mariafar/opt/anaconda3/lib/python3.9/site-packages/sklearn/preprocessing/_label.py:134: DataConversionWarning:\n",
      "\n",
      "A column-vector y was passed when a 1d array was expected. Please change the shape of y to (n_samples, ), for example using ravel().\n",
      "\n",
      "\u001b[32m[I 2023-04-28 21:28:04,465]\u001b[0m Trial 33 finished with value: 0.8061552595314654 and parameters: {'lambda': 0.3671361121021464, 'alpha': 0.005882033632691254, 'colsample_bytree': 0.5, 'subsample': 0.6, 'learning_rate': 0.018, 'n_estimators': 6995, 'max_depth': 17, 'random_state': 123, 'min_child_weight': 26}. Best is trial 33 with value: 0.8061552595314654.\u001b[0m\n",
      "/Users/mariafar/opt/anaconda3/lib/python3.9/site-packages/xgboost/sklearn.py:1224: UserWarning:\n",
      "\n",
      "The use of label encoder in XGBClassifier is deprecated and will be removed in a future release. To remove this warning, do the following: 1) Pass option use_label_encoder=False when constructing XGBClassifier object; and 2) Encode your labels (y) as integers starting with 0, i.e. 0, 1, 2, ..., [num_class - 1].\n",
      "\n",
      "/Users/mariafar/opt/anaconda3/lib/python3.9/site-packages/sklearn/preprocessing/_label.py:99: DataConversionWarning:\n",
      "\n",
      "A column-vector y was passed when a 1d array was expected. Please change the shape of y to (n_samples, ), for example using ravel().\n",
      "\n",
      "/Users/mariafar/opt/anaconda3/lib/python3.9/site-packages/sklearn/preprocessing/_label.py:134: DataConversionWarning:\n",
      "\n",
      "A column-vector y was passed when a 1d array was expected. Please change the shape of y to (n_samples, ), for example using ravel().\n",
      "\n",
      "/Users/mariafar/opt/anaconda3/lib/python3.9/site-packages/sklearn/preprocessing/_label.py:134: DataConversionWarning:\n",
      "\n",
      "A column-vector y was passed when a 1d array was expected. Please change the shape of y to (n_samples, ), for example using ravel().\n",
      "\n",
      "\u001b[32m[I 2023-04-28 21:28:50,631]\u001b[0m Trial 34 finished with value: 0.8032603694208901 and parameters: {'lambda': 0.5205135780790044, 'alpha': 0.008164136335715893, 'colsample_bytree': 0.6, 'subsample': 0.6, 'learning_rate': 0.018, 'n_estimators': 6846, 'max_depth': 9, 'random_state': 123, 'min_child_weight': 27}. Best is trial 33 with value: 0.8061552595314654.\u001b[0m\n",
      "/Users/mariafar/opt/anaconda3/lib/python3.9/site-packages/xgboost/sklearn.py:1224: UserWarning:\n",
      "\n",
      "The use of label encoder in XGBClassifier is deprecated and will be removed in a future release. To remove this warning, do the following: 1) Pass option use_label_encoder=False when constructing XGBClassifier object; and 2) Encode your labels (y) as integers starting with 0, i.e. 0, 1, 2, ..., [num_class - 1].\n",
      "\n",
      "/Users/mariafar/opt/anaconda3/lib/python3.9/site-packages/sklearn/preprocessing/_label.py:99: DataConversionWarning:\n",
      "\n",
      "A column-vector y was passed when a 1d array was expected. Please change the shape of y to (n_samples, ), for example using ravel().\n",
      "\n",
      "/Users/mariafar/opt/anaconda3/lib/python3.9/site-packages/sklearn/preprocessing/_label.py:134: DataConversionWarning:\n",
      "\n",
      "A column-vector y was passed when a 1d array was expected. Please change the shape of y to (n_samples, ), for example using ravel().\n",
      "\n",
      "/Users/mariafar/opt/anaconda3/lib/python3.9/site-packages/sklearn/preprocessing/_label.py:134: DataConversionWarning:\n",
      "\n",
      "A column-vector y was passed when a 1d array was expected. Please change the shape of y to (n_samples, ), for example using ravel().\n",
      "\n",
      "\u001b[32m[I 2023-04-28 21:30:16,467]\u001b[0m Trial 35 finished with value: 0.7855440037083636 and parameters: {'lambda': 0.3051748168252592, 'alpha': 0.023026075782719608, 'colsample_bytree': 0.9, 'subsample': 0.6, 'learning_rate': 0.018, 'n_estimators': 7222, 'max_depth': 17, 'random_state': 123, 'min_child_weight': 83}. Best is trial 33 with value: 0.8061552595314654.\u001b[0m\n",
      "/Users/mariafar/opt/anaconda3/lib/python3.9/site-packages/xgboost/sklearn.py:1224: UserWarning:\n",
      "\n",
      "The use of label encoder in XGBClassifier is deprecated and will be removed in a future release. To remove this warning, do the following: 1) Pass option use_label_encoder=False when constructing XGBClassifier object; and 2) Encode your labels (y) as integers starting with 0, i.e. 0, 1, 2, ..., [num_class - 1].\n",
      "\n",
      "/Users/mariafar/opt/anaconda3/lib/python3.9/site-packages/sklearn/preprocessing/_label.py:99: DataConversionWarning:\n",
      "\n",
      "A column-vector y was passed when a 1d array was expected. Please change the shape of y to (n_samples, ), for example using ravel().\n",
      "\n",
      "/Users/mariafar/opt/anaconda3/lib/python3.9/site-packages/sklearn/preprocessing/_label.py:134: DataConversionWarning:\n",
      "\n",
      "A column-vector y was passed when a 1d array was expected. Please change the shape of y to (n_samples, ), for example using ravel().\n",
      "\n",
      "/Users/mariafar/opt/anaconda3/lib/python3.9/site-packages/sklearn/preprocessing/_label.py:134: DataConversionWarning:\n",
      "\n",
      "A column-vector y was passed when a 1d array was expected. Please change the shape of y to (n_samples, ), for example using ravel().\n",
      "\n",
      "\u001b[32m[I 2023-04-28 21:33:08,930]\u001b[0m Trial 36 finished with value: 0.7765007662069425 and parameters: {'lambda': 0.1012960251132099, 'alpha': 0.26935399364877294, 'colsample_bytree': 0.4, 'subsample': 0.6, 'learning_rate': 0.018, 'n_estimators': 6672, 'max_depth': 11, 'random_state': 123, 'min_child_weight': 194}. Best is trial 33 with value: 0.8061552595314654.\u001b[0m\n",
      "/Users/mariafar/opt/anaconda3/lib/python3.9/site-packages/xgboost/sklearn.py:1224: UserWarning:\n",
      "\n",
      "The use of label encoder in XGBClassifier is deprecated and will be removed in a future release. To remove this warning, do the following: 1) Pass option use_label_encoder=False when constructing XGBClassifier object; and 2) Encode your labels (y) as integers starting with 0, i.e. 0, 1, 2, ..., [num_class - 1].\n",
      "\n",
      "/Users/mariafar/opt/anaconda3/lib/python3.9/site-packages/sklearn/preprocessing/_label.py:99: DataConversionWarning:\n",
      "\n",
      "A column-vector y was passed when a 1d array was expected. Please change the shape of y to (n_samples, ), for example using ravel().\n",
      "\n",
      "/Users/mariafar/opt/anaconda3/lib/python3.9/site-packages/sklearn/preprocessing/_label.py:134: DataConversionWarning:\n",
      "\n",
      "A column-vector y was passed when a 1d array was expected. Please change the shape of y to (n_samples, ), for example using ravel().\n",
      "\n",
      "/Users/mariafar/opt/anaconda3/lib/python3.9/site-packages/sklearn/preprocessing/_label.py:134: DataConversionWarning:\n",
      "\n",
      "A column-vector y was passed when a 1d array was expected. Please change the shape of y to (n_samples, ), for example using ravel().\n",
      "\n",
      "\u001b[32m[I 2023-04-28 21:35:29,650]\u001b[0m Trial 37 finished with value: 0.7660822611825878 and parameters: {'lambda': 0.9189495234561863, 'alpha': 0.006245173080086102, 'colsample_bytree': 0.7, 'subsample': 0.4, 'learning_rate': 0.02, 'n_estimators': 8388, 'max_depth': 5, 'random_state': 123, 'min_child_weight': 239}. Best is trial 33 with value: 0.8061552595314654.\u001b[0m\n",
      "/Users/mariafar/opt/anaconda3/lib/python3.9/site-packages/xgboost/sklearn.py:1224: UserWarning:\n",
      "\n",
      "The use of label encoder in XGBClassifier is deprecated and will be removed in a future release. To remove this warning, do the following: 1) Pass option use_label_encoder=False when constructing XGBClassifier object; and 2) Encode your labels (y) as integers starting with 0, i.e. 0, 1, 2, ..., [num_class - 1].\n",
      "\n",
      "/Users/mariafar/opt/anaconda3/lib/python3.9/site-packages/sklearn/preprocessing/_label.py:99: DataConversionWarning:\n",
      "\n",
      "A column-vector y was passed when a 1d array was expected. Please change the shape of y to (n_samples, ), for example using ravel().\n",
      "\n",
      "/Users/mariafar/opt/anaconda3/lib/python3.9/site-packages/sklearn/preprocessing/_label.py:134: DataConversionWarning:\n",
      "\n",
      "A column-vector y was passed when a 1d array was expected. Please change the shape of y to (n_samples, ), for example using ravel().\n",
      "\n",
      "/Users/mariafar/opt/anaconda3/lib/python3.9/site-packages/sklearn/preprocessing/_label.py:134: DataConversionWarning:\n",
      "\n",
      "A column-vector y was passed when a 1d array was expected. Please change the shape of y to (n_samples, ), for example using ravel().\n",
      "\n",
      "\u001b[32m[I 2023-04-28 21:36:54,994]\u001b[0m Trial 38 finished with value: 0.8036783575705732 and parameters: {'lambda': 0.2078228779022598, 'alpha': 2.5388877239971928, 'colsample_bytree': 0.3, 'subsample': 0.6, 'learning_rate': 0.018, 'n_estimators': 5982, 'max_depth': 9, 'random_state': 123, 'min_child_weight': 21}. Best is trial 33 with value: 0.8061552595314654.\u001b[0m\n",
      "/Users/mariafar/opt/anaconda3/lib/python3.9/site-packages/xgboost/sklearn.py:1224: UserWarning:\n",
      "\n",
      "The use of label encoder in XGBClassifier is deprecated and will be removed in a future release. To remove this warning, do the following: 1) Pass option use_label_encoder=False when constructing XGBClassifier object; and 2) Encode your labels (y) as integers starting with 0, i.e. 0, 1, 2, ..., [num_class - 1].\n",
      "\n",
      "/Users/mariafar/opt/anaconda3/lib/python3.9/site-packages/sklearn/preprocessing/_label.py:99: DataConversionWarning:\n",
      "\n",
      "A column-vector y was passed when a 1d array was expected. Please change the shape of y to (n_samples, ), for example using ravel().\n",
      "\n",
      "/Users/mariafar/opt/anaconda3/lib/python3.9/site-packages/sklearn/preprocessing/_label.py:134: DataConversionWarning:\n",
      "\n",
      "A column-vector y was passed when a 1d array was expected. Please change the shape of y to (n_samples, ), for example using ravel().\n",
      "\n",
      "/Users/mariafar/opt/anaconda3/lib/python3.9/site-packages/sklearn/preprocessing/_label.py:134: DataConversionWarning:\n",
      "\n",
      "A column-vector y was passed when a 1d array was expected. Please change the shape of y to (n_samples, ), for example using ravel().\n",
      "\n",
      "\u001b[32m[I 2023-04-28 21:39:27,224]\u001b[0m Trial 39 finished with value: 0.7883992865164828 and parameters: {'lambda': 6.533495322433321, 'alpha': 0.011090132576608036, 'colsample_bytree': 1.0, 'subsample': 0.7, 'learning_rate': 0.01, 'n_estimators': 7263, 'max_depth': 15, 'random_state': 123, 'min_child_weight': 67}. Best is trial 33 with value: 0.8061552595314654.\u001b[0m\n",
      "/Users/mariafar/opt/anaconda3/lib/python3.9/site-packages/xgboost/sklearn.py:1224: UserWarning:\n",
      "\n",
      "The use of label encoder in XGBClassifier is deprecated and will be removed in a future release. To remove this warning, do the following: 1) Pass option use_label_encoder=False when constructing XGBClassifier object; and 2) Encode your labels (y) as integers starting with 0, i.e. 0, 1, 2, ..., [num_class - 1].\n",
      "\n",
      "/Users/mariafar/opt/anaconda3/lib/python3.9/site-packages/sklearn/preprocessing/_label.py:99: DataConversionWarning:\n",
      "\n",
      "A column-vector y was passed when a 1d array was expected. Please change the shape of y to (n_samples, ), for example using ravel().\n",
      "\n",
      "/Users/mariafar/opt/anaconda3/lib/python3.9/site-packages/sklearn/preprocessing/_label.py:134: DataConversionWarning:\n",
      "\n",
      "A column-vector y was passed when a 1d array was expected. Please change the shape of y to (n_samples, ), for example using ravel().\n",
      "\n",
      "/Users/mariafar/opt/anaconda3/lib/python3.9/site-packages/sklearn/preprocessing/_label.py:134: DataConversionWarning:\n",
      "\n",
      "A column-vector y was passed when a 1d array was expected. Please change the shape of y to (n_samples, ), for example using ravel().\n",
      "\n",
      "\u001b[32m[I 2023-04-28 21:41:16,622]\u001b[0m Trial 40 finished with value: 0.7725997193826418 and parameters: {'lambda': 2.5069832504758955, 'alpha': 0.02501268005087834, 'colsample_bytree': 0.8, 'subsample': 0.6, 'learning_rate': 0.018, 'n_estimators': 7721, 'max_depth': 3, 'random_state': 123, 'min_child_weight': 154}. Best is trial 33 with value: 0.8061552595314654.\u001b[0m\n",
      "/Users/mariafar/opt/anaconda3/lib/python3.9/site-packages/xgboost/sklearn.py:1224: UserWarning:\n",
      "\n",
      "The use of label encoder in XGBClassifier is deprecated and will be removed in a future release. To remove this warning, do the following: 1) Pass option use_label_encoder=False when constructing XGBClassifier object; and 2) Encode your labels (y) as integers starting with 0, i.e. 0, 1, 2, ..., [num_class - 1].\n",
      "\n",
      "/Users/mariafar/opt/anaconda3/lib/python3.9/site-packages/sklearn/preprocessing/_label.py:99: DataConversionWarning:\n",
      "\n",
      "A column-vector y was passed when a 1d array was expected. Please change the shape of y to (n_samples, ), for example using ravel().\n",
      "\n",
      "/Users/mariafar/opt/anaconda3/lib/python3.9/site-packages/sklearn/preprocessing/_label.py:134: DataConversionWarning:\n",
      "\n",
      "A column-vector y was passed when a 1d array was expected. Please change the shape of y to (n_samples, ), for example using ravel().\n",
      "\n",
      "/Users/mariafar/opt/anaconda3/lib/python3.9/site-packages/sklearn/preprocessing/_label.py:134: DataConversionWarning:\n",
      "\n",
      "A column-vector y was passed when a 1d array was expected. Please change the shape of y to (n_samples, ), for example using ravel().\n",
      "\n",
      "\u001b[32m[I 2023-04-28 21:43:56,871]\u001b[0m Trial 41 finished with value: 0.8010066451740246 and parameters: {'lambda': 0.03961748438166974, 'alpha': 0.0024668677374349163, 'colsample_bytree': 0.5, 'subsample': 0.6, 'learning_rate': 0.008, 'n_estimators': 9277, 'max_depth': 17, 'random_state': 123, 'min_child_weight': 43}. Best is trial 33 with value: 0.8061552595314654.\u001b[0m\n",
      "/Users/mariafar/opt/anaconda3/lib/python3.9/site-packages/xgboost/sklearn.py:1224: UserWarning:\n",
      "\n",
      "The use of label encoder in XGBClassifier is deprecated and will be removed in a future release. To remove this warning, do the following: 1) Pass option use_label_encoder=False when constructing XGBClassifier object; and 2) Encode your labels (y) as integers starting with 0, i.e. 0, 1, 2, ..., [num_class - 1].\n",
      "\n",
      "/Users/mariafar/opt/anaconda3/lib/python3.9/site-packages/sklearn/preprocessing/_label.py:99: DataConversionWarning:\n",
      "\n",
      "A column-vector y was passed when a 1d array was expected. Please change the shape of y to (n_samples, ), for example using ravel().\n",
      "\n",
      "/Users/mariafar/opt/anaconda3/lib/python3.9/site-packages/sklearn/preprocessing/_label.py:134: DataConversionWarning:\n",
      "\n",
      "A column-vector y was passed when a 1d array was expected. Please change the shape of y to (n_samples, ), for example using ravel().\n",
      "\n",
      "/Users/mariafar/opt/anaconda3/lib/python3.9/site-packages/sklearn/preprocessing/_label.py:134: DataConversionWarning:\n",
      "\n",
      "A column-vector y was passed when a 1d array was expected. Please change the shape of y to (n_samples, ), for example using ravel().\n",
      "\n",
      "\u001b[32m[I 2023-04-28 21:45:28,275]\u001b[0m Trial 42 finished with value: 0.7977565160013197 and parameters: {'lambda': 0.015641835934852955, 'alpha': 0.013956758086577635, 'colsample_bytree': 0.5, 'subsample': 0.6, 'learning_rate': 0.012, 'n_estimators': 9113, 'max_depth': 17, 'random_state': 123, 'min_child_weight': 46}. Best is trial 33 with value: 0.8061552595314654.\u001b[0m\n",
      "/Users/mariafar/opt/anaconda3/lib/python3.9/site-packages/xgboost/sklearn.py:1224: UserWarning:\n",
      "\n",
      "The use of label encoder in XGBClassifier is deprecated and will be removed in a future release. To remove this warning, do the following: 1) Pass option use_label_encoder=False when constructing XGBClassifier object; and 2) Encode your labels (y) as integers starting with 0, i.e. 0, 1, 2, ..., [num_class - 1].\n",
      "\n",
      "/Users/mariafar/opt/anaconda3/lib/python3.9/site-packages/sklearn/preprocessing/_label.py:99: DataConversionWarning:\n",
      "\n",
      "A column-vector y was passed when a 1d array was expected. Please change the shape of y to (n_samples, ), for example using ravel().\n",
      "\n",
      "/Users/mariafar/opt/anaconda3/lib/python3.9/site-packages/sklearn/preprocessing/_label.py:134: DataConversionWarning:\n",
      "\n",
      "A column-vector y was passed when a 1d array was expected. Please change the shape of y to (n_samples, ), for example using ravel().\n",
      "\n",
      "/Users/mariafar/opt/anaconda3/lib/python3.9/site-packages/sklearn/preprocessing/_label.py:134: DataConversionWarning:\n",
      "\n",
      "A column-vector y was passed when a 1d array was expected. Please change the shape of y to (n_samples, ), for example using ravel().\n",
      "\n",
      "\u001b[32m[I 2023-04-28 21:47:20,902]\u001b[0m Trial 43 finished with value: 0.8051888341543514 and parameters: {'lambda': 0.08276655413029363, 'alpha': 0.004348574170289107, 'colsample_bytree': 0.5, 'subsample': 0.7, 'learning_rate': 0.008, 'n_estimators': 8520, 'max_depth': 17, 'random_state': 123, 'min_child_weight': 20}. Best is trial 33 with value: 0.8061552595314654.\u001b[0m\n",
      "/Users/mariafar/opt/anaconda3/lib/python3.9/site-packages/xgboost/sklearn.py:1224: UserWarning:\n",
      "\n",
      "The use of label encoder in XGBClassifier is deprecated and will be removed in a future release. To remove this warning, do the following: 1) Pass option use_label_encoder=False when constructing XGBClassifier object; and 2) Encode your labels (y) as integers starting with 0, i.e. 0, 1, 2, ..., [num_class - 1].\n",
      "\n",
      "/Users/mariafar/opt/anaconda3/lib/python3.9/site-packages/sklearn/preprocessing/_label.py:99: DataConversionWarning:\n",
      "\n",
      "A column-vector y was passed when a 1d array was expected. Please change the shape of y to (n_samples, ), for example using ravel().\n",
      "\n",
      "/Users/mariafar/opt/anaconda3/lib/python3.9/site-packages/sklearn/preprocessing/_label.py:134: DataConversionWarning:\n",
      "\n",
      "A column-vector y was passed when a 1d array was expected. Please change the shape of y to (n_samples, ), for example using ravel().\n",
      "\n",
      "/Users/mariafar/opt/anaconda3/lib/python3.9/site-packages/sklearn/preprocessing/_label.py:134: DataConversionWarning:\n",
      "\n",
      "A column-vector y was passed when a 1d array was expected. Please change the shape of y to (n_samples, ), for example using ravel().\n",
      "\n",
      "\u001b[32m[I 2023-04-28 21:48:23,567]\u001b[0m Trial 44 finished with value: 0.8045463504368964 and parameters: {'lambda': 0.0677724315071836, 'alpha': 0.005133647814922642, 'colsample_bytree': 0.5, 'subsample': 0.7, 'learning_rate': 0.014, 'n_estimators': 8546, 'max_depth': 17, 'random_state': 123, 'min_child_weight': 18}. Best is trial 33 with value: 0.8061552595314654.\u001b[0m\n",
      "/Users/mariafar/opt/anaconda3/lib/python3.9/site-packages/xgboost/sklearn.py:1224: UserWarning:\n",
      "\n",
      "The use of label encoder in XGBClassifier is deprecated and will be removed in a future release. To remove this warning, do the following: 1) Pass option use_label_encoder=False when constructing XGBClassifier object; and 2) Encode your labels (y) as integers starting with 0, i.e. 0, 1, 2, ..., [num_class - 1].\n",
      "\n",
      "/Users/mariafar/opt/anaconda3/lib/python3.9/site-packages/sklearn/preprocessing/_label.py:99: DataConversionWarning:\n",
      "\n",
      "A column-vector y was passed when a 1d array was expected. Please change the shape of y to (n_samples, ), for example using ravel().\n",
      "\n",
      "/Users/mariafar/opt/anaconda3/lib/python3.9/site-packages/sklearn/preprocessing/_label.py:134: DataConversionWarning:\n",
      "\n",
      "A column-vector y was passed when a 1d array was expected. Please change the shape of y to (n_samples, ), for example using ravel().\n",
      "\n",
      "/Users/mariafar/opt/anaconda3/lib/python3.9/site-packages/sklearn/preprocessing/_label.py:134: DataConversionWarning:\n",
      "\n",
      "A column-vector y was passed when a 1d array was expected. Please change the shape of y to (n_samples, ), for example using ravel().\n",
      "\n",
      "\u001b[32m[I 2023-04-28 21:52:06,004]\u001b[0m Trial 45 finished with value: 0.7862590357450762 and parameters: {'lambda': 0.10417788361721497, 'alpha': 0.01047921312033693, 'colsample_bytree': 0.3, 'subsample': 0.7, 'learning_rate': 0.008, 'n_estimators': 6537, 'max_depth': 17, 'random_state': 123, 'min_child_weight': 96}. Best is trial 33 with value: 0.8061552595314654.\u001b[0m\n",
      "/Users/mariafar/opt/anaconda3/lib/python3.9/site-packages/xgboost/sklearn.py:1224: UserWarning:\n",
      "\n",
      "The use of label encoder in XGBClassifier is deprecated and will be removed in a future release. To remove this warning, do the following: 1) Pass option use_label_encoder=False when constructing XGBClassifier object; and 2) Encode your labels (y) as integers starting with 0, i.e. 0, 1, 2, ..., [num_class - 1].\n",
      "\n",
      "/Users/mariafar/opt/anaconda3/lib/python3.9/site-packages/sklearn/preprocessing/_label.py:99: DataConversionWarning:\n",
      "\n",
      "A column-vector y was passed when a 1d array was expected. Please change the shape of y to (n_samples, ), for example using ravel().\n",
      "\n",
      "/Users/mariafar/opt/anaconda3/lib/python3.9/site-packages/sklearn/preprocessing/_label.py:134: DataConversionWarning:\n",
      "\n",
      "A column-vector y was passed when a 1d array was expected. Please change the shape of y to (n_samples, ), for example using ravel().\n",
      "\n",
      "/Users/mariafar/opt/anaconda3/lib/python3.9/site-packages/sklearn/preprocessing/_label.py:134: DataConversionWarning:\n",
      "\n",
      "A column-vector y was passed when a 1d array was expected. Please change the shape of y to (n_samples, ), for example using ravel().\n",
      "\n",
      "\u001b[32m[I 2023-04-28 21:53:14,138]\u001b[0m Trial 46 finished with value: 0.7950965530877218 and parameters: {'lambda': 0.13893226901370093, 'alpha': 0.03904098700628577, 'colsample_bytree': 0.7, 'subsample': 0.7, 'learning_rate': 0.016, 'n_estimators': 7963, 'max_depth': 13, 'random_state': 123, 'min_child_weight': 56}. Best is trial 33 with value: 0.8061552595314654.\u001b[0m\n",
      "/Users/mariafar/opt/anaconda3/lib/python3.9/site-packages/xgboost/sklearn.py:1224: UserWarning:\n",
      "\n",
      "The use of label encoder in XGBClassifier is deprecated and will be removed in a future release. To remove this warning, do the following: 1) Pass option use_label_encoder=False when constructing XGBClassifier object; and 2) Encode your labels (y) as integers starting with 0, i.e. 0, 1, 2, ..., [num_class - 1].\n",
      "\n",
      "/Users/mariafar/opt/anaconda3/lib/python3.9/site-packages/sklearn/preprocessing/_label.py:99: DataConversionWarning:\n",
      "\n",
      "A column-vector y was passed when a 1d array was expected. Please change the shape of y to (n_samples, ), for example using ravel().\n",
      "\n",
      "/Users/mariafar/opt/anaconda3/lib/python3.9/site-packages/sklearn/preprocessing/_label.py:134: DataConversionWarning:\n",
      "\n",
      "A column-vector y was passed when a 1d array was expected. Please change the shape of y to (n_samples, ), for example using ravel().\n",
      "\n",
      "/Users/mariafar/opt/anaconda3/lib/python3.9/site-packages/sklearn/preprocessing/_label.py:134: DataConversionWarning:\n",
      "\n",
      "A column-vector y was passed when a 1d array was expected. Please change the shape of y to (n_samples, ), for example using ravel().\n",
      "\n",
      "\u001b[32m[I 2023-04-28 21:53:49,690]\u001b[0m Trial 47 finished with value: 0.8029386628098087 and parameters: {'lambda': 0.26577227957437843, 'alpha': 0.01860901757399984, 'colsample_bytree': 0.5, 'subsample': 0.5, 'learning_rate': 0.02, 'n_estimators': 8779, 'max_depth': 17, 'random_state': 123, 'min_child_weight': 15}. Best is trial 33 with value: 0.8061552595314654.\u001b[0m\n",
      "/Users/mariafar/opt/anaconda3/lib/python3.9/site-packages/xgboost/sklearn.py:1224: UserWarning:\n",
      "\n",
      "The use of label encoder in XGBClassifier is deprecated and will be removed in a future release. To remove this warning, do the following: 1) Pass option use_label_encoder=False when constructing XGBClassifier object; and 2) Encode your labels (y) as integers starting with 0, i.e. 0, 1, 2, ..., [num_class - 1].\n",
      "\n",
      "/Users/mariafar/opt/anaconda3/lib/python3.9/site-packages/sklearn/preprocessing/_label.py:99: DataConversionWarning:\n",
      "\n",
      "A column-vector y was passed when a 1d array was expected. Please change the shape of y to (n_samples, ), for example using ravel().\n",
      "\n",
      "/Users/mariafar/opt/anaconda3/lib/python3.9/site-packages/sklearn/preprocessing/_label.py:134: DataConversionWarning:\n",
      "\n",
      "A column-vector y was passed when a 1d array was expected. Please change the shape of y to (n_samples, ), for example using ravel().\n",
      "\n",
      "/Users/mariafar/opt/anaconda3/lib/python3.9/site-packages/sklearn/preprocessing/_label.py:134: DataConversionWarning:\n",
      "\n",
      "A column-vector y was passed when a 1d array was expected. Please change the shape of y to (n_samples, ), for example using ravel().\n",
      "\n",
      "\u001b[32m[I 2023-04-28 21:56:52,057]\u001b[0m Trial 48 finished with value: 0.7667829119442022 and parameters: {'lambda': 0.037296585436513666, 'alpha': 0.0016272246813940645, 'colsample_bytree': 1.0, 'subsample': 0.6, 'learning_rate': 0.008, 'n_estimators': 7489, 'max_depth': 3, 'random_state': 123, 'min_child_weight': 293}. Best is trial 33 with value: 0.8061552595314654.\u001b[0m\n",
      "/Users/mariafar/opt/anaconda3/lib/python3.9/site-packages/xgboost/sklearn.py:1224: UserWarning:\n",
      "\n",
      "The use of label encoder in XGBClassifier is deprecated and will be removed in a future release. To remove this warning, do the following: 1) Pass option use_label_encoder=False when constructing XGBClassifier object; and 2) Encode your labels (y) as integers starting with 0, i.e. 0, 1, 2, ..., [num_class - 1].\n",
      "\n",
      "/Users/mariafar/opt/anaconda3/lib/python3.9/site-packages/sklearn/preprocessing/_label.py:99: DataConversionWarning:\n",
      "\n",
      "A column-vector y was passed when a 1d array was expected. Please change the shape of y to (n_samples, ), for example using ravel().\n",
      "\n",
      "/Users/mariafar/opt/anaconda3/lib/python3.9/site-packages/sklearn/preprocessing/_label.py:134: DataConversionWarning:\n",
      "\n",
      "A column-vector y was passed when a 1d array was expected. Please change the shape of y to (n_samples, ), for example using ravel().\n",
      "\n",
      "/Users/mariafar/opt/anaconda3/lib/python3.9/site-packages/sklearn/preprocessing/_label.py:134: DataConversionWarning:\n",
      "\n",
      "A column-vector y was passed when a 1d array was expected. Please change the shape of y to (n_samples, ), for example using ravel().\n",
      "\n",
      "\u001b[32m[I 2023-04-28 21:57:27,481]\u001b[0m Trial 49 finished with value: 0.797109101709458 and parameters: {'lambda': 0.9397587960383964, 'alpha': 0.691261058744617, 'colsample_bytree': 0.5, 'subsample': 0.4, 'learning_rate': 0.01, 'n_estimators': 6969, 'max_depth': 17, 'random_state': 123, 'min_child_weight': 32}. Best is trial 33 with value: 0.8061552595314654.\u001b[0m\n",
      "/Users/mariafar/opt/anaconda3/lib/python3.9/site-packages/xgboost/sklearn.py:1224: UserWarning:\n",
      "\n",
      "The use of label encoder in XGBClassifier is deprecated and will be removed in a future release. To remove this warning, do the following: 1) Pass option use_label_encoder=False when constructing XGBClassifier object; and 2) Encode your labels (y) as integers starting with 0, i.e. 0, 1, 2, ..., [num_class - 1].\n",
      "\n",
      "/Users/mariafar/opt/anaconda3/lib/python3.9/site-packages/sklearn/preprocessing/_label.py:99: DataConversionWarning:\n",
      "\n",
      "A column-vector y was passed when a 1d array was expected. Please change the shape of y to (n_samples, ), for example using ravel().\n",
      "\n",
      "/Users/mariafar/opt/anaconda3/lib/python3.9/site-packages/sklearn/preprocessing/_label.py:134: DataConversionWarning:\n",
      "\n",
      "A column-vector y was passed when a 1d array was expected. Please change the shape of y to (n_samples, ), for example using ravel().\n",
      "\n",
      "/Users/mariafar/opt/anaconda3/lib/python3.9/site-packages/sklearn/preprocessing/_label.py:134: DataConversionWarning:\n",
      "\n",
      "A column-vector y was passed when a 1d array was expected. Please change the shape of y to (n_samples, ), for example using ravel().\n",
      "\n",
      "\u001b[32m[I 2023-04-28 21:58:40,433]\u001b[0m Trial 50 finished with value: 0.7870437835331522 and parameters: {'lambda': 0.012152180539274355, 'alpha': 0.003419429132219047, 'colsample_bytree': 0.6, 'subsample': 0.7, 'learning_rate': 0.008, 'n_estimators': 7982, 'max_depth': 7, 'random_state': 123, 'min_child_weight': 73}. Best is trial 33 with value: 0.8061552595314654.\u001b[0m\n",
      "/Users/mariafar/opt/anaconda3/lib/python3.9/site-packages/xgboost/sklearn.py:1224: UserWarning:\n",
      "\n",
      "The use of label encoder in XGBClassifier is deprecated and will be removed in a future release. To remove this warning, do the following: 1) Pass option use_label_encoder=False when constructing XGBClassifier object; and 2) Encode your labels (y) as integers starting with 0, i.e. 0, 1, 2, ..., [num_class - 1].\n",
      "\n",
      "/Users/mariafar/opt/anaconda3/lib/python3.9/site-packages/sklearn/preprocessing/_label.py:99: DataConversionWarning:\n",
      "\n",
      "A column-vector y was passed when a 1d array was expected. Please change the shape of y to (n_samples, ), for example using ravel().\n",
      "\n",
      "/Users/mariafar/opt/anaconda3/lib/python3.9/site-packages/sklearn/preprocessing/_label.py:134: DataConversionWarning:\n",
      "\n",
      "A column-vector y was passed when a 1d array was expected. Please change the shape of y to (n_samples, ), for example using ravel().\n",
      "\n",
      "/Users/mariafar/opt/anaconda3/lib/python3.9/site-packages/sklearn/preprocessing/_label.py:134: DataConversionWarning:\n",
      "\n",
      "A column-vector y was passed when a 1d array was expected. Please change the shape of y to (n_samples, ), for example using ravel().\n",
      "\n",
      "\u001b[32m[I 2023-04-28 21:59:58,798]\u001b[0m Trial 51 finished with value: 0.8041281092078492 and parameters: {'lambda': 0.07987842639566779, 'alpha': 0.001599498545306612, 'colsample_bytree': 0.5, 'subsample': 0.6, 'learning_rate': 0.008, 'n_estimators': 9337, 'max_depth': 17, 'random_state': 123, 'min_child_weight': 42}. Best is trial 33 with value: 0.8061552595314654.\u001b[0m\n",
      "/Users/mariafar/opt/anaconda3/lib/python3.9/site-packages/xgboost/sklearn.py:1224: UserWarning:\n",
      "\n",
      "The use of label encoder in XGBClassifier is deprecated and will be removed in a future release. To remove this warning, do the following: 1) Pass option use_label_encoder=False when constructing XGBClassifier object; and 2) Encode your labels (y) as integers starting with 0, i.e. 0, 1, 2, ..., [num_class - 1].\n",
      "\n",
      "/Users/mariafar/opt/anaconda3/lib/python3.9/site-packages/sklearn/preprocessing/_label.py:99: DataConversionWarning:\n",
      "\n",
      "A column-vector y was passed when a 1d array was expected. Please change the shape of y to (n_samples, ), for example using ravel().\n",
      "\n",
      "/Users/mariafar/opt/anaconda3/lib/python3.9/site-packages/sklearn/preprocessing/_label.py:134: DataConversionWarning:\n",
      "\n",
      "A column-vector y was passed when a 1d array was expected. Please change the shape of y to (n_samples, ), for example using ravel().\n",
      "\n",
      "/Users/mariafar/opt/anaconda3/lib/python3.9/site-packages/sklearn/preprocessing/_label.py:134: DataConversionWarning:\n",
      "\n",
      "A column-vector y was passed when a 1d array was expected. Please change the shape of y to (n_samples, ), for example using ravel().\n",
      "\n",
      "\u001b[32m[I 2023-04-28 22:01:11,291]\u001b[0m Trial 52 finished with value: 0.7913118109196541 and parameters: {'lambda': 0.03041309633292882, 'alpha': 0.003931507709515093, 'colsample_bytree': 0.5, 'subsample': 0.6, 'learning_rate': 0.008, 'n_estimators': 9560, 'max_depth': 17, 'random_state': 123, 'min_child_weight': 57}. Best is trial 33 with value: 0.8061552595314654.\u001b[0m\n",
      "/Users/mariafar/opt/anaconda3/lib/python3.9/site-packages/xgboost/sklearn.py:1224: UserWarning:\n",
      "\n",
      "The use of label encoder in XGBClassifier is deprecated and will be removed in a future release. To remove this warning, do the following: 1) Pass option use_label_encoder=False when constructing XGBClassifier object; and 2) Encode your labels (y) as integers starting with 0, i.e. 0, 1, 2, ..., [num_class - 1].\n",
      "\n",
      "/Users/mariafar/opt/anaconda3/lib/python3.9/site-packages/sklearn/preprocessing/_label.py:99: DataConversionWarning:\n",
      "\n",
      "A column-vector y was passed when a 1d array was expected. Please change the shape of y to (n_samples, ), for example using ravel().\n",
      "\n",
      "/Users/mariafar/opt/anaconda3/lib/python3.9/site-packages/sklearn/preprocessing/_label.py:134: DataConversionWarning:\n",
      "\n",
      "A column-vector y was passed when a 1d array was expected. Please change the shape of y to (n_samples, ), for example using ravel().\n",
      "\n",
      "/Users/mariafar/opt/anaconda3/lib/python3.9/site-packages/sklearn/preprocessing/_label.py:134: DataConversionWarning:\n",
      "\n",
      "A column-vector y was passed when a 1d array was expected. Please change the shape of y to (n_samples, ), for example using ravel().\n",
      "\n",
      "\u001b[32m[I 2023-04-28 22:02:02,236]\u001b[0m Trial 53 finished with value: 0.8012175057584733 and parameters: {'lambda': 0.15457980300220192, 'alpha': 0.005705859703469499, 'colsample_bytree': 0.5, 'subsample': 0.5, 'learning_rate': 0.008, 'n_estimators': 8847, 'max_depth': 17, 'random_state': 123, 'min_child_weight': 36}. Best is trial 33 with value: 0.8061552595314654.\u001b[0m\n",
      "/Users/mariafar/opt/anaconda3/lib/python3.9/site-packages/xgboost/sklearn.py:1224: UserWarning:\n",
      "\n",
      "The use of label encoder in XGBClassifier is deprecated and will be removed in a future release. To remove this warning, do the following: 1) Pass option use_label_encoder=False when constructing XGBClassifier object; and 2) Encode your labels (y) as integers starting with 0, i.e. 0, 1, 2, ..., [num_class - 1].\n",
      "\n",
      "/Users/mariafar/opt/anaconda3/lib/python3.9/site-packages/sklearn/preprocessing/_label.py:99: DataConversionWarning:\n",
      "\n",
      "A column-vector y was passed when a 1d array was expected. Please change the shape of y to (n_samples, ), for example using ravel().\n",
      "\n",
      "/Users/mariafar/opt/anaconda3/lib/python3.9/site-packages/sklearn/preprocessing/_label.py:134: DataConversionWarning:\n",
      "\n",
      "A column-vector y was passed when a 1d array was expected. Please change the shape of y to (n_samples, ), for example using ravel().\n",
      "\n",
      "/Users/mariafar/opt/anaconda3/lib/python3.9/site-packages/sklearn/preprocessing/_label.py:134: DataConversionWarning:\n",
      "\n",
      "A column-vector y was passed when a 1d array was expected. Please change the shape of y to (n_samples, ), for example using ravel().\n",
      "\n",
      "\u001b[32m[I 2023-04-28 22:02:28,429]\u001b[0m Trial 54 finished with value: 0.8027327070879591 and parameters: {'lambda': 0.06761275785088908, 'alpha': 0.0023314176398032556, 'colsample_bytree': 0.5, 'subsample': 0.7, 'learning_rate': 0.012, 'n_estimators': 8411, 'max_depth': 17, 'random_state': 123, 'min_child_weight': 12}. Best is trial 33 with value: 0.8061552595314654.\u001b[0m\n",
      "/Users/mariafar/opt/anaconda3/lib/python3.9/site-packages/xgboost/sklearn.py:1224: UserWarning:\n",
      "\n",
      "The use of label encoder in XGBClassifier is deprecated and will be removed in a future release. To remove this warning, do the following: 1) Pass option use_label_encoder=False when constructing XGBClassifier object; and 2) Encode your labels (y) as integers starting with 0, i.e. 0, 1, 2, ..., [num_class - 1].\n",
      "\n",
      "/Users/mariafar/opt/anaconda3/lib/python3.9/site-packages/sklearn/preprocessing/_label.py:99: DataConversionWarning:\n",
      "\n",
      "A column-vector y was passed when a 1d array was expected. Please change the shape of y to (n_samples, ), for example using ravel().\n",
      "\n",
      "/Users/mariafar/opt/anaconda3/lib/python3.9/site-packages/sklearn/preprocessing/_label.py:134: DataConversionWarning:\n",
      "\n",
      "A column-vector y was passed when a 1d array was expected. Please change the shape of y to (n_samples, ), for example using ravel().\n",
      "\n",
      "/Users/mariafar/opt/anaconda3/lib/python3.9/site-packages/sklearn/preprocessing/_label.py:134: DataConversionWarning:\n",
      "\n",
      "A column-vector y was passed when a 1d array was expected. Please change the shape of y to (n_samples, ), for example using ravel().\n",
      "\n",
      "\u001b[32m[I 2023-04-28 22:03:00,362]\u001b[0m Trial 55 finished with value: 0.7999143101970866 and parameters: {'lambda': 0.016887925155982607, 'alpha': 0.009190613305139792, 'colsample_bytree': 0.5, 'subsample': 0.6, 'learning_rate': 0.014, 'n_estimators': 9520, 'max_depth': 5, 'random_state': 123, 'min_child_weight': 26}. Best is trial 33 with value: 0.8061552595314654.\u001b[0m\n",
      "/Users/mariafar/opt/anaconda3/lib/python3.9/site-packages/xgboost/sklearn.py:1224: UserWarning:\n",
      "\n",
      "The use of label encoder in XGBClassifier is deprecated and will be removed in a future release. To remove this warning, do the following: 1) Pass option use_label_encoder=False when constructing XGBClassifier object; and 2) Encode your labels (y) as integers starting with 0, i.e. 0, 1, 2, ..., [num_class - 1].\n",
      "\n",
      "/Users/mariafar/opt/anaconda3/lib/python3.9/site-packages/sklearn/preprocessing/_label.py:99: DataConversionWarning:\n",
      "\n",
      "A column-vector y was passed when a 1d array was expected. Please change the shape of y to (n_samples, ), for example using ravel().\n",
      "\n",
      "/Users/mariafar/opt/anaconda3/lib/python3.9/site-packages/sklearn/preprocessing/_label.py:134: DataConversionWarning:\n",
      "\n",
      "A column-vector y was passed when a 1d array was expected. Please change the shape of y to (n_samples, ), for example using ravel().\n",
      "\n",
      "/Users/mariafar/opt/anaconda3/lib/python3.9/site-packages/sklearn/preprocessing/_label.py:134: DataConversionWarning:\n",
      "\n",
      "A column-vector y was passed when a 1d array was expected. Please change the shape of y to (n_samples, ), for example using ravel().\n",
      "\n",
      "\u001b[32m[I 2023-04-28 22:04:11,056]\u001b[0m Trial 56 finished with value: 0.7860785482482283 and parameters: {'lambda': 0.5332139834244158, 'alpha': 0.003152175788733416, 'colsample_bytree': 0.9, 'subsample': 0.4, 'learning_rate': 0.008, 'n_estimators': 8223, 'max_depth': 17, 'random_state': 123, 'min_child_weight': 50}. Best is trial 33 with value: 0.8061552595314654.\u001b[0m\n",
      "/Users/mariafar/opt/anaconda3/lib/python3.9/site-packages/xgboost/sklearn.py:1224: UserWarning:\n",
      "\n",
      "The use of label encoder in XGBClassifier is deprecated and will be removed in a future release. To remove this warning, do the following: 1) Pass option use_label_encoder=False when constructing XGBClassifier object; and 2) Encode your labels (y) as integers starting with 0, i.e. 0, 1, 2, ..., [num_class - 1].\n",
      "\n",
      "/Users/mariafar/opt/anaconda3/lib/python3.9/site-packages/sklearn/preprocessing/_label.py:99: DataConversionWarning:\n",
      "\n",
      "A column-vector y was passed when a 1d array was expected. Please change the shape of y to (n_samples, ), for example using ravel().\n",
      "\n",
      "/Users/mariafar/opt/anaconda3/lib/python3.9/site-packages/sklearn/preprocessing/_label.py:134: DataConversionWarning:\n",
      "\n",
      "A column-vector y was passed when a 1d array was expected. Please change the shape of y to (n_samples, ), for example using ravel().\n",
      "\n",
      "/Users/mariafar/opt/anaconda3/lib/python3.9/site-packages/sklearn/preprocessing/_label.py:134: DataConversionWarning:\n",
      "\n",
      "A column-vector y was passed when a 1d array was expected. Please change the shape of y to (n_samples, ), for example using ravel().\n",
      "\n",
      "\u001b[32m[I 2023-04-28 22:06:38,075]\u001b[0m Trial 57 finished with value: 0.768747073382835 and parameters: {'lambda': 0.00807533381053028, 'alpha': 0.001795589267129103, 'colsample_bytree': 0.5, 'subsample': 0.6, 'learning_rate': 0.008, 'n_estimators': 9934, 'max_depth': 17, 'random_state': 123, 'min_child_weight': 277}. Best is trial 33 with value: 0.8061552595314654.\u001b[0m\n",
      "/Users/mariafar/opt/anaconda3/lib/python3.9/site-packages/xgboost/sklearn.py:1224: UserWarning:\n",
      "\n",
      "The use of label encoder in XGBClassifier is deprecated and will be removed in a future release. To remove this warning, do the following: 1) Pass option use_label_encoder=False when constructing XGBClassifier object; and 2) Encode your labels (y) as integers starting with 0, i.e. 0, 1, 2, ..., [num_class - 1].\n",
      "\n",
      "/Users/mariafar/opt/anaconda3/lib/python3.9/site-packages/sklearn/preprocessing/_label.py:99: DataConversionWarning:\n",
      "\n",
      "A column-vector y was passed when a 1d array was expected. Please change the shape of y to (n_samples, ), for example using ravel().\n",
      "\n",
      "/Users/mariafar/opt/anaconda3/lib/python3.9/site-packages/sklearn/preprocessing/_label.py:134: DataConversionWarning:\n",
      "\n",
      "A column-vector y was passed when a 1d array was expected. Please change the shape of y to (n_samples, ), for example using ravel().\n",
      "\n",
      "/Users/mariafar/opt/anaconda3/lib/python3.9/site-packages/sklearn/preprocessing/_label.py:134: DataConversionWarning:\n",
      "\n",
      "A column-vector y was passed when a 1d array was expected. Please change the shape of y to (n_samples, ), for example using ravel().\n",
      "\n",
      "\u001b[32m[I 2023-04-28 22:07:44,795]\u001b[0m Trial 58 finished with value: 0.8034716286409364 and parameters: {'lambda': 0.0057659537050824905, 'alpha': 7.691710501150566, 'colsample_bytree': 0.8, 'subsample': 1.0, 'learning_rate': 0.008, 'n_estimators': 6338, 'max_depth': 9, 'random_state': 123, 'min_child_weight': 14}. Best is trial 33 with value: 0.8061552595314654.\u001b[0m\n",
      "/Users/mariafar/opt/anaconda3/lib/python3.9/site-packages/xgboost/sklearn.py:1224: UserWarning:\n",
      "\n",
      "The use of label encoder in XGBClassifier is deprecated and will be removed in a future release. To remove this warning, do the following: 1) Pass option use_label_encoder=False when constructing XGBClassifier object; and 2) Encode your labels (y) as integers starting with 0, i.e. 0, 1, 2, ..., [num_class - 1].\n",
      "\n",
      "/Users/mariafar/opt/anaconda3/lib/python3.9/site-packages/sklearn/preprocessing/_label.py:99: DataConversionWarning:\n",
      "\n",
      "A column-vector y was passed when a 1d array was expected. Please change the shape of y to (n_samples, ), for example using ravel().\n",
      "\n",
      "/Users/mariafar/opt/anaconda3/lib/python3.9/site-packages/sklearn/preprocessing/_label.py:134: DataConversionWarning:\n",
      "\n",
      "A column-vector y was passed when a 1d array was expected. Please change the shape of y to (n_samples, ), for example using ravel().\n",
      "\n",
      "/Users/mariafar/opt/anaconda3/lib/python3.9/site-packages/sklearn/preprocessing/_label.py:134: DataConversionWarning:\n",
      "\n",
      "A column-vector y was passed when a 1d array was expected. Please change the shape of y to (n_samples, ), for example using ravel().\n",
      "\n",
      "\u001b[32m[I 2023-04-28 22:09:04,196]\u001b[0m Trial 59 finished with value: 0.7997169376604568 and parameters: {'lambda': 0.012030959099627854, 'alpha': 0.11827920715834268, 'colsample_bytree': 0.4, 'subsample': 0.8, 'learning_rate': 0.008, 'n_estimators': 8922, 'max_depth': 11, 'random_state': 123, 'min_child_weight': 63}. Best is trial 33 with value: 0.8061552595314654.\u001b[0m\n",
      "/Users/mariafar/opt/anaconda3/lib/python3.9/site-packages/xgboost/sklearn.py:1224: UserWarning:\n",
      "\n",
      "The use of label encoder in XGBClassifier is deprecated and will be removed in a future release. To remove this warning, do the following: 1) Pass option use_label_encoder=False when constructing XGBClassifier object; and 2) Encode your labels (y) as integers starting with 0, i.e. 0, 1, 2, ..., [num_class - 1].\n",
      "\n",
      "/Users/mariafar/opt/anaconda3/lib/python3.9/site-packages/sklearn/preprocessing/_label.py:99: DataConversionWarning:\n",
      "\n",
      "A column-vector y was passed when a 1d array was expected. Please change the shape of y to (n_samples, ), for example using ravel().\n",
      "\n",
      "/Users/mariafar/opt/anaconda3/lib/python3.9/site-packages/sklearn/preprocessing/_label.py:134: DataConversionWarning:\n",
      "\n",
      "A column-vector y was passed when a 1d array was expected. Please change the shape of y to (n_samples, ), for example using ravel().\n",
      "\n",
      "/Users/mariafar/opt/anaconda3/lib/python3.9/site-packages/sklearn/preprocessing/_label.py:134: DataConversionWarning:\n",
      "\n",
      "A column-vector y was passed when a 1d array was expected. Please change the shape of y to (n_samples, ), for example using ravel().\n",
      "\n",
      "\u001b[32m[I 2023-04-28 22:09:42,409]\u001b[0m Trial 60 finished with value: 0.7856338214830033 and parameters: {'lambda': 0.031880783653902546, 'alpha': 0.016622995604357208, 'colsample_bytree': 0.5, 'subsample': 0.6, 'learning_rate': 0.018, 'n_estimators': 7364, 'max_depth': 17, 'random_state': 123, 'min_child_weight': 92}. Best is trial 33 with value: 0.8061552595314654.\u001b[0m\n",
      "/Users/mariafar/opt/anaconda3/lib/python3.9/site-packages/xgboost/sklearn.py:1224: UserWarning:\n",
      "\n",
      "The use of label encoder in XGBClassifier is deprecated and will be removed in a future release. To remove this warning, do the following: 1) Pass option use_label_encoder=False when constructing XGBClassifier object; and 2) Encode your labels (y) as integers starting with 0, i.e. 0, 1, 2, ..., [num_class - 1].\n",
      "\n",
      "/Users/mariafar/opt/anaconda3/lib/python3.9/site-packages/sklearn/preprocessing/_label.py:99: DataConversionWarning:\n",
      "\n",
      "A column-vector y was passed when a 1d array was expected. Please change the shape of y to (n_samples, ), for example using ravel().\n",
      "\n",
      "/Users/mariafar/opt/anaconda3/lib/python3.9/site-packages/sklearn/preprocessing/_label.py:134: DataConversionWarning:\n",
      "\n",
      "A column-vector y was passed when a 1d array was expected. Please change the shape of y to (n_samples, ), for example using ravel().\n",
      "\n",
      "/Users/mariafar/opt/anaconda3/lib/python3.9/site-packages/sklearn/preprocessing/_label.py:134: DataConversionWarning:\n",
      "\n",
      "A column-vector y was passed when a 1d array was expected. Please change the shape of y to (n_samples, ), for example using ravel().\n",
      "\n",
      "\u001b[32m[I 2023-04-28 22:10:28,267]\u001b[0m Trial 61 finished with value: 0.8027172840318442 and parameters: {'lambda': 0.04988999536651201, 'alpha': 0.006810797118469175, 'colsample_bytree': 0.5, 'subsample': 0.6, 'learning_rate': 0.008, 'n_estimators': 7614, 'max_depth': 17, 'random_state': 123, 'min_child_weight': 36}. Best is trial 33 with value: 0.8061552595314654.\u001b[0m\n",
      "/Users/mariafar/opt/anaconda3/lib/python3.9/site-packages/xgboost/sklearn.py:1224: UserWarning:\n",
      "\n",
      "The use of label encoder in XGBClassifier is deprecated and will be removed in a future release. To remove this warning, do the following: 1) Pass option use_label_encoder=False when constructing XGBClassifier object; and 2) Encode your labels (y) as integers starting with 0, i.e. 0, 1, 2, ..., [num_class - 1].\n",
      "\n",
      "/Users/mariafar/opt/anaconda3/lib/python3.9/site-packages/sklearn/preprocessing/_label.py:99: DataConversionWarning:\n",
      "\n",
      "A column-vector y was passed when a 1d array was expected. Please change the shape of y to (n_samples, ), for example using ravel().\n",
      "\n",
      "/Users/mariafar/opt/anaconda3/lib/python3.9/site-packages/sklearn/preprocessing/_label.py:134: DataConversionWarning:\n",
      "\n",
      "A column-vector y was passed when a 1d array was expected. Please change the shape of y to (n_samples, ), for example using ravel().\n",
      "\n",
      "/Users/mariafar/opt/anaconda3/lib/python3.9/site-packages/sklearn/preprocessing/_label.py:134: DataConversionWarning:\n",
      "\n",
      "A column-vector y was passed when a 1d array was expected. Please change the shape of y to (n_samples, ), for example using ravel().\n",
      "\n",
      "\u001b[32m[I 2023-04-28 22:11:06,784]\u001b[0m Trial 62 finished with value: 0.8025060843254623 and parameters: {'lambda': 0.06014386103936686, 'alpha': 0.005147358213205261, 'colsample_bytree': 0.5, 'subsample': 0.6, 'learning_rate': 0.008, 'n_estimators': 7739, 'max_depth': 17, 'random_state': 123, 'min_child_weight': 8}. Best is trial 33 with value: 0.8061552595314654.\u001b[0m\n",
      "/Users/mariafar/opt/anaconda3/lib/python3.9/site-packages/xgboost/sklearn.py:1224: UserWarning:\n",
      "\n",
      "The use of label encoder in XGBClassifier is deprecated and will be removed in a future release. To remove this warning, do the following: 1) Pass option use_label_encoder=False when constructing XGBClassifier object; and 2) Encode your labels (y) as integers starting with 0, i.e. 0, 1, 2, ..., [num_class - 1].\n",
      "\n",
      "/Users/mariafar/opt/anaconda3/lib/python3.9/site-packages/sklearn/preprocessing/_label.py:99: DataConversionWarning:\n",
      "\n",
      "A column-vector y was passed when a 1d array was expected. Please change the shape of y to (n_samples, ), for example using ravel().\n",
      "\n",
      "/Users/mariafar/opt/anaconda3/lib/python3.9/site-packages/sklearn/preprocessing/_label.py:134: DataConversionWarning:\n",
      "\n",
      "A column-vector y was passed when a 1d array was expected. Please change the shape of y to (n_samples, ), for example using ravel().\n",
      "\n",
      "/Users/mariafar/opt/anaconda3/lib/python3.9/site-packages/sklearn/preprocessing/_label.py:134: DataConversionWarning:\n",
      "\n",
      "A column-vector y was passed when a 1d array was expected. Please change the shape of y to (n_samples, ), for example using ravel().\n",
      "\n",
      "\u001b[32m[I 2023-04-28 22:11:44,913]\u001b[0m Trial 63 finished with value: 0.8051811427444276 and parameters: {'lambda': 0.020666879352289978, 'alpha': 0.007070811836984068, 'colsample_bytree': 0.5, 'subsample': 0.6, 'learning_rate': 0.008, 'n_estimators': 5425, 'max_depth': 17, 'random_state': 123, 'min_child_weight': 27}. Best is trial 33 with value: 0.8061552595314654.\u001b[0m\n",
      "/Users/mariafar/opt/anaconda3/lib/python3.9/site-packages/xgboost/sklearn.py:1224: UserWarning:\n",
      "\n",
      "The use of label encoder in XGBClassifier is deprecated and will be removed in a future release. To remove this warning, do the following: 1) Pass option use_label_encoder=False when constructing XGBClassifier object; and 2) Encode your labels (y) as integers starting with 0, i.e. 0, 1, 2, ..., [num_class - 1].\n",
      "\n",
      "/Users/mariafar/opt/anaconda3/lib/python3.9/site-packages/sklearn/preprocessing/_label.py:99: DataConversionWarning:\n",
      "\n",
      "A column-vector y was passed when a 1d array was expected. Please change the shape of y to (n_samples, ), for example using ravel().\n",
      "\n",
      "/Users/mariafar/opt/anaconda3/lib/python3.9/site-packages/sklearn/preprocessing/_label.py:134: DataConversionWarning:\n",
      "\n",
      "A column-vector y was passed when a 1d array was expected. Please change the shape of y to (n_samples, ), for example using ravel().\n",
      "\n",
      "/Users/mariafar/opt/anaconda3/lib/python3.9/site-packages/sklearn/preprocessing/_label.py:134: DataConversionWarning:\n",
      "\n",
      "A column-vector y was passed when a 1d array was expected. Please change the shape of y to (n_samples, ), for example using ravel().\n",
      "\n",
      "\u001b[32m[I 2023-04-28 22:12:24,360]\u001b[0m Trial 64 finished with value: 0.8052908314163654 and parameters: {'lambda': 0.02346934077857037, 'alpha': 0.011051962204798621, 'colsample_bytree': 0.5, 'subsample': 0.6, 'learning_rate': 0.008, 'n_estimators': 5552, 'max_depth': 17, 'random_state': 123, 'min_child_weight': 23}. Best is trial 33 with value: 0.8061552595314654.\u001b[0m\n",
      "/Users/mariafar/opt/anaconda3/lib/python3.9/site-packages/xgboost/sklearn.py:1224: UserWarning:\n",
      "\n",
      "The use of label encoder in XGBClassifier is deprecated and will be removed in a future release. To remove this warning, do the following: 1) Pass option use_label_encoder=False when constructing XGBClassifier object; and 2) Encode your labels (y) as integers starting with 0, i.e. 0, 1, 2, ..., [num_class - 1].\n",
      "\n",
      "/Users/mariafar/opt/anaconda3/lib/python3.9/site-packages/sklearn/preprocessing/_label.py:99: DataConversionWarning:\n",
      "\n",
      "A column-vector y was passed when a 1d array was expected. Please change the shape of y to (n_samples, ), for example using ravel().\n",
      "\n",
      "/Users/mariafar/opt/anaconda3/lib/python3.9/site-packages/sklearn/preprocessing/_label.py:134: DataConversionWarning:\n",
      "\n",
      "A column-vector y was passed when a 1d array was expected. Please change the shape of y to (n_samples, ), for example using ravel().\n",
      "\n",
      "/Users/mariafar/opt/anaconda3/lib/python3.9/site-packages/sklearn/preprocessing/_label.py:134: DataConversionWarning:\n",
      "\n",
      "A column-vector y was passed when a 1d array was expected. Please change the shape of y to (n_samples, ), for example using ravel().\n",
      "\n",
      "\u001b[32m[I 2023-04-28 22:13:03,778]\u001b[0m Trial 65 finished with value: 0.8049694340366791 and parameters: {'lambda': 0.02315644366062584, 'alpha': 0.010778830460807713, 'colsample_bytree': 0.5, 'subsample': 0.6, 'learning_rate': 0.008, 'n_estimators': 5581, 'max_depth': 17, 'random_state': 123, 'min_child_weight': 23}. Best is trial 33 with value: 0.8061552595314654.\u001b[0m\n",
      "/Users/mariafar/opt/anaconda3/lib/python3.9/site-packages/xgboost/sklearn.py:1224: UserWarning:\n",
      "\n",
      "The use of label encoder in XGBClassifier is deprecated and will be removed in a future release. To remove this warning, do the following: 1) Pass option use_label_encoder=False when constructing XGBClassifier object; and 2) Encode your labels (y) as integers starting with 0, i.e. 0, 1, 2, ..., [num_class - 1].\n",
      "\n",
      "/Users/mariafar/opt/anaconda3/lib/python3.9/site-packages/sklearn/preprocessing/_label.py:99: DataConversionWarning:\n",
      "\n",
      "A column-vector y was passed when a 1d array was expected. Please change the shape of y to (n_samples, ), for example using ravel().\n",
      "\n",
      "/Users/mariafar/opt/anaconda3/lib/python3.9/site-packages/sklearn/preprocessing/_label.py:134: DataConversionWarning:\n",
      "\n",
      "A column-vector y was passed when a 1d array was expected. Please change the shape of y to (n_samples, ), for example using ravel().\n",
      "\n",
      "/Users/mariafar/opt/anaconda3/lib/python3.9/site-packages/sklearn/preprocessing/_label.py:134: DataConversionWarning:\n",
      "\n",
      "A column-vector y was passed when a 1d array was expected. Please change the shape of y to (n_samples, ), for example using ravel().\n",
      "\n",
      "\u001b[32m[I 2023-04-28 22:13:21,829]\u001b[0m Trial 66 finished with value: 0.8035726034607541 and parameters: {'lambda': 0.020894938353871243, 'alpha': 0.012464266928733814, 'colsample_bytree': 0.5, 'subsample': 0.6, 'learning_rate': 0.016, 'n_estimators': 5548, 'max_depth': 17, 'random_state': 123, 'min_child_weight': 23}. Best is trial 33 with value: 0.8061552595314654.\u001b[0m\n",
      "/Users/mariafar/opt/anaconda3/lib/python3.9/site-packages/xgboost/sklearn.py:1224: UserWarning:\n",
      "\n",
      "The use of label encoder in XGBClassifier is deprecated and will be removed in a future release. To remove this warning, do the following: 1) Pass option use_label_encoder=False when constructing XGBClassifier object; and 2) Encode your labels (y) as integers starting with 0, i.e. 0, 1, 2, ..., [num_class - 1].\n",
      "\n",
      "/Users/mariafar/opt/anaconda3/lib/python3.9/site-packages/sklearn/preprocessing/_label.py:99: DataConversionWarning:\n",
      "\n",
      "A column-vector y was passed when a 1d array was expected. Please change the shape of y to (n_samples, ), for example using ravel().\n",
      "\n",
      "/Users/mariafar/opt/anaconda3/lib/python3.9/site-packages/sklearn/preprocessing/_label.py:134: DataConversionWarning:\n",
      "\n",
      "A column-vector y was passed when a 1d array was expected. Please change the shape of y to (n_samples, ), for example using ravel().\n",
      "\n",
      "/Users/mariafar/opt/anaconda3/lib/python3.9/site-packages/sklearn/preprocessing/_label.py:134: DataConversionWarning:\n",
      "\n",
      "A column-vector y was passed when a 1d array was expected. Please change the shape of y to (n_samples, ), for example using ravel().\n",
      "\n",
      "\u001b[32m[I 2023-04-28 22:14:05,505]\u001b[0m Trial 67 finished with value: 0.8023164249622677 and parameters: {'lambda': 0.014802330041995746, 'alpha': 0.030418261847139555, 'colsample_bytree': 0.7, 'subsample': 0.6, 'learning_rate': 0.008, 'n_estimators': 5091, 'max_depth': 15, 'random_state': 123, 'min_child_weight': 2}. Best is trial 33 with value: 0.8061552595314654.\u001b[0m\n",
      "/Users/mariafar/opt/anaconda3/lib/python3.9/site-packages/xgboost/sklearn.py:1224: UserWarning:\n",
      "\n",
      "The use of label encoder in XGBClassifier is deprecated and will be removed in a future release. To remove this warning, do the following: 1) Pass option use_label_encoder=False when constructing XGBClassifier object; and 2) Encode your labels (y) as integers starting with 0, i.e. 0, 1, 2, ..., [num_class - 1].\n",
      "\n",
      "/Users/mariafar/opt/anaconda3/lib/python3.9/site-packages/sklearn/preprocessing/_label.py:99: DataConversionWarning:\n",
      "\n",
      "A column-vector y was passed when a 1d array was expected. Please change the shape of y to (n_samples, ), for example using ravel().\n",
      "\n",
      "/Users/mariafar/opt/anaconda3/lib/python3.9/site-packages/sklearn/preprocessing/_label.py:134: DataConversionWarning:\n",
      "\n",
      "A column-vector y was passed when a 1d array was expected. Please change the shape of y to (n_samples, ), for example using ravel().\n",
      "\n",
      "/Users/mariafar/opt/anaconda3/lib/python3.9/site-packages/sklearn/preprocessing/_label.py:134: DataConversionWarning:\n",
      "\n",
      "A column-vector y was passed when a 1d array was expected. Please change the shape of y to (n_samples, ), for example using ravel().\n",
      "\n",
      "\u001b[32m[I 2023-04-28 22:15:12,986]\u001b[0m Trial 68 finished with value: 0.7976434088058617 and parameters: {'lambda': 0.005018003600554593, 'alpha': 0.0625055409795611, 'colsample_bytree': 0.3, 'subsample': 0.6, 'learning_rate': 0.008, 'n_estimators': 4688, 'max_depth': 13, 'random_state': 123, 'min_child_weight': 52}. Best is trial 33 with value: 0.8061552595314654.\u001b[0m\n",
      "/Users/mariafar/opt/anaconda3/lib/python3.9/site-packages/xgboost/sklearn.py:1224: UserWarning:\n",
      "\n",
      "The use of label encoder in XGBClassifier is deprecated and will be removed in a future release. To remove this warning, do the following: 1) Pass option use_label_encoder=False when constructing XGBClassifier object; and 2) Encode your labels (y) as integers starting with 0, i.e. 0, 1, 2, ..., [num_class - 1].\n",
      "\n",
      "/Users/mariafar/opt/anaconda3/lib/python3.9/site-packages/sklearn/preprocessing/_label.py:99: DataConversionWarning:\n",
      "\n",
      "A column-vector y was passed when a 1d array was expected. Please change the shape of y to (n_samples, ), for example using ravel().\n",
      "\n",
      "/Users/mariafar/opt/anaconda3/lib/python3.9/site-packages/sklearn/preprocessing/_label.py:134: DataConversionWarning:\n",
      "\n",
      "A column-vector y was passed when a 1d array was expected. Please change the shape of y to (n_samples, ), for example using ravel().\n",
      "\n",
      "/Users/mariafar/opt/anaconda3/lib/python3.9/site-packages/sklearn/preprocessing/_label.py:134: DataConversionWarning:\n",
      "\n",
      "A column-vector y was passed when a 1d array was expected. Please change the shape of y to (n_samples, ), for example using ravel().\n",
      "\n",
      "\u001b[32m[I 2023-04-28 22:15:52,428]\u001b[0m Trial 69 finished with value: 0.7822275353656106 and parameters: {'lambda': 0.02563843605602306, 'alpha': 0.019266004183555577, 'colsample_bytree': 0.5, 'subsample': 0.5, 'learning_rate': 0.02, 'n_estimators': 5652, 'max_depth': 7, 'random_state': 123, 'min_child_weight': 106}. Best is trial 33 with value: 0.8061552595314654.\u001b[0m\n",
      "/Users/mariafar/opt/anaconda3/lib/python3.9/site-packages/xgboost/sklearn.py:1224: UserWarning:\n",
      "\n",
      "The use of label encoder in XGBClassifier is deprecated and will be removed in a future release. To remove this warning, do the following: 1) Pass option use_label_encoder=False when constructing XGBClassifier object; and 2) Encode your labels (y) as integers starting with 0, i.e. 0, 1, 2, ..., [num_class - 1].\n",
      "\n",
      "/Users/mariafar/opt/anaconda3/lib/python3.9/site-packages/sklearn/preprocessing/_label.py:99: DataConversionWarning:\n",
      "\n",
      "A column-vector y was passed when a 1d array was expected. Please change the shape of y to (n_samples, ), for example using ravel().\n",
      "\n",
      "/Users/mariafar/opt/anaconda3/lib/python3.9/site-packages/sklearn/preprocessing/_label.py:134: DataConversionWarning:\n",
      "\n",
      "A column-vector y was passed when a 1d array was expected. Please change the shape of y to (n_samples, ), for example using ravel().\n",
      "\n",
      "/Users/mariafar/opt/anaconda3/lib/python3.9/site-packages/sklearn/preprocessing/_label.py:134: DataConversionWarning:\n",
      "\n",
      "A column-vector y was passed when a 1d array was expected. Please change the shape of y to (n_samples, ), for example using ravel().\n",
      "\n",
      "\u001b[32m[I 2023-04-28 22:16:24,130]\u001b[0m Trial 70 finished with value: 0.8058344818533831 and parameters: {'lambda': 0.011052216129851933, 'alpha': 0.007093139404596556, 'colsample_bytree': 1.0, 'subsample': 0.6, 'learning_rate': 0.012, 'n_estimators': 3558, 'max_depth': 17, 'random_state': 123, 'min_child_weight': 25}. Best is trial 33 with value: 0.8061552595314654.\u001b[0m\n",
      "/Users/mariafar/opt/anaconda3/lib/python3.9/site-packages/xgboost/sklearn.py:1224: UserWarning:\n",
      "\n",
      "The use of label encoder in XGBClassifier is deprecated and will be removed in a future release. To remove this warning, do the following: 1) Pass option use_label_encoder=False when constructing XGBClassifier object; and 2) Encode your labels (y) as integers starting with 0, i.e. 0, 1, 2, ..., [num_class - 1].\n",
      "\n",
      "/Users/mariafar/opt/anaconda3/lib/python3.9/site-packages/sklearn/preprocessing/_label.py:99: DataConversionWarning:\n",
      "\n",
      "A column-vector y was passed when a 1d array was expected. Please change the shape of y to (n_samples, ), for example using ravel().\n",
      "\n",
      "/Users/mariafar/opt/anaconda3/lib/python3.9/site-packages/sklearn/preprocessing/_label.py:134: DataConversionWarning:\n",
      "\n",
      "A column-vector y was passed when a 1d array was expected. Please change the shape of y to (n_samples, ), for example using ravel().\n",
      "\n",
      "/Users/mariafar/opt/anaconda3/lib/python3.9/site-packages/sklearn/preprocessing/_label.py:134: DataConversionWarning:\n",
      "\n",
      "A column-vector y was passed when a 1d array was expected. Please change the shape of y to (n_samples, ), for example using ravel().\n",
      "\n",
      "\u001b[32m[I 2023-04-28 22:16:56,411]\u001b[0m Trial 71 finished with value: 0.8053021851827548 and parameters: {'lambda': 0.01015321099642254, 'alpha': 0.00798211764743958, 'colsample_bytree': 1.0, 'subsample': 0.6, 'learning_rate': 0.012, 'n_estimators': 3777, 'max_depth': 17, 'random_state': 123, 'min_child_weight': 24}. Best is trial 33 with value: 0.8061552595314654.\u001b[0m\n",
      "/Users/mariafar/opt/anaconda3/lib/python3.9/site-packages/xgboost/sklearn.py:1224: UserWarning:\n",
      "\n",
      "The use of label encoder in XGBClassifier is deprecated and will be removed in a future release. To remove this warning, do the following: 1) Pass option use_label_encoder=False when constructing XGBClassifier object; and 2) Encode your labels (y) as integers starting with 0, i.e. 0, 1, 2, ..., [num_class - 1].\n",
      "\n",
      "/Users/mariafar/opt/anaconda3/lib/python3.9/site-packages/sklearn/preprocessing/_label.py:99: DataConversionWarning:\n",
      "\n",
      "A column-vector y was passed when a 1d array was expected. Please change the shape of y to (n_samples, ), for example using ravel().\n",
      "\n",
      "/Users/mariafar/opt/anaconda3/lib/python3.9/site-packages/sklearn/preprocessing/_label.py:134: DataConversionWarning:\n",
      "\n",
      "A column-vector y was passed when a 1d array was expected. Please change the shape of y to (n_samples, ), for example using ravel().\n",
      "\n",
      "/Users/mariafar/opt/anaconda3/lib/python3.9/site-packages/sklearn/preprocessing/_label.py:134: DataConversionWarning:\n",
      "\n",
      "A column-vector y was passed when a 1d array was expected. Please change the shape of y to (n_samples, ), for example using ravel().\n",
      "\n",
      "\u001b[32m[I 2023-04-28 22:17:33,067]\u001b[0m Trial 72 finished with value: 0.8016680895777236 and parameters: {'lambda': 0.009683423292739125, 'alpha': 0.007842566217098503, 'colsample_bytree': 1.0, 'subsample': 0.6, 'learning_rate': 0.012, 'n_estimators': 4061, 'max_depth': 17, 'random_state': 123, 'min_child_weight': 10}. Best is trial 33 with value: 0.8061552595314654.\u001b[0m\n",
      "/Users/mariafar/opt/anaconda3/lib/python3.9/site-packages/xgboost/sklearn.py:1224: UserWarning:\n",
      "\n",
      "The use of label encoder in XGBClassifier is deprecated and will be removed in a future release. To remove this warning, do the following: 1) Pass option use_label_encoder=False when constructing XGBClassifier object; and 2) Encode your labels (y) as integers starting with 0, i.e. 0, 1, 2, ..., [num_class - 1].\n",
      "\n",
      "/Users/mariafar/opt/anaconda3/lib/python3.9/site-packages/sklearn/preprocessing/_label.py:99: DataConversionWarning:\n",
      "\n",
      "A column-vector y was passed when a 1d array was expected. Please change the shape of y to (n_samples, ), for example using ravel().\n",
      "\n",
      "/Users/mariafar/opt/anaconda3/lib/python3.9/site-packages/sklearn/preprocessing/_label.py:134: DataConversionWarning:\n",
      "\n",
      "A column-vector y was passed when a 1d array was expected. Please change the shape of y to (n_samples, ), for example using ravel().\n",
      "\n",
      "/Users/mariafar/opt/anaconda3/lib/python3.9/site-packages/sklearn/preprocessing/_label.py:134: DataConversionWarning:\n",
      "\n",
      "A column-vector y was passed when a 1d array was expected. Please change the shape of y to (n_samples, ), for example using ravel().\n",
      "\n",
      "\u001b[32m[I 2023-04-28 22:18:23,781]\u001b[0m Trial 73 finished with value: 0.800802051147196 and parameters: {'lambda': 0.004197371839170614, 'alpha': 0.004408321422137615, 'colsample_bytree': 1.0, 'subsample': 0.6, 'learning_rate': 0.012, 'n_estimators': 3537, 'max_depth': 17, 'random_state': 123, 'min_child_weight': 44}. Best is trial 33 with value: 0.8061552595314654.\u001b[0m\n",
      "/Users/mariafar/opt/anaconda3/lib/python3.9/site-packages/xgboost/sklearn.py:1224: UserWarning:\n",
      "\n",
      "The use of label encoder in XGBClassifier is deprecated and will be removed in a future release. To remove this warning, do the following: 1) Pass option use_label_encoder=False when constructing XGBClassifier object; and 2) Encode your labels (y) as integers starting with 0, i.e. 0, 1, 2, ..., [num_class - 1].\n",
      "\n",
      "/Users/mariafar/opt/anaconda3/lib/python3.9/site-packages/sklearn/preprocessing/_label.py:99: DataConversionWarning:\n",
      "\n",
      "A column-vector y was passed when a 1d array was expected. Please change the shape of y to (n_samples, ), for example using ravel().\n",
      "\n",
      "/Users/mariafar/opt/anaconda3/lib/python3.9/site-packages/sklearn/preprocessing/_label.py:134: DataConversionWarning:\n",
      "\n",
      "A column-vector y was passed when a 1d array was expected. Please change the shape of y to (n_samples, ), for example using ravel().\n",
      "\n",
      "/Users/mariafar/opt/anaconda3/lib/python3.9/site-packages/sklearn/preprocessing/_label.py:134: DataConversionWarning:\n",
      "\n",
      "A column-vector y was passed when a 1d array was expected. Please change the shape of y to (n_samples, ), for example using ravel().\n",
      "\n",
      "\u001b[32m[I 2023-04-28 22:19:00,949]\u001b[0m Trial 74 finished with value: 0.7951096680140479 and parameters: {'lambda': 9.879117181802474, 'alpha': 0.0033709963366576265, 'colsample_bytree': 1.0, 'subsample': 0.6, 'learning_rate': 0.012, 'n_estimators': 2299, 'max_depth': 3, 'random_state': 123, 'min_child_weight': 22}. Best is trial 33 with value: 0.8061552595314654.\u001b[0m\n",
      "/Users/mariafar/opt/anaconda3/lib/python3.9/site-packages/xgboost/sklearn.py:1224: UserWarning:\n",
      "\n",
      "The use of label encoder in XGBClassifier is deprecated and will be removed in a future release. To remove this warning, do the following: 1) Pass option use_label_encoder=False when constructing XGBClassifier object; and 2) Encode your labels (y) as integers starting with 0, i.e. 0, 1, 2, ..., [num_class - 1].\n",
      "\n",
      "/Users/mariafar/opt/anaconda3/lib/python3.9/site-packages/sklearn/preprocessing/_label.py:99: DataConversionWarning:\n",
      "\n",
      "A column-vector y was passed when a 1d array was expected. Please change the shape of y to (n_samples, ), for example using ravel().\n",
      "\n",
      "/Users/mariafar/opt/anaconda3/lib/python3.9/site-packages/sklearn/preprocessing/_label.py:134: DataConversionWarning:\n",
      "\n",
      "A column-vector y was passed when a 1d array was expected. Please change the shape of y to (n_samples, ), for example using ravel().\n",
      "\n",
      "/Users/mariafar/opt/anaconda3/lib/python3.9/site-packages/sklearn/preprocessing/_label.py:134: DataConversionWarning:\n",
      "\n",
      "A column-vector y was passed when a 1d array was expected. Please change the shape of y to (n_samples, ), for example using ravel().\n",
      "\n",
      "\u001b[32m[I 2023-04-28 22:19:32,914]\u001b[0m Trial 75 finished with value: 0.8074401835463781 and parameters: {'lambda': 0.012609789565528766, 'alpha': 0.2946741239180167, 'colsample_bytree': 1.0, 'subsample': 1.0, 'learning_rate': 0.012, 'n_estimators': 3607, 'max_depth': 17, 'random_state': 123, 'min_child_weight': 32}. Best is trial 75 with value: 0.8074401835463781.\u001b[0m\n",
      "/Users/mariafar/opt/anaconda3/lib/python3.9/site-packages/xgboost/sklearn.py:1224: UserWarning:\n",
      "\n",
      "The use of label encoder in XGBClassifier is deprecated and will be removed in a future release. To remove this warning, do the following: 1) Pass option use_label_encoder=False when constructing XGBClassifier object; and 2) Encode your labels (y) as integers starting with 0, i.e. 0, 1, 2, ..., [num_class - 1].\n",
      "\n",
      "/Users/mariafar/opt/anaconda3/lib/python3.9/site-packages/sklearn/preprocessing/_label.py:99: DataConversionWarning:\n",
      "\n",
      "A column-vector y was passed when a 1d array was expected. Please change the shape of y to (n_samples, ), for example using ravel().\n",
      "\n",
      "/Users/mariafar/opt/anaconda3/lib/python3.9/site-packages/sklearn/preprocessing/_label.py:134: DataConversionWarning:\n",
      "\n",
      "A column-vector y was passed when a 1d array was expected. Please change the shape of y to (n_samples, ), for example using ravel().\n",
      "\n",
      "/Users/mariafar/opt/anaconda3/lib/python3.9/site-packages/sklearn/preprocessing/_label.py:134: DataConversionWarning:\n",
      "\n",
      "A column-vector y was passed when a 1d array was expected. Please change the shape of y to (n_samples, ), for example using ravel().\n",
      "\n",
      "\u001b[32m[I 2023-04-28 22:20:10,023]\u001b[0m Trial 76 finished with value: 0.798381235546746 and parameters: {'lambda': 0.011850981222685382, 'alpha': 0.31008655286729403, 'colsample_bytree': 1.0, 'subsample': 1.0, 'learning_rate': 0.012, 'n_estimators': 4750, 'max_depth': 5, 'random_state': 123, 'min_child_weight': 9}. Best is trial 75 with value: 0.8074401835463781.\u001b[0m\n",
      "/Users/mariafar/opt/anaconda3/lib/python3.9/site-packages/xgboost/sklearn.py:1224: UserWarning:\n",
      "\n",
      "The use of label encoder in XGBClassifier is deprecated and will be removed in a future release. To remove this warning, do the following: 1) Pass option use_label_encoder=False when constructing XGBClassifier object; and 2) Encode your labels (y) as integers starting with 0, i.e. 0, 1, 2, ..., [num_class - 1].\n",
      "\n",
      "/Users/mariafar/opt/anaconda3/lib/python3.9/site-packages/sklearn/preprocessing/_label.py:99: DataConversionWarning:\n",
      "\n",
      "A column-vector y was passed when a 1d array was expected. Please change the shape of y to (n_samples, ), for example using ravel().\n",
      "\n",
      "/Users/mariafar/opt/anaconda3/lib/python3.9/site-packages/sklearn/preprocessing/_label.py:134: DataConversionWarning:\n",
      "\n",
      "A column-vector y was passed when a 1d array was expected. Please change the shape of y to (n_samples, ), for example using ravel().\n",
      "\n",
      "/Users/mariafar/opt/anaconda3/lib/python3.9/site-packages/sklearn/preprocessing/_label.py:134: DataConversionWarning:\n",
      "\n",
      "A column-vector y was passed when a 1d array was expected. Please change the shape of y to (n_samples, ), for example using ravel().\n",
      "\n",
      "\u001b[32m[I 2023-04-28 22:20:45,800]\u001b[0m Trial 77 finished with value: 0.8020281321557085 and parameters: {'lambda': 0.006419943573284967, 'alpha': 0.3064741981827052, 'colsample_bytree': 1.0, 'subsample': 1.0, 'learning_rate': 0.012, 'n_estimators': 3584, 'max_depth': 17, 'random_state': 123, 'min_child_weight': 1}. Best is trial 75 with value: 0.8074401835463781.\u001b[0m\n",
      "/Users/mariafar/opt/anaconda3/lib/python3.9/site-packages/xgboost/sklearn.py:1224: UserWarning:\n",
      "\n",
      "The use of label encoder in XGBClassifier is deprecated and will be removed in a future release. To remove this warning, do the following: 1) Pass option use_label_encoder=False when constructing XGBClassifier object; and 2) Encode your labels (y) as integers starting with 0, i.e. 0, 1, 2, ..., [num_class - 1].\n",
      "\n",
      "/Users/mariafar/opt/anaconda3/lib/python3.9/site-packages/sklearn/preprocessing/_label.py:99: DataConversionWarning:\n",
      "\n",
      "A column-vector y was passed when a 1d array was expected. Please change the shape of y to (n_samples, ), for example using ravel().\n",
      "\n",
      "/Users/mariafar/opt/anaconda3/lib/python3.9/site-packages/sklearn/preprocessing/_label.py:134: DataConversionWarning:\n",
      "\n",
      "A column-vector y was passed when a 1d array was expected. Please change the shape of y to (n_samples, ), for example using ravel().\n",
      "\n",
      "/Users/mariafar/opt/anaconda3/lib/python3.9/site-packages/sklearn/preprocessing/_label.py:134: DataConversionWarning:\n",
      "\n",
      "A column-vector y was passed when a 1d array was expected. Please change the shape of y to (n_samples, ), for example using ravel().\n",
      "\n",
      "\u001b[32m[I 2023-04-28 22:22:03,191]\u001b[0m Trial 78 finished with value: 0.7968349016253209 and parameters: {'lambda': 0.03928792136263409, 'alpha': 1.8416793982812822, 'colsample_bytree': 1.0, 'subsample': 1.0, 'learning_rate': 0.012, 'n_estimators': 2141, 'max_depth': 17, 'random_state': 123, 'min_child_weight': 78}. Best is trial 75 with value: 0.8074401835463781.\u001b[0m\n",
      "/Users/mariafar/opt/anaconda3/lib/python3.9/site-packages/xgboost/sklearn.py:1224: UserWarning:\n",
      "\n",
      "The use of label encoder in XGBClassifier is deprecated and will be removed in a future release. To remove this warning, do the following: 1) Pass option use_label_encoder=False when constructing XGBClassifier object; and 2) Encode your labels (y) as integers starting with 0, i.e. 0, 1, 2, ..., [num_class - 1].\n",
      "\n",
      "/Users/mariafar/opt/anaconda3/lib/python3.9/site-packages/sklearn/preprocessing/_label.py:99: DataConversionWarning:\n",
      "\n",
      "A column-vector y was passed when a 1d array was expected. Please change the shape of y to (n_samples, ), for example using ravel().\n",
      "\n",
      "/Users/mariafar/opt/anaconda3/lib/python3.9/site-packages/sklearn/preprocessing/_label.py:134: DataConversionWarning:\n",
      "\n",
      "A column-vector y was passed when a 1d array was expected. Please change the shape of y to (n_samples, ), for example using ravel().\n",
      "\n",
      "/Users/mariafar/opt/anaconda3/lib/python3.9/site-packages/sklearn/preprocessing/_label.py:134: DataConversionWarning:\n",
      "\n",
      "A column-vector y was passed when a 1d array was expected. Please change the shape of y to (n_samples, ), for example using ravel().\n",
      "\n",
      "\u001b[32m[I 2023-04-28 22:22:32,590]\u001b[0m Trial 79 finished with value: 0.8073370455289879 and parameters: {'lambda': 0.12474530289319134, 'alpha': 0.18458822726154792, 'colsample_bytree': 1.0, 'subsample': 1.0, 'learning_rate': 0.012, 'n_estimators': 2676, 'max_depth': 11, 'random_state': 123, 'min_child_weight': 30}. Best is trial 75 with value: 0.8074401835463781.\u001b[0m\n",
      "/Users/mariafar/opt/anaconda3/lib/python3.9/site-packages/xgboost/sklearn.py:1224: UserWarning:\n",
      "\n",
      "The use of label encoder in XGBClassifier is deprecated and will be removed in a future release. To remove this warning, do the following: 1) Pass option use_label_encoder=False when constructing XGBClassifier object; and 2) Encode your labels (y) as integers starting with 0, i.e. 0, 1, 2, ..., [num_class - 1].\n",
      "\n",
      "/Users/mariafar/opt/anaconda3/lib/python3.9/site-packages/sklearn/preprocessing/_label.py:99: DataConversionWarning:\n",
      "\n",
      "A column-vector y was passed when a 1d array was expected. Please change the shape of y to (n_samples, ), for example using ravel().\n",
      "\n",
      "/Users/mariafar/opt/anaconda3/lib/python3.9/site-packages/sklearn/preprocessing/_label.py:134: DataConversionWarning:\n",
      "\n",
      "A column-vector y was passed when a 1d array was expected. Please change the shape of y to (n_samples, ), for example using ravel().\n",
      "\n",
      "/Users/mariafar/opt/anaconda3/lib/python3.9/site-packages/sklearn/preprocessing/_label.py:134: DataConversionWarning:\n",
      "\n",
      "A column-vector y was passed when a 1d array was expected. Please change the shape of y to (n_samples, ), for example using ravel().\n",
      "\n",
      "\u001b[32m[I 2023-04-28 22:23:03,392]\u001b[0m Trial 80 finished with value: 0.8061585885748017 and parameters: {'lambda': 0.29457515092441316, 'alpha': 0.20646933899365125, 'colsample_bytree': 1.0, 'subsample': 1.0, 'learning_rate': 0.012, 'n_estimators': 1572, 'max_depth': 11, 'random_state': 123, 'min_child_weight': 39}. Best is trial 75 with value: 0.8074401835463781.\u001b[0m\n",
      "/Users/mariafar/opt/anaconda3/lib/python3.9/site-packages/xgboost/sklearn.py:1224: UserWarning:\n",
      "\n",
      "The use of label encoder in XGBClassifier is deprecated and will be removed in a future release. To remove this warning, do the following: 1) Pass option use_label_encoder=False when constructing XGBClassifier object; and 2) Encode your labels (y) as integers starting with 0, i.e. 0, 1, 2, ..., [num_class - 1].\n",
      "\n",
      "/Users/mariafar/opt/anaconda3/lib/python3.9/site-packages/sklearn/preprocessing/_label.py:99: DataConversionWarning:\n",
      "\n",
      "A column-vector y was passed when a 1d array was expected. Please change the shape of y to (n_samples, ), for example using ravel().\n",
      "\n",
      "/Users/mariafar/opt/anaconda3/lib/python3.9/site-packages/sklearn/preprocessing/_label.py:134: DataConversionWarning:\n",
      "\n",
      "A column-vector y was passed when a 1d array was expected. Please change the shape of y to (n_samples, ), for example using ravel().\n",
      "\n",
      "/Users/mariafar/opt/anaconda3/lib/python3.9/site-packages/sklearn/preprocessing/_label.py:134: DataConversionWarning:\n",
      "\n",
      "A column-vector y was passed when a 1d array was expected. Please change the shape of y to (n_samples, ), for example using ravel().\n",
      "\n",
      "\u001b[32m[I 2023-04-28 22:23:57,730]\u001b[0m Trial 81 finished with value: 0.8048796484554338 and parameters: {'lambda': 0.3365983822191828, 'alpha': 0.18778697689416246, 'colsample_bytree': 1.0, 'subsample': 1.0, 'learning_rate': 0.012, 'n_estimators': 1491, 'max_depth': 11, 'random_state': 123, 'min_child_weight': 38}. Best is trial 75 with value: 0.8074401835463781.\u001b[0m\n",
      "/Users/mariafar/opt/anaconda3/lib/python3.9/site-packages/xgboost/sklearn.py:1224: UserWarning:\n",
      "\n",
      "The use of label encoder in XGBClassifier is deprecated and will be removed in a future release. To remove this warning, do the following: 1) Pass option use_label_encoder=False when constructing XGBClassifier object; and 2) Encode your labels (y) as integers starting with 0, i.e. 0, 1, 2, ..., [num_class - 1].\n",
      "\n",
      "/Users/mariafar/opt/anaconda3/lib/python3.9/site-packages/sklearn/preprocessing/_label.py:99: DataConversionWarning:\n",
      "\n",
      "A column-vector y was passed when a 1d array was expected. Please change the shape of y to (n_samples, ), for example using ravel().\n",
      "\n",
      "/Users/mariafar/opt/anaconda3/lib/python3.9/site-packages/sklearn/preprocessing/_label.py:134: DataConversionWarning:\n",
      "\n",
      "A column-vector y was passed when a 1d array was expected. Please change the shape of y to (n_samples, ), for example using ravel().\n",
      "\n",
      "/Users/mariafar/opt/anaconda3/lib/python3.9/site-packages/sklearn/preprocessing/_label.py:134: DataConversionWarning:\n",
      "\n",
      "A column-vector y was passed when a 1d array was expected. Please change the shape of y to (n_samples, ), for example using ravel().\n",
      "\n",
      "\u001b[32m[I 2023-04-28 22:25:00,499]\u001b[0m Trial 82 finished with value: 0.8032749228850824 and parameters: {'lambda': 0.5402117536758083, 'alpha': 0.19982172534610654, 'colsample_bytree': 1.0, 'subsample': 1.0, 'learning_rate': 0.012, 'n_estimators': 2597, 'max_depth': 11, 'random_state': 123, 'min_child_weight': 60}. Best is trial 75 with value: 0.8074401835463781.\u001b[0m\n",
      "/Users/mariafar/opt/anaconda3/lib/python3.9/site-packages/xgboost/sklearn.py:1224: UserWarning:\n",
      "\n",
      "The use of label encoder in XGBClassifier is deprecated and will be removed in a future release. To remove this warning, do the following: 1) Pass option use_label_encoder=False when constructing XGBClassifier object; and 2) Encode your labels (y) as integers starting with 0, i.e. 0, 1, 2, ..., [num_class - 1].\n",
      "\n",
      "/Users/mariafar/opt/anaconda3/lib/python3.9/site-packages/sklearn/preprocessing/_label.py:99: DataConversionWarning:\n",
      "\n",
      "A column-vector y was passed when a 1d array was expected. Please change the shape of y to (n_samples, ), for example using ravel().\n",
      "\n",
      "/Users/mariafar/opt/anaconda3/lib/python3.9/site-packages/sklearn/preprocessing/_label.py:134: DataConversionWarning:\n",
      "\n",
      "A column-vector y was passed when a 1d array was expected. Please change the shape of y to (n_samples, ), for example using ravel().\n",
      "\n",
      "/Users/mariafar/opt/anaconda3/lib/python3.9/site-packages/sklearn/preprocessing/_label.py:134: DataConversionWarning:\n",
      "\n",
      "A column-vector y was passed when a 1d array was expected. Please change the shape of y to (n_samples, ), for example using ravel().\n",
      "\n",
      "\u001b[32m[I 2023-04-28 22:25:50,075]\u001b[0m Trial 83 finished with value: 0.8051965094153926 and parameters: {'lambda': 0.24767802752770152, 'alpha': 0.13290724967510864, 'colsample_bytree': 1.0, 'subsample': 1.0, 'learning_rate': 0.012, 'n_estimators': 1857, 'max_depth': 11, 'random_state': 123, 'min_child_weight': 48}. Best is trial 75 with value: 0.8074401835463781.\u001b[0m\n",
      "/Users/mariafar/opt/anaconda3/lib/python3.9/site-packages/xgboost/sklearn.py:1224: UserWarning:\n",
      "\n",
      "The use of label encoder in XGBClassifier is deprecated and will be removed in a future release. To remove this warning, do the following: 1) Pass option use_label_encoder=False when constructing XGBClassifier object; and 2) Encode your labels (y) as integers starting with 0, i.e. 0, 1, 2, ..., [num_class - 1].\n",
      "\n",
      "/Users/mariafar/opt/anaconda3/lib/python3.9/site-packages/sklearn/preprocessing/_label.py:99: DataConversionWarning:\n",
      "\n",
      "A column-vector y was passed when a 1d array was expected. Please change the shape of y to (n_samples, ), for example using ravel().\n",
      "\n",
      "/Users/mariafar/opt/anaconda3/lib/python3.9/site-packages/sklearn/preprocessing/_label.py:134: DataConversionWarning:\n",
      "\n",
      "A column-vector y was passed when a 1d array was expected. Please change the shape of y to (n_samples, ), for example using ravel().\n",
      "\n",
      "/Users/mariafar/opt/anaconda3/lib/python3.9/site-packages/sklearn/preprocessing/_label.py:134: DataConversionWarning:\n",
      "\n",
      "A column-vector y was passed when a 1d array was expected. Please change the shape of y to (n_samples, ), for example using ravel().\n",
      "\n",
      "\u001b[32m[I 2023-04-28 22:26:58,402]\u001b[0m Trial 84 finished with value: 0.805626598465473 and parameters: {'lambda': 0.23284079121808643, 'alpha': 0.5030336621153813, 'colsample_bytree': 1.0, 'subsample': 1.0, 'learning_rate': 0.012, 'n_estimators': 1806, 'max_depth': 11, 'random_state': 123, 'min_child_weight': 45}. Best is trial 75 with value: 0.8074401835463781.\u001b[0m\n",
      "/Users/mariafar/opt/anaconda3/lib/python3.9/site-packages/xgboost/sklearn.py:1224: UserWarning:\n",
      "\n",
      "The use of label encoder in XGBClassifier is deprecated and will be removed in a future release. To remove this warning, do the following: 1) Pass option use_label_encoder=False when constructing XGBClassifier object; and 2) Encode your labels (y) as integers starting with 0, i.e. 0, 1, 2, ..., [num_class - 1].\n",
      "\n",
      "/Users/mariafar/opt/anaconda3/lib/python3.9/site-packages/sklearn/preprocessing/_label.py:99: DataConversionWarning:\n",
      "\n",
      "A column-vector y was passed when a 1d array was expected. Please change the shape of y to (n_samples, ), for example using ravel().\n",
      "\n",
      "/Users/mariafar/opt/anaconda3/lib/python3.9/site-packages/sklearn/preprocessing/_label.py:134: DataConversionWarning:\n",
      "\n",
      "A column-vector y was passed when a 1d array was expected. Please change the shape of y to (n_samples, ), for example using ravel().\n",
      "\n",
      "/Users/mariafar/opt/anaconda3/lib/python3.9/site-packages/sklearn/preprocessing/_label.py:134: DataConversionWarning:\n",
      "\n",
      "A column-vector y was passed when a 1d array was expected. Please change the shape of y to (n_samples, ), for example using ravel().\n",
      "\n",
      "\u001b[32m[I 2023-04-28 22:27:55,236]\u001b[0m Trial 85 finished with value: 0.8071199108372125 and parameters: {'lambda': 0.13097590138444504, 'alpha': 0.46460254068392487, 'colsample_bytree': 1.0, 'subsample': 1.0, 'learning_rate': 0.012, 'n_estimators': 2788, 'max_depth': 11, 'random_state': 123, 'min_child_weight': 31}. Best is trial 75 with value: 0.8074401835463781.\u001b[0m\n",
      "/Users/mariafar/opt/anaconda3/lib/python3.9/site-packages/xgboost/sklearn.py:1224: UserWarning:\n",
      "\n",
      "The use of label encoder in XGBClassifier is deprecated and will be removed in a future release. To remove this warning, do the following: 1) Pass option use_label_encoder=False when constructing XGBClassifier object; and 2) Encode your labels (y) as integers starting with 0, i.e. 0, 1, 2, ..., [num_class - 1].\n",
      "\n",
      "/Users/mariafar/opt/anaconda3/lib/python3.9/site-packages/sklearn/preprocessing/_label.py:99: DataConversionWarning:\n",
      "\n",
      "A column-vector y was passed when a 1d array was expected. Please change the shape of y to (n_samples, ), for example using ravel().\n",
      "\n",
      "/Users/mariafar/opt/anaconda3/lib/python3.9/site-packages/sklearn/preprocessing/_label.py:134: DataConversionWarning:\n",
      "\n",
      "A column-vector y was passed when a 1d array was expected. Please change the shape of y to (n_samples, ), for example using ravel().\n",
      "\n",
      "/Users/mariafar/opt/anaconda3/lib/python3.9/site-packages/sklearn/preprocessing/_label.py:134: DataConversionWarning:\n",
      "\n",
      "A column-vector y was passed when a 1d array was expected. Please change the shape of y to (n_samples, ), for example using ravel().\n",
      "\n",
      "\u001b[32m[I 2023-04-28 22:28:27,593]\u001b[0m Trial 86 finished with value: 0.8072285208729274 and parameters: {'lambda': 0.13845698461444886, 'alpha': 0.44063873935461545, 'colsample_bytree': 1.0, 'subsample': 1.0, 'learning_rate': 0.012, 'n_estimators': 565, 'max_depth': 11, 'random_state': 123, 'min_child_weight': 30}. Best is trial 75 with value: 0.8074401835463781.\u001b[0m\n",
      "/Users/mariafar/opt/anaconda3/lib/python3.9/site-packages/xgboost/sklearn.py:1224: UserWarning:\n",
      "\n",
      "The use of label encoder in XGBClassifier is deprecated and will be removed in a future release. To remove this warning, do the following: 1) Pass option use_label_encoder=False when constructing XGBClassifier object; and 2) Encode your labels (y) as integers starting with 0, i.e. 0, 1, 2, ..., [num_class - 1].\n",
      "\n",
      "/Users/mariafar/opt/anaconda3/lib/python3.9/site-packages/sklearn/preprocessing/_label.py:99: DataConversionWarning:\n",
      "\n",
      "A column-vector y was passed when a 1d array was expected. Please change the shape of y to (n_samples, ), for example using ravel().\n",
      "\n",
      "/Users/mariafar/opt/anaconda3/lib/python3.9/site-packages/sklearn/preprocessing/_label.py:134: DataConversionWarning:\n",
      "\n",
      "A column-vector y was passed when a 1d array was expected. Please change the shape of y to (n_samples, ), for example using ravel().\n",
      "\n",
      "/Users/mariafar/opt/anaconda3/lib/python3.9/site-packages/sklearn/preprocessing/_label.py:134: DataConversionWarning:\n",
      "\n",
      "A column-vector y was passed when a 1d array was expected. Please change the shape of y to (n_samples, ), for example using ravel().\n",
      "\n",
      "\u001b[32m[I 2023-04-28 22:28:32,053]\u001b[0m Trial 87 finished with value: 0.7795513373597929 and parameters: {'lambda': 0.17677677604712486, 'alpha': 0.45574112126844385, 'colsample_bytree': 1.0, 'subsample': 1.0, 'learning_rate': 0.012, 'n_estimators': 86, 'max_depth': 11, 'random_state': 123, 'min_child_weight': 71}. Best is trial 75 with value: 0.8074401835463781.\u001b[0m\n",
      "/Users/mariafar/opt/anaconda3/lib/python3.9/site-packages/xgboost/sklearn.py:1224: UserWarning:\n",
      "\n",
      "The use of label encoder in XGBClassifier is deprecated and will be removed in a future release. To remove this warning, do the following: 1) Pass option use_label_encoder=False when constructing XGBClassifier object; and 2) Encode your labels (y) as integers starting with 0, i.e. 0, 1, 2, ..., [num_class - 1].\n",
      "\n",
      "/Users/mariafar/opt/anaconda3/lib/python3.9/site-packages/sklearn/preprocessing/_label.py:99: DataConversionWarning:\n",
      "\n",
      "A column-vector y was passed when a 1d array was expected. Please change the shape of y to (n_samples, ), for example using ravel().\n",
      "\n",
      "/Users/mariafar/opt/anaconda3/lib/python3.9/site-packages/sklearn/preprocessing/_label.py:134: DataConversionWarning:\n",
      "\n",
      "A column-vector y was passed when a 1d array was expected. Please change the shape of y to (n_samples, ), for example using ravel().\n",
      "\n",
      "/Users/mariafar/opt/anaconda3/lib/python3.9/site-packages/sklearn/preprocessing/_label.py:134: DataConversionWarning:\n",
      "\n",
      "A column-vector y was passed when a 1d array was expected. Please change the shape of y to (n_samples, ), for example using ravel().\n",
      "\n",
      "\u001b[32m[I 2023-04-28 22:30:55,557]\u001b[0m Trial 88 finished with value: 0.785766302548825 and parameters: {'lambda': 0.13427269865175798, 'alpha': 1.3730862333035698, 'colsample_bytree': 1.0, 'subsample': 1.0, 'learning_rate': 0.012, 'n_estimators': 2967, 'max_depth': 11, 'random_state': 123, 'min_child_weight': 185}. Best is trial 75 with value: 0.8074401835463781.\u001b[0m\n",
      "/Users/mariafar/opt/anaconda3/lib/python3.9/site-packages/xgboost/sklearn.py:1224: UserWarning:\n",
      "\n",
      "The use of label encoder in XGBClassifier is deprecated and will be removed in a future release. To remove this warning, do the following: 1) Pass option use_label_encoder=False when constructing XGBClassifier object; and 2) Encode your labels (y) as integers starting with 0, i.e. 0, 1, 2, ..., [num_class - 1].\n",
      "\n",
      "/Users/mariafar/opt/anaconda3/lib/python3.9/site-packages/sklearn/preprocessing/_label.py:99: DataConversionWarning:\n",
      "\n",
      "A column-vector y was passed when a 1d array was expected. Please change the shape of y to (n_samples, ), for example using ravel().\n",
      "\n",
      "/Users/mariafar/opt/anaconda3/lib/python3.9/site-packages/sklearn/preprocessing/_label.py:134: DataConversionWarning:\n",
      "\n",
      "A column-vector y was passed when a 1d array was expected. Please change the shape of y to (n_samples, ), for example using ravel().\n",
      "\n",
      "/Users/mariafar/opt/anaconda3/lib/python3.9/site-packages/sklearn/preprocessing/_label.py:134: DataConversionWarning:\n",
      "\n",
      "A column-vector y was passed when a 1d array was expected. Please change the shape of y to (n_samples, ), for example using ravel().\n",
      "\n",
      "\u001b[32m[I 2023-04-28 22:31:47,103]\u001b[0m Trial 89 finished with value: 0.8051965094153926 and parameters: {'lambda': 0.19455465763328136, 'alpha': 0.43684782949389994, 'colsample_bytree': 1.0, 'subsample': 1.0, 'learning_rate': 0.012, 'n_estimators': 1047, 'max_depth': 11, 'random_state': 123, 'min_child_weight': 40}. Best is trial 75 with value: 0.8074401835463781.\u001b[0m\n",
      "/Users/mariafar/opt/anaconda3/lib/python3.9/site-packages/xgboost/sklearn.py:1224: UserWarning:\n",
      "\n",
      "The use of label encoder in XGBClassifier is deprecated and will be removed in a future release. To remove this warning, do the following: 1) Pass option use_label_encoder=False when constructing XGBClassifier object; and 2) Encode your labels (y) as integers starting with 0, i.e. 0, 1, 2, ..., [num_class - 1].\n",
      "\n",
      "/Users/mariafar/opt/anaconda3/lib/python3.9/site-packages/sklearn/preprocessing/_label.py:99: DataConversionWarning:\n",
      "\n",
      "A column-vector y was passed when a 1d array was expected. Please change the shape of y to (n_samples, ), for example using ravel().\n",
      "\n",
      "/Users/mariafar/opt/anaconda3/lib/python3.9/site-packages/sklearn/preprocessing/_label.py:134: DataConversionWarning:\n",
      "\n",
      "A column-vector y was passed when a 1d array was expected. Please change the shape of y to (n_samples, ), for example using ravel().\n",
      "\n",
      "/Users/mariafar/opt/anaconda3/lib/python3.9/site-packages/sklearn/preprocessing/_label.py:134: DataConversionWarning:\n",
      "\n",
      "A column-vector y was passed when a 1d array was expected. Please change the shape of y to (n_samples, ), for example using ravel().\n",
      "\n",
      "\u001b[32m[I 2023-04-28 22:32:30,113]\u001b[0m Trial 90 finished with value: 0.7850699741327851 and parameters: {'lambda': 0.39369198838586866, 'alpha': 0.7306290122042233, 'colsample_bytree': 1.0, 'subsample': 1.0, 'learning_rate': 0.012, 'n_estimators': 1019, 'max_depth': 11, 'random_state': 123, 'min_child_weight': 135}. Best is trial 75 with value: 0.8074401835463781.\u001b[0m\n",
      "/Users/mariafar/opt/anaconda3/lib/python3.9/site-packages/xgboost/sklearn.py:1224: UserWarning:\n",
      "\n",
      "The use of label encoder in XGBClassifier is deprecated and will be removed in a future release. To remove this warning, do the following: 1) Pass option use_label_encoder=False when constructing XGBClassifier object; and 2) Encode your labels (y) as integers starting with 0, i.e. 0, 1, 2, ..., [num_class - 1].\n",
      "\n",
      "/Users/mariafar/opt/anaconda3/lib/python3.9/site-packages/sklearn/preprocessing/_label.py:99: DataConversionWarning:\n",
      "\n",
      "A column-vector y was passed when a 1d array was expected. Please change the shape of y to (n_samples, ), for example using ravel().\n",
      "\n",
      "/Users/mariafar/opt/anaconda3/lib/python3.9/site-packages/sklearn/preprocessing/_label.py:134: DataConversionWarning:\n",
      "\n",
      "A column-vector y was passed when a 1d array was expected. Please change the shape of y to (n_samples, ), for example using ravel().\n",
      "\n",
      "/Users/mariafar/opt/anaconda3/lib/python3.9/site-packages/sklearn/preprocessing/_label.py:134: DataConversionWarning:\n",
      "\n",
      "A column-vector y was passed when a 1d array was expected. Please change the shape of y to (n_samples, ), for example using ravel().\n",
      "\n",
      "\u001b[32m[I 2023-04-28 22:33:09,944]\u001b[0m Trial 91 finished with value: 0.8050830761147961 and parameters: {'lambda': 0.2343270838125721, 'alpha': 0.3979877139138283, 'colsample_bytree': 1.0, 'subsample': 1.0, 'learning_rate': 0.012, 'n_estimators': 3409, 'max_depth': 11, 'random_state': 123, 'min_child_weight': 16}. Best is trial 75 with value: 0.8074401835463781.\u001b[0m\n",
      "/Users/mariafar/opt/anaconda3/lib/python3.9/site-packages/xgboost/sklearn.py:1224: UserWarning:\n",
      "\n",
      "The use of label encoder in XGBClassifier is deprecated and will be removed in a future release. To remove this warning, do the following: 1) Pass option use_label_encoder=False when constructing XGBClassifier object; and 2) Encode your labels (y) as integers starting with 0, i.e. 0, 1, 2, ..., [num_class - 1].\n",
      "\n",
      "/Users/mariafar/opt/anaconda3/lib/python3.9/site-packages/sklearn/preprocessing/_label.py:99: DataConversionWarning:\n",
      "\n",
      "A column-vector y was passed when a 1d array was expected. Please change the shape of y to (n_samples, ), for example using ravel().\n",
      "\n",
      "/Users/mariafar/opt/anaconda3/lib/python3.9/site-packages/sklearn/preprocessing/_label.py:134: DataConversionWarning:\n",
      "\n",
      "A column-vector y was passed when a 1d array was expected. Please change the shape of y to (n_samples, ), for example using ravel().\n",
      "\n",
      "/Users/mariafar/opt/anaconda3/lib/python3.9/site-packages/sklearn/preprocessing/_label.py:134: DataConversionWarning:\n",
      "\n",
      "A column-vector y was passed when a 1d array was expected. Please change the shape of y to (n_samples, ), for example using ravel().\n",
      "\n",
      "\u001b[32m[I 2023-04-28 22:33:37,188]\u001b[0m Trial 92 finished with value: 0.8070140937397575 and parameters: {'lambda': 0.11558913895803888, 'alpha': 0.5340757262763443, 'colsample_bytree': 1.0, 'subsample': 1.0, 'learning_rate': 0.012, 'n_estimators': 509, 'max_depth': 11, 'random_state': 123, 'min_child_weight': 32}. Best is trial 75 with value: 0.8074401835463781.\u001b[0m\n",
      "/Users/mariafar/opt/anaconda3/lib/python3.9/site-packages/xgboost/sklearn.py:1224: UserWarning:\n",
      "\n",
      "The use of label encoder in XGBClassifier is deprecated and will be removed in a future release. To remove this warning, do the following: 1) Pass option use_label_encoder=False when constructing XGBClassifier object; and 2) Encode your labels (y) as integers starting with 0, i.e. 0, 1, 2, ..., [num_class - 1].\n",
      "\n",
      "/Users/mariafar/opt/anaconda3/lib/python3.9/site-packages/sklearn/preprocessing/_label.py:99: DataConversionWarning:\n",
      "\n",
      "A column-vector y was passed when a 1d array was expected. Please change the shape of y to (n_samples, ), for example using ravel().\n",
      "\n",
      "/Users/mariafar/opt/anaconda3/lib/python3.9/site-packages/sklearn/preprocessing/_label.py:134: DataConversionWarning:\n",
      "\n",
      "A column-vector y was passed when a 1d array was expected. Please change the shape of y to (n_samples, ), for example using ravel().\n",
      "\n",
      "/Users/mariafar/opt/anaconda3/lib/python3.9/site-packages/sklearn/preprocessing/_label.py:134: DataConversionWarning:\n",
      "\n",
      "A column-vector y was passed when a 1d array was expected. Please change the shape of y to (n_samples, ), for example using ravel().\n",
      "\n",
      "\u001b[32m[I 2023-04-28 22:34:07,620]\u001b[0m Trial 93 finished with value: 0.8074401835463781 and parameters: {'lambda': 0.12329986712298197, 'alpha': 0.5785864654521627, 'colsample_bytree': 1.0, 'subsample': 1.0, 'learning_rate': 0.012, 'n_estimators': 782, 'max_depth': 11, 'random_state': 123, 'min_child_weight': 31}. Best is trial 75 with value: 0.8074401835463781.\u001b[0m\n",
      "/Users/mariafar/opt/anaconda3/lib/python3.9/site-packages/xgboost/sklearn.py:1224: UserWarning:\n",
      "\n",
      "The use of label encoder in XGBClassifier is deprecated and will be removed in a future release. To remove this warning, do the following: 1) Pass option use_label_encoder=False when constructing XGBClassifier object; and 2) Encode your labels (y) as integers starting with 0, i.e. 0, 1, 2, ..., [num_class - 1].\n",
      "\n",
      "/Users/mariafar/opt/anaconda3/lib/python3.9/site-packages/sklearn/preprocessing/_label.py:99: DataConversionWarning:\n",
      "\n",
      "A column-vector y was passed when a 1d array was expected. Please change the shape of y to (n_samples, ), for example using ravel().\n",
      "\n",
      "/Users/mariafar/opt/anaconda3/lib/python3.9/site-packages/sklearn/preprocessing/_label.py:134: DataConversionWarning:\n",
      "\n",
      "A column-vector y was passed when a 1d array was expected. Please change the shape of y to (n_samples, ), for example using ravel().\n",
      "\n",
      "/Users/mariafar/opt/anaconda3/lib/python3.9/site-packages/sklearn/preprocessing/_label.py:134: DataConversionWarning:\n",
      "\n",
      "A column-vector y was passed when a 1d array was expected. Please change the shape of y to (n_samples, ), for example using ravel().\n",
      "\n",
      "\u001b[32m[I 2023-04-28 22:34:43,583]\u001b[0m Trial 94 finished with value: 0.8053021851827548 and parameters: {'lambda': 0.10878900853678201, 'alpha': 0.5583468897079912, 'colsample_bytree': 1.0, 'subsample': 1.0, 'learning_rate': 0.012, 'n_estimators': 756, 'max_depth': 11, 'random_state': 123, 'min_child_weight': 51}. Best is trial 75 with value: 0.8074401835463781.\u001b[0m\n",
      "/Users/mariafar/opt/anaconda3/lib/python3.9/site-packages/xgboost/sklearn.py:1224: UserWarning:\n",
      "\n",
      "The use of label encoder in XGBClassifier is deprecated and will be removed in a future release. To remove this warning, do the following: 1) Pass option use_label_encoder=False when constructing XGBClassifier object; and 2) Encode your labels (y) as integers starting with 0, i.e. 0, 1, 2, ..., [num_class - 1].\n",
      "\n",
      "/Users/mariafar/opt/anaconda3/lib/python3.9/site-packages/sklearn/preprocessing/_label.py:99: DataConversionWarning:\n",
      "\n",
      "A column-vector y was passed when a 1d array was expected. Please change the shape of y to (n_samples, ), for example using ravel().\n",
      "\n",
      "/Users/mariafar/opt/anaconda3/lib/python3.9/site-packages/sklearn/preprocessing/_label.py:134: DataConversionWarning:\n",
      "\n",
      "A column-vector y was passed when a 1d array was expected. Please change the shape of y to (n_samples, ), for example using ravel().\n",
      "\n",
      "/Users/mariafar/opt/anaconda3/lib/python3.9/site-packages/sklearn/preprocessing/_label.py:134: DataConversionWarning:\n",
      "\n",
      "A column-vector y was passed when a 1d array was expected. Please change the shape of y to (n_samples, ), for example using ravel().\n",
      "\n",
      "\u001b[32m[I 2023-04-28 22:35:08,681]\u001b[0m Trial 95 finished with value: 0.8059471510064914 and parameters: {'lambda': 0.13424346578956187, 'alpha': 0.8385165795579759, 'colsample_bytree': 1.0, 'subsample': 1.0, 'learning_rate': 0.012, 'n_estimators': 515, 'max_depth': 11, 'random_state': 123, 'min_child_weight': 30}. Best is trial 75 with value: 0.8074401835463781.\u001b[0m\n",
      "/Users/mariafar/opt/anaconda3/lib/python3.9/site-packages/xgboost/sklearn.py:1224: UserWarning:\n",
      "\n",
      "The use of label encoder in XGBClassifier is deprecated and will be removed in a future release. To remove this warning, do the following: 1) Pass option use_label_encoder=False when constructing XGBClassifier object; and 2) Encode your labels (y) as integers starting with 0, i.e. 0, 1, 2, ..., [num_class - 1].\n",
      "\n",
      "/Users/mariafar/opt/anaconda3/lib/python3.9/site-packages/sklearn/preprocessing/_label.py:99: DataConversionWarning:\n",
      "\n",
      "A column-vector y was passed when a 1d array was expected. Please change the shape of y to (n_samples, ), for example using ravel().\n",
      "\n",
      "/Users/mariafar/opt/anaconda3/lib/python3.9/site-packages/sklearn/preprocessing/_label.py:134: DataConversionWarning:\n",
      "\n",
      "A column-vector y was passed when a 1d array was expected. Please change the shape of y to (n_samples, ), for example using ravel().\n",
      "\n",
      "/Users/mariafar/opt/anaconda3/lib/python3.9/site-packages/sklearn/preprocessing/_label.py:134: DataConversionWarning:\n",
      "\n",
      "A column-vector y was passed when a 1d array was expected. Please change the shape of y to (n_samples, ), for example using ravel().\n",
      "\n",
      "\u001b[32m[I 2023-04-28 22:35:34,811]\u001b[0m Trial 96 finished with value: 0.8074428356155409 and parameters: {'lambda': 0.11942334620907365, 'alpha': 1.0363650907766482, 'colsample_bytree': 1.0, 'subsample': 1.0, 'learning_rate': 0.012, 'n_estimators': 493, 'max_depth': 11, 'random_state': 123, 'min_child_weight': 32}. Best is trial 96 with value: 0.8074428356155409.\u001b[0m\n",
      "/Users/mariafar/opt/anaconda3/lib/python3.9/site-packages/xgboost/sklearn.py:1224: UserWarning:\n",
      "\n",
      "The use of label encoder in XGBClassifier is deprecated and will be removed in a future release. To remove this warning, do the following: 1) Pass option use_label_encoder=False when constructing XGBClassifier object; and 2) Encode your labels (y) as integers starting with 0, i.e. 0, 1, 2, ..., [num_class - 1].\n",
      "\n",
      "/Users/mariafar/opt/anaconda3/lib/python3.9/site-packages/sklearn/preprocessing/_label.py:99: DataConversionWarning:\n",
      "\n",
      "A column-vector y was passed when a 1d array was expected. Please change the shape of y to (n_samples, ), for example using ravel().\n",
      "\n",
      "/Users/mariafar/opt/anaconda3/lib/python3.9/site-packages/sklearn/preprocessing/_label.py:134: DataConversionWarning:\n",
      "\n",
      "A column-vector y was passed when a 1d array was expected. Please change the shape of y to (n_samples, ), for example using ravel().\n",
      "\n",
      "/Users/mariafar/opt/anaconda3/lib/python3.9/site-packages/sklearn/preprocessing/_label.py:134: DataConversionWarning:\n",
      "\n",
      "A column-vector y was passed when a 1d array was expected. Please change the shape of y to (n_samples, ), for example using ravel().\n",
      "\n",
      "\u001b[32m[I 2023-04-28 22:36:01,350]\u001b[0m Trial 97 finished with value: 0.8071199108372125 and parameters: {'lambda': 0.15050550617227515, 'alpha': 1.0194973203875217, 'colsample_bytree': 1.0, 'subsample': 1.0, 'learning_rate': 0.012, 'n_estimators': 566, 'max_depth': 11, 'random_state': 123, 'min_child_weight': 32}. Best is trial 96 with value: 0.8074428356155409.\u001b[0m\n",
      "/Users/mariafar/opt/anaconda3/lib/python3.9/site-packages/xgboost/sklearn.py:1224: UserWarning:\n",
      "\n",
      "The use of label encoder in XGBClassifier is deprecated and will be removed in a future release. To remove this warning, do the following: 1) Pass option use_label_encoder=False when constructing XGBClassifier object; and 2) Encode your labels (y) as integers starting with 0, i.e. 0, 1, 2, ..., [num_class - 1].\n",
      "\n",
      "/Users/mariafar/opt/anaconda3/lib/python3.9/site-packages/sklearn/preprocessing/_label.py:99: DataConversionWarning:\n",
      "\n",
      "A column-vector y was passed when a 1d array was expected. Please change the shape of y to (n_samples, ), for example using ravel().\n",
      "\n",
      "/Users/mariafar/opt/anaconda3/lib/python3.9/site-packages/sklearn/preprocessing/_label.py:134: DataConversionWarning:\n",
      "\n",
      "A column-vector y was passed when a 1d array was expected. Please change the shape of y to (n_samples, ), for example using ravel().\n",
      "\n",
      "/Users/mariafar/opt/anaconda3/lib/python3.9/site-packages/sklearn/preprocessing/_label.py:134: DataConversionWarning:\n",
      "\n",
      "A column-vector y was passed when a 1d array was expected. Please change the shape of y to (n_samples, ), for example using ravel().\n",
      "\n",
      "\u001b[32m[I 2023-04-28 22:36:27,125]\u001b[0m Trial 98 finished with value: 0.8072202166064981 and parameters: {'lambda': 0.09255980644416655, 'alpha': 1.2365698440921895, 'colsample_bytree': 1.0, 'subsample': 1.0, 'learning_rate': 0.012, 'n_estimators': 593, 'max_depth': 11, 'random_state': 123, 'min_child_weight': 35}. Best is trial 96 with value: 0.8074428356155409.\u001b[0m\n",
      "/Users/mariafar/opt/anaconda3/lib/python3.9/site-packages/xgboost/sklearn.py:1224: UserWarning:\n",
      "\n",
      "The use of label encoder in XGBClassifier is deprecated and will be removed in a future release. To remove this warning, do the following: 1) Pass option use_label_encoder=False when constructing XGBClassifier object; and 2) Encode your labels (y) as integers starting with 0, i.e. 0, 1, 2, ..., [num_class - 1].\n",
      "\n",
      "/Users/mariafar/opt/anaconda3/lib/python3.9/site-packages/sklearn/preprocessing/_label.py:99: DataConversionWarning:\n",
      "\n",
      "A column-vector y was passed when a 1d array was expected. Please change the shape of y to (n_samples, ), for example using ravel().\n",
      "\n",
      "/Users/mariafar/opt/anaconda3/lib/python3.9/site-packages/sklearn/preprocessing/_label.py:134: DataConversionWarning:\n",
      "\n",
      "A column-vector y was passed when a 1d array was expected. Please change the shape of y to (n_samples, ), for example using ravel().\n",
      "\n",
      "/Users/mariafar/opt/anaconda3/lib/python3.9/site-packages/sklearn/preprocessing/_label.py:134: DataConversionWarning:\n",
      "\n",
      "A column-vector y was passed when a 1d array was expected. Please change the shape of y to (n_samples, ), for example using ravel().\n",
      "\n",
      "\u001b[32m[I 2023-04-28 22:36:34,876]\u001b[0m Trial 99 finished with value: 0.8024111425004928 and parameters: {'lambda': 0.09381148801375258, 'alpha': 1.1362742548468514, 'colsample_bytree': 1.0, 'subsample': 1.0, 'learning_rate': 0.012, 'n_estimators': 143, 'max_depth': 11, 'random_state': 123, 'min_child_weight': 35}. Best is trial 96 with value: 0.8074428356155409.\u001b[0m\n"
     ]
    },
    {
     "name": "stdout",
     "output_type": "stream",
     "text": [
      "CPU times: user 10h 27min 58s, sys: 34min 39s, total: 11h 2min 38s\n",
      "Wall time: 2h 18min 10s\n"
     ]
    }
   ],
   "source": [
    "%%time\n",
    "study = optuna.create_study(direction='maximize', study_name=\"xgb_tuning\")\n",
    "study.optimize(objective, n_trials=100)"
   ]
  },
  {
   "cell_type": "code",
   "execution_count": 260,
   "id": "2c98fbf5-f15b-428d-81e1-4d7c3be76f7e",
   "metadata": {
    "tags": []
   },
   "outputs": [
    {
     "name": "stdout",
     "output_type": "stream",
     "text": [
      "Number of finished trials: 100\n",
      "Best trial: {'lambda': 0.11942334620907365, 'alpha': 1.0363650907766482, 'colsample_bytree': 1.0, 'subsample': 1.0, 'learning_rate': 0.012, 'n_estimators': 493, 'max_depth': 11, 'random_state': 123, 'min_child_weight': 32}\n"
     ]
    }
   ],
   "source": [
    "print('Number of finished trials:', len(study.trials))\n",
    "print('Best trial:', study.best_trial.params)"
   ]
  },
  {
   "cell_type": "markdown",
   "id": "b9c7c48c-92bd-4c8d-8067-cbcc9b494311",
   "metadata": {},
   "source": [
    "roc auc:  {'lambda': 1.7421477167896806, 'alpha': 0.00489780565711341, 'colsample_bytree': 1.0, 'subsample': 1.0, 'learning_rate': 0.018, 'n_estimators': 4873, 'max_depth': 5, 'random_state': 123, 'min_child_weight': 1}"
   ]
  },
  {
   "cell_type": "code",
   "execution_count": 83,
   "id": "e56c4789-12f5-49a6-9a16-22e3b68205fc",
   "metadata": {},
   "outputs": [],
   "source": [
    "# import plotly.graph_objects as go\n",
    "\n",
    "# features = X_train.columns\n",
    "# importances = ctb_model.feature_importances_\n",
    "# indices = np.argsort(importances)\n",
    "\n",
    "\n",
    "# fig = go.Figure(go.Bar(\n",
    "#             x=importances[indices],\n",
    "#             y=[features[i] for i in indices],\n",
    "#             orientation='h',\n",
    "\n",
    "#             ))\n",
    "\n",
    "# fig.update_layout(\n",
    "#     autosize=False,\n",
    "#     width=900,\n",
    "#     height=900,\n",
    "#     title='Feature Importances',\n",
    "#     xaxis_title='Relative Importance'\n",
    "#     )\n",
    "\n",
    "# fig.show()"
   ]
  },
  {
   "cell_type": "markdown",
   "id": "d855fc7e-b4f1-4537-81c3-7c0f6807215d",
   "metadata": {},
   "source": [
    "## Оценим метрики модели "
   ]
  },
  {
   "cell_type": "code",
   "execution_count": 131,
   "id": "c65a094a-0b44-4fc5-a719-c10791596e43",
   "metadata": {},
   "outputs": [],
   "source": [
    "y_pred = automl_rd.predict(test_feat.drop(['target'], axis=1))"
   ]
  },
  {
   "cell_type": "code",
   "execution_count": 132,
   "id": "d2fe8e4d-6232-4b8f-bd23-8b219b3573dd",
   "metadata": {},
   "outputs": [],
   "source": [
    "y_test = test_feat['target']"
   ]
  },
  {
   "cell_type": "code",
   "execution_count": 133,
   "id": "97804ba2-2978-47ea-9520-fbf5c2237ae7",
   "metadata": {},
   "outputs": [
    {
     "data": {
      "text/plain": [
       "'ROC AUC score = 0.83'"
      ]
     },
     "execution_count": 133,
     "metadata": {},
     "output_type": "execute_result"
    }
   ],
   "source": [
    "from sklearn.metrics import roc_auc_score\n",
    "\n",
    "f\"ROC AUC score = {roc_auc_score(y_test, y_pred.data[:, 0]):.2f}\""
   ]
  },
  {
   "cell_type": "markdown",
   "id": "f4a18e9a-652e-4115-93da-5875d116230b",
   "metadata": {},
   "source": [
    "# Метрики качества на глобальном test\n",
    "\n",
    "- Формируем рекомендации отдельно моделью 1 этапа - LightFM\n",
    "- Отдельно двухэтапной моделью LightFM + Catboost \n",
    "- Сравниваем\n"
   ]
  },
  {
   "cell_type": "code",
   "execution_count": 44,
   "id": "239e6b64-e9a9-47fe-bcf1-bcb4f892d16e",
   "metadata": {},
   "outputs": [],
   "source": [
    "# # for test \n",
    "# pred_feats = lfm\\\n",
    "#                 .merge(\n",
    "#                         ncf,\n",
    "#                         on=['user_id', 'item_id'],\n",
    "#                         how='outer')"
   ]
  },
  {
   "cell_type": "code",
   "execution_count": 134,
   "id": "d0d5b64a-cc1a-4c0a-91b0-bccd18275251",
   "metadata": {},
   "outputs": [],
   "source": [
    "pred_feats = lfm\\\n",
    "                .merge(\n",
    "                        popular,\n",
    "                        on=['user_id', 'item_id'],\n",
    "                        how='outer')\\\n",
    "                .merge(\n",
    "                        ncf,\n",
    "                        on=['user_id', 'item_id'],\n",
    "                        how='outer')"
   ]
  },
  {
   "cell_type": "code",
   "execution_count": 135,
   "id": "bac513c6-9fb1-4f2c-95e9-45f7f7676159",
   "metadata": {},
   "outputs": [],
   "source": [
    "# фичи для теста\n",
    "score_feat = pred_feats.merge(\n",
    "                            stat_user_features,\n",
    "                            on=['user_id'],\n",
    "                            how='left')\\\n",
    "                        .merge(\n",
    "                            stat_item_features,\n",
    "                            on=['item_id'],\n",
    "                            how='left')\\\n",
    "                        .merge(\n",
    "                            train[['user_id', 'item_id', 'i_qty', 'last_month', 'last_week_day']],\n",
    "                            on=['user_id', 'item_id'],\n",
    "                            how='left')"
   ]
  },
  {
   "cell_type": "code",
   "execution_count": 136,
   "id": "b9a74f52-c26c-4739-b41c-15997f4adb31",
   "metadata": {},
   "outputs": [],
   "source": [
    "score_feat = score_feat.drop(['user_id', 'item_id'], axis=1)"
   ]
  },
  {
   "cell_type": "code",
   "execution_count": 137,
   "id": "ce7f56bd-8c10-4f4d-aa53-1109f083841d",
   "metadata": {
    "tags": []
   },
   "outputs": [],
   "source": [
    "# catboost predict_proba\n",
    "ctb_prediction = automl_rd.predict(score_feat)"
   ]
  },
  {
   "cell_type": "code",
   "execution_count": 138,
   "id": "9c3b4a49-1d1b-4f81-9357-8e34118152df",
   "metadata": {},
   "outputs": [],
   "source": [
    "pred_feats['ctb_pred'] = ctb_prediction.data[:, 0]"
   ]
  },
  {
   "cell_type": "code",
   "execution_count": 139,
   "id": "14c5425b-2d75-4f68-805c-041de262d9c7",
   "metadata": {
    "tags": []
   },
   "outputs": [],
   "source": [
    "# сортируем по скору внутри одного пользователя и проставляем новый ранг\n",
    "pred_feats = pred_feats.sort_values(\n",
    "    by=['user_id', 'ctb_pred'], ascending=[True, False])\n",
    "pred_feats['rank_ctb'] = pred_feats.groupby('user_id').cumcount() + 1"
   ]
  },
  {
   "cell_type": "code",
   "execution_count": 140,
   "id": "d0cdf6d9-03a0-41f7-817c-c2a3e8603c17",
   "metadata": {},
   "outputs": [
    {
     "data": {
      "text/plain": [
       "Precision@1     0.411178\n",
       "Recall@1        0.195518\n",
       "Precision@2     0.319940\n",
       "Recall@2        0.265428\n",
       "Precision@3     0.268278\n",
       "Recall@3        0.306668\n",
       "Precision@4     0.230363\n",
       "Recall@4        0.333391\n",
       "Precision@5     0.206828\n",
       "Recall@5        0.358252\n",
       "Precision@6     0.187210\n",
       "Recall@6        0.377827\n",
       "Precision@7     0.170868\n",
       "Recall@7        0.394308\n",
       "Precision@8     0.157931\n",
       "Recall@8        0.408009\n",
       "Precision@9     0.146861\n",
       "Recall@9        0.421121\n",
       "Precision@10    0.137160\n",
       "Recall@10       0.431827\n",
       "MAP@10          0.343491\n",
       "MRR             0.512371\n",
       "dtype: float64"
      ]
     },
     "execution_count": 140,
     "metadata": {},
     "output_type": "execute_result"
    }
   ],
   "source": [
    "model_2step_metrics_ctb = compute_metrics(test[['user_id', 'item_id']],\n",
    "                                       pred_feats, \n",
    "                                       top_N=10, \n",
    "                                       rank_col='rank_ctb')\n",
    "model_2step_metrics_ctb"
   ]
  },
  {
   "cell_type": "code",
   "execution_count": 177,
   "id": "4a7a36cf-3f3a-4e7b-a113-cf12a19248fd",
   "metadata": {},
   "outputs": [
    {
     "data": {
      "text/plain": [
       "'/Users/mariafar/python_project/recsys_project/rec_models_valid'"
      ]
     },
     "execution_count": 177,
     "metadata": {},
     "output_type": "execute_result"
    }
   ],
   "source": [
    "python_project/recsys_project/rec_models_valid/final_res_com_metrics/metrics_final.csv"
   ]
  },
  {
   "cell_type": "code",
   "execution_count": 182,
   "id": "f8906cc8-bbb1-41e5-b4c1-331b749516f8",
   "metadata": {},
   "outputs": [
    {
     "data": {
      "text/html": [
       "<div>\n",
       "<style scoped>\n",
       "    .dataframe tbody tr th:only-of-type {\n",
       "        vertical-align: middle;\n",
       "    }\n",
       "\n",
       "    .dataframe tbody tr th {\n",
       "        vertical-align: top;\n",
       "    }\n",
       "\n",
       "    .dataframe thead th {\n",
       "        text-align: right;\n",
       "    }\n",
       "</style>\n",
       "<table border=\"1\" class=\"dataframe\">\n",
       "  <thead>\n",
       "    <tr style=\"text-align: right;\">\n",
       "      <th></th>\n",
       "      <th>Precision@1</th>\n",
       "      <th>Recall@1</th>\n",
       "      <th>Precision@2</th>\n",
       "      <th>Recall@2</th>\n",
       "      <th>Precision@3</th>\n",
       "      <th>Recall@3</th>\n",
       "      <th>Precision@4</th>\n",
       "      <th>Recall@4</th>\n",
       "      <th>Precision@5</th>\n",
       "      <th>Recall@5</th>\n",
       "      <th>...</th>\n",
       "      <th>Precision@7</th>\n",
       "      <th>Recall@7</th>\n",
       "      <th>Precision@8</th>\n",
       "      <th>Recall@8</th>\n",
       "      <th>Precision@9</th>\n",
       "      <th>Recall@9</th>\n",
       "      <th>Precision@10</th>\n",
       "      <th>Recall@10</th>\n",
       "      <th>MAP@10</th>\n",
       "      <th>MRR</th>\n",
       "    </tr>\n",
       "  </thead>\n",
       "  <tbody>\n",
       "    <tr>\n",
       "      <th>model_2step_popular</th>\n",
       "      <td>0.044424</td>\n",
       "      <td>0.008448</td>\n",
       "      <td>0.036114</td>\n",
       "      <td>0.014010</td>\n",
       "      <td>0.033444</td>\n",
       "      <td>0.018620</td>\n",
       "      <td>0.028785</td>\n",
       "      <td>0.020489</td>\n",
       "      <td>0.024539</td>\n",
       "      <td>0.021279</td>\n",
       "      <td>...</td>\n",
       "      <td>0.018780</td>\n",
       "      <td>0.022010</td>\n",
       "      <td>0.016735</td>\n",
       "      <td>0.022233</td>\n",
       "      <td>0.015110</td>\n",
       "      <td>0.022400</td>\n",
       "      <td>0.013750</td>\n",
       "      <td>0.022520</td>\n",
       "      <td>0.016432</td>\n",
       "      <td>0.059832</td>\n",
       "    </tr>\n",
       "    <tr>\n",
       "      <th>ncf</th>\n",
       "      <td>0.102146</td>\n",
       "      <td>0.032773</td>\n",
       "      <td>0.087186</td>\n",
       "      <td>0.054152</td>\n",
       "      <td>0.077365</td>\n",
       "      <td>0.068703</td>\n",
       "      <td>0.071396</td>\n",
       "      <td>0.083197</td>\n",
       "      <td>0.066908</td>\n",
       "      <td>0.096435</td>\n",
       "      <td>...</td>\n",
       "      <td>0.058498</td>\n",
       "      <td>0.116078</td>\n",
       "      <td>0.054813</td>\n",
       "      <td>0.123273</td>\n",
       "      <td>0.052685</td>\n",
       "      <td>0.131665</td>\n",
       "      <td>0.050771</td>\n",
       "      <td>0.140563</td>\n",
       "      <td>0.086287</td>\n",
       "      <td>0.186026</td>\n",
       "    </tr>\n",
       "    <tr>\n",
       "      <th>lightfm</th>\n",
       "      <td>0.227259</td>\n",
       "      <td>0.095387</td>\n",
       "      <td>0.214869</td>\n",
       "      <td>0.174228</td>\n",
       "      <td>0.193210</td>\n",
       "      <td>0.238418</td>\n",
       "      <td>0.169387</td>\n",
       "      <td>0.268047</td>\n",
       "      <td>0.149471</td>\n",
       "      <td>0.286878</td>\n",
       "      <td>...</td>\n",
       "      <td>0.119717</td>\n",
       "      <td>0.309900</td>\n",
       "      <td>0.108870</td>\n",
       "      <td>0.318054</td>\n",
       "      <td>0.099527</td>\n",
       "      <td>0.324715</td>\n",
       "      <td>0.092747</td>\n",
       "      <td>0.334127</td>\n",
       "      <td>0.214799</td>\n",
       "      <td>0.366571</td>\n",
       "    </tr>\n",
       "  </tbody>\n",
       "</table>\n",
       "<p>3 rows × 22 columns</p>\n",
       "</div>"
      ],
      "text/plain": [
       "                     Precision@1  Recall@1  Precision@2  Recall@2  \\\n",
       "model_2step_popular     0.044424  0.008448     0.036114  0.014010   \n",
       "ncf                     0.102146  0.032773     0.087186  0.054152   \n",
       "lightfm                 0.227259  0.095387     0.214869  0.174228   \n",
       "\n",
       "                     Precision@3  Recall@3  Precision@4  Recall@4  \\\n",
       "model_2step_popular     0.033444  0.018620     0.028785  0.020489   \n",
       "ncf                     0.077365  0.068703     0.071396  0.083197   \n",
       "lightfm                 0.193210  0.238418     0.169387  0.268047   \n",
       "\n",
       "                     Precision@5  Recall@5  ...  Precision@7  Recall@7  \\\n",
       "model_2step_popular     0.024539  0.021279  ...     0.018780  0.022010   \n",
       "ncf                     0.066908  0.096435  ...     0.058498  0.116078   \n",
       "lightfm                 0.149471  0.286878  ...     0.119717  0.309900   \n",
       "\n",
       "                     Precision@8  Recall@8  Precision@9  Recall@9  \\\n",
       "model_2step_popular     0.016735  0.022233     0.015110  0.022400   \n",
       "ncf                     0.054813  0.123273     0.052685  0.131665   \n",
       "lightfm                 0.108870  0.318054     0.099527  0.324715   \n",
       "\n",
       "                     Precision@10  Recall@10    MAP@10       MRR  \n",
       "model_2step_popular      0.013750   0.022520  0.016432  0.059832  \n",
       "ncf                      0.050771   0.140563  0.086287  0.186026  \n",
       "lightfm                  0.092747   0.334127  0.214799  0.366571  \n",
       "\n",
       "[3 rows x 22 columns]"
      ]
     },
     "execution_count": 182,
     "metadata": {},
     "output_type": "execute_result"
    }
   ],
   "source": [
    "pd.read_csv('final_res_com_metrics/metrics_final.csv', index_col=0)"
   ]
  },
  {
   "cell_type": "code",
   "execution_count": 185,
   "id": "996ba31f-8e88-4193-9ee8-82c1a0cd3c15",
   "metadata": {},
   "outputs": [
    {
     "data": {
      "text/html": [
       "<div>\n",
       "<style scoped>\n",
       "    .dataframe tbody tr th:only-of-type {\n",
       "        vertical-align: middle;\n",
       "    }\n",
       "\n",
       "    .dataframe tbody tr th {\n",
       "        vertical-align: top;\n",
       "    }\n",
       "\n",
       "    .dataframe thead th {\n",
       "        text-align: right;\n",
       "    }\n",
       "</style>\n",
       "<table border=\"1\" class=\"dataframe\">\n",
       "  <thead>\n",
       "    <tr style=\"text-align: right;\">\n",
       "      <th></th>\n",
       "      <th>Precision@1</th>\n",
       "      <th>Recall@1</th>\n",
       "      <th>Precision@2</th>\n",
       "      <th>Recall@2</th>\n",
       "      <th>Precision@3</th>\n",
       "      <th>Recall@3</th>\n",
       "      <th>Precision@4</th>\n",
       "      <th>Recall@4</th>\n",
       "      <th>Precision@5</th>\n",
       "      <th>Recall@5</th>\n",
       "      <th>...</th>\n",
       "      <th>Precision@7</th>\n",
       "      <th>Recall@7</th>\n",
       "      <th>Precision@8</th>\n",
       "      <th>Recall@8</th>\n",
       "      <th>Precision@9</th>\n",
       "      <th>Recall@9</th>\n",
       "      <th>Precision@10</th>\n",
       "      <th>Recall@10</th>\n",
       "      <th>MAP@10</th>\n",
       "      <th>MRR</th>\n",
       "    </tr>\n",
       "  </thead>\n",
       "  <tbody>\n",
       "    <tr>\n",
       "      <th>model_2step_lama</th>\n",
       "      <td>0.411178</td>\n",
       "      <td>0.195518</td>\n",
       "      <td>0.319940</td>\n",
       "      <td>0.265428</td>\n",
       "      <td>0.268278</td>\n",
       "      <td>0.306668</td>\n",
       "      <td>0.230363</td>\n",
       "      <td>0.333391</td>\n",
       "      <td>0.206828</td>\n",
       "      <td>0.358252</td>\n",
       "      <td>...</td>\n",
       "      <td>0.170868</td>\n",
       "      <td>0.394308</td>\n",
       "      <td>0.157931</td>\n",
       "      <td>0.408009</td>\n",
       "      <td>0.146861</td>\n",
       "      <td>0.421121</td>\n",
       "      <td>0.137160</td>\n",
       "      <td>0.431827</td>\n",
       "      <td>0.343491</td>\n",
       "      <td>0.512371</td>\n",
       "    </tr>\n",
       "    <tr>\n",
       "      <th>model_2step_popular</th>\n",
       "      <td>0.044424</td>\n",
       "      <td>0.008448</td>\n",
       "      <td>0.036114</td>\n",
       "      <td>0.014010</td>\n",
       "      <td>0.033444</td>\n",
       "      <td>0.018620</td>\n",
       "      <td>0.028785</td>\n",
       "      <td>0.020489</td>\n",
       "      <td>0.024539</td>\n",
       "      <td>0.021279</td>\n",
       "      <td>...</td>\n",
       "      <td>0.018780</td>\n",
       "      <td>0.022010</td>\n",
       "      <td>0.016735</td>\n",
       "      <td>0.022233</td>\n",
       "      <td>0.015110</td>\n",
       "      <td>0.022400</td>\n",
       "      <td>0.013750</td>\n",
       "      <td>0.022520</td>\n",
       "      <td>0.016432</td>\n",
       "      <td>0.059832</td>\n",
       "    </tr>\n",
       "    <tr>\n",
       "      <th>model_2step_ncf</th>\n",
       "      <td>0.102146</td>\n",
       "      <td>0.032773</td>\n",
       "      <td>0.087186</td>\n",
       "      <td>0.054152</td>\n",
       "      <td>0.077365</td>\n",
       "      <td>0.068703</td>\n",
       "      <td>0.071396</td>\n",
       "      <td>0.083197</td>\n",
       "      <td>0.066908</td>\n",
       "      <td>0.096435</td>\n",
       "      <td>...</td>\n",
       "      <td>0.058498</td>\n",
       "      <td>0.116078</td>\n",
       "      <td>0.054813</td>\n",
       "      <td>0.123273</td>\n",
       "      <td>0.052685</td>\n",
       "      <td>0.131665</td>\n",
       "      <td>0.050771</td>\n",
       "      <td>0.140563</td>\n",
       "      <td>0.086287</td>\n",
       "      <td>0.186026</td>\n",
       "    </tr>\n",
       "    <tr>\n",
       "      <th>model_2step_lightfm</th>\n",
       "      <td>0.227259</td>\n",
       "      <td>0.095387</td>\n",
       "      <td>0.214869</td>\n",
       "      <td>0.174228</td>\n",
       "      <td>0.193210</td>\n",
       "      <td>0.238418</td>\n",
       "      <td>0.169387</td>\n",
       "      <td>0.268047</td>\n",
       "      <td>0.149471</td>\n",
       "      <td>0.286878</td>\n",
       "      <td>...</td>\n",
       "      <td>0.119717</td>\n",
       "      <td>0.309900</td>\n",
       "      <td>0.108870</td>\n",
       "      <td>0.318054</td>\n",
       "      <td>0.099527</td>\n",
       "      <td>0.324715</td>\n",
       "      <td>0.092747</td>\n",
       "      <td>0.334127</td>\n",
       "      <td>0.214799</td>\n",
       "      <td>0.366571</td>\n",
       "    </tr>\n",
       "  </tbody>\n",
       "</table>\n",
       "<p>4 rows × 22 columns</p>\n",
       "</div>"
      ],
      "text/plain": [
       "                     Precision@1  Recall@1  Precision@2  Recall@2  \\\n",
       "model_2step_lama        0.411178  0.195518     0.319940  0.265428   \n",
       "model_2step_popular     0.044424  0.008448     0.036114  0.014010   \n",
       "model_2step_ncf         0.102146  0.032773     0.087186  0.054152   \n",
       "model_2step_lightfm     0.227259  0.095387     0.214869  0.174228   \n",
       "\n",
       "                     Precision@3  Recall@3  Precision@4  Recall@4  \\\n",
       "model_2step_lama        0.268278  0.306668     0.230363  0.333391   \n",
       "model_2step_popular     0.033444  0.018620     0.028785  0.020489   \n",
       "model_2step_ncf         0.077365  0.068703     0.071396  0.083197   \n",
       "model_2step_lightfm     0.193210  0.238418     0.169387  0.268047   \n",
       "\n",
       "                     Precision@5  Recall@5  ...  Precision@7  Recall@7  \\\n",
       "model_2step_lama        0.206828  0.358252  ...     0.170868  0.394308   \n",
       "model_2step_popular     0.024539  0.021279  ...     0.018780  0.022010   \n",
       "model_2step_ncf         0.066908  0.096435  ...     0.058498  0.116078   \n",
       "model_2step_lightfm     0.149471  0.286878  ...     0.119717  0.309900   \n",
       "\n",
       "                     Precision@8  Recall@8  Precision@9  Recall@9  \\\n",
       "model_2step_lama        0.157931  0.408009     0.146861  0.421121   \n",
       "model_2step_popular     0.016735  0.022233     0.015110  0.022400   \n",
       "model_2step_ncf         0.054813  0.123273     0.052685  0.131665   \n",
       "model_2step_lightfm     0.108870  0.318054     0.099527  0.324715   \n",
       "\n",
       "                     Precision@10  Recall@10    MAP@10       MRR  \n",
       "model_2step_lama         0.137160   0.431827  0.343491  0.512371  \n",
       "model_2step_popular      0.013750   0.022520  0.016432  0.059832  \n",
       "model_2step_ncf          0.050771   0.140563  0.086287  0.186026  \n",
       "model_2step_lightfm      0.092747   0.334127  0.214799  0.366571  \n",
       "\n",
       "[4 rows x 22 columns]"
      ]
     },
     "execution_count": 185,
     "metadata": {},
     "output_type": "execute_result"
    }
   ],
   "source": [
    "df_metrics = pd.concat([\n",
    "    pd.DataFrame(model_2step_metrics_ctb).transpose(),\n",
    "    pd.read_csv('final_res_com_metrics/metrics_final.csv', index_col=0)\n",
    "])\n",
    "\n",
    "df_metrics.index = ['model_2step_lama', 'model_2step_popular', 'model_2step_ncf', 'model_2step_lightfm']\n",
    "\n",
    "df_metrics"
   ]
  },
  {
   "cell_type": "code",
   "execution_count": 167,
   "id": "fee982ab-a4f2-4021-83f0-b88a6de69776",
   "metadata": {},
   "outputs": [],
   "source": [
    "import matplotlib.pyplot as plt"
   ]
  },
  {
   "cell_type": "code",
   "execution_count": 188,
   "id": "ab363747-cbe3-46ed-98ee-caed60916e1d",
   "metadata": {},
   "outputs": [
    {
     "data": {
      "application/vnd.plotly.v1+json": {
       "config": {
        "plotlyServerURL": "https://plot.ly"
       },
       "data": [
        {
         "name": "model_2step_lama",
         "type": "scatter",
         "x": [
          1,
          2,
          3,
          4,
          5,
          6,
          7,
          8,
          9,
          10
         ],
         "y": [
          0.19551828063605695,
          0.2654280111488486,
          0.30666756742184226,
          0.33339088494369773,
          0.35825224915039483,
          0.37782709592671226,
          0.39430791285828515,
          0.40800922244733695,
          0.4211211528049024,
          0.43182685673203935
         ]
        },
        {
         "name": "model_2step_popular",
         "type": "scatter",
         "x": [
          1,
          2,
          3,
          4,
          5,
          6,
          7,
          8,
          9,
          10
         ],
         "y": [
          0.008448,
          0.01401,
          0.01862,
          0.020489,
          0.021279,
          0.02173646,
          0.02201,
          0.022233,
          0.0224,
          0.02252
         ]
        },
        {
         "name": "model_2step_ncf",
         "type": "scatter",
         "x": [
          1,
          2,
          3,
          4,
          5,
          6,
          7,
          8,
          9,
          10
         ],
         "y": [
          0.032773,
          0.054152,
          0.068703,
          0.083197,
          0.096435,
          0.108254,
          0.116078,
          0.123273,
          0.131665,
          0.140563
         ]
        },
        {
         "name": "model_2step_lightfm",
         "type": "scatter",
         "x": [
          1,
          2,
          3,
          4,
          5,
          6,
          7,
          8,
          9,
          10
         ],
         "y": [
          0.095387,
          0.174228,
          0.238418,
          0.268047,
          0.286878,
          0.300414,
          0.3099,
          0.318054,
          0.324715,
          0.334127
         ]
        }
       ],
       "layout": {
        "height": 600,
        "legend": {
         "x": 0.01,
         "xanchor": "left",
         "y": 0.99,
         "yanchor": "top"
        },
        "template": {
         "data": {
          "bar": [
           {
            "error_x": {
             "color": "#2a3f5f"
            },
            "error_y": {
             "color": "#2a3f5f"
            },
            "marker": {
             "line": {
              "color": "#E5ECF6",
              "width": 0.5
             },
             "pattern": {
              "fillmode": "overlay",
              "size": 10,
              "solidity": 0.2
             }
            },
            "type": "bar"
           }
          ],
          "barpolar": [
           {
            "marker": {
             "line": {
              "color": "#E5ECF6",
              "width": 0.5
             },
             "pattern": {
              "fillmode": "overlay",
              "size": 10,
              "solidity": 0.2
             }
            },
            "type": "barpolar"
           }
          ],
          "carpet": [
           {
            "aaxis": {
             "endlinecolor": "#2a3f5f",
             "gridcolor": "white",
             "linecolor": "white",
             "minorgridcolor": "white",
             "startlinecolor": "#2a3f5f"
            },
            "baxis": {
             "endlinecolor": "#2a3f5f",
             "gridcolor": "white",
             "linecolor": "white",
             "minorgridcolor": "white",
             "startlinecolor": "#2a3f5f"
            },
            "type": "carpet"
           }
          ],
          "choropleth": [
           {
            "colorbar": {
             "outlinewidth": 0,
             "ticks": ""
            },
            "type": "choropleth"
           }
          ],
          "contour": [
           {
            "colorbar": {
             "outlinewidth": 0,
             "ticks": ""
            },
            "colorscale": [
             [
              0,
              "#0d0887"
             ],
             [
              0.1111111111111111,
              "#46039f"
             ],
             [
              0.2222222222222222,
              "#7201a8"
             ],
             [
              0.3333333333333333,
              "#9c179e"
             ],
             [
              0.4444444444444444,
              "#bd3786"
             ],
             [
              0.5555555555555556,
              "#d8576b"
             ],
             [
              0.6666666666666666,
              "#ed7953"
             ],
             [
              0.7777777777777778,
              "#fb9f3a"
             ],
             [
              0.8888888888888888,
              "#fdca26"
             ],
             [
              1,
              "#f0f921"
             ]
            ],
            "type": "contour"
           }
          ],
          "contourcarpet": [
           {
            "colorbar": {
             "outlinewidth": 0,
             "ticks": ""
            },
            "type": "contourcarpet"
           }
          ],
          "heatmap": [
           {
            "colorbar": {
             "outlinewidth": 0,
             "ticks": ""
            },
            "colorscale": [
             [
              0,
              "#0d0887"
             ],
             [
              0.1111111111111111,
              "#46039f"
             ],
             [
              0.2222222222222222,
              "#7201a8"
             ],
             [
              0.3333333333333333,
              "#9c179e"
             ],
             [
              0.4444444444444444,
              "#bd3786"
             ],
             [
              0.5555555555555556,
              "#d8576b"
             ],
             [
              0.6666666666666666,
              "#ed7953"
             ],
             [
              0.7777777777777778,
              "#fb9f3a"
             ],
             [
              0.8888888888888888,
              "#fdca26"
             ],
             [
              1,
              "#f0f921"
             ]
            ],
            "type": "heatmap"
           }
          ],
          "heatmapgl": [
           {
            "colorbar": {
             "outlinewidth": 0,
             "ticks": ""
            },
            "colorscale": [
             [
              0,
              "#0d0887"
             ],
             [
              0.1111111111111111,
              "#46039f"
             ],
             [
              0.2222222222222222,
              "#7201a8"
             ],
             [
              0.3333333333333333,
              "#9c179e"
             ],
             [
              0.4444444444444444,
              "#bd3786"
             ],
             [
              0.5555555555555556,
              "#d8576b"
             ],
             [
              0.6666666666666666,
              "#ed7953"
             ],
             [
              0.7777777777777778,
              "#fb9f3a"
             ],
             [
              0.8888888888888888,
              "#fdca26"
             ],
             [
              1,
              "#f0f921"
             ]
            ],
            "type": "heatmapgl"
           }
          ],
          "histogram": [
           {
            "marker": {
             "pattern": {
              "fillmode": "overlay",
              "size": 10,
              "solidity": 0.2
             }
            },
            "type": "histogram"
           }
          ],
          "histogram2d": [
           {
            "colorbar": {
             "outlinewidth": 0,
             "ticks": ""
            },
            "colorscale": [
             [
              0,
              "#0d0887"
             ],
             [
              0.1111111111111111,
              "#46039f"
             ],
             [
              0.2222222222222222,
              "#7201a8"
             ],
             [
              0.3333333333333333,
              "#9c179e"
             ],
             [
              0.4444444444444444,
              "#bd3786"
             ],
             [
              0.5555555555555556,
              "#d8576b"
             ],
             [
              0.6666666666666666,
              "#ed7953"
             ],
             [
              0.7777777777777778,
              "#fb9f3a"
             ],
             [
              0.8888888888888888,
              "#fdca26"
             ],
             [
              1,
              "#f0f921"
             ]
            ],
            "type": "histogram2d"
           }
          ],
          "histogram2dcontour": [
           {
            "colorbar": {
             "outlinewidth": 0,
             "ticks": ""
            },
            "colorscale": [
             [
              0,
              "#0d0887"
             ],
             [
              0.1111111111111111,
              "#46039f"
             ],
             [
              0.2222222222222222,
              "#7201a8"
             ],
             [
              0.3333333333333333,
              "#9c179e"
             ],
             [
              0.4444444444444444,
              "#bd3786"
             ],
             [
              0.5555555555555556,
              "#d8576b"
             ],
             [
              0.6666666666666666,
              "#ed7953"
             ],
             [
              0.7777777777777778,
              "#fb9f3a"
             ],
             [
              0.8888888888888888,
              "#fdca26"
             ],
             [
              1,
              "#f0f921"
             ]
            ],
            "type": "histogram2dcontour"
           }
          ],
          "mesh3d": [
           {
            "colorbar": {
             "outlinewidth": 0,
             "ticks": ""
            },
            "type": "mesh3d"
           }
          ],
          "parcoords": [
           {
            "line": {
             "colorbar": {
              "outlinewidth": 0,
              "ticks": ""
             }
            },
            "type": "parcoords"
           }
          ],
          "pie": [
           {
            "automargin": true,
            "type": "pie"
           }
          ],
          "scatter": [
           {
            "fillpattern": {
             "fillmode": "overlay",
             "size": 10,
             "solidity": 0.2
            },
            "type": "scatter"
           }
          ],
          "scatter3d": [
           {
            "line": {
             "colorbar": {
              "outlinewidth": 0,
              "ticks": ""
             }
            },
            "marker": {
             "colorbar": {
              "outlinewidth": 0,
              "ticks": ""
             }
            },
            "type": "scatter3d"
           }
          ],
          "scattercarpet": [
           {
            "marker": {
             "colorbar": {
              "outlinewidth": 0,
              "ticks": ""
             }
            },
            "type": "scattercarpet"
           }
          ],
          "scattergeo": [
           {
            "marker": {
             "colorbar": {
              "outlinewidth": 0,
              "ticks": ""
             }
            },
            "type": "scattergeo"
           }
          ],
          "scattergl": [
           {
            "marker": {
             "colorbar": {
              "outlinewidth": 0,
              "ticks": ""
             }
            },
            "type": "scattergl"
           }
          ],
          "scattermapbox": [
           {
            "marker": {
             "colorbar": {
              "outlinewidth": 0,
              "ticks": ""
             }
            },
            "type": "scattermapbox"
           }
          ],
          "scatterpolar": [
           {
            "marker": {
             "colorbar": {
              "outlinewidth": 0,
              "ticks": ""
             }
            },
            "type": "scatterpolar"
           }
          ],
          "scatterpolargl": [
           {
            "marker": {
             "colorbar": {
              "outlinewidth": 0,
              "ticks": ""
             }
            },
            "type": "scatterpolargl"
           }
          ],
          "scatterternary": [
           {
            "marker": {
             "colorbar": {
              "outlinewidth": 0,
              "ticks": ""
             }
            },
            "type": "scatterternary"
           }
          ],
          "surface": [
           {
            "colorbar": {
             "outlinewidth": 0,
             "ticks": ""
            },
            "colorscale": [
             [
              0,
              "#0d0887"
             ],
             [
              0.1111111111111111,
              "#46039f"
             ],
             [
              0.2222222222222222,
              "#7201a8"
             ],
             [
              0.3333333333333333,
              "#9c179e"
             ],
             [
              0.4444444444444444,
              "#bd3786"
             ],
             [
              0.5555555555555556,
              "#d8576b"
             ],
             [
              0.6666666666666666,
              "#ed7953"
             ],
             [
              0.7777777777777778,
              "#fb9f3a"
             ],
             [
              0.8888888888888888,
              "#fdca26"
             ],
             [
              1,
              "#f0f921"
             ]
            ],
            "type": "surface"
           }
          ],
          "table": [
           {
            "cells": {
             "fill": {
              "color": "#EBF0F8"
             },
             "line": {
              "color": "white"
             }
            },
            "header": {
             "fill": {
              "color": "#C8D4E3"
             },
             "line": {
              "color": "white"
             }
            },
            "type": "table"
           }
          ]
         },
         "layout": {
          "annotationdefaults": {
           "arrowcolor": "#2a3f5f",
           "arrowhead": 0,
           "arrowwidth": 1
          },
          "autotypenumbers": "strict",
          "coloraxis": {
           "colorbar": {
            "outlinewidth": 0,
            "ticks": ""
           }
          },
          "colorscale": {
           "diverging": [
            [
             0,
             "#8e0152"
            ],
            [
             0.1,
             "#c51b7d"
            ],
            [
             0.2,
             "#de77ae"
            ],
            [
             0.3,
             "#f1b6da"
            ],
            [
             0.4,
             "#fde0ef"
            ],
            [
             0.5,
             "#f7f7f7"
            ],
            [
             0.6,
             "#e6f5d0"
            ],
            [
             0.7,
             "#b8e186"
            ],
            [
             0.8,
             "#7fbc41"
            ],
            [
             0.9,
             "#4d9221"
            ],
            [
             1,
             "#276419"
            ]
           ],
           "sequential": [
            [
             0,
             "#0d0887"
            ],
            [
             0.1111111111111111,
             "#46039f"
            ],
            [
             0.2222222222222222,
             "#7201a8"
            ],
            [
             0.3333333333333333,
             "#9c179e"
            ],
            [
             0.4444444444444444,
             "#bd3786"
            ],
            [
             0.5555555555555556,
             "#d8576b"
            ],
            [
             0.6666666666666666,
             "#ed7953"
            ],
            [
             0.7777777777777778,
             "#fb9f3a"
            ],
            [
             0.8888888888888888,
             "#fdca26"
            ],
            [
             1,
             "#f0f921"
            ]
           ],
           "sequentialminus": [
            [
             0,
             "#0d0887"
            ],
            [
             0.1111111111111111,
             "#46039f"
            ],
            [
             0.2222222222222222,
             "#7201a8"
            ],
            [
             0.3333333333333333,
             "#9c179e"
            ],
            [
             0.4444444444444444,
             "#bd3786"
            ],
            [
             0.5555555555555556,
             "#d8576b"
            ],
            [
             0.6666666666666666,
             "#ed7953"
            ],
            [
             0.7777777777777778,
             "#fb9f3a"
            ],
            [
             0.8888888888888888,
             "#fdca26"
            ],
            [
             1,
             "#f0f921"
            ]
           ]
          },
          "colorway": [
           "#636efa",
           "#EF553B",
           "#00cc96",
           "#ab63fa",
           "#FFA15A",
           "#19d3f3",
           "#FF6692",
           "#B6E880",
           "#FF97FF",
           "#FECB52"
          ],
          "font": {
           "color": "#2a3f5f"
          },
          "geo": {
           "bgcolor": "white",
           "lakecolor": "white",
           "landcolor": "#E5ECF6",
           "showlakes": true,
           "showland": true,
           "subunitcolor": "white"
          },
          "hoverlabel": {
           "align": "left"
          },
          "hovermode": "closest",
          "mapbox": {
           "style": "light"
          },
          "paper_bgcolor": "white",
          "plot_bgcolor": "#E5ECF6",
          "polar": {
           "angularaxis": {
            "gridcolor": "white",
            "linecolor": "white",
            "ticks": ""
           },
           "bgcolor": "#E5ECF6",
           "radialaxis": {
            "gridcolor": "white",
            "linecolor": "white",
            "ticks": ""
           }
          },
          "scene": {
           "xaxis": {
            "backgroundcolor": "#E5ECF6",
            "gridcolor": "white",
            "gridwidth": 2,
            "linecolor": "white",
            "showbackground": true,
            "ticks": "",
            "zerolinecolor": "white"
           },
           "yaxis": {
            "backgroundcolor": "#E5ECF6",
            "gridcolor": "white",
            "gridwidth": 2,
            "linecolor": "white",
            "showbackground": true,
            "ticks": "",
            "zerolinecolor": "white"
           },
           "zaxis": {
            "backgroundcolor": "#E5ECF6",
            "gridcolor": "white",
            "gridwidth": 2,
            "linecolor": "white",
            "showbackground": true,
            "ticks": "",
            "zerolinecolor": "white"
           }
          },
          "shapedefaults": {
           "line": {
            "color": "#2a3f5f"
           }
          },
          "ternary": {
           "aaxis": {
            "gridcolor": "white",
            "linecolor": "white",
            "ticks": ""
           },
           "baxis": {
            "gridcolor": "white",
            "linecolor": "white",
            "ticks": ""
           },
           "bgcolor": "#E5ECF6",
           "caxis": {
            "gridcolor": "white",
            "linecolor": "white",
            "ticks": ""
           }
          },
          "title": {
           "x": 0.05
          },
          "xaxis": {
           "automargin": true,
           "gridcolor": "white",
           "linecolor": "white",
           "ticks": "",
           "title": {
            "standoff": 15
           },
           "zerolinecolor": "white",
           "zerolinewidth": 2
          },
          "yaxis": {
           "automargin": true,
           "gridcolor": "white",
           "linecolor": "white",
           "ticks": "",
           "title": {
            "standoff": 15
           },
           "zerolinecolor": "white",
           "zerolinewidth": 2
          }
         }
        },
        "title": {
         "font": {
          "size": 17
         },
         "text": "Recall@k",
         "x": 0.5,
         "y": 0.87
        },
        "width": 700,
        "xaxis": {
         "autorange": true,
         "range": [
          0.42163009404388707,
          10.578369905956112
         ],
         "title": {
          "text": "k"
         },
         "type": "linear"
        },
        "yaxis": {
         "autorange": true,
         "range": [
          -0.019834393263476312,
          0.46010924999551567
         ],
         "type": "linear"
        }
       }
      },
      "image/png": "[encoded data removed]",
      "text/html": [
       "<div>                            <div id=\"1e18bfb9-4bb5-4050-a0da-d6355c18907e\" class=\"plotly-graph-div\" style=\"height:600px; width:700px;\"></div>            <script type=\"text/javascript\">                require([\"plotly\"], function(Plotly) {                    window.PLOTLYENV=window.PLOTLYENV || {};                                    if (document.getElementById(\"1e18bfb9-4bb5-4050-a0da-d6355c18907e\")) {                    Plotly.newPlot(                        \"1e18bfb9-4bb5-4050-a0da-d6355c18907e\",                        [{\"name\":\"model_2step_lama\",\"x\":[1,2,3,4,5,6,7,8,9,10],\"y\":[0.19551828063605695,0.2654280111488486,0.30666756742184226,0.33339088494369773,0.35825224915039483,0.37782709592671226,0.39430791285828515,0.40800922244733695,0.4211211528049024,0.43182685673203935],\"type\":\"scatter\"},{\"name\":\"model_2step_popular\",\"x\":[1,2,3,4,5,6,7,8,9,10],\"y\":[0.008448,0.01401,0.01862,0.020489,0.021279,0.02173646,0.02201,0.022233,0.0224,0.02252],\"type\":\"scatter\"},{\"name\":\"model_2step_ncf\",\"x\":[1,2,3,4,5,6,7,8,9,10],\"y\":[0.032773,0.054152,0.068703,0.083197,0.096435,0.108254,0.116078,0.123273,0.131665,0.140563],\"type\":\"scatter\"},{\"name\":\"model_2step_lightfm\",\"x\":[1,2,3,4,5,6,7,8,9,10],\"y\":[0.095387,0.174228,0.238418,0.268047,0.286878,0.300414,0.3099,0.318054,0.324715,0.334127],\"type\":\"scatter\"}],                        {\"template\":{\"data\":{\"histogram2dcontour\":[{\"type\":\"histogram2dcontour\",\"colorbar\":{\"outlinewidth\":0,\"ticks\":\"\"},\"colorscale\":[[0.0,\"#0d0887\"],[0.1111111111111111,\"#46039f\"],[0.2222222222222222,\"#7201a8\"],[0.3333333333333333,\"#9c179e\"],[0.4444444444444444,\"#bd3786\"],[0.5555555555555556,\"#d8576b\"],[0.6666666666666666,\"#ed7953\"],[0.7777777777777778,\"#fb9f3a\"],[0.8888888888888888,\"#fdca26\"],[1.0,\"#f0f921\"]]}],\"choropleth\":[{\"type\":\"choropleth\",\"colorbar\":{\"outlinewidth\":0,\"ticks\":\"\"}}],\"histogram2d\":[{\"type\":\"histogram2d\",\"colorbar\":{\"outlinewidth\":0,\"ticks\":\"\"},\"colorscale\":[[0.0,\"#0d0887\"],[0.1111111111111111,\"#46039f\"],[0.2222222222222222,\"#7201a8\"],[0.3333333333333333,\"#9c179e\"],[0.4444444444444444,\"#bd3786\"],[0.5555555555555556,\"#d8576b\"],[0.6666666666666666,\"#ed7953\"],[0.7777777777777778,\"#fb9f3a\"],[0.8888888888888888,\"#fdca26\"],[1.0,\"#f0f921\"]]}],\"heatmap\":[{\"type\":\"heatmap\",\"colorbar\":{\"outlinewidth\":0,\"ticks\":\"\"},\"colorscale\":[[0.0,\"#0d0887\"],[0.1111111111111111,\"#46039f\"],[0.2222222222222222,\"#7201a8\"],[0.3333333333333333,\"#9c179e\"],[0.4444444444444444,\"#bd3786\"],[0.5555555555555556,\"#d8576b\"],[0.6666666666666666,\"#ed7953\"],[0.7777777777777778,\"#fb9f3a\"],[0.8888888888888888,\"#fdca26\"],[1.0,\"#f0f921\"]]}],\"heatmapgl\":[{\"type\":\"heatmapgl\",\"colorbar\":{\"outlinewidth\":0,\"ticks\":\"\"},\"colorscale\":[[0.0,\"#0d0887\"],[0.1111111111111111,\"#46039f\"],[0.2222222222222222,\"#7201a8\"],[0.3333333333333333,\"#9c179e\"],[0.4444444444444444,\"#bd3786\"],[0.5555555555555556,\"#d8576b\"],[0.6666666666666666,\"#ed7953\"],[0.7777777777777778,\"#fb9f3a\"],[0.8888888888888888,\"#fdca26\"],[1.0,\"#f0f921\"]]}],\"contourcarpet\":[{\"type\":\"contourcarpet\",\"colorbar\":{\"outlinewidth\":0,\"ticks\":\"\"}}],\"contour\":[{\"type\":\"contour\",\"colorbar\":{\"outlinewidth\":0,\"ticks\":\"\"},\"colorscale\":[[0.0,\"#0d0887\"],[0.1111111111111111,\"#46039f\"],[0.2222222222222222,\"#7201a8\"],[0.3333333333333333,\"#9c179e\"],[0.4444444444444444,\"#bd3786\"],[0.5555555555555556,\"#d8576b\"],[0.6666666666666666,\"#ed7953\"],[0.7777777777777778,\"#fb9f3a\"],[0.8888888888888888,\"#fdca26\"],[1.0,\"#f0f921\"]]}],\"surface\":[{\"type\":\"surface\",\"colorbar\":{\"outlinewidth\":0,\"ticks\":\"\"},\"colorscale\":[[0.0,\"#0d0887\"],[0.1111111111111111,\"#46039f\"],[0.2222222222222222,\"#7201a8\"],[0.3333333333333333,\"#9c179e\"],[0.4444444444444444,\"#bd3786\"],[0.5555555555555556,\"#d8576b\"],[0.6666666666666666,\"#ed7953\"],[0.7777777777777778,\"#fb9f3a\"],[0.8888888888888888,\"#fdca26\"],[1.0,\"#f0f921\"]]}],\"mesh3d\":[{\"type\":\"mesh3d\",\"colorbar\":{\"outlinewidth\":0,\"ticks\":\"\"}}],\"scatter\":[{\"fillpattern\":{\"fillmode\":\"overlay\",\"size\":10,\"solidity\":0.2},\"type\":\"scatter\"}],\"parcoords\":[{\"type\":\"parcoords\",\"line\":{\"colorbar\":{\"outlinewidth\":0,\"ticks\":\"\"}}}],\"scatterpolargl\":[{\"type\":\"scatterpolargl\",\"marker\":{\"colorbar\":{\"outlinewidth\":0,\"ticks\":\"\"}}}],\"bar\":[{\"error_x\":{\"color\":\"#2a3f5f\"},\"error_y\":{\"color\":\"#2a3f5f\"},\"marker\":{\"line\":{\"color\":\"#E5ECF6\",\"width\":0.5},\"pattern\":{\"fillmode\":\"overlay\",\"size\":10,\"solidity\":0.2}},\"type\":\"bar\"}],\"scattergeo\":[{\"type\":\"scattergeo\",\"marker\":{\"colorbar\":{\"outlinewidth\":0,\"ticks\":\"\"}}}],\"scatterpolar\":[{\"type\":\"scatterpolar\",\"marker\":{\"colorbar\":{\"outlinewidth\":0,\"ticks\":\"\"}}}],\"histogram\":[{\"marker\":{\"pattern\":{\"fillmode\":\"overlay\",\"size\":10,\"solidity\":0.2}},\"type\":\"histogram\"}],\"scattergl\":[{\"type\":\"scattergl\",\"marker\":{\"colorbar\":{\"outlinewidth\":0,\"ticks\":\"\"}}}],\"scatter3d\":[{\"type\":\"scatter3d\",\"line\":{\"colorbar\":{\"outlinewidth\":0,\"ticks\":\"\"}},\"marker\":{\"colorbar\":{\"outlinewidth\":0,\"ticks\":\"\"}}}],\"scattermapbox\":[{\"type\":\"scattermapbox\",\"marker\":{\"colorbar\":{\"outlinewidth\":0,\"ticks\":\"\"}}}],\"scatterternary\":[{\"type\":\"scatterternary\",\"marker\":{\"colorbar\":{\"outlinewidth\":0,\"ticks\":\"\"}}}],\"scattercarpet\":[{\"type\":\"scattercarpet\",\"marker\":{\"colorbar\":{\"outlinewidth\":0,\"ticks\":\"\"}}}],\"carpet\":[{\"aaxis\":{\"endlinecolor\":\"#2a3f5f\",\"gridcolor\":\"white\",\"linecolor\":\"white\",\"minorgridcolor\":\"white\",\"startlinecolor\":\"#2a3f5f\"},\"baxis\":{\"endlinecolor\":\"#2a3f5f\",\"gridcolor\":\"white\",\"linecolor\":\"white\",\"minorgridcolor\":\"white\",\"startlinecolor\":\"#2a3f5f\"},\"type\":\"carpet\"}],\"table\":[{\"cells\":{\"fill\":{\"color\":\"#EBF0F8\"},\"line\":{\"color\":\"white\"}},\"header\":{\"fill\":{\"color\":\"#C8D4E3\"},\"line\":{\"color\":\"white\"}},\"type\":\"table\"}],\"barpolar\":[{\"marker\":{\"line\":{\"color\":\"#E5ECF6\",\"width\":0.5},\"pattern\":{\"fillmode\":\"overlay\",\"size\":10,\"solidity\":0.2}},\"type\":\"barpolar\"}],\"pie\":[{\"automargin\":true,\"type\":\"pie\"}]},\"layout\":{\"autotypenumbers\":\"strict\",\"colorway\":[\"#636efa\",\"#EF553B\",\"#00cc96\",\"#ab63fa\",\"#FFA15A\",\"#19d3f3\",\"#FF6692\",\"#B6E880\",\"#FF97FF\",\"#FECB52\"],\"font\":{\"color\":\"#2a3f5f\"},\"hovermode\":\"closest\",\"hoverlabel\":{\"align\":\"left\"},\"paper_bgcolor\":\"white\",\"plot_bgcolor\":\"#E5ECF6\",\"polar\":{\"bgcolor\":\"#E5ECF6\",\"angularaxis\":{\"gridcolor\":\"white\",\"linecolor\":\"white\",\"ticks\":\"\"},\"radialaxis\":{\"gridcolor\":\"white\",\"linecolor\":\"white\",\"ticks\":\"\"}},\"ternary\":{\"bgcolor\":\"#E5ECF6\",\"aaxis\":{\"gridcolor\":\"white\",\"linecolor\":\"white\",\"ticks\":\"\"},\"baxis\":{\"gridcolor\":\"white\",\"linecolor\":\"white\",\"ticks\":\"\"},\"caxis\":{\"gridcolor\":\"white\",\"linecolor\":\"white\",\"ticks\":\"\"}},\"coloraxis\":{\"colorbar\":{\"outlinewidth\":0,\"ticks\":\"\"}},\"colorscale\":{\"sequential\":[[0.0,\"#0d0887\"],[0.1111111111111111,\"#46039f\"],[0.2222222222222222,\"#7201a8\"],[0.3333333333333333,\"#9c179e\"],[0.4444444444444444,\"#bd3786\"],[0.5555555555555556,\"#d8576b\"],[0.6666666666666666,\"#ed7953\"],[0.7777777777777778,\"#fb9f3a\"],[0.8888888888888888,\"#fdca26\"],[1.0,\"#f0f921\"]],\"sequentialminus\":[[0.0,\"#0d0887\"],[0.1111111111111111,\"#46039f\"],[0.2222222222222222,\"#7201a8\"],[0.3333333333333333,\"#9c179e\"],[0.4444444444444444,\"#bd3786\"],[0.5555555555555556,\"#d8576b\"],[0.6666666666666666,\"#ed7953\"],[0.7777777777777778,\"#fb9f3a\"],[0.8888888888888888,\"#fdca26\"],[1.0,\"#f0f921\"]],\"diverging\":[[0,\"#8e0152\"],[0.1,\"#c51b7d\"],[0.2,\"#de77ae\"],[0.3,\"#f1b6da\"],[0.4,\"#fde0ef\"],[0.5,\"#f7f7f7\"],[0.6,\"#e6f5d0\"],[0.7,\"#b8e186\"],[0.8,\"#7fbc41\"],[0.9,\"#4d9221\"],[1,\"#276419\"]]},\"xaxis\":{\"gridcolor\":\"white\",\"linecolor\":\"white\",\"ticks\":\"\",\"title\":{\"standoff\":15},\"zerolinecolor\":\"white\",\"automargin\":true,\"zerolinewidth\":2},\"yaxis\":{\"gridcolor\":\"white\",\"linecolor\":\"white\",\"ticks\":\"\",\"title\":{\"standoff\":15},\"zerolinecolor\":\"white\",\"automargin\":true,\"zerolinewidth\":2},\"scene\":{\"xaxis\":{\"backgroundcolor\":\"#E5ECF6\",\"gridcolor\":\"white\",\"linecolor\":\"white\",\"showbackground\":true,\"ticks\":\"\",\"zerolinecolor\":\"white\",\"gridwidth\":2},\"yaxis\":{\"backgroundcolor\":\"#E5ECF6\",\"gridcolor\":\"white\",\"linecolor\":\"white\",\"showbackground\":true,\"ticks\":\"\",\"zerolinecolor\":\"white\",\"gridwidth\":2},\"zaxis\":{\"backgroundcolor\":\"#E5ECF6\",\"gridcolor\":\"white\",\"linecolor\":\"white\",\"showbackground\":true,\"ticks\":\"\",\"zerolinecolor\":\"white\",\"gridwidth\":2}},\"shapedefaults\":{\"line\":{\"color\":\"#2a3f5f\"}},\"annotationdefaults\":{\"arrowcolor\":\"#2a3f5f\",\"arrowhead\":0,\"arrowwidth\":1},\"geo\":{\"bgcolor\":\"white\",\"landcolor\":\"#E5ECF6\",\"subunitcolor\":\"white\",\"showland\":true,\"showlakes\":true,\"lakecolor\":\"white\"},\"title\":{\"x\":0.05},\"mapbox\":{\"style\":\"light\"}}},\"title\":{\"font\":{\"size\":17},\"text\":\"Recall@k\",\"x\":0.5,\"y\":0.87},\"legend\":{\"yanchor\":\"top\",\"y\":0.99,\"xanchor\":\"left\",\"x\":0.01},\"xaxis\":{\"title\":{\"text\":\"k\"}},\"width\":700,\"height\":600},                        {\"responsive\": true}                    ).then(function(){\n",
       "                            \n",
       "var gd = document.getElementById('1e18bfb9-4bb5-4050-a0da-d6355c18907e');\n",
       "var x = new MutationObserver(function (mutations, observer) {{\n",
       "        var display = window.getComputedStyle(gd).display;\n",
       "        if (!display || display === 'none') {{\n",
       "            console.log([gd, 'removed!']);\n",
       "            Plotly.purge(gd);\n",
       "            observer.disconnect();\n",
       "        }}\n",
       "}});\n",
       "\n",
       "// Listen for the removal of the full notebook cells\n",
       "var notebookContainer = gd.closest('#notebook-container');\n",
       "if (notebookContainer) {{\n",
       "    x.observe(notebookContainer, {childList: true});\n",
       "}}\n",
       "\n",
       "// Listen for the clearing of the current output cell\n",
       "var outputEl = gd.closest('.output');\n",
       "if (outputEl) {{\n",
       "    x.observe(outputEl, {childList: true});\n",
       "}}\n",
       "\n",
       "                        })                };                });            </script>        </div>"
      ]
     },
     "metadata": {},
     "output_type": "display_data"
    }
   ],
   "source": [
    "for indx, metric in enumerate([f'Recall@']):\n",
    "    fig = go.Figure()\n",
    "    for model in df_metrics.index:\n",
    "        #print(model)\n",
    "        fig.add_trace(go.Scatter(\n",
    "                                x=list(range(1, 11)), \n",
    "                                y=df_metrics.loc[model][[metric+f'{k}' for k in range(1, 11)]].values,\n",
    "                                name=model, ))\n",
    "    fig.update_layout(\n",
    "                      title=dict(text=f'{metric}k', font=dict(size=17)),\n",
    "                      xaxis_title=\"k\",\n",
    "                      width=700,\n",
    "                      height=600,\n",
    "                      title_x=0.5,\n",
    "                      title_y=0.87,\n",
    "                    legend=dict(\n",
    "                        yanchor=\"top\",\n",
    "                        y=0.99,\n",
    "                        xanchor=\"left\",\n",
    "                        x=0.01))\n",
    "\n",
    "    fig.show()"
   ]
  },
  {
   "cell_type": "code",
   "execution_count": 192,
   "id": "ca5d308f-e1ad-41bc-b647-db4747449396",
   "metadata": {},
   "outputs": [
    {
     "data": {
      "application/vnd.plotly.v1+json": {
       "config": {
        "plotlyServerURL": "https://plot.ly"
       },
       "data": [
        {
         "name": "model_2step_lama",
         "type": "scatter",
         "x": [
          1,
          2,
          3,
          4,
          5,
          6,
          7,
          8,
          9,
          10
         ],
         "y": [
          0.41117824773413897,
          0.31993957703927495,
          0.2682779456193353,
          0.23036253776435045,
          0.20682779456193354,
          0.18721047331319232,
          0.1708675010789814,
          0.15793051359516616,
          0.14686136287344745,
          0.13716012084592144
         ]
        },
        {
         "name": "model_2step_popular",
         "type": "scatter",
         "x": [
          1,
          2,
          3,
          4,
          5,
          6,
          7,
          8,
          9,
          10
         ],
         "y": [
          0.044424,
          0.036114,
          0.033444,
          0.028785,
          0.024539,
          0.02130553,
          0.01878,
          0.016735,
          0.01511,
          0.01375
         ]
        },
        {
         "name": "model_2step_ncf",
         "type": "scatter",
         "x": [
          1,
          2,
          3,
          4,
          5,
          6,
          7,
          8,
          9,
          10
         ],
         "y": [
          0.102146,
          0.087186,
          0.077365,
          0.071396,
          0.066908,
          0.062456,
          0.058498,
          0.054813,
          0.052685,
          0.050771
         ]
        },
        {
         "name": "model_2step_lightfm",
         "type": "scatter",
         "x": [
          1,
          2,
          3,
          4,
          5,
          6,
          7,
          8,
          9,
          10
         ],
         "y": [
          0.227259,
          0.214869,
          0.19321,
          0.169387,
          0.149471,
          0.133323,
          0.119717,
          0.10887,
          0.099527,
          0.092747
         ]
        }
       ],
       "layout": {
        "height": 600,
        "legend": {
         "x": 0.6,
         "xanchor": "left",
         "y": 0.99,
         "yanchor": "top"
        },
        "template": {
         "data": {
          "bar": [
           {
            "error_x": {
             "color": "#2a3f5f"
            },
            "error_y": {
             "color": "#2a3f5f"
            },
            "marker": {
             "line": {
              "color": "#E5ECF6",
              "width": 0.5
             },
             "pattern": {
              "fillmode": "overlay",
              "size": 10,
              "solidity": 0.2
             }
            },
            "type": "bar"
           }
          ],
          "barpolar": [
           {
            "marker": {
             "line": {
              "color": "#E5ECF6",
              "width": 0.5
             },
             "pattern": {
              "fillmode": "overlay",
              "size": 10,
              "solidity": 0.2
             }
            },
            "type": "barpolar"
           }
          ],
          "carpet": [
           {
            "aaxis": {
             "endlinecolor": "#2a3f5f",
             "gridcolor": "white",
             "linecolor": "white",
             "minorgridcolor": "white",
             "startlinecolor": "#2a3f5f"
            },
            "baxis": {
             "endlinecolor": "#2a3f5f",
             "gridcolor": "white",
             "linecolor": "white",
             "minorgridcolor": "white",
             "startlinecolor": "#2a3f5f"
            },
            "type": "carpet"
           }
          ],
          "choropleth": [
           {
            "colorbar": {
             "outlinewidth": 0,
             "ticks": ""
            },
            "type": "choropleth"
           }
          ],
          "contour": [
           {
            "colorbar": {
             "outlinewidth": 0,
             "ticks": ""
            },
            "colorscale": [
             [
              0,
              "#0d0887"
             ],
             [
              0.1111111111111111,
              "#46039f"
             ],
             [
              0.2222222222222222,
              "#7201a8"
             ],
             [
              0.3333333333333333,
              "#9c179e"
             ],
             [
              0.4444444444444444,
              "#bd3786"
             ],
             [
              0.5555555555555556,
              "#d8576b"
             ],
             [
              0.6666666666666666,
              "#ed7953"
             ],
             [
              0.7777777777777778,
              "#fb9f3a"
             ],
             [
              0.8888888888888888,
              "#fdca26"
             ],
             [
              1,
              "#f0f921"
             ]
            ],
            "type": "contour"
           }
          ],
          "contourcarpet": [
           {
            "colorbar": {
             "outlinewidth": 0,
             "ticks": ""
            },
            "type": "contourcarpet"
           }
          ],
          "heatmap": [
           {
            "colorbar": {
             "outlinewidth": 0,
             "ticks": ""
            },
            "colorscale": [
             [
              0,
              "#0d0887"
             ],
             [
              0.1111111111111111,
              "#46039f"
             ],
             [
              0.2222222222222222,
              "#7201a8"
             ],
             [
              0.3333333333333333,
              "#9c179e"
             ],
             [
              0.4444444444444444,
              "#bd3786"
             ],
             [
              0.5555555555555556,
              "#d8576b"
             ],
             [
              0.6666666666666666,
              "#ed7953"
             ],
             [
              0.7777777777777778,
              "#fb9f3a"
             ],
             [
              0.8888888888888888,
              "#fdca26"
             ],
             [
              1,
              "#f0f921"
             ]
            ],
            "type": "heatmap"
           }
          ],
          "heatmapgl": [
           {
            "colorbar": {
             "outlinewidth": 0,
             "ticks": ""
            },
            "colorscale": [
             [
              0,
              "#0d0887"
             ],
             [
              0.1111111111111111,
              "#46039f"
             ],
             [
              0.2222222222222222,
              "#7201a8"
             ],
             [
              0.3333333333333333,
              "#9c179e"
             ],
             [
              0.4444444444444444,
              "#bd3786"
             ],
             [
              0.5555555555555556,
              "#d8576b"
             ],
             [
              0.6666666666666666,
              "#ed7953"
             ],
             [
              0.7777777777777778,
              "#fb9f3a"
             ],
             [
              0.8888888888888888,
              "#fdca26"
             ],
             [
              1,
              "#f0f921"
             ]
            ],
            "type": "heatmapgl"
           }
          ],
          "histogram": [
           {
            "marker": {
             "pattern": {
              "fillmode": "overlay",
              "size": 10,
              "solidity": 0.2
             }
            },
            "type": "histogram"
           }
          ],
          "histogram2d": [
           {
            "colorbar": {
             "outlinewidth": 0,
             "ticks": ""
            },
            "colorscale": [
             [
              0,
              "#0d0887"
             ],
             [
              0.1111111111111111,
              "#46039f"
             ],
             [
              0.2222222222222222,
              "#7201a8"
             ],
             [
              0.3333333333333333,
              "#9c179e"
             ],
             [
              0.4444444444444444,
              "#bd3786"
             ],
             [
              0.5555555555555556,
              "#d8576b"
             ],
             [
              0.6666666666666666,
              "#ed7953"
             ],
             [
              0.7777777777777778,
              "#fb9f3a"
             ],
             [
              0.8888888888888888,
              "#fdca26"
             ],
             [
              1,
              "#f0f921"
             ]
            ],
            "type": "histogram2d"
           }
          ],
          "histogram2dcontour": [
           {
            "colorbar": {
             "outlinewidth": 0,
             "ticks": ""
            },
            "colorscale": [
             [
              0,
              "#0d0887"
             ],
             [
              0.1111111111111111,
              "#46039f"
             ],
             [
              0.2222222222222222,
              "#7201a8"
             ],
             [
              0.3333333333333333,
              "#9c179e"
             ],
             [
              0.4444444444444444,
              "#bd3786"
             ],
             [
              0.5555555555555556,
              "#d8576b"
             ],
             [
              0.6666666666666666,
              "#ed7953"
             ],
             [
              0.7777777777777778,
              "#fb9f3a"
             ],
             [
              0.8888888888888888,
              "#fdca26"
             ],
             [
              1,
              "#f0f921"
             ]
            ],
            "type": "histogram2dcontour"
           }
          ],
          "mesh3d": [
           {
            "colorbar": {
             "outlinewidth": 0,
             "ticks": ""
            },
            "type": "mesh3d"
           }
          ],
          "parcoords": [
           {
            "line": {
             "colorbar": {
              "outlinewidth": 0,
              "ticks": ""
             }
            },
            "type": "parcoords"
           }
          ],
          "pie": [
           {
            "automargin": true,
            "type": "pie"
           }
          ],
          "scatter": [
           {
            "fillpattern": {
             "fillmode": "overlay",
             "size": 10,
             "solidity": 0.2
            },
            "type": "scatter"
           }
          ],
          "scatter3d": [
           {
            "line": {
             "colorbar": {
              "outlinewidth": 0,
              "ticks": ""
             }
            },
            "marker": {
             "colorbar": {
              "outlinewidth": 0,
              "ticks": ""
             }
            },
            "type": "scatter3d"
           }
          ],
          "scattercarpet": [
           {
            "marker": {
             "colorbar": {
              "outlinewidth": 0,
              "ticks": ""
             }
            },
            "type": "scattercarpet"
           }
          ],
          "scattergeo": [
           {
            "marker": {
             "colorbar": {
              "outlinewidth": 0,
              "ticks": ""
             }
            },
            "type": "scattergeo"
           }
          ],
          "scattergl": [
           {
            "marker": {
             "colorbar": {
              "outlinewidth": 0,
              "ticks": ""
             }
            },
            "type": "scattergl"
           }
          ],
          "scattermapbox": [
           {
            "marker": {
             "colorbar": {
              "outlinewidth": 0,
              "ticks": ""
             }
            },
            "type": "scattermapbox"
           }
          ],
          "scatterpolar": [
           {
            "marker": {
             "colorbar": {
              "outlinewidth": 0,
              "ticks": ""
             }
            },
            "type": "scatterpolar"
           }
          ],
          "scatterpolargl": [
           {
            "marker": {
             "colorbar": {
              "outlinewidth": 0,
              "ticks": ""
             }
            },
            "type": "scatterpolargl"
           }
          ],
          "scatterternary": [
           {
            "marker": {
             "colorbar": {
              "outlinewidth": 0,
              "ticks": ""
             }
            },
            "type": "scatterternary"
           }
          ],
          "surface": [
           {
            "colorbar": {
             "outlinewidth": 0,
             "ticks": ""
            },
            "colorscale": [
             [
              0,
              "#0d0887"
             ],
             [
              0.1111111111111111,
              "#46039f"
             ],
             [
              0.2222222222222222,
              "#7201a8"
             ],
             [
              0.3333333333333333,
              "#9c179e"
             ],
             [
              0.4444444444444444,
              "#bd3786"
             ],
             [
              0.5555555555555556,
              "#d8576b"
             ],
             [
              0.6666666666666666,
              "#ed7953"
             ],
             [
              0.7777777777777778,
              "#fb9f3a"
             ],
             [
              0.8888888888888888,
              "#fdca26"
             ],
             [
              1,
              "#f0f921"
             ]
            ],
            "type": "surface"
           }
          ],
          "table": [
           {
            "cells": {
             "fill": {
              "color": "#EBF0F8"
             },
             "line": {
              "color": "white"
             }
            },
            "header": {
             "fill": {
              "color": "#C8D4E3"
             },
             "line": {
              "color": "white"
             }
            },
            "type": "table"
           }
          ]
         },
         "layout": {
          "annotationdefaults": {
           "arrowcolor": "#2a3f5f",
           "arrowhead": 0,
           "arrowwidth": 1
          },
          "autotypenumbers": "strict",
          "coloraxis": {
           "colorbar": {
            "outlinewidth": 0,
            "ticks": ""
           }
          },
          "colorscale": {
           "diverging": [
            [
             0,
             "#8e0152"
            ],
            [
             0.1,
             "#c51b7d"
            ],
            [
             0.2,
             "#de77ae"
            ],
            [
             0.3,
             "#f1b6da"
            ],
            [
             0.4,
             "#fde0ef"
            ],
            [
             0.5,
             "#f7f7f7"
            ],
            [
             0.6,
             "#e6f5d0"
            ],
            [
             0.7,
             "#b8e186"
            ],
            [
             0.8,
             "#7fbc41"
            ],
            [
             0.9,
             "#4d9221"
            ],
            [
             1,
             "#276419"
            ]
           ],
           "sequential": [
            [
             0,
             "#0d0887"
            ],
            [
             0.1111111111111111,
             "#46039f"
            ],
            [
             0.2222222222222222,
             "#7201a8"
            ],
            [
             0.3333333333333333,
             "#9c179e"
            ],
            [
             0.4444444444444444,
             "#bd3786"
            ],
            [
             0.5555555555555556,
             "#d8576b"
            ],
            [
             0.6666666666666666,
             "#ed7953"
            ],
            [
             0.7777777777777778,
             "#fb9f3a"
            ],
            [
             0.8888888888888888,
             "#fdca26"
            ],
            [
             1,
             "#f0f921"
            ]
           ],
           "sequentialminus": [
            [
             0,
             "#0d0887"
            ],
            [
             0.1111111111111111,
             "#46039f"
            ],
            [
             0.2222222222222222,
             "#7201a8"
            ],
            [
             0.3333333333333333,
             "#9c179e"
            ],
            [
             0.4444444444444444,
             "#bd3786"
            ],
            [
             0.5555555555555556,
             "#d8576b"
            ],
            [
             0.6666666666666666,
             "#ed7953"
            ],
            [
             0.7777777777777778,
             "#fb9f3a"
            ],
            [
             0.8888888888888888,
             "#fdca26"
            ],
            [
             1,
             "#f0f921"
            ]
           ]
          },
          "colorway": [
           "#636efa",
           "#EF553B",
           "#00cc96",
           "#ab63fa",
           "#FFA15A",
           "#19d3f3",
           "#FF6692",
           "#B6E880",
           "#FF97FF",
           "#FECB52"
          ],
          "font": {
           "color": "#2a3f5f"
          },
          "geo": {
           "bgcolor": "white",
           "lakecolor": "white",
           "landcolor": "#E5ECF6",
           "showlakes": true,
           "showland": true,
           "subunitcolor": "white"
          },
          "hoverlabel": {
           "align": "left"
          },
          "hovermode": "closest",
          "mapbox": {
           "style": "light"
          },
          "paper_bgcolor": "white",
          "plot_bgcolor": "#E5ECF6",
          "polar": {
           "angularaxis": {
            "gridcolor": "white",
            "linecolor": "white",
            "ticks": ""
           },
           "bgcolor": "#E5ECF6",
           "radialaxis": {
            "gridcolor": "white",
            "linecolor": "white",
            "ticks": ""
           }
          },
          "scene": {
           "xaxis": {
            "backgroundcolor": "#E5ECF6",
            "gridcolor": "white",
            "gridwidth": 2,
            "linecolor": "white",
            "showbackground": true,
            "ticks": "",
            "zerolinecolor": "white"
           },
           "yaxis": {
            "backgroundcolor": "#E5ECF6",
            "gridcolor": "white",
            "gridwidth": 2,
            "linecolor": "white",
            "showbackground": true,
            "ticks": "",
            "zerolinecolor": "white"
           },
           "zaxis": {
            "backgroundcolor": "#E5ECF6",
            "gridcolor": "white",
            "gridwidth": 2,
            "linecolor": "white",
            "showbackground": true,
            "ticks": "",
            "zerolinecolor": "white"
           }
          },
          "shapedefaults": {
           "line": {
            "color": "#2a3f5f"
           }
          },
          "ternary": {
           "aaxis": {
            "gridcolor": "white",
            "linecolor": "white",
            "ticks": ""
           },
           "baxis": {
            "gridcolor": "white",
            "linecolor": "white",
            "ticks": ""
           },
           "bgcolor": "#E5ECF6",
           "caxis": {
            "gridcolor": "white",
            "linecolor": "white",
            "ticks": ""
           }
          },
          "title": {
           "x": 0.05
          },
          "xaxis": {
           "automargin": true,
           "gridcolor": "white",
           "linecolor": "white",
           "ticks": "",
           "title": {
            "standoff": 15
           },
           "zerolinecolor": "white",
           "zerolinewidth": 2
          },
          "yaxis": {
           "automargin": true,
           "gridcolor": "white",
           "linecolor": "white",
           "ticks": "",
           "title": {
            "standoff": 15
           },
           "zerolinecolor": "white",
           "zerolinewidth": 2
          }
         }
        },
        "title": {
         "font": {
          "size": 17
         },
         "text": "Precision@k",
         "x": 0.5,
         "y": 0.87
        },
        "width": 700,
        "xaxis": {
         "autorange": true,
         "range": [
          0.42163009404388707,
          10.578369905956112
         ],
         "title": {
          "text": "k"
         },
         "type": "linear"
        },
        "yaxis": {
         "autorange": true,
         "range": [
          -0.01279885055713884,
          0.4377270982912778
         ],
         "type": "linear"
        }
       }
      },
      "image/png": "[encoded data removed]",
      "text/html": [
       "<div>                            <div id=\"9bf3b660-4070-40f0-b64a-7187a0bddd63\" class=\"plotly-graph-div\" style=\"height:600px; width:700px;\"></div>            <script type=\"text/javascript\">                require([\"plotly\"], function(Plotly) {                    window.PLOTLYENV=window.PLOTLYENV || {};                                    if (document.getElementById(\"9bf3b660-4070-40f0-b64a-7187a0bddd63\")) {                    Plotly.newPlot(                        \"9bf3b660-4070-40f0-b64a-7187a0bddd63\",                        [{\"name\":\"model_2step_lama\",\"x\":[1,2,3,4,5,6,7,8,9,10],\"y\":[0.41117824773413897,0.31993957703927495,0.2682779456193353,0.23036253776435045,0.20682779456193354,0.18721047331319232,0.1708675010789814,0.15793051359516616,0.14686136287344745,0.13716012084592144],\"type\":\"scatter\"},{\"name\":\"model_2step_popular\",\"x\":[1,2,3,4,5,6,7,8,9,10],\"y\":[0.044424,0.036114,0.033444,0.028785,0.024539,0.02130553,0.01878,0.016735,0.01511,0.01375],\"type\":\"scatter\"},{\"name\":\"model_2step_ncf\",\"x\":[1,2,3,4,5,6,7,8,9,10],\"y\":[0.102146,0.087186,0.077365,0.071396,0.066908,0.062456,0.058498,0.054813,0.052685,0.050771],\"type\":\"scatter\"},{\"name\":\"model_2step_lightfm\",\"x\":[1,2,3,4,5,6,7,8,9,10],\"y\":[0.227259,0.214869,0.19321,0.169387,0.149471,0.133323,0.119717,0.10887,0.099527,0.092747],\"type\":\"scatter\"}],                        {\"template\":{\"data\":{\"histogram2dcontour\":[{\"type\":\"histogram2dcontour\",\"colorbar\":{\"outlinewidth\":0,\"ticks\":\"\"},\"colorscale\":[[0.0,\"#0d0887\"],[0.1111111111111111,\"#46039f\"],[0.2222222222222222,\"#7201a8\"],[0.3333333333333333,\"#9c179e\"],[0.4444444444444444,\"#bd3786\"],[0.5555555555555556,\"#d8576b\"],[0.6666666666666666,\"#ed7953\"],[0.7777777777777778,\"#fb9f3a\"],[0.8888888888888888,\"#fdca26\"],[1.0,\"#f0f921\"]]}],\"choropleth\":[{\"type\":\"choropleth\",\"colorbar\":{\"outlinewidth\":0,\"ticks\":\"\"}}],\"histogram2d\":[{\"type\":\"histogram2d\",\"colorbar\":{\"outlinewidth\":0,\"ticks\":\"\"},\"colorscale\":[[0.0,\"#0d0887\"],[0.1111111111111111,\"#46039f\"],[0.2222222222222222,\"#7201a8\"],[0.3333333333333333,\"#9c179e\"],[0.4444444444444444,\"#bd3786\"],[0.5555555555555556,\"#d8576b\"],[0.6666666666666666,\"#ed7953\"],[0.7777777777777778,\"#fb9f3a\"],[0.8888888888888888,\"#fdca26\"],[1.0,\"#f0f921\"]]}],\"heatmap\":[{\"type\":\"heatmap\",\"colorbar\":{\"outlinewidth\":0,\"ticks\":\"\"},\"colorscale\":[[0.0,\"#0d0887\"],[0.1111111111111111,\"#46039f\"],[0.2222222222222222,\"#7201a8\"],[0.3333333333333333,\"#9c179e\"],[0.4444444444444444,\"#bd3786\"],[0.5555555555555556,\"#d8576b\"],[0.6666666666666666,\"#ed7953\"],[0.7777777777777778,\"#fb9f3a\"],[0.8888888888888888,\"#fdca26\"],[1.0,\"#f0f921\"]]}],\"heatmapgl\":[{\"type\":\"heatmapgl\",\"colorbar\":{\"outlinewidth\":0,\"ticks\":\"\"},\"colorscale\":[[0.0,\"#0d0887\"],[0.1111111111111111,\"#46039f\"],[0.2222222222222222,\"#7201a8\"],[0.3333333333333333,\"#9c179e\"],[0.4444444444444444,\"#bd3786\"],[0.5555555555555556,\"#d8576b\"],[0.6666666666666666,\"#ed7953\"],[0.7777777777777778,\"#fb9f3a\"],[0.8888888888888888,\"#fdca26\"],[1.0,\"#f0f921\"]]}],\"contourcarpet\":[{\"type\":\"contourcarpet\",\"colorbar\":{\"outlinewidth\":0,\"ticks\":\"\"}}],\"contour\":[{\"type\":\"contour\",\"colorbar\":{\"outlinewidth\":0,\"ticks\":\"\"},\"colorscale\":[[0.0,\"#0d0887\"],[0.1111111111111111,\"#46039f\"],[0.2222222222222222,\"#7201a8\"],[0.3333333333333333,\"#9c179e\"],[0.4444444444444444,\"#bd3786\"],[0.5555555555555556,\"#d8576b\"],[0.6666666666666666,\"#ed7953\"],[0.7777777777777778,\"#fb9f3a\"],[0.8888888888888888,\"#fdca26\"],[1.0,\"#f0f921\"]]}],\"surface\":[{\"type\":\"surface\",\"colorbar\":{\"outlinewidth\":0,\"ticks\":\"\"},\"colorscale\":[[0.0,\"#0d0887\"],[0.1111111111111111,\"#46039f\"],[0.2222222222222222,\"#7201a8\"],[0.3333333333333333,\"#9c179e\"],[0.4444444444444444,\"#bd3786\"],[0.5555555555555556,\"#d8576b\"],[0.6666666666666666,\"#ed7953\"],[0.7777777777777778,\"#fb9f3a\"],[0.8888888888888888,\"#fdca26\"],[1.0,\"#f0f921\"]]}],\"mesh3d\":[{\"type\":\"mesh3d\",\"colorbar\":{\"outlinewidth\":0,\"ticks\":\"\"}}],\"scatter\":[{\"fillpattern\":{\"fillmode\":\"overlay\",\"size\":10,\"solidity\":0.2},\"type\":\"scatter\"}],\"parcoords\":[{\"type\":\"parcoords\",\"line\":{\"colorbar\":{\"outlinewidth\":0,\"ticks\":\"\"}}}],\"scatterpolargl\":[{\"type\":\"scatterpolargl\",\"marker\":{\"colorbar\":{\"outlinewidth\":0,\"ticks\":\"\"}}}],\"bar\":[{\"error_x\":{\"color\":\"#2a3f5f\"},\"error_y\":{\"color\":\"#2a3f5f\"},\"marker\":{\"line\":{\"color\":\"#E5ECF6\",\"width\":0.5},\"pattern\":{\"fillmode\":\"overlay\",\"size\":10,\"solidity\":0.2}},\"type\":\"bar\"}],\"scattergeo\":[{\"type\":\"scattergeo\",\"marker\":{\"colorbar\":{\"outlinewidth\":0,\"ticks\":\"\"}}}],\"scatterpolar\":[{\"type\":\"scatterpolar\",\"marker\":{\"colorbar\":{\"outlinewidth\":0,\"ticks\":\"\"}}}],\"histogram\":[{\"marker\":{\"pattern\":{\"fillmode\":\"overlay\",\"size\":10,\"solidity\":0.2}},\"type\":\"histogram\"}],\"scattergl\":[{\"type\":\"scattergl\",\"marker\":{\"colorbar\":{\"outlinewidth\":0,\"ticks\":\"\"}}}],\"scatter3d\":[{\"type\":\"scatter3d\",\"line\":{\"colorbar\":{\"outlinewidth\":0,\"ticks\":\"\"}},\"marker\":{\"colorbar\":{\"outlinewidth\":0,\"ticks\":\"\"}}}],\"scattermapbox\":[{\"type\":\"scattermapbox\",\"marker\":{\"colorbar\":{\"outlinewidth\":0,\"ticks\":\"\"}}}],\"scatterternary\":[{\"type\":\"scatterternary\",\"marker\":{\"colorbar\":{\"outlinewidth\":0,\"ticks\":\"\"}}}],\"scattercarpet\":[{\"type\":\"scattercarpet\",\"marker\":{\"colorbar\":{\"outlinewidth\":0,\"ticks\":\"\"}}}],\"carpet\":[{\"aaxis\":{\"endlinecolor\":\"#2a3f5f\",\"gridcolor\":\"white\",\"linecolor\":\"white\",\"minorgridcolor\":\"white\",\"startlinecolor\":\"#2a3f5f\"},\"baxis\":{\"endlinecolor\":\"#2a3f5f\",\"gridcolor\":\"white\",\"linecolor\":\"white\",\"minorgridcolor\":\"white\",\"startlinecolor\":\"#2a3f5f\"},\"type\":\"carpet\"}],\"table\":[{\"cells\":{\"fill\":{\"color\":\"#EBF0F8\"},\"line\":{\"color\":\"white\"}},\"header\":{\"fill\":{\"color\":\"#C8D4E3\"},\"line\":{\"color\":\"white\"}},\"type\":\"table\"}],\"barpolar\":[{\"marker\":{\"line\":{\"color\":\"#E5ECF6\",\"width\":0.5},\"pattern\":{\"fillmode\":\"overlay\",\"size\":10,\"solidity\":0.2}},\"type\":\"barpolar\"}],\"pie\":[{\"automargin\":true,\"type\":\"pie\"}]},\"layout\":{\"autotypenumbers\":\"strict\",\"colorway\":[\"#636efa\",\"#EF553B\",\"#00cc96\",\"#ab63fa\",\"#FFA15A\",\"#19d3f3\",\"#FF6692\",\"#B6E880\",\"#FF97FF\",\"#FECB52\"],\"font\":{\"color\":\"#2a3f5f\"},\"hovermode\":\"closest\",\"hoverlabel\":{\"align\":\"left\"},\"paper_bgcolor\":\"white\",\"plot_bgcolor\":\"#E5ECF6\",\"polar\":{\"bgcolor\":\"#E5ECF6\",\"angularaxis\":{\"gridcolor\":\"white\",\"linecolor\":\"white\",\"ticks\":\"\"},\"radialaxis\":{\"gridcolor\":\"white\",\"linecolor\":\"white\",\"ticks\":\"\"}},\"ternary\":{\"bgcolor\":\"#E5ECF6\",\"aaxis\":{\"gridcolor\":\"white\",\"linecolor\":\"white\",\"ticks\":\"\"},\"baxis\":{\"gridcolor\":\"white\",\"linecolor\":\"white\",\"ticks\":\"\"},\"caxis\":{\"gridcolor\":\"white\",\"linecolor\":\"white\",\"ticks\":\"\"}},\"coloraxis\":{\"colorbar\":{\"outlinewidth\":0,\"ticks\":\"\"}},\"colorscale\":{\"sequential\":[[0.0,\"#0d0887\"],[0.1111111111111111,\"#46039f\"],[0.2222222222222222,\"#7201a8\"],[0.3333333333333333,\"#9c179e\"],[0.4444444444444444,\"#bd3786\"],[0.5555555555555556,\"#d8576b\"],[0.6666666666666666,\"#ed7953\"],[0.7777777777777778,\"#fb9f3a\"],[0.8888888888888888,\"#fdca26\"],[1.0,\"#f0f921\"]],\"sequentialminus\":[[0.0,\"#0d0887\"],[0.1111111111111111,\"#46039f\"],[0.2222222222222222,\"#7201a8\"],[0.3333333333333333,\"#9c179e\"],[0.4444444444444444,\"#bd3786\"],[0.5555555555555556,\"#d8576b\"],[0.6666666666666666,\"#ed7953\"],[0.7777777777777778,\"#fb9f3a\"],[0.8888888888888888,\"#fdca26\"],[1.0,\"#f0f921\"]],\"diverging\":[[0,\"#8e0152\"],[0.1,\"#c51b7d\"],[0.2,\"#de77ae\"],[0.3,\"#f1b6da\"],[0.4,\"#fde0ef\"],[0.5,\"#f7f7f7\"],[0.6,\"#e6f5d0\"],[0.7,\"#b8e186\"],[0.8,\"#7fbc41\"],[0.9,\"#4d9221\"],[1,\"#276419\"]]},\"xaxis\":{\"gridcolor\":\"white\",\"linecolor\":\"white\",\"ticks\":\"\",\"title\":{\"standoff\":15},\"zerolinecolor\":\"white\",\"automargin\":true,\"zerolinewidth\":2},\"yaxis\":{\"gridcolor\":\"white\",\"linecolor\":\"white\",\"ticks\":\"\",\"title\":{\"standoff\":15},\"zerolinecolor\":\"white\",\"automargin\":true,\"zerolinewidth\":2},\"scene\":{\"xaxis\":{\"backgroundcolor\":\"#E5ECF6\",\"gridcolor\":\"white\",\"linecolor\":\"white\",\"showbackground\":true,\"ticks\":\"\",\"zerolinecolor\":\"white\",\"gridwidth\":2},\"yaxis\":{\"backgroundcolor\":\"#E5ECF6\",\"gridcolor\":\"white\",\"linecolor\":\"white\",\"showbackground\":true,\"ticks\":\"\",\"zerolinecolor\":\"white\",\"gridwidth\":2},\"zaxis\":{\"backgroundcolor\":\"#E5ECF6\",\"gridcolor\":\"white\",\"linecolor\":\"white\",\"showbackground\":true,\"ticks\":\"\",\"zerolinecolor\":\"white\",\"gridwidth\":2}},\"shapedefaults\":{\"line\":{\"color\":\"#2a3f5f\"}},\"annotationdefaults\":{\"arrowcolor\":\"#2a3f5f\",\"arrowhead\":0,\"arrowwidth\":1},\"geo\":{\"bgcolor\":\"white\",\"landcolor\":\"#E5ECF6\",\"subunitcolor\":\"white\",\"showland\":true,\"showlakes\":true,\"lakecolor\":\"white\"},\"title\":{\"x\":0.05},\"mapbox\":{\"style\":\"light\"}}},\"title\":{\"font\":{\"size\":17},\"text\":\"Precision@k\",\"x\":0.5,\"y\":0.87},\"legend\":{\"yanchor\":\"top\",\"y\":0.99,\"xanchor\":\"left\",\"x\":0.6},\"xaxis\":{\"title\":{\"text\":\"k\"}},\"width\":700,\"height\":600},                        {\"responsive\": true}                    ).then(function(){\n",
       "                            \n",
       "var gd = document.getElementById('9bf3b660-4070-40f0-b64a-7187a0bddd63');\n",
       "var x = new MutationObserver(function (mutations, observer) {{\n",
       "        var display = window.getComputedStyle(gd).display;\n",
       "        if (!display || display === 'none') {{\n",
       "            console.log([gd, 'removed!']);\n",
       "            Plotly.purge(gd);\n",
       "            observer.disconnect();\n",
       "        }}\n",
       "}});\n",
       "\n",
       "// Listen for the removal of the full notebook cells\n",
       "var notebookContainer = gd.closest('#notebook-container');\n",
       "if (notebookContainer) {{\n",
       "    x.observe(notebookContainer, {childList: true});\n",
       "}}\n",
       "\n",
       "// Listen for the clearing of the current output cell\n",
       "var outputEl = gd.closest('.output');\n",
       "if (outputEl) {{\n",
       "    x.observe(outputEl, {childList: true});\n",
       "}}\n",
       "\n",
       "                        })                };                });            </script>        </div>"
      ]
     },
     "metadata": {},
     "output_type": "display_data"
    }
   ],
   "source": [
    "for indx, metric in enumerate([f'Precision@']):\n",
    "    fig = go.Figure()\n",
    "    for model in df_metrics.index:\n",
    "        #print(model)\n",
    "        fig.add_trace(go.Scatter(\n",
    "                                x=list(range(1, 11)), \n",
    "                                y=df_metrics.loc[model][[metric+f'{k}' for k in range(1, 11)]].values,\n",
    "                                name=model, ))\n",
    "    fig.update_layout(\n",
    "                      title=dict(text=f'{metric}k', font=dict(size=17)),\n",
    "                      xaxis_title=\"k\",\n",
    "                      width=700,\n",
    "                      height=600,\n",
    "                      title_x=0.5,\n",
    "                      title_y=0.87,\n",
    "                    legend=dict(\n",
    "                        yanchor=\"top\",\n",
    "                        y=0.99,\n",
    "                        xanchor=\"left\",\n",
    "                        x=0.60))\n",
    "\n",
    "    fig.show()"
   ]
  },
  {
   "cell_type": "code",
   "execution_count": null,
   "id": "e8faeaab-835c-415f-a721-79e5ee4333d4",
   "metadata": {},
   "outputs": [],
   "source": []
  },
  {
   "cell_type": "code",
   "execution_count": null,
   "id": "11ab1218-b34f-423e-b45d-92ff4b49299e",
   "metadata": {},
   "outputs": [],
   "source": []
  },
  {
   "cell_type": "code",
   "execution_count": null,
   "id": "c5f3544c-ef32-4b26-88b4-d25f926e98a2",
   "metadata": {},
   "outputs": [],
   "source": []
  },
  {
   "cell_type": "code",
   "execution_count": null,
   "id": "815afec9-1667-4104-b653-7d51fa4456c4",
   "metadata": {},
   "outputs": [],
   "source": []
  },
  {
   "cell_type": "code",
   "execution_count": null,
   "id": "712ebcc7-ac52-4bfd-9d2b-c1a64ffd6d6e",
   "metadata": {},
   "outputs": [],
   "source": []
  },
  {
   "cell_type": "code",
   "execution_count": null,
   "id": "b4744035-c0ad-4cd1-a688-8a1cb27a9c5b",
   "metadata": {},
   "outputs": [],
   "source": []
  },
  {
   "cell_type": "code",
   "execution_count": null,
   "id": "b92ce014-c0f5-4f66-9b15-106388879895",
   "metadata": {},
   "outputs": [],
   "source": []
  }
 ],
 "metadata": {
  "kernelspec": {
   "display_name": "Python 3 (ipykernel)",
   "language": "python",
   "name": "python3"
  },
  "language_info": {
   "codemirror_mode": {
    "name": "ipython",
    "version": 3
   },
   "file_extension": ".py",
   "mimetype": "text/x-python",
   "name": "python",
   "nbconvert_exporter": "python",
   "pygments_lexer": "ipython3",
   "version": "3.9.7"
  }
 },
 "nbformat": 4,
 "nbformat_minor": 5
}
